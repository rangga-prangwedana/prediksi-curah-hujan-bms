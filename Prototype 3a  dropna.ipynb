{
 "cells": [
  {
   "cell_type": "code",
   "execution_count": 1,
   "metadata": {},
   "outputs": [],
   "source": [
    "import seaborn as sb\n",
    "import matplotlib.pyplot as plt\n",
    "import pandas as pd\n",
    "import numpy as np\n",
    "from sklearn.model_selection import train_test_split"
   ]
  },
  {
   "cell_type": "code",
   "execution_count": 2,
   "metadata": {},
   "outputs": [
    {
     "data": {
      "text/html": [
       "<div>\n",
       "<style scoped>\n",
       "    .dataframe tbody tr th:only-of-type {\n",
       "        vertical-align: middle;\n",
       "    }\n",
       "\n",
       "    .dataframe tbody tr th {\n",
       "        vertical-align: top;\n",
       "    }\n",
       "\n",
       "    .dataframe thead th {\n",
       "        text-align: right;\n",
       "    }\n",
       "</style>\n",
       "<table border=\"1\" class=\"dataframe\">\n",
       "  <thead>\n",
       "    <tr style=\"text-align: right;\">\n",
       "      <th></th>\n",
       "      <th>Tanggal</th>\n",
       "      <th>Tn</th>\n",
       "      <th>Tx</th>\n",
       "      <th>Tavg</th>\n",
       "      <th>RH_avg</th>\n",
       "      <th>ff_x</th>\n",
       "      <th>ddd_x</th>\n",
       "      <th>ff_avg</th>\n",
       "      <th>ddd_car</th>\n",
       "      <th>bulan</th>\n",
       "      <th>RH_avg_5day</th>\n",
       "      <th>RH1</th>\n",
       "      <th>RH2</th>\n",
       "      <th>RH3</th>\n",
       "      <th>ff_x1</th>\n",
       "      <th>ff_x2</th>\n",
       "      <th>ff_x3</th>\n",
       "      <th>RR_avg5_day</th>\n",
       "      <th>RR1</th>\n",
       "      <th>RR2</th>\n",
       "      <th>RR3</th>\n",
       "      <th>RR</th>\n",
       "    </tr>\n",
       "  </thead>\n",
       "  <tbody>\n",
       "    <tr>\n",
       "      <th>0</th>\n",
       "      <td>06-02-2010</td>\n",
       "      <td>24.7</td>\n",
       "      <td>29.4</td>\n",
       "      <td>26.5</td>\n",
       "      <td>85.0</td>\n",
       "      <td>7.0</td>\n",
       "      <td>240.0</td>\n",
       "      <td>2.0</td>\n",
       "      <td>7</td>\n",
       "      <td>2</td>\n",
       "      <td>80.4</td>\n",
       "      <td>81.0</td>\n",
       "      <td>80.0</td>\n",
       "      <td>80.0</td>\n",
       "      <td>7.0</td>\n",
       "      <td>9.0</td>\n",
       "      <td>9.0</td>\n",
       "      <td>3.560000</td>\n",
       "      <td>2.5</td>\n",
       "      <td>0.80000</td>\n",
       "      <td>1.70000</td>\n",
       "      <td>0.20000</td>\n",
       "    </tr>\n",
       "    <tr>\n",
       "      <th>1</th>\n",
       "      <td>07-02-2010</td>\n",
       "      <td>25.0</td>\n",
       "      <td>32.2</td>\n",
       "      <td>27.5</td>\n",
       "      <td>83.0</td>\n",
       "      <td>7.0</td>\n",
       "      <td>120.0</td>\n",
       "      <td>2.0</td>\n",
       "      <td>5</td>\n",
       "      <td>2</td>\n",
       "      <td>81.0</td>\n",
       "      <td>80.0</td>\n",
       "      <td>80.0</td>\n",
       "      <td>85.0</td>\n",
       "      <td>9.0</td>\n",
       "      <td>9.0</td>\n",
       "      <td>7.0</td>\n",
       "      <td>3.480000</td>\n",
       "      <td>0.8</td>\n",
       "      <td>1.70000</td>\n",
       "      <td>0.20000</td>\n",
       "      <td>16.10000</td>\n",
       "    </tr>\n",
       "    <tr>\n",
       "      <th>2</th>\n",
       "      <td>08-02-2010</td>\n",
       "      <td>25.2</td>\n",
       "      <td>32.5</td>\n",
       "      <td>27.4</td>\n",
       "      <td>81.0</td>\n",
       "      <td>10.0</td>\n",
       "      <td>100.0</td>\n",
       "      <td>2.0</td>\n",
       "      <td>8</td>\n",
       "      <td>2</td>\n",
       "      <td>81.8</td>\n",
       "      <td>80.0</td>\n",
       "      <td>85.0</td>\n",
       "      <td>83.0</td>\n",
       "      <td>9.0</td>\n",
       "      <td>7.0</td>\n",
       "      <td>7.0</td>\n",
       "      <td>4.260000</td>\n",
       "      <td>1.7</td>\n",
       "      <td>0.20000</td>\n",
       "      <td>16.10000</td>\n",
       "      <td>8.33913</td>\n",
       "    </tr>\n",
       "    <tr>\n",
       "      <th>3</th>\n",
       "      <td>09-02-2010</td>\n",
       "      <td>25.0</td>\n",
       "      <td>32.0</td>\n",
       "      <td>27.2</td>\n",
       "      <td>82.0</td>\n",
       "      <td>6.0</td>\n",
       "      <td>100.0</td>\n",
       "      <td>2.0</td>\n",
       "      <td>3</td>\n",
       "      <td>2</td>\n",
       "      <td>81.8</td>\n",
       "      <td>85.0</td>\n",
       "      <td>83.0</td>\n",
       "      <td>81.0</td>\n",
       "      <td>7.0</td>\n",
       "      <td>7.0</td>\n",
       "      <td>10.0</td>\n",
       "      <td>5.427826</td>\n",
       "      <td>0.2</td>\n",
       "      <td>16.10000</td>\n",
       "      <td>8.33913</td>\n",
       "      <td>0.00000</td>\n",
       "    </tr>\n",
       "    <tr>\n",
       "      <th>4</th>\n",
       "      <td>10-02-2010</td>\n",
       "      <td>24.2</td>\n",
       "      <td>32.2</td>\n",
       "      <td>28.1</td>\n",
       "      <td>82.0</td>\n",
       "      <td>7.0</td>\n",
       "      <td>200.0</td>\n",
       "      <td>2.0</td>\n",
       "      <td>5</td>\n",
       "      <td>2</td>\n",
       "      <td>82.2</td>\n",
       "      <td>83.0</td>\n",
       "      <td>81.0</td>\n",
       "      <td>82.0</td>\n",
       "      <td>7.0</td>\n",
       "      <td>10.0</td>\n",
       "      <td>6.0</td>\n",
       "      <td>5.267826</td>\n",
       "      <td>16.1</td>\n",
       "      <td>8.33913</td>\n",
       "      <td>0.00000</td>\n",
       "      <td>7.70000</td>\n",
       "    </tr>\n",
       "  </tbody>\n",
       "</table>\n",
       "</div>"
      ],
      "text/plain": [
       "      Tanggal    Tn    Tx  Tavg  RH_avg  ff_x  ddd_x  ff_avg  ddd_car  bulan  \\\n",
       "0  06-02-2010  24.7  29.4  26.5    85.0   7.0  240.0     2.0        7      2   \n",
       "1  07-02-2010  25.0  32.2  27.5    83.0   7.0  120.0     2.0        5      2   \n",
       "2  08-02-2010  25.2  32.5  27.4    81.0  10.0  100.0     2.0        8      2   \n",
       "3  09-02-2010  25.0  32.0  27.2    82.0   6.0  100.0     2.0        3      2   \n",
       "4  10-02-2010  24.2  32.2  28.1    82.0   7.0  200.0     2.0        5      2   \n",
       "\n",
       "   RH_avg_5day   RH1   RH2   RH3  ff_x1  ff_x2  ff_x3  RR_avg5_day   RR1  \\\n",
       "0         80.4  81.0  80.0  80.0    7.0    9.0    9.0     3.560000   2.5   \n",
       "1         81.0  80.0  80.0  85.0    9.0    9.0    7.0     3.480000   0.8   \n",
       "2         81.8  80.0  85.0  83.0    9.0    7.0    7.0     4.260000   1.7   \n",
       "3         81.8  85.0  83.0  81.0    7.0    7.0   10.0     5.427826   0.2   \n",
       "4         82.2  83.0  81.0  82.0    7.0   10.0    6.0     5.267826  16.1   \n",
       "\n",
       "        RR2       RR3        RR  \n",
       "0   0.80000   1.70000   0.20000  \n",
       "1   1.70000   0.20000  16.10000  \n",
       "2   0.20000  16.10000   8.33913  \n",
       "3  16.10000   8.33913   0.00000  \n",
       "4   8.33913   0.00000   7.70000  "
      ]
     },
     "execution_count": 2,
     "metadata": {},
     "output_type": "execute_result"
    }
   ],
   "source": [
    "pd.set_option('display.max_columns',None)\n",
    "pd.set_option('display.max_rows',None)\n",
    "dataset = pd.read_csv('CSV\\Data Prototype 3a.csv')\n",
    "dataset.head()"
   ]
  },
  {
   "cell_type": "code",
   "execution_count": 3,
   "metadata": {},
   "outputs": [
    {
     "data": {
      "text/html": [
       "<div>\n",
       "<style scoped>\n",
       "    .dataframe tbody tr th:only-of-type {\n",
       "        vertical-align: middle;\n",
       "    }\n",
       "\n",
       "    .dataframe tbody tr th {\n",
       "        vertical-align: top;\n",
       "    }\n",
       "\n",
       "    .dataframe thead th {\n",
       "        text-align: right;\n",
       "    }\n",
       "</style>\n",
       "<table border=\"1\" class=\"dataframe\">\n",
       "  <thead>\n",
       "    <tr style=\"text-align: right;\">\n",
       "      <th></th>\n",
       "      <th>count</th>\n",
       "      <th>mean</th>\n",
       "      <th>std</th>\n",
       "      <th>min</th>\n",
       "      <th>25%</th>\n",
       "      <th>50%</th>\n",
       "      <th>75%</th>\n",
       "      <th>max</th>\n",
       "    </tr>\n",
       "  </thead>\n",
       "  <tbody>\n",
       "    <tr>\n",
       "      <th>Tn</th>\n",
       "      <td>2987.0</td>\n",
       "      <td>24.505217</td>\n",
       "      <td>0.986270</td>\n",
       "      <td>18.0</td>\n",
       "      <td>24.000000</td>\n",
       "      <td>24.600000</td>\n",
       "      <td>25.188385</td>\n",
       "      <td>27.900000</td>\n",
       "    </tr>\n",
       "    <tr>\n",
       "      <th>Tx</th>\n",
       "      <td>2981.0</td>\n",
       "      <td>30.964174</td>\n",
       "      <td>1.608543</td>\n",
       "      <td>3.6</td>\n",
       "      <td>30.000000</td>\n",
       "      <td>31.200000</td>\n",
       "      <td>32.100000</td>\n",
       "      <td>36.000000</td>\n",
       "    </tr>\n",
       "    <tr>\n",
       "      <th>Tavg</th>\n",
       "      <td>2989.0</td>\n",
       "      <td>27.265009</td>\n",
       "      <td>1.128515</td>\n",
       "      <td>23.2</td>\n",
       "      <td>26.600000</td>\n",
       "      <td>27.400000</td>\n",
       "      <td>28.000000</td>\n",
       "      <td>30.700000</td>\n",
       "    </tr>\n",
       "    <tr>\n",
       "      <th>RH_avg</th>\n",
       "      <td>2988.0</td>\n",
       "      <td>82.781296</td>\n",
       "      <td>4.080208</td>\n",
       "      <td>41.0</td>\n",
       "      <td>80.000000</td>\n",
       "      <td>83.000000</td>\n",
       "      <td>85.000000</td>\n",
       "      <td>97.000000</td>\n",
       "    </tr>\n",
       "    <tr>\n",
       "      <th>ff_x</th>\n",
       "      <td>2988.0</td>\n",
       "      <td>6.100179</td>\n",
       "      <td>2.474871</td>\n",
       "      <td>0.0</td>\n",
       "      <td>4.000000</td>\n",
       "      <td>6.000000</td>\n",
       "      <td>8.000000</td>\n",
       "      <td>36.000000</td>\n",
       "    </tr>\n",
       "    <tr>\n",
       "      <th>ddd_x</th>\n",
       "      <td>2988.0</td>\n",
       "      <td>165.489971</td>\n",
       "      <td>66.810621</td>\n",
       "      <td>0.0</td>\n",
       "      <td>120.000000</td>\n",
       "      <td>140.000000</td>\n",
       "      <td>220.000000</td>\n",
       "      <td>360.000000</td>\n",
       "    </tr>\n",
       "    <tr>\n",
       "      <th>ff_avg</th>\n",
       "      <td>2989.0</td>\n",
       "      <td>2.180653</td>\n",
       "      <td>1.092883</td>\n",
       "      <td>0.0</td>\n",
       "      <td>1.000000</td>\n",
       "      <td>2.000000</td>\n",
       "      <td>3.000000</td>\n",
       "      <td>7.000000</td>\n",
       "    </tr>\n",
       "    <tr>\n",
       "      <th>ddd_car</th>\n",
       "      <td>2989.0</td>\n",
       "      <td>3.742723</td>\n",
       "      <td>2.318741</td>\n",
       "      <td>1.0</td>\n",
       "      <td>1.000000</td>\n",
       "      <td>4.000000</td>\n",
       "      <td>5.000000</td>\n",
       "      <td>9.000000</td>\n",
       "    </tr>\n",
       "    <tr>\n",
       "      <th>bulan</th>\n",
       "      <td>2989.0</td>\n",
       "      <td>6.324189</td>\n",
       "      <td>3.464433</td>\n",
       "      <td>1.0</td>\n",
       "      <td>3.000000</td>\n",
       "      <td>6.000000</td>\n",
       "      <td>9.000000</td>\n",
       "      <td>12.000000</td>\n",
       "    </tr>\n",
       "    <tr>\n",
       "      <th>RH_avg_5day</th>\n",
       "      <td>2989.0</td>\n",
       "      <td>82.777564</td>\n",
       "      <td>2.874954</td>\n",
       "      <td>68.6</td>\n",
       "      <td>81.000000</td>\n",
       "      <td>82.800000</td>\n",
       "      <td>84.600000</td>\n",
       "      <td>90.400000</td>\n",
       "    </tr>\n",
       "    <tr>\n",
       "      <th>RH1</th>\n",
       "      <td>2988.0</td>\n",
       "      <td>82.779455</td>\n",
       "      <td>4.080386</td>\n",
       "      <td>41.0</td>\n",
       "      <td>80.000000</td>\n",
       "      <td>83.000000</td>\n",
       "      <td>85.000000</td>\n",
       "      <td>97.000000</td>\n",
       "    </tr>\n",
       "    <tr>\n",
       "      <th>RH2</th>\n",
       "      <td>2988.0</td>\n",
       "      <td>82.779121</td>\n",
       "      <td>4.080573</td>\n",
       "      <td>41.0</td>\n",
       "      <td>80.000000</td>\n",
       "      <td>83.000000</td>\n",
       "      <td>85.000000</td>\n",
       "      <td>97.000000</td>\n",
       "    </tr>\n",
       "    <tr>\n",
       "      <th>RH3</th>\n",
       "      <td>2988.0</td>\n",
       "      <td>82.779623</td>\n",
       "      <td>4.080323</td>\n",
       "      <td>41.0</td>\n",
       "      <td>80.000000</td>\n",
       "      <td>83.000000</td>\n",
       "      <td>85.000000</td>\n",
       "      <td>97.000000</td>\n",
       "    </tr>\n",
       "    <tr>\n",
       "      <th>ff_x1</th>\n",
       "      <td>2988.0</td>\n",
       "      <td>6.104211</td>\n",
       "      <td>2.475368</td>\n",
       "      <td>0.0</td>\n",
       "      <td>4.000000</td>\n",
       "      <td>6.000000</td>\n",
       "      <td>8.000000</td>\n",
       "      <td>36.000000</td>\n",
       "    </tr>\n",
       "    <tr>\n",
       "      <th>ff_x2</th>\n",
       "      <td>2988.0</td>\n",
       "      <td>6.103207</td>\n",
       "      <td>2.475613</td>\n",
       "      <td>0.0</td>\n",
       "      <td>4.000000</td>\n",
       "      <td>6.000000</td>\n",
       "      <td>8.000000</td>\n",
       "      <td>36.000000</td>\n",
       "    </tr>\n",
       "    <tr>\n",
       "      <th>ff_x3</th>\n",
       "      <td>2988.0</td>\n",
       "      <td>6.101518</td>\n",
       "      <td>2.475357</td>\n",
       "      <td>0.0</td>\n",
       "      <td>4.000000</td>\n",
       "      <td>6.000000</td>\n",
       "      <td>8.000000</td>\n",
       "      <td>36.000000</td>\n",
       "    </tr>\n",
       "    <tr>\n",
       "      <th>RR_avg5_day</th>\n",
       "      <td>2989.0</td>\n",
       "      <td>12.677641</td>\n",
       "      <td>11.429309</td>\n",
       "      <td>0.0</td>\n",
       "      <td>3.916471</td>\n",
       "      <td>10.315652</td>\n",
       "      <td>18.442222</td>\n",
       "      <td>74.071765</td>\n",
       "    </tr>\n",
       "    <tr>\n",
       "      <th>RR1</th>\n",
       "      <td>2988.0</td>\n",
       "      <td>12.677881</td>\n",
       "      <td>20.152995</td>\n",
       "      <td>0.0</td>\n",
       "      <td>0.200000</td>\n",
       "      <td>5.100000</td>\n",
       "      <td>17.230000</td>\n",
       "      <td>199.500000</td>\n",
       "    </tr>\n",
       "    <tr>\n",
       "      <th>RR2</th>\n",
       "      <td>2988.0</td>\n",
       "      <td>12.677179</td>\n",
       "      <td>20.153386</td>\n",
       "      <td>0.0</td>\n",
       "      <td>0.200000</td>\n",
       "      <td>5.100000</td>\n",
       "      <td>17.230000</td>\n",
       "      <td>199.500000</td>\n",
       "    </tr>\n",
       "    <tr>\n",
       "      <th>RR3</th>\n",
       "      <td>2988.0</td>\n",
       "      <td>12.680674</td>\n",
       "      <td>20.152231</td>\n",
       "      <td>0.0</td>\n",
       "      <td>0.200000</td>\n",
       "      <td>5.150000</td>\n",
       "      <td>17.230000</td>\n",
       "      <td>199.500000</td>\n",
       "    </tr>\n",
       "    <tr>\n",
       "      <th>RR</th>\n",
       "      <td>2988.0</td>\n",
       "      <td>12.683867</td>\n",
       "      <td>20.151247</td>\n",
       "      <td>0.0</td>\n",
       "      <td>0.200000</td>\n",
       "      <td>5.200000</td>\n",
       "      <td>17.230000</td>\n",
       "      <td>199.500000</td>\n",
       "    </tr>\n",
       "  </tbody>\n",
       "</table>\n",
       "</div>"
      ],
      "text/plain": [
       "              count        mean        std   min         25%         50%  \\\n",
       "Tn           2987.0   24.505217   0.986270  18.0   24.000000   24.600000   \n",
       "Tx           2981.0   30.964174   1.608543   3.6   30.000000   31.200000   \n",
       "Tavg         2989.0   27.265009   1.128515  23.2   26.600000   27.400000   \n",
       "RH_avg       2988.0   82.781296   4.080208  41.0   80.000000   83.000000   \n",
       "ff_x         2988.0    6.100179   2.474871   0.0    4.000000    6.000000   \n",
       "ddd_x        2988.0  165.489971  66.810621   0.0  120.000000  140.000000   \n",
       "ff_avg       2989.0    2.180653   1.092883   0.0    1.000000    2.000000   \n",
       "ddd_car      2989.0    3.742723   2.318741   1.0    1.000000    4.000000   \n",
       "bulan        2989.0    6.324189   3.464433   1.0    3.000000    6.000000   \n",
       "RH_avg_5day  2989.0   82.777564   2.874954  68.6   81.000000   82.800000   \n",
       "RH1          2988.0   82.779455   4.080386  41.0   80.000000   83.000000   \n",
       "RH2          2988.0   82.779121   4.080573  41.0   80.000000   83.000000   \n",
       "RH3          2988.0   82.779623   4.080323  41.0   80.000000   83.000000   \n",
       "ff_x1        2988.0    6.104211   2.475368   0.0    4.000000    6.000000   \n",
       "ff_x2        2988.0    6.103207   2.475613   0.0    4.000000    6.000000   \n",
       "ff_x3        2988.0    6.101518   2.475357   0.0    4.000000    6.000000   \n",
       "RR_avg5_day  2989.0   12.677641  11.429309   0.0    3.916471   10.315652   \n",
       "RR1          2988.0   12.677881  20.152995   0.0    0.200000    5.100000   \n",
       "RR2          2988.0   12.677179  20.153386   0.0    0.200000    5.100000   \n",
       "RR3          2988.0   12.680674  20.152231   0.0    0.200000    5.150000   \n",
       "RR           2988.0   12.683867  20.151247   0.0    0.200000    5.200000   \n",
       "\n",
       "                    75%         max  \n",
       "Tn            25.188385   27.900000  \n",
       "Tx            32.100000   36.000000  \n",
       "Tavg          28.000000   30.700000  \n",
       "RH_avg        85.000000   97.000000  \n",
       "ff_x           8.000000   36.000000  \n",
       "ddd_x        220.000000  360.000000  \n",
       "ff_avg         3.000000    7.000000  \n",
       "ddd_car        5.000000    9.000000  \n",
       "bulan          9.000000   12.000000  \n",
       "RH_avg_5day   84.600000   90.400000  \n",
       "RH1           85.000000   97.000000  \n",
       "RH2           85.000000   97.000000  \n",
       "RH3           85.000000   97.000000  \n",
       "ff_x1          8.000000   36.000000  \n",
       "ff_x2          8.000000   36.000000  \n",
       "ff_x3          8.000000   36.000000  \n",
       "RR_avg5_day   18.442222   74.071765  \n",
       "RR1           17.230000  199.500000  \n",
       "RR2           17.230000  199.500000  \n",
       "RR3           17.230000  199.500000  \n",
       "RR            17.230000  199.500000  "
      ]
     },
     "execution_count": 3,
     "metadata": {},
     "output_type": "execute_result"
    }
   ],
   "source": [
    "dataset.describe().T"
   ]
  },
  {
   "cell_type": "code",
   "execution_count": 4,
   "metadata": {},
   "outputs": [
    {
     "data": {
      "text/plain": [
       "(2989, 22)"
      ]
     },
     "execution_count": 4,
     "metadata": {},
     "output_type": "execute_result"
    }
   ],
   "source": [
    "dataset.shape"
   ]
  },
  {
   "cell_type": "code",
   "execution_count": 5,
   "metadata": {},
   "outputs": [
    {
     "data": {
      "text/html": [
       "<div>\n",
       "<style scoped>\n",
       "    .dataframe tbody tr th:only-of-type {\n",
       "        vertical-align: middle;\n",
       "    }\n",
       "\n",
       "    .dataframe tbody tr th {\n",
       "        vertical-align: top;\n",
       "    }\n",
       "\n",
       "    .dataframe thead th {\n",
       "        text-align: right;\n",
       "    }\n",
       "</style>\n",
       "<table border=\"1\" class=\"dataframe\">\n",
       "  <thead>\n",
       "    <tr style=\"text-align: right;\">\n",
       "      <th></th>\n",
       "      <th>Tanggal</th>\n",
       "      <th>Tn</th>\n",
       "      <th>Tx</th>\n",
       "      <th>Tavg</th>\n",
       "      <th>RH_avg</th>\n",
       "      <th>ff_x</th>\n",
       "      <th>ddd_x</th>\n",
       "      <th>ff_avg</th>\n",
       "      <th>ddd_car</th>\n",
       "      <th>bulan</th>\n",
       "      <th>RH_avg_5day</th>\n",
       "      <th>RH1</th>\n",
       "      <th>RH2</th>\n",
       "      <th>RH3</th>\n",
       "      <th>ff_x1</th>\n",
       "      <th>ff_x2</th>\n",
       "      <th>ff_x3</th>\n",
       "      <th>RR_avg5_day</th>\n",
       "      <th>RR1</th>\n",
       "      <th>RR2</th>\n",
       "      <th>RR3</th>\n",
       "      <th>RR</th>\n",
       "    </tr>\n",
       "  </thead>\n",
       "  <tbody>\n",
       "    <tr>\n",
       "      <th>2427</th>\n",
       "      <td>13-05-2017</td>\n",
       "      <td>25.3</td>\n",
       "      <td>3.6</td>\n",
       "      <td>27.6</td>\n",
       "      <td>79.0</td>\n",
       "      <td>7.0</td>\n",
       "      <td>130.0</td>\n",
       "      <td>2.0</td>\n",
       "      <td>3</td>\n",
       "      <td>5</td>\n",
       "      <td>80.8</td>\n",
       "      <td>75.0</td>\n",
       "      <td>84.0</td>\n",
       "      <td>83.0</td>\n",
       "      <td>8.0</td>\n",
       "      <td>4.0</td>\n",
       "      <td>5.0</td>\n",
       "      <td>3.916471</td>\n",
       "      <td>8.541176</td>\n",
       "      <td>0.4</td>\n",
       "      <td>0.0</td>\n",
       "      <td>19.4</td>\n",
       "    </tr>\n",
       "  </tbody>\n",
       "</table>\n",
       "</div>"
      ],
      "text/plain": [
       "         Tanggal    Tn   Tx  Tavg  RH_avg  ff_x  ddd_x  ff_avg  ddd_car  \\\n",
       "2427  13-05-2017  25.3  3.6  27.6    79.0   7.0  130.0     2.0        3   \n",
       "\n",
       "      bulan  RH_avg_5day   RH1   RH2   RH3  ff_x1  ff_x2  ff_x3  RR_avg5_day  \\\n",
       "2427      5         80.8  75.0  84.0  83.0    8.0    4.0    5.0     3.916471   \n",
       "\n",
       "           RR1  RR2  RR3    RR  \n",
       "2427  8.541176  0.4  0.0  19.4  "
      ]
     },
     "execution_count": 5,
     "metadata": {},
     "output_type": "execute_result"
    }
   ],
   "source": [
    "dataset[dataset.Tx<=20]"
   ]
  },
  {
   "cell_type": "code",
   "execution_count": 6,
   "metadata": {},
   "outputs": [],
   "source": [
    "dataset = dataset.drop(dataset.index[2427])"
   ]
  },
  {
   "cell_type": "code",
   "execution_count": 7,
   "metadata": {},
   "outputs": [],
   "source": [
    "dataset = dataset.dropna()"
   ]
  },
  {
   "cell_type": "code",
   "execution_count": 8,
   "metadata": {},
   "outputs": [],
   "source": [
    "dataset = dataset.drop(columns = ['ff_avg','Tanggal'])"
   ]
  },
  {
   "cell_type": "code",
   "execution_count": 9,
   "metadata": {},
   "outputs": [],
   "source": [
    "# Feature Scaling\n",
    "from sklearn.preprocessing import MinMaxScaler\n",
    "sc = MinMaxScaler(feature_range = (0, 1))\n",
    "dataset_scaled = sc.fit_transform(dataset)"
   ]
  },
  {
   "cell_type": "code",
   "execution_count": 10,
   "metadata": {},
   "outputs": [
    {
     "data": {
      "text/plain": [
       "array([[0.67676768, 0.44067797, 0.44      , ..., 0.00401003, 0.0085213 ,\n",
       "        0.00100251],\n",
       "       [0.70707071, 0.6779661 , 0.57333333, ..., 0.0085213 , 0.00100251,\n",
       "        0.08070175],\n",
       "       [0.72727273, 0.70338983, 0.56      , ..., 0.00100251, 0.08070175,\n",
       "        0.04180015],\n",
       "       ...,\n",
       "       [0.70707071, 0.52542373, 0.6       , ..., 0.00250627, 0.05635517,\n",
       "        0.00200501],\n",
       "       [0.72783389, 0.59500446, 0.62814815, ..., 0.05635517, 0.00200501,\n",
       "        0.05635517],\n",
       "       [0.72783389, 0.62711864, 0.58666667, ..., 0.00200501, 0.05635517,\n",
       "        0.05635517]])"
      ]
     },
     "execution_count": 10,
     "metadata": {},
     "output_type": "execute_result"
    }
   ],
   "source": [
    "dataset_scaled"
   ]
  },
  {
   "cell_type": "code",
   "execution_count": 11,
   "metadata": {},
   "outputs": [
    {
     "data": {
      "text/plain": [
       "Index(['Tn', 'Tx', 'Tavg', 'RH_avg', 'ff_x', 'ddd_x', 'ddd_car', 'bulan',\n",
       "       'RH_avg_5day', 'RH1', 'RH2', 'RH3', 'ff_x1', 'ff_x2', 'ff_x3',\n",
       "       'RR_avg5_day', 'RR1', 'RR2', 'RR3', 'RR'],\n",
       "      dtype='object')"
      ]
     },
     "execution_count": 11,
     "metadata": {},
     "output_type": "execute_result"
    }
   ],
   "source": [
    "dataset.columns"
   ]
  },
  {
   "cell_type": "code",
   "execution_count": 12,
   "metadata": {},
   "outputs": [
    {
     "data": {
      "text/plain": [
       "array([0.00100251, 0.08070175, 0.04180015, ..., 0.00200501, 0.05635517,\n",
       "       0.05635517])"
      ]
     },
     "execution_count": 12,
     "metadata": {},
     "output_type": "execute_result"
    }
   ],
   "source": [
    "dataset_scaled[:,19]"
   ]
  },
  {
   "cell_type": "code",
   "execution_count": 13,
   "metadata": {},
   "outputs": [],
   "source": [
    "#Buat split data\n",
    "#Buat X yg di drop yang target, y jadi target\n",
    "\n",
    "X = np.delete(dataset_scaled,19,axis=1)\n",
    "y = dataset_scaled[:,19]"
   ]
  },
  {
   "cell_type": "code",
   "execution_count": 14,
   "metadata": {},
   "outputs": [],
   "source": [
    "\n",
    "X_train, X_test, y_train, y_test = train_test_split(X, y, test_size = 0.10)"
   ]
  },
  {
   "cell_type": "code",
   "execution_count": 15,
   "metadata": {},
   "outputs": [
    {
     "data": {
      "text/plain": [
       "19"
      ]
     },
     "execution_count": 15,
     "metadata": {},
     "output_type": "execute_result"
    }
   ],
   "source": [
    "X_train.shape[1]"
   ]
  },
  {
   "cell_type": "code",
   "execution_count": 16,
   "metadata": {},
   "outputs": [],
   "source": [
    "X_test2 = X_test"
   ]
  },
  {
   "cell_type": "code",
   "execution_count": 17,
   "metadata": {},
   "outputs": [],
   "source": [
    "X_train = np.array(X_train)\n",
    "y_train = np.array(y_train)\n",
    "X_test = np.array(X_test)"
   ]
  },
  {
   "cell_type": "code",
   "execution_count": 18,
   "metadata": {},
   "outputs": [
    {
     "name": "stderr",
     "output_type": "stream",
     "text": [
      "Using TensorFlow backend.\n"
     ]
    }
   ],
   "source": [
    "# Impor Keras dan library yang lain\n",
    "\n",
    "\n",
    "from keras.models import Sequential\n",
    "from keras.layers import Dense\n",
    "from keras.layers import LSTM\n",
    "from keras.layers import Dropout"
   ]
  },
  {
   "cell_type": "code",
   "execution_count": 19,
   "metadata": {},
   "outputs": [
    {
     "name": "stdout",
     "output_type": "stream",
     "text": [
      "WARNING:tensorflow:From C:\\ProgramData\\Anaconda3\\lib\\site-packages\\tensorflow\\python\\framework\\op_def_library.py:263: colocate_with (from tensorflow.python.framework.ops) is deprecated and will be removed in a future version.\n",
      "Instructions for updating:\n",
      "Colocations handled automatically by placer.\n",
      "WARNING:tensorflow:From C:\\ProgramData\\Anaconda3\\lib\\site-packages\\keras\\backend\\tensorflow_backend.py:3445: calling dropout (from tensorflow.python.ops.nn_ops) with keep_prob is deprecated and will be removed in a future version.\n",
      "Instructions for updating:\n",
      "Please use `rate` instead of `keep_prob`. Rate should be set to `rate = 1 - keep_prob`.\n"
     ]
    }
   ],
   "source": [
    "regressor = Sequential()\n",
    "regressor.add(LSTM(units = 50, return_sequences = True, input_shape = (1,19)))\n",
    "regressor.add(Dropout(0.2))\n",
    "regressor.add(LSTM(units = 50, return_sequences = True))\n",
    "regressor.add(Dropout(0.2))\n",
    "regressor.add(LSTM(units = 50, return_sequences = True))\n",
    "regressor.add(Dropout(0.2))\n",
    "regressor.add(LSTM(units = 50))\n",
    "regressor.add(Dropout(0.2))\n",
    "regressor.add(Dense(units = 1))\n",
    "regressor.compile(optimizer = 'adam', loss = 'mean_squared_error', metrics = ['acc'])"
   ]
  },
  {
   "cell_type": "code",
   "execution_count": 20,
   "metadata": {},
   "outputs": [
    {
     "name": "stdout",
     "output_type": "stream",
     "text": [
      "_________________________________________________________________\n",
      "Layer (type)                 Output Shape              Param #   \n",
      "=================================================================\n",
      "lstm_1 (LSTM)                (None, 1, 50)             14000     \n",
      "_________________________________________________________________\n",
      "dropout_1 (Dropout)          (None, 1, 50)             0         \n",
      "_________________________________________________________________\n",
      "lstm_2 (LSTM)                (None, 1, 50)             20200     \n",
      "_________________________________________________________________\n",
      "dropout_2 (Dropout)          (None, 1, 50)             0         \n",
      "_________________________________________________________________\n",
      "lstm_3 (LSTM)                (None, 1, 50)             20200     \n",
      "_________________________________________________________________\n",
      "dropout_3 (Dropout)          (None, 1, 50)             0         \n",
      "_________________________________________________________________\n",
      "lstm_4 (LSTM)                (None, 50)                20200     \n",
      "_________________________________________________________________\n",
      "dropout_4 (Dropout)          (None, 50)                0         \n",
      "_________________________________________________________________\n",
      "dense_1 (Dense)              (None, 1)                 51        \n",
      "=================================================================\n",
      "Total params: 74,651\n",
      "Trainable params: 74,651\n",
      "Non-trainable params: 0\n",
      "_________________________________________________________________\n"
     ]
    }
   ],
   "source": [
    "regressor.summary()"
   ]
  },
  {
   "cell_type": "code",
   "execution_count": 21,
   "metadata": {},
   "outputs": [],
   "source": [
    "# Reshaping\n",
    "X_train = np.reshape(X_train,(X_train.shape[0],1,X_train.shape[1])) "
   ]
  },
  {
   "cell_type": "code",
   "execution_count": 22,
   "metadata": {},
   "outputs": [
    {
     "data": {
      "text/plain": [
       "(2669, 1, 19)"
      ]
     },
     "execution_count": 22,
     "metadata": {},
     "output_type": "execute_result"
    }
   ],
   "source": [
    "X_train.shape"
   ]
  },
  {
   "cell_type": "code",
   "execution_count": 23,
   "metadata": {},
   "outputs": [],
   "source": [
    "def on_train_begin(self, logs=None):\n",
    "    self.epoch = []\n",
    "    self.history = {}\n",
    " \n",
    "def on_epoch_end(self, epoch, logs=None):\n",
    "    logs = logs or {}\n",
    "    self.epoch.append(epoch)\n",
    "    for k, v in logs.items():\n",
    "        self.history.setdefault(k, []).append(v)"
   ]
  },
  {
   "cell_type": "markdown",
   "metadata": {},
   "source": [
    "PERCOBAAN 1"
   ]
  },
  {
   "cell_type": "code",
   "execution_count": 24,
   "metadata": {},
   "outputs": [
    {
     "name": "stdout",
     "output_type": "stream",
     "text": [
      "WARNING:tensorflow:From C:\\ProgramData\\Anaconda3\\lib\\site-packages\\tensorflow\\python\\ops\\math_ops.py:3066: to_int32 (from tensorflow.python.ops.math_ops) is deprecated and will be removed in a future version.\n",
      "Instructions for updating:\n",
      "Use tf.cast instead.\n",
      "Train on 2402 samples, validate on 267 samples\n",
      "Epoch 1/200\n",
      "2402/2402 [==============================] - 8s 3ms/step - loss: 0.0106 - acc: 0.2348 - val_loss: 0.0131 - val_acc: 0.2022\n",
      "Epoch 2/200\n",
      "2402/2402 [==============================] - 2s 658us/step - loss: 0.0102 - acc: 0.2348 - val_loss: 0.0132 - val_acc: 0.2022\n",
      "Epoch 3/200\n",
      "2402/2402 [==============================] - 2s 645us/step - loss: 0.0098 - acc: 0.2348 - val_loss: 0.0122 - val_acc: 0.2022\n",
      "Epoch 4/200\n",
      "2402/2402 [==============================] - 2s 652us/step - loss: 0.0096 - acc: 0.2348 - val_loss: 0.0125 - val_acc: 0.2022\n",
      "Epoch 5/200\n",
      "2402/2402 [==============================] - 2s 650us/step - loss: 0.0094 - acc: 0.2348 - val_loss: 0.0122 - val_acc: 0.2022\n",
      "Epoch 6/200\n",
      "2402/2402 [==============================] - 2s 651us/step - loss: 0.0094 - acc: 0.2348 - val_loss: 0.0119 - val_acc: 0.2022 - loss: 0.0097 - acc: 0\n",
      "Epoch 7/200\n",
      "2402/2402 [==============================] - 2s 652us/step - loss: 0.0093 - acc: 0.2348 - val_loss: 0.0118 - val_acc: 0.2022\n",
      "Epoch 8/200\n",
      "2402/2402 [==============================] - 2s 654us/step - loss: 0.0095 - acc: 0.2348 - val_loss: 0.0119 - val_acc: 0.2022\n",
      "Epoch 9/200\n",
      "2402/2402 [==============================] - 2s 651us/step - loss: 0.0093 - acc: 0.2348 - val_loss: 0.0117 - val_acc: 0.2022\n",
      "Epoch 10/200\n",
      "2402/2402 [==============================] - 2s 647us/step - loss: 0.0094 - acc: 0.2348 - val_loss: 0.0119 - val_acc: 0.2022\n",
      "Epoch 11/200\n",
      "2402/2402 [==============================] - 2s 675us/step - loss: 0.0091 - acc: 0.2348 - val_loss: 0.0117 - val_acc: 0.2022\n",
      "Epoch 12/200\n",
      "2402/2402 [==============================] - 2s 658us/step - loss: 0.0097 - acc: 0.2348 - val_loss: 0.0120 - val_acc: 0.2022\n",
      "Epoch 13/200\n",
      "2402/2402 [==============================] - 2s 651us/step - loss: 0.0093 - acc: 0.2348 - val_loss: 0.0117 - val_acc: 0.2022\n",
      "Epoch 14/200\n",
      "2402/2402 [==============================] - 2s 658us/step - loss: 0.0092 - acc: 0.2348 - val_loss: 0.0116 - val_acc: 0.2022\n",
      "Epoch 15/200\n",
      "2402/2402 [==============================] - 2s 664us/step - loss: 0.0092 - acc: 0.2348 - val_loss: 0.0117 - val_acc: 0.2022\n",
      "Epoch 16/200\n",
      "2402/2402 [==============================] - 2s 650us/step - loss: 0.0092 - acc: 0.2348 - val_loss: 0.0114 - val_acc: 0.2022\n",
      "Epoch 17/200\n",
      "2402/2402 [==============================] - 2s 647us/step - loss: 0.0092 - acc: 0.2348 - val_loss: 0.0116 - val_acc: 0.2022\n",
      "Epoch 18/200\n",
      "2402/2402 [==============================] - 2s 654us/step - loss: 0.0090 - acc: 0.2348 - val_loss: 0.0114 - val_acc: 0.2022\n",
      "Epoch 19/200\n",
      "2402/2402 [==============================] - 2s 689us/step - loss: 0.0091 - acc: 0.2348 - val_loss: 0.0117 - val_acc: 0.2022\n",
      "Epoch 20/200\n",
      "2402/2402 [==============================] - 2s 691us/step - loss: 0.0090 - acc: 0.2348 - val_loss: 0.0117 - val_acc: 0.2022\n",
      "Epoch 21/200\n",
      "2402/2402 [==============================] - 2s 645us/step - loss: 0.0091 - acc: 0.2348 - val_loss: 0.0112 - val_acc: 0.2022\n",
      "Epoch 22/200\n",
      "2402/2402 [==============================] - 2s 653us/step - loss: 0.0091 - acc: 0.2348 - val_loss: 0.0114 - val_acc: 0.2022\n",
      "Epoch 23/200\n",
      "2402/2402 [==============================] - 2s 651us/step - loss: 0.0089 - acc: 0.2348 - val_loss: 0.0113 - val_acc: 0.2022\n",
      "Epoch 24/200\n",
      "2402/2402 [==============================] - 2s 653us/step - loss: 0.0089 - acc: 0.2348 - val_loss: 0.0108 - val_acc: 0.2022\n",
      "Epoch 25/200\n",
      "2402/2402 [==============================] - 2s 661us/step - loss: 0.0089 - acc: 0.2348 - val_loss: 0.0108 - val_acc: 0.2022\n",
      "Epoch 26/200\n",
      "2402/2402 [==============================] - 2s 656us/step - loss: 0.0088 - acc: 0.2348 - val_loss: 0.0105 - val_acc: 0.2022\n",
      "Epoch 27/200\n",
      "2402/2402 [==============================] - 2s 656us/step - loss: 0.0087 - acc: 0.2348 - val_loss: 0.0115 - val_acc: 0.2022\n",
      "Epoch 28/200\n",
      "2402/2402 [==============================] - 2s 652us/step - loss: 0.0088 - acc: 0.2348 - val_loss: 0.0104 - val_acc: 0.2022\n",
      "Epoch 29/200\n",
      "2402/2402 [==============================] - 2s 653us/step - loss: 0.0086 - acc: 0.2348 - val_loss: 0.0103 - val_acc: 0.2022\n",
      "Epoch 30/200\n",
      "2402/2402 [==============================] - 2s 655us/step - loss: 0.0087 - acc: 0.2348 - val_loss: 0.0104 - val_acc: 0.2022\n",
      "Epoch 31/200\n",
      "2402/2402 [==============================] - 2s 651us/step - loss: 0.0086 - acc: 0.2348 - val_loss: 0.0101 - val_acc: 0.2022\n",
      "Epoch 32/200\n",
      "2402/2402 [==============================] - 2s 651us/step - loss: 0.0084 - acc: 0.2348 - val_loss: 0.0110 - val_acc: 0.2022\n",
      "Epoch 33/200\n",
      "2402/2402 [==============================] - 2s 649us/step - loss: 0.0085 - acc: 0.2348 - val_loss: 0.0110 - val_acc: 0.2022\n",
      "Epoch 34/200\n",
      "2402/2402 [==============================] - 2s 653us/step - loss: 0.0087 - acc: 0.2348 - val_loss: 0.0105 - val_acc: 0.2022\n",
      "Epoch 35/200\n",
      "2402/2402 [==============================] - 2s 647us/step - loss: 0.0087 - acc: 0.2348 - val_loss: 0.0099 - val_acc: 0.2022\n",
      "Epoch 36/200\n",
      "2402/2402 [==============================] - 2s 649us/step - loss: 0.0086 - acc: 0.2348 - val_loss: 0.0097 - val_acc: 0.2022\n",
      "Epoch 37/200\n",
      "2402/2402 [==============================] - 2s 646us/step - loss: 0.0086 - acc: 0.2348 - val_loss: 0.0101 - val_acc: 0.2022\n",
      "Epoch 38/200\n",
      "2402/2402 [==============================] - 2s 653us/step - loss: 0.0086 - acc: 0.2348 - val_loss: 0.0099 - val_acc: 0.2022\n",
      "Epoch 39/200\n",
      "2402/2402 [==============================] - 2s 653us/step - loss: 0.0084 - acc: 0.2348 - val_loss: 0.0098 - val_acc: 0.2022\n",
      "Epoch 40/200\n",
      "2402/2402 [==============================] - 2s 645us/step - loss: 0.0084 - acc: 0.2348 - val_loss: 0.0095 - val_acc: 0.2022\n",
      "Epoch 41/200\n",
      "2402/2402 [==============================] - 2s 651us/step - loss: 0.0094 - acc: 0.2348 - val_loss: 0.0107 - val_acc: 0.2022\n",
      "Epoch 42/200\n",
      "2402/2402 [==============================] - 2s 667us/step - loss: 0.0085 - acc: 0.2348 - val_loss: 0.0102 - val_acc: 0.2022\n",
      "Epoch 43/200\n",
      "2402/2402 [==============================] - 2s 654us/step - loss: 0.0084 - acc: 0.2348 - val_loss: 0.0101 - val_acc: 0.2022\n",
      "Epoch 44/200\n",
      "2402/2402 [==============================] - 2s 654us/step - loss: 0.0084 - acc: 0.2348 - val_loss: 0.0102 - val_acc: 0.2022\n",
      "Epoch 45/200\n",
      "2402/2402 [==============================] - 2s 650us/step - loss: 0.0084 - acc: 0.2348 - val_loss: 0.0095 - val_acc: 0.2022\n",
      "Epoch 46/200\n",
      "2402/2402 [==============================] - 2s 653us/step - loss: 0.0085 - acc: 0.2348 - val_loss: 0.0104 - val_acc: 0.2022\n",
      "Epoch 47/200\n",
      "2402/2402 [==============================] - 2s 655us/step - loss: 0.0084 - acc: 0.2348 - val_loss: 0.0102 - val_acc: 0.2022\n",
      "Epoch 48/200\n",
      "2402/2402 [==============================] - 2s 651us/step - loss: 0.0082 - acc: 0.2348 - val_loss: 0.0094 - val_acc: 0.2022\n",
      "Epoch 49/200\n",
      "2402/2402 [==============================] - 2s 657us/step - loss: 0.0086 - acc: 0.2348 - val_loss: 0.0097 - val_acc: 0.2022\n",
      "Epoch 50/200\n",
      "2402/2402 [==============================] - 2s 646us/step - loss: 0.0082 - acc: 0.2348 - val_loss: 0.0096 - val_acc: 0.2022\n",
      "Epoch 51/200\n",
      "2402/2402 [==============================] - 2s 654us/step - loss: 0.0083 - acc: 0.2348 - val_loss: 0.0096 - val_acc: 0.2022\n",
      "Epoch 52/200\n",
      "2402/2402 [==============================] - 2s 663us/step - loss: 0.0078 - acc: 0.2348 - val_loss: 0.0096 - val_acc: 0.2022\n",
      "Epoch 53/200\n",
      "2402/2402 [==============================] - 2s 658us/step - loss: 0.0082 - acc: 0.2348 - val_loss: 0.0096 - val_acc: 0.2022\n",
      "Epoch 54/200\n",
      "2402/2402 [==============================] - 2s 665us/step - loss: 0.0082 - acc: 0.2348 - val_loss: 0.0097 - val_acc: 0.2022\n",
      "Epoch 55/200\n",
      "2402/2402 [==============================] - 2s 669us/step - loss: 0.0086 - acc: 0.2348 - val_loss: 0.0105 - val_acc: 0.2022\n",
      "Epoch 56/200\n",
      "2402/2402 [==============================] - 2s 662us/step - loss: 0.0083 - acc: 0.2348 - val_loss: 0.0095 - val_acc: 0.2022\n",
      "Epoch 57/200\n"
     ]
    },
    {
     "name": "stdout",
     "output_type": "stream",
     "text": [
      "2402/2402 [==============================] - 2s 662us/step - loss: 0.0082 - acc: 0.2348 - val_loss: 0.0101 - val_acc: 0.2022: 1s - loss: 0.00\n",
      "Epoch 58/200\n",
      "2402/2402 [==============================] - 2s 667us/step - loss: 0.0081 - acc: 0.2348 - val_loss: 0.0098 - val_acc: 0.2022\n",
      "Epoch 59/200\n",
      "2402/2402 [==============================] - 2s 665us/step - loss: 0.0080 - acc: 0.2348 - val_loss: 0.0098 - val_acc: 0.2022\n",
      "Epoch 60/200\n",
      "2402/2402 [==============================] - 2s 673us/step - loss: 0.0080 - acc: 0.2348 - val_loss: 0.0097 - val_acc: 0.2022\n",
      "Epoch 61/200\n",
      "2402/2402 [==============================] - 2s 658us/step - loss: 0.0081 - acc: 0.2348 - val_loss: 0.0096 - val_acc: 0.2022\n",
      "Epoch 62/200\n",
      "2402/2402 [==============================] - 2s 655us/step - loss: 0.0079 - acc: 0.2348 - val_loss: 0.0095 - val_acc: 0.2022\n",
      "Epoch 63/200\n",
      "2402/2402 [==============================] - 2s 661us/step - loss: 0.0080 - acc: 0.2348 - val_loss: 0.0104 - val_acc: 0.2022\n",
      "Epoch 64/200\n",
      "2402/2402 [==============================] - 2s 654us/step - loss: 0.0081 - acc: 0.2348 - val_loss: 0.0098 - val_acc: 0.2022\n",
      "Epoch 65/200\n",
      "2402/2402 [==============================] - 2s 655us/step - loss: 0.0082 - acc: 0.2348 - val_loss: 0.0099 - val_acc: 0.2022\n",
      "Epoch 66/200\n",
      "2402/2402 [==============================] - 2s 657us/step - loss: 0.0080 - acc: 0.2348 - val_loss: 0.0100 - val_acc: 0.2022\n",
      "Epoch 67/200\n",
      "2402/2402 [==============================] - 2s 658us/step - loss: 0.0082 - acc: 0.2348 - val_loss: 0.0095 - val_acc: 0.2022\n",
      "Epoch 68/200\n",
      "2402/2402 [==============================] - 2s 666us/step - loss: 0.0079 - acc: 0.2348 - val_loss: 0.0097 - val_acc: 0.2022\n",
      "Epoch 69/200\n",
      "2402/2402 [==============================] - 2s 653us/step - loss: 0.0079 - acc: 0.2348 - val_loss: 0.0100 - val_acc: 0.2022\n",
      "Epoch 70/200\n",
      "2402/2402 [==============================] - 2s 657us/step - loss: 0.0080 - acc: 0.2348 - val_loss: 0.0096 - val_acc: 0.2022\n",
      "Epoch 71/200\n",
      "2402/2402 [==============================] - 2s 659us/step - loss: 0.0079 - acc: 0.2348 - val_loss: 0.0097 - val_acc: 0.2022\n",
      "Epoch 72/200\n",
      "2402/2402 [==============================] - 2s 650us/step - loss: 0.0081 - acc: 0.2348 - val_loss: 0.0101 - val_acc: 0.2022\n",
      "Epoch 73/200\n",
      "2402/2402 [==============================] - 2s 650us/step - loss: 0.0079 - acc: 0.2348 - val_loss: 0.0102 - val_acc: 0.2022\n",
      "Epoch 74/200\n",
      "2402/2402 [==============================] - 2s 658us/step - loss: 0.0087 - acc: 0.2348 - val_loss: 0.0096 - val_acc: 0.2022\n",
      "Epoch 75/200\n",
      "2402/2402 [==============================] - 2s 655us/step - loss: 0.0082 - acc: 0.2348 - val_loss: 0.0094 - val_acc: 0.2022\n",
      "Epoch 76/200\n",
      "2402/2402 [==============================] - 2s 656us/step - loss: 0.0080 - acc: 0.2348 - val_loss: 0.0098 - val_acc: 0.2022\n",
      "Epoch 77/200\n",
      "2402/2402 [==============================] - 2s 659us/step - loss: 0.0081 - acc: 0.2348 - val_loss: 0.0095 - val_acc: 0.2022\n",
      "Epoch 78/200\n",
      "2402/2402 [==============================] - 2s 653us/step - loss: 0.0078 - acc: 0.2348 - val_loss: 0.0093 - val_acc: 0.2022\n",
      "Epoch 79/200\n",
      "2402/2402 [==============================] - 2s 655us/step - loss: 0.0080 - acc: 0.2348 - val_loss: 0.0098 - val_acc: 0.2022\n",
      "Epoch 80/200\n",
      "2402/2402 [==============================] - 2s 658us/step - loss: 0.0081 - acc: 0.2348 - val_loss: 0.0101 - val_acc: 0.2022\n",
      "Epoch 81/200\n",
      "2402/2402 [==============================] - 2s 656us/step - loss: 0.0078 - acc: 0.2348 - val_loss: 0.0093 - val_acc: 0.2022\n",
      "Epoch 82/200\n",
      "2402/2402 [==============================] - 2s 657us/step - loss: 0.0080 - acc: 0.2348 - val_loss: 0.0094 - val_acc: 0.2022\n",
      "Epoch 83/200\n",
      "2402/2402 [==============================] - 2s 656us/step - loss: 0.0080 - acc: 0.2348 - val_loss: 0.0095 - val_acc: 0.2022\n",
      "Epoch 84/200\n",
      "2402/2402 [==============================] - 2s 662us/step - loss: 0.0080 - acc: 0.2348 - val_loss: 0.0095 - val_acc: 0.2022\n",
      "Epoch 85/200\n",
      "2402/2402 [==============================] - 2s 661us/step - loss: 0.0083 - acc: 0.2348 - val_loss: 0.0117 - val_acc: 0.2022\n",
      "Epoch 86/200\n",
      "2402/2402 [==============================] - 2s 656us/step - loss: 0.0086 - acc: 0.2348 - val_loss: 0.0098 - val_acc: 0.2022\n",
      "Epoch 87/200\n",
      "2402/2402 [==============================] - 2s 663us/step - loss: 0.0079 - acc: 0.2348 - val_loss: 0.0098 - val_acc: 0.2022\n",
      "Epoch 88/200\n",
      "2402/2402 [==============================] - 2s 657us/step - loss: 0.0078 - acc: 0.2348 - val_loss: 0.0099 - val_acc: 0.2022\n",
      "Epoch 89/200\n",
      "2402/2402 [==============================] - 2s 654us/step - loss: 0.0082 - acc: 0.2348 - val_loss: 0.0093 - val_acc: 0.2022\n",
      "Epoch 90/200\n",
      "2402/2402 [==============================] - 2s 659us/step - loss: 0.0079 - acc: 0.2348 - val_loss: 0.0094 - val_acc: 0.2022\n",
      "Epoch 91/200\n",
      "2402/2402 [==============================] - 2s 653us/step - loss: 0.0078 - acc: 0.2348 - val_loss: 0.0106 - val_acc: 0.2022\n",
      "Epoch 92/200\n",
      "2402/2402 [==============================] - 2s 652us/step - loss: 0.0078 - acc: 0.2348 - val_loss: 0.0096 - val_acc: 0.2022\n",
      "Epoch 93/200\n",
      "2402/2402 [==============================] - 2s 658us/step - loss: 0.0078 - acc: 0.2348 - val_loss: 0.0094 - val_acc: 0.2022\n",
      "Epoch 94/200\n",
      "2402/2402 [==============================] - 2s 655us/step - loss: 0.0090 - acc: 0.2348 - val_loss: 0.0115 - val_acc: 0.2022\n",
      "Epoch 95/200\n",
      "2402/2402 [==============================] - 2s 660us/step - loss: 0.0084 - acc: 0.2348 - val_loss: 0.0098 - val_acc: 0.2022\n",
      "Epoch 96/200\n",
      "2402/2402 [==============================] - 2s 658us/step - loss: 0.0081 - acc: 0.2348 - val_loss: 0.0101 - val_acc: 0.2022\n",
      "Epoch 97/200\n",
      "2402/2402 [==============================] - 2s 660us/step - loss: 0.0078 - acc: 0.2348 - val_loss: 0.0097 - val_acc: 0.2022\n",
      "Epoch 98/200\n",
      "2402/2402 [==============================] - 2s 661us/step - loss: 0.0079 - acc: 0.2348 - val_loss: 0.0093 - val_acc: 0.2022\n",
      "Epoch 99/200\n",
      "2402/2402 [==============================] - 2s 663us/step - loss: 0.0079 - acc: 0.2348 - val_loss: 0.0094 - val_acc: 0.2022\n",
      "Epoch 100/200\n",
      "2402/2402 [==============================] - 2s 660us/step - loss: 0.0076 - acc: 0.2348 - val_loss: 0.0094 - val_acc: 0.2022\n",
      "Epoch 101/200\n",
      "2402/2402 [==============================] - 2s 656us/step - loss: 0.0078 - acc: 0.2348 - val_loss: 0.0095 - val_acc: 0.2022\n",
      "Epoch 102/200\n",
      "2402/2402 [==============================] - 2s 659us/step - loss: 0.0078 - acc: 0.2348 - val_loss: 0.0094 - val_acc: 0.2022\n",
      "Epoch 103/200\n",
      "2402/2402 [==============================] - 2s 657us/step - loss: 0.0081 - acc: 0.2348 - val_loss: 0.0096 - val_acc: 0.2022\n",
      "Epoch 104/200\n",
      "2402/2402 [==============================] - 2s 661us/step - loss: 0.0077 - acc: 0.2348 - val_loss: 0.0097 - val_acc: 0.2022\n",
      "Epoch 105/200\n",
      "2402/2402 [==============================] - 2s 676us/step - loss: 0.0078 - acc: 0.2348 - val_loss: 0.0096 - val_acc: 0.2022\n",
      "Epoch 106/200\n",
      "2402/2402 [==============================] - 2s 666us/step - loss: 0.0076 - acc: 0.2344 - val_loss: 0.0101 - val_acc: 0.2022\n",
      "Epoch 107/200\n",
      "2402/2402 [==============================] - 2s 663us/step - loss: 0.0078 - acc: 0.2348 - val_loss: 0.0095 - val_acc: 0.2022\n",
      "Epoch 108/200\n",
      "2402/2402 [==============================] - 2s 668us/step - loss: 0.0078 - acc: 0.2348 - val_loss: 0.0107 - val_acc: 0.2022\n",
      "Epoch 109/200\n",
      "2402/2402 [==============================] - 2s 659us/step - loss: 0.0080 - acc: 0.2348 - val_loss: 0.0096 - val_acc: 0.2022\n",
      "Epoch 110/200\n",
      "2402/2402 [==============================] - 2s 659us/step - loss: 0.0078 - acc: 0.2348 - val_loss: 0.0095 - val_acc: 0.2022\n",
      "Epoch 111/200\n",
      "2402/2402 [==============================] - 2s 658us/step - loss: 0.0078 - acc: 0.2348 - val_loss: 0.0099 - val_acc: 0.2022\n",
      "Epoch 112/200\n",
      "2402/2402 [==============================] - 2s 650us/step - loss: 0.0101 - acc: 0.2348 - val_loss: 0.0114 - val_acc: 0.2022\n",
      "Epoch 113/200\n",
      "2402/2402 [==============================] - 2s 663us/step - loss: 0.0082 - acc: 0.2348 - val_loss: 0.0099 - val_acc: 0.2022\n",
      "Epoch 114/200\n",
      "2402/2402 [==============================] - 2s 664us/step - loss: 0.0077 - acc: 0.2348 - val_loss: 0.0097 - val_acc: 0.2022\n",
      "Epoch 115/200\n",
      "2402/2402 [==============================] - 2s 667us/step - loss: 0.0077 - acc: 0.2348 - val_loss: 0.0098 - val_acc: 0.2022\n",
      "Epoch 116/200\n"
     ]
    },
    {
     "name": "stdout",
     "output_type": "stream",
     "text": [
      "2402/2402 [==============================] - 2s 656us/step - loss: 0.0075 - acc: 0.2348 - val_loss: 0.0101 - val_acc: 0.2022\n",
      "Epoch 117/200\n",
      "2402/2402 [==============================] - 2s 659us/step - loss: 0.0076 - acc: 0.2348 - val_loss: 0.0095 - val_acc: 0.2022\n",
      "Epoch 118/200\n",
      "2402/2402 [==============================] - 2s 660us/step - loss: 0.0078 - acc: 0.2348 - val_loss: 0.0095 - val_acc: 0.2022\n",
      "Epoch 119/200\n",
      "2402/2402 [==============================] - 2s 674us/step - loss: 0.0074 - acc: 0.2348 - val_loss: 0.0099 - val_acc: 0.2022\n",
      "Epoch 120/200\n",
      "2402/2402 [==============================] - 2s 680us/step - loss: 0.0075 - acc: 0.2348 - val_loss: 0.0096 - val_acc: 0.2022\n",
      "Epoch 121/200\n",
      "2402/2402 [==============================] - 2s 650us/step - loss: 0.0077 - acc: 0.2348 - val_loss: 0.0095 - val_acc: 0.2022\n",
      "Epoch 122/200\n",
      "2402/2402 [==============================] - 2s 667us/step - loss: 0.0076 - acc: 0.2348 - val_loss: 0.0097 - val_acc: 0.2022\n",
      "Epoch 123/200\n",
      "2402/2402 [==============================] - 2s 652us/step - loss: 0.0079 - acc: 0.2348 - val_loss: 0.0099 - val_acc: 0.2022\n",
      "Epoch 124/200\n",
      "2402/2402 [==============================] - 2s 652us/step - loss: 0.0076 - acc: 0.2348 - val_loss: 0.0101 - val_acc: 0.2022\n",
      "Epoch 125/200\n",
      "2402/2402 [==============================] - 2s 647us/step - loss: 0.0077 - acc: 0.2348 - val_loss: 0.0093 - val_acc: 0.2022\n",
      "Epoch 126/200\n",
      "2402/2402 [==============================] - 2s 650us/step - loss: 0.0076 - acc: 0.2348 - val_loss: 0.0094 - val_acc: 0.2022\n",
      "Epoch 127/200\n",
      "2402/2402 [==============================] - 2s 658us/step - loss: 0.0076 - acc: 0.2348 - val_loss: 0.0094 - val_acc: 0.2022\n",
      "Epoch 128/200\n",
      "2402/2402 [==============================] - 2s 657us/step - loss: 0.0077 - acc: 0.2344 - val_loss: 0.0100 - val_acc: 0.2022\n",
      "Epoch 129/200\n",
      "2402/2402 [==============================] - 2s 653us/step - loss: 0.0074 - acc: 0.2348 - val_loss: 0.0094 - val_acc: 0.2022\n",
      "Epoch 130/200\n",
      "2402/2402 [==============================] - 2s 663us/step - loss: 0.0081 - acc: 0.2348 - val_loss: 0.0097 - val_acc: 0.2022\n",
      "Epoch 131/200\n",
      "2402/2402 [==============================] - 2s 652us/step - loss: 0.0077 - acc: 0.2348 - val_loss: 0.0100 - val_acc: 0.2022\n",
      "Epoch 132/200\n",
      "2402/2402 [==============================] - 2s 652us/step - loss: 0.0077 - acc: 0.2348 - val_loss: 0.0096 - val_acc: 0.2022\n",
      "Epoch 133/200\n",
      "2402/2402 [==============================] - 2s 650us/step - loss: 0.0076 - acc: 0.2348 - val_loss: 0.0096 - val_acc: 0.2022\n",
      "Epoch 134/200\n",
      "2402/2402 [==============================] - 2s 653us/step - loss: 0.0075 - acc: 0.2348 - val_loss: 0.0094 - val_acc: 0.2022\n",
      "Epoch 135/200\n",
      "2402/2402 [==============================] - 2s 643us/step - loss: 0.0077 - acc: 0.2348 - val_loss: 0.0101 - val_acc: 0.2022\n",
      "Epoch 136/200\n",
      "2402/2402 [==============================] - 2s 651us/step - loss: 0.0076 - acc: 0.2348 - val_loss: 0.0102 - val_acc: 0.2022\n",
      "Epoch 137/200\n",
      "2402/2402 [==============================] - 2s 660us/step - loss: 0.0076 - acc: 0.2348 - val_loss: 0.0096 - val_acc: 0.2022\n",
      "Epoch 138/200\n",
      "2402/2402 [==============================] - 2s 655us/step - loss: 0.0075 - acc: 0.2348 - val_loss: 0.0098 - val_acc: 0.2022\n",
      "Epoch 139/200\n",
      "2402/2402 [==============================] - 2s 660us/step - loss: 0.0075 - acc: 0.2348 - val_loss: 0.0099 - val_acc: 0.2022\n",
      "Epoch 140/200\n",
      "2402/2402 [==============================] - 2s 656us/step - loss: 0.0076 - acc: 0.2348 - val_loss: 0.0095 - val_acc: 0.2022\n",
      "Epoch 141/200\n",
      "2402/2402 [==============================] - 2s 655us/step - loss: 0.0075 - acc: 0.2348 - val_loss: 0.0101 - val_acc: 0.2022\n",
      "Epoch 142/200\n",
      "2402/2402 [==============================] - 2s 657us/step - loss: 0.0081 - acc: 0.2352 - val_loss: 0.0109 - val_acc: 0.2022\n",
      "Epoch 143/200\n",
      "2402/2402 [==============================] - 2s 716us/step - loss: 0.0077 - acc: 0.2348 - val_loss: 0.0091 - val_acc: 0.2022\n",
      "Epoch 144/200\n",
      "2402/2402 [==============================] - 2s 660us/step - loss: 0.0078 - acc: 0.2348 - val_loss: 0.0096 - val_acc: 0.2022\n",
      "Epoch 145/200\n",
      "2402/2402 [==============================] - 2s 654us/step - loss: 0.0077 - acc: 0.2348 - val_loss: 0.0099 - val_acc: 0.2022\n",
      "Epoch 146/200\n",
      "2402/2402 [==============================] - 2s 666us/step - loss: 0.0077 - acc: 0.2348 - val_loss: 0.0101 - val_acc: 0.2022\n",
      "Epoch 147/200\n",
      "2402/2402 [==============================] - 2s 658us/step - loss: 0.0074 - acc: 0.2348 - val_loss: 0.0095 - val_acc: 0.2022\n",
      "Epoch 148/200\n",
      "2402/2402 [==============================] - 2s 665us/step - loss: 0.0077 - acc: 0.2348 - val_loss: 0.0100 - val_acc: 0.2022\n",
      "Epoch 149/200\n",
      "2402/2402 [==============================] - 2s 655us/step - loss: 0.0077 - acc: 0.2348 - val_loss: 0.0091 - val_acc: 0.2022\n",
      "Epoch 150/200\n",
      "2402/2402 [==============================] - 2s 658us/step - loss: 0.0076 - acc: 0.2348 - val_loss: 0.0094 - val_acc: 0.2022\n",
      "Epoch 151/200\n",
      "2402/2402 [==============================] - 2s 659us/step - loss: 0.0076 - acc: 0.2348 - val_loss: 0.0096 - val_acc: 0.2022\n",
      "Epoch 152/200\n",
      "2402/2402 [==============================] - 2s 651us/step - loss: 0.0077 - acc: 0.2348 - val_loss: 0.0094 - val_acc: 0.2022\n",
      "Epoch 153/200\n",
      "2402/2402 [==============================] - 2s 658us/step - loss: 0.0075 - acc: 0.2348 - val_loss: 0.0094 - val_acc: 0.2022\n",
      "Epoch 154/200\n",
      "2402/2402 [==============================] - 2s 656us/step - loss: 0.0074 - acc: 0.2348 - val_loss: 0.0093 - val_acc: 0.2022\n",
      "Epoch 155/200\n",
      "2402/2402 [==============================] - 2s 658us/step - loss: 0.0074 - acc: 0.2348 - val_loss: 0.0092 - val_acc: 0.2022\n",
      "Epoch 156/200\n",
      "2402/2402 [==============================] - 2s 656us/step - loss: 0.0073 - acc: 0.2348 - val_loss: 0.0094 - val_acc: 0.2022\n",
      "Epoch 157/200\n",
      "2402/2402 [==============================] - 2s 654us/step - loss: 0.0074 - acc: 0.2348 - val_loss: 0.0098 - val_acc: 0.2022\n",
      "Epoch 158/200\n",
      "2402/2402 [==============================] - 2s 660us/step - loss: 0.0075 - acc: 0.2348 - val_loss: 0.0096 - val_acc: 0.2022\n",
      "Epoch 159/200\n",
      "2402/2402 [==============================] - 2s 656us/step - loss: 0.0074 - acc: 0.2352 - val_loss: 0.0099 - val_acc: 0.2022\n",
      "Epoch 160/200\n",
      "2402/2402 [==============================] - 2s 664us/step - loss: 0.0075 - acc: 0.2348 - val_loss: 0.0097 - val_acc: 0.2022\n",
      "Epoch 161/200\n",
      "2402/2402 [==============================] - 2s 656us/step - loss: 0.0077 - acc: 0.2348 - val_loss: 0.0100 - val_acc: 0.2022\n",
      "Epoch 162/200\n",
      "2402/2402 [==============================] - 2s 664us/step - loss: 0.0075 - acc: 0.2348 - val_loss: 0.0099 - val_acc: 0.2022\n",
      "Epoch 163/200\n",
      "2402/2402 [==============================] - 2s 664us/step - loss: 0.0075 - acc: 0.2348 - val_loss: 0.0095 - val_acc: 0.2022\n",
      "Epoch 164/200\n",
      "2402/2402 [==============================] - 2s 657us/step - loss: 0.0073 - acc: 0.2348 - val_loss: 0.0099 - val_acc: 0.2022\n",
      "Epoch 165/200\n",
      "2402/2402 [==============================] - 2s 660us/step - loss: 0.0076 - acc: 0.2348 - val_loss: 0.0094 - val_acc: 0.2022\n",
      "Epoch 166/200\n",
      "2402/2402 [==============================] - 2s 657us/step - loss: 0.0072 - acc: 0.2348 - val_loss: 0.0095 - val_acc: 0.2022\n",
      "Epoch 167/200\n",
      "2402/2402 [==============================] - 2s 657us/step - loss: 0.0077 - acc: 0.2352 - val_loss: 0.0104 - val_acc: 0.2022\n",
      "Epoch 168/200\n",
      "2402/2402 [==============================] - 2s 654us/step - loss: 0.0077 - acc: 0.2348 - val_loss: 0.0103 - val_acc: 0.2022\n",
      "Epoch 169/200\n",
      "2402/2402 [==============================] - 2s 668us/step - loss: 0.0074 - acc: 0.2348 - val_loss: 0.0098 - val_acc: 0.2022\n",
      "Epoch 170/200\n",
      "2402/2402 [==============================] - 2s 648us/step - loss: 0.0075 - acc: 0.2348 - val_loss: 0.0098 - val_acc: 0.2022\n",
      "Epoch 171/200\n",
      "2402/2402 [==============================] - 2s 655us/step - loss: 0.0074 - acc: 0.2348 - val_loss: 0.0101 - val_acc: 0.2022\n",
      "Epoch 172/200\n",
      "2402/2402 [==============================] - 2s 652us/step - loss: 0.0073 - acc: 0.2348 - val_loss: 0.0101 - val_acc: 0.2022\n",
      "Epoch 173/200\n",
      "2402/2402 [==============================] - 2s 651us/step - loss: 0.0074 - acc: 0.2348 - val_loss: 0.0097 - val_acc: 0.2022\n",
      "Epoch 174/200\n",
      "2402/2402 [==============================] - 2s 656us/step - loss: 0.0073 - acc: 0.2352 - val_loss: 0.0099 - val_acc: 0.2022\n",
      "Epoch 175/200\n"
     ]
    },
    {
     "name": "stdout",
     "output_type": "stream",
     "text": [
      "2402/2402 [==============================] - 2s 655us/step - loss: 0.0074 - acc: 0.2348 - val_loss: 0.0099 - val_acc: 0.2022\n",
      "Epoch 176/200\n",
      "2402/2402 [==============================] - 2s 676us/step - loss: 0.0073 - acc: 0.2348 - val_loss: 0.0099 - val_acc: 0.2022\n",
      "Epoch 177/200\n",
      "2402/2402 [==============================] - 2s 652us/step - loss: 0.0072 - acc: 0.2348 - val_loss: 0.0104 - val_acc: 0.2022\n",
      "Epoch 178/200\n",
      "2402/2402 [==============================] - 2s 652us/step - loss: 0.0071 - acc: 0.2348 - val_loss: 0.0097 - val_acc: 0.2022\n",
      "Epoch 179/200\n",
      "2402/2402 [==============================] - 2s 651us/step - loss: 0.0071 - acc: 0.2352 - val_loss: 0.0096 - val_acc: 0.2022\n",
      "Epoch 180/200\n",
      "2402/2402 [==============================] - 2s 649us/step - loss: 0.0072 - acc: 0.2348 - val_loss: 0.0104 - val_acc: 0.2022\n",
      "Epoch 181/200\n",
      "2402/2402 [==============================] - 2s 656us/step - loss: 0.0081 - acc: 0.2348 - val_loss: 0.0098 - val_acc: 0.2022\n",
      "Epoch 182/200\n",
      "2402/2402 [==============================] - 2s 656us/step - loss: 0.0073 - acc: 0.2348 - val_loss: 0.0097 - val_acc: 0.2022\n",
      "Epoch 183/200\n",
      "2402/2402 [==============================] - 2s 657us/step - loss: 0.0074 - acc: 0.2348 - val_loss: 0.0098 - val_acc: 0.2022\n",
      "Epoch 184/200\n",
      "2402/2402 [==============================] - 2s 670us/step - loss: 0.0071 - acc: 0.2348 - val_loss: 0.0096 - val_acc: 0.2022\n",
      "Epoch 185/200\n",
      "2402/2402 [==============================] - 2s 656us/step - loss: 0.0073 - acc: 0.2348 - val_loss: 0.0095 - val_acc: 0.2022\n",
      "Epoch 186/200\n",
      "2402/2402 [==============================] - 2s 650us/step - loss: 0.0074 - acc: 0.2352 - val_loss: 0.0101 - val_acc: 0.2022\n",
      "Epoch 187/200\n",
      "2402/2402 [==============================] - 2s 654us/step - loss: 0.0076 - acc: 0.2348 - val_loss: 0.0100 - val_acc: 0.2022\n",
      "Epoch 188/200\n",
      "2402/2402 [==============================] - 2s 660us/step - loss: 0.0072 - acc: 0.2348 - val_loss: 0.0101 - val_acc: 0.2022\n",
      "Epoch 189/200\n",
      "2402/2402 [==============================] - 2s 650us/step - loss: 0.0073 - acc: 0.2348 - val_loss: 0.0098 - val_acc: 0.2022\n",
      "Epoch 190/200\n",
      "2402/2402 [==============================] - 2s 662us/step - loss: 0.0076 - acc: 0.2348 - val_loss: 0.0100 - val_acc: 0.2022\n",
      "Epoch 191/200\n",
      "2402/2402 [==============================] - 2s 661us/step - loss: 0.0074 - acc: 0.2348 - val_loss: 0.0107 - val_acc: 0.2022\n",
      "Epoch 192/200\n",
      "2402/2402 [==============================] - 2s 669us/step - loss: 0.0076 - acc: 0.2348 - val_loss: 0.0098 - val_acc: 0.2022\n",
      "Epoch 193/200\n",
      "2402/2402 [==============================] - 2s 669us/step - loss: 0.0074 - acc: 0.2348 - val_loss: 0.0094 - val_acc: 0.2022\n",
      "Epoch 194/200\n",
      "2402/2402 [==============================] - 2s 671us/step - loss: 0.0072 - acc: 0.2348 - val_loss: 0.0105 - val_acc: 0.2022\n",
      "Epoch 195/200\n",
      "2402/2402 [==============================] - 2s 664us/step - loss: 0.0074 - acc: 0.2348 - val_loss: 0.0098 - val_acc: 0.2022\n",
      "Epoch 196/200\n",
      "2402/2402 [==============================] - 2s 659us/step - loss: 0.0073 - acc: 0.2348 - val_loss: 0.0098 - val_acc: 0.2022\n",
      "Epoch 197/200\n",
      "2402/2402 [==============================] - 2s 655us/step - loss: 0.0072 - acc: 0.2348 - val_loss: 0.0098 - val_acc: 0.2022\n",
      "Epoch 198/200\n",
      "2402/2402 [==============================] - 2s 659us/step - loss: 0.0073 - acc: 0.2348 - val_loss: 0.0098 - val_acc: 0.2022\n",
      "Epoch 199/200\n",
      "2402/2402 [==============================] - 2s 658us/step - loss: 0.0073 - acc: 0.2352 - val_loss: 0.0097 - val_acc: 0.2022\n",
      "Epoch 200/200\n",
      "2402/2402 [==============================] - 2s 664us/step - loss: 0.0074 - acc: 0.2348 - val_loss: 0.0100 - val_acc: 0.2022\n"
     ]
    }
   ],
   "source": [
    "pelatihan = regressor.fit(X_train, y_train, validation_split = 0.10, epochs = 200, batch_size = 32)"
   ]
  },
  {
   "cell_type": "code",
   "execution_count": 25,
   "metadata": {},
   "outputs": [
    {
     "data": {
      "text/plain": [
       "{'val_loss': [0.013124690558552072,\n",
       "  0.013235181793291471,\n",
       "  0.012208793706466419,\n",
       "  0.012536295082713112,\n",
       "  0.012211788459663534,\n",
       "  0.011880395027079832,\n",
       "  0.01177349408272277,\n",
       "  0.011876436236422606,\n",
       "  0.011725720830875613,\n",
       "  0.011890675188896808,\n",
       "  0.011672153618981999,\n",
       "  0.012009508286913237,\n",
       "  0.011720599331073323,\n",
       "  0.011635067440178734,\n",
       "  0.011737310418280099,\n",
       "  0.01143435515770305,\n",
       "  0.011603164019181711,\n",
       "  0.011375376857007935,\n",
       "  0.011731910132122844,\n",
       "  0.011740348643661662,\n",
       "  0.011179533344083064,\n",
       "  0.011383935052217839,\n",
       "  0.011343316485484442,\n",
       "  0.01082034595833903,\n",
       "  0.010829003819016816,\n",
       "  0.010546849798132083,\n",
       "  0.011545033392946371,\n",
       "  0.01037250498784113,\n",
       "  0.010282679954508829,\n",
       "  0.010426280139300149,\n",
       "  0.010065247081499197,\n",
       "  0.01095628466680367,\n",
       "  0.01096743472576253,\n",
       "  0.010489639383130306,\n",
       "  0.009891758925780264,\n",
       "  0.009663237965132078,\n",
       "  0.010050378467762069,\n",
       "  0.009906602372879282,\n",
       "  0.009837012188613749,\n",
       "  0.009454593685026585,\n",
       "  0.010680368171886223,\n",
       "  0.010212415785699636,\n",
       "  0.01011141124512819,\n",
       "  0.01015259749482801,\n",
       "  0.009519985721757015,\n",
       "  0.010418380329852804,\n",
       "  0.010245823967601923,\n",
       "  0.009405463513628708,\n",
       "  0.00967493826481566,\n",
       "  0.009613455086597677,\n",
       "  0.00957247858329882,\n",
       "  0.009617022481094696,\n",
       "  0.009583690993780836,\n",
       "  0.009673464804371533,\n",
       "  0.01052642897406265,\n",
       "  0.009468335417632976,\n",
       "  0.010066422609410037,\n",
       "  0.00981849322639657,\n",
       "  0.00976741344106387,\n",
       "  0.009667367055272677,\n",
       "  0.009623178068115917,\n",
       "  0.009489812569043944,\n",
       "  0.01036077503582344,\n",
       "  0.009802551272112443,\n",
       "  0.009908067313640306,\n",
       "  0.010044487346703193,\n",
       "  0.009461507658135802,\n",
       "  0.009717914849617397,\n",
       "  0.010011444689726897,\n",
       "  0.009588162552509527,\n",
       "  0.009650766057719229,\n",
       "  0.010141603674823314,\n",
       "  0.0101668662321841,\n",
       "  0.009587254101403531,\n",
       "  0.009441982189102678,\n",
       "  0.00982234085306581,\n",
       "  0.009478355032367429,\n",
       "  0.009275948278229224,\n",
       "  0.009847705051902862,\n",
       "  0.010073283938377092,\n",
       "  0.009323479977439852,\n",
       "  0.009367959509335095,\n",
       "  0.00953003986170062,\n",
       "  0.00946726031210762,\n",
       "  0.011694117515497886,\n",
       "  0.009793807888466321,\n",
       "  0.009767901270967744,\n",
       "  0.009853836107120085,\n",
       "  0.009261467685916003,\n",
       "  0.00937730527730582,\n",
       "  0.010623411359160805,\n",
       "  0.009592010348351596,\n",
       "  0.009431428077180734,\n",
       "  0.011486577888608872,\n",
       "  0.009812900386680937,\n",
       "  0.010059791918816079,\n",
       "  0.009693515661420224,\n",
       "  0.009317020205466936,\n",
       "  0.009449855750601055,\n",
       "  0.009404597770813363,\n",
       "  0.00945376092044825,\n",
       "  0.009399054585938597,\n",
       "  0.009631324092044813,\n",
       "  0.009651322650273195,\n",
       "  0.00955333962011036,\n",
       "  0.010105014815298694,\n",
       "  0.009489780987790797,\n",
       "  0.01067245514079761,\n",
       "  0.00957309759713793,\n",
       "  0.009538341128731266,\n",
       "  0.009876437040485358,\n",
       "  0.011411048430070448,\n",
       "  0.009884777726528796,\n",
       "  0.00974448135973753,\n",
       "  0.0098489162456314,\n",
       "  0.010064843672324209,\n",
       "  0.009498727554978614,\n",
       "  0.009453291160643994,\n",
       "  0.009852538396314846,\n",
       "  0.009627407121956906,\n",
       "  0.009510605582053518,\n",
       "  0.009662961611726533,\n",
       "  0.009926121840637164,\n",
       "  0.010052598557654726,\n",
       "  0.009306737202592891,\n",
       "  0.009443013600949268,\n",
       "  0.009353474893499069,\n",
       "  0.009956172421532735,\n",
       "  0.00936584263753969,\n",
       "  0.009676745712533873,\n",
       "  0.009995755381979858,\n",
       "  0.009615336389591297,\n",
       "  0.009631467782560917,\n",
       "  0.009442928665725703,\n",
       "  0.010110067805338107,\n",
       "  0.010221196959416071,\n",
       "  0.009637387776363655,\n",
       "  0.009800221845995955,\n",
       "  0.00991229618261202,\n",
       "  0.009475482111510712,\n",
       "  0.010068868178776587,\n",
       "  0.010866327633320839,\n",
       "  0.009103859910804235,\n",
       "  0.009595188092482224,\n",
       "  0.009884667052618796,\n",
       "  0.010069558513786797,\n",
       "  0.009513722959389624,\n",
       "  0.010034107399078902,\n",
       "  0.009083107891684391,\n",
       "  0.009372769279426403,\n",
       "  0.009562393838769934,\n",
       "  0.009385095501130217,\n",
       "  0.009389693649967066,\n",
       "  0.009337226017849164,\n",
       "  0.009197088607241598,\n",
       "  0.00935019353188379,\n",
       "  0.009794516059873479,\n",
       "  0.009559770233315251,\n",
       "  0.009909180216212175,\n",
       "  0.009738319710399328,\n",
       "  0.009999403231236595,\n",
       "  0.009888802693410312,\n",
       "  0.009549880236359347,\n",
       "  0.009913520732273659,\n",
       "  0.009441407604931335,\n",
       "  0.009534269321905205,\n",
       "  0.010426011637606647,\n",
       "  0.010264677387986625,\n",
       "  0.00977427838195799,\n",
       "  0.0097728818899181,\n",
       "  0.010068049145102054,\n",
       "  0.010079359879877684,\n",
       "  0.009697267457787017,\n",
       "  0.009877412398572495,\n",
       "  0.009944793517083933,\n",
       "  0.009867654197713297,\n",
       "  0.010374665014403924,\n",
       "  0.00965465431551585,\n",
       "  0.009612023275805993,\n",
       "  0.010443602099121733,\n",
       "  0.009794172759373648,\n",
       "  0.009655846061345456,\n",
       "  0.009768926650146196,\n",
       "  0.009619791065918261,\n",
       "  0.009502578758693925,\n",
       "  0.01010658246489444,\n",
       "  0.010017344771713465,\n",
       "  0.010111536277799905,\n",
       "  0.009823391241917896,\n",
       "  0.010027853801693028,\n",
       "  0.010740771499019437,\n",
       "  0.00975693996877092,\n",
       "  0.009433037447934963,\n",
       "  0.010521654644806621,\n",
       "  0.009758747760066936,\n",
       "  0.009791750521904855,\n",
       "  0.009829989583876807,\n",
       "  0.009750939851577921,\n",
       "  0.00966052831872628,\n",
       "  0.010005115398837163],\n",
       " 'val_acc': [0.2022471913460935,\n",
       "  0.2022471913460935,\n",
       "  0.2022471913460935,\n",
       "  0.2022471913460935,\n",
       "  0.2022471913460935,\n",
       "  0.2022471913460935,\n",
       "  0.2022471913460935,\n",
       "  0.2022471913460935,\n",
       "  0.2022471913460935,\n",
       "  0.2022471913460935,\n",
       "  0.2022471913460935,\n",
       "  0.2022471913460935,\n",
       "  0.2022471913460935,\n",
       "  0.2022471913460935,\n",
       "  0.2022471913460935,\n",
       "  0.2022471913460935,\n",
       "  0.2022471913460935,\n",
       "  0.2022471913460935,\n",
       "  0.2022471913460935,\n",
       "  0.2022471913460935,\n",
       "  0.2022471913460935,\n",
       "  0.2022471913460935,\n",
       "  0.2022471913460935,\n",
       "  0.2022471913460935,\n",
       "  0.2022471913460935,\n",
       "  0.2022471913460935,\n",
       "  0.2022471913460935,\n",
       "  0.2022471913460935,\n",
       "  0.2022471913460935,\n",
       "  0.2022471913460935,\n",
       "  0.2022471913460935,\n",
       "  0.2022471913460935,\n",
       "  0.2022471913460935,\n",
       "  0.2022471913460935,\n",
       "  0.2022471913460935,\n",
       "  0.2022471913460935,\n",
       "  0.2022471913460935,\n",
       "  0.2022471913460935,\n",
       "  0.2022471913460935,\n",
       "  0.2022471913460935,\n",
       "  0.2022471913460935,\n",
       "  0.2022471913460935,\n",
       "  0.2022471913460935,\n",
       "  0.2022471913460935,\n",
       "  0.2022471913460935,\n",
       "  0.2022471913460935,\n",
       "  0.2022471913460935,\n",
       "  0.2022471913460935,\n",
       "  0.2022471913460935,\n",
       "  0.2022471913460935,\n",
       "  0.2022471913460935,\n",
       "  0.2022471913460935,\n",
       "  0.2022471913460935,\n",
       "  0.2022471913460935,\n",
       "  0.2022471913460935,\n",
       "  0.2022471913460935,\n",
       "  0.2022471913460935,\n",
       "  0.2022471913460935,\n",
       "  0.2022471913460935,\n",
       "  0.2022471913460935,\n",
       "  0.2022471913460935,\n",
       "  0.2022471913460935,\n",
       "  0.2022471913460935,\n",
       "  0.2022471913460935,\n",
       "  0.2022471913460935,\n",
       "  0.2022471913460935,\n",
       "  0.2022471913460935,\n",
       "  0.2022471913460935,\n",
       "  0.2022471913460935,\n",
       "  0.2022471913460935,\n",
       "  0.2022471913460935,\n",
       "  0.2022471913460935,\n",
       "  0.2022471913460935,\n",
       "  0.2022471913460935,\n",
       "  0.2022471913460935,\n",
       "  0.2022471913460935,\n",
       "  0.2022471913460935,\n",
       "  0.2022471913460935,\n",
       "  0.2022471913460935,\n",
       "  0.2022471913460935,\n",
       "  0.2022471913460935,\n",
       "  0.2022471913460935,\n",
       "  0.2022471913460935,\n",
       "  0.2022471913460935,\n",
       "  0.2022471913460935,\n",
       "  0.2022471913460935,\n",
       "  0.2022471913460935,\n",
       "  0.2022471913460935,\n",
       "  0.2022471913460935,\n",
       "  0.2022471913460935,\n",
       "  0.2022471913460935,\n",
       "  0.2022471913460935,\n",
       "  0.2022471913460935,\n",
       "  0.2022471913460935,\n",
       "  0.2022471913460935,\n",
       "  0.2022471913460935,\n",
       "  0.2022471913460935,\n",
       "  0.2022471913460935,\n",
       "  0.2022471913460935,\n",
       "  0.2022471913460935,\n",
       "  0.2022471913460935,\n",
       "  0.2022471913460935,\n",
       "  0.2022471913460935,\n",
       "  0.2022471913460935,\n",
       "  0.2022471913460935,\n",
       "  0.2022471913460935,\n",
       "  0.2022471913460935,\n",
       "  0.2022471913460935,\n",
       "  0.2022471913460935,\n",
       "  0.2022471913460935,\n",
       "  0.2022471913460935,\n",
       "  0.2022471913460935,\n",
       "  0.2022471913460935,\n",
       "  0.2022471913460935,\n",
       "  0.2022471913460935,\n",
       "  0.2022471913460935,\n",
       "  0.2022471913460935,\n",
       "  0.2022471913460935,\n",
       "  0.2022471913460935,\n",
       "  0.2022471913460935,\n",
       "  0.2022471913460935,\n",
       "  0.2022471913460935,\n",
       "  0.2022471913460935,\n",
       "  0.2022471913460935,\n",
       "  0.2022471913460935,\n",
       "  0.2022471913460935,\n",
       "  0.2022471913460935,\n",
       "  0.2022471913460935,\n",
       "  0.2022471913460935,\n",
       "  0.2022471913460935,\n",
       "  0.2022471913460935,\n",
       "  0.2022471913460935,\n",
       "  0.2022471913460935,\n",
       "  0.2022471913460935,\n",
       "  0.2022471913460935,\n",
       "  0.2022471913460935,\n",
       "  0.2022471913460935,\n",
       "  0.2022471913460935,\n",
       "  0.2022471913460935,\n",
       "  0.2022471913460935,\n",
       "  0.2022471913460935,\n",
       "  0.2022471913460935,\n",
       "  0.2022471913460935,\n",
       "  0.2022471913460935,\n",
       "  0.2022471913460935,\n",
       "  0.2022471913460935,\n",
       "  0.2022471913460935,\n",
       "  0.2022471913460935,\n",
       "  0.2022471913460935,\n",
       "  0.2022471913460935,\n",
       "  0.2022471913460935,\n",
       "  0.2022471913460935,\n",
       "  0.2022471913460935,\n",
       "  0.2022471913460935,\n",
       "  0.2022471913460935,\n",
       "  0.2022471913460935,\n",
       "  0.2022471913460935,\n",
       "  0.2022471913460935,\n",
       "  0.2022471913460935,\n",
       "  0.2022471913460935,\n",
       "  0.2022471913460935,\n",
       "  0.2022471913460935,\n",
       "  0.2022471913460935,\n",
       "  0.2022471913460935,\n",
       "  0.2022471913460935,\n",
       "  0.2022471913460935,\n",
       "  0.2022471913460935,\n",
       "  0.2022471913460935,\n",
       "  0.2022471913460935,\n",
       "  0.2022471913460935,\n",
       "  0.2022471913460935,\n",
       "  0.2022471913460935,\n",
       "  0.2022471913460935,\n",
       "  0.2022471913460935,\n",
       "  0.2022471913460935,\n",
       "  0.2022471913460935,\n",
       "  0.2022471913460935,\n",
       "  0.2022471913460935,\n",
       "  0.2022471913460935,\n",
       "  0.2022471913460935,\n",
       "  0.2022471913460935,\n",
       "  0.2022471913460935,\n",
       "  0.2022471913460935,\n",
       "  0.2022471913460935,\n",
       "  0.2022471913460935,\n",
       "  0.2022471913460935,\n",
       "  0.2022471913460935,\n",
       "  0.2022471913460935,\n",
       "  0.2022471913460935,\n",
       "  0.2022471913460935,\n",
       "  0.2022471913460935,\n",
       "  0.2022471913460935,\n",
       "  0.2022471913460935,\n",
       "  0.2022471913460935,\n",
       "  0.2022471913460935,\n",
       "  0.2022471913460935,\n",
       "  0.2022471913460935,\n",
       "  0.2022471913460935,\n",
       "  0.2022471913460935,\n",
       "  0.2022471913460935],\n",
       " 'loss': [0.010567676963410235,\n",
       "  0.010203895890708395,\n",
       "  0.009843318716163044,\n",
       "  0.009584552708391501,\n",
       "  0.009435838255116237,\n",
       "  0.009375457111032654,\n",
       "  0.00926098730306542,\n",
       "  0.009516829912853951,\n",
       "  0.00927353334488296,\n",
       "  0.00935638685187344,\n",
       "  0.009144824206035004,\n",
       "  0.009659463675812097,\n",
       "  0.009291736994537336,\n",
       "  0.009209418749990412,\n",
       "  0.009151241274474562,\n",
       "  0.009168217852742695,\n",
       "  0.009153415885351467,\n",
       "  0.008969897253874636,\n",
       "  0.009066924383378371,\n",
       "  0.009030786712877993,\n",
       "  0.009123448073107138,\n",
       "  0.009062992933273725,\n",
       "  0.008900656042268482,\n",
       "  0.008939219789143705,\n",
       "  0.00892457172125702,\n",
       "  0.008800500297421073,\n",
       "  0.008698739948173764,\n",
       "  0.008817133440215025,\n",
       "  0.008607689501581207,\n",
       "  0.008748265898722123,\n",
       "  0.008626932879253837,\n",
       "  0.008413287975159835,\n",
       "  0.008514146833776727,\n",
       "  0.008662113320039001,\n",
       "  0.008672079875162624,\n",
       "  0.008583509456288755,\n",
       "  0.008566700261637574,\n",
       "  0.00863832498031694,\n",
       "  0.008448426934408115,\n",
       "  0.008397964619528145,\n",
       "  0.009398699630490759,\n",
       "  0.008549721955168964,\n",
       "  0.008362843905812862,\n",
       "  0.008400735838089035,\n",
       "  0.008396972878080026,\n",
       "  0.008549085321357718,\n",
       "  0.008417337064679847,\n",
       "  0.008199115915783836,\n",
       "  0.008613639009448015,\n",
       "  0.008184621280771086,\n",
       "  0.008287251752238647,\n",
       "  0.007839767336880294,\n",
       "  0.008173699023901523,\n",
       "  0.008215824445070252,\n",
       "  0.008633211277994367,\n",
       "  0.008304706586216213,\n",
       "  0.008156759219692337,\n",
       "  0.00809868414856053,\n",
       "  0.008026652902488416,\n",
       "  0.007967519191567546,\n",
       "  0.00810566408159157,\n",
       "  0.007922213877363984,\n",
       "  0.00802873599429853,\n",
       "  0.008098323646658329,\n",
       "  0.008155419549293705,\n",
       "  0.007963602725016287,\n",
       "  0.008173351733442039,\n",
       "  0.00790032774010684,\n",
       "  0.007863800011134764,\n",
       "  0.008032790176589026,\n",
       "  0.007932940975190617,\n",
       "  0.008144398648322844,\n",
       "  0.00794537644910872,\n",
       "  0.008685133103157187,\n",
       "  0.008157592468416562,\n",
       "  0.007996634677902398,\n",
       "  0.00807897039560398,\n",
       "  0.0078071128390109065,\n",
       "  0.00801110324867808,\n",
       "  0.008120270959682433,\n",
       "  0.007844323552540076,\n",
       "  0.00796339147841305,\n",
       "  0.007970782259144169,\n",
       "  0.007975572127382426,\n",
       "  0.008252084959914084,\n",
       "  0.008554190923021695,\n",
       "  0.00794609187156905,\n",
       "  0.007828396760729094,\n",
       "  0.008167287624432557,\n",
       "  0.007884163774711257,\n",
       "  0.007830207024411695,\n",
       "  0.007782284863113653,\n",
       "  0.007844834595447178,\n",
       "  0.008950714753176102,\n",
       "  0.008403479179009162,\n",
       "  0.008105715425013503,\n",
       "  0.007826278568342402,\n",
       "  0.007886070485143837,\n",
       "  0.007919269992598585,\n",
       "  0.007616956890029499,\n",
       "  0.007799254463586978,\n",
       "  0.007791612462274774,\n",
       "  0.008072672366435258,\n",
       "  0.007729583639022642,\n",
       "  0.007760954881784856,\n",
       "  0.007592205942641761,\n",
       "  0.007774867650530891,\n",
       "  0.007765332275271093,\n",
       "  0.007963937748344514,\n",
       "  0.007766743245353142,\n",
       "  0.007764352916691027,\n",
       "  0.010118051936119473,\n",
       "  0.00818101063874848,\n",
       "  0.007717351391457865,\n",
       "  0.007653576753828845,\n",
       "  0.007524969630473783,\n",
       "  0.00761560831613665,\n",
       "  0.007834905960118642,\n",
       "  0.007435237380096706,\n",
       "  0.007547213116677774,\n",
       "  0.007660964467825614,\n",
       "  0.007629957696233723,\n",
       "  0.007858179329152372,\n",
       "  0.007582050253186207,\n",
       "  0.0076607903775811,\n",
       "  0.007625041057671312,\n",
       "  0.007578050042967855,\n",
       "  0.0076619816872661155,\n",
       "  0.007402272529738779,\n",
       "  0.008114770242283671,\n",
       "  0.007725003854494517,\n",
       "  0.007728692128646384,\n",
       "  0.0076275750117253925,\n",
       "  0.00748049693459724,\n",
       "  0.007683733066591046,\n",
       "  0.007633601585953658,\n",
       "  0.0075674618781766435,\n",
       "  0.0074795739663971106,\n",
       "  0.007456933462991922,\n",
       "  0.007571198427731747,\n",
       "  0.007540569200455176,\n",
       "  0.008099523213398113,\n",
       "  0.007732966142806607,\n",
       "  0.007792041968123105,\n",
       "  0.007701330754939284,\n",
       "  0.007693682909306514,\n",
       "  0.007437724564271009,\n",
       "  0.007699332753181625,\n",
       "  0.007669092353734247,\n",
       "  0.007561155473138768,\n",
       "  0.007579755122353827,\n",
       "  0.007722048945060011,\n",
       "  0.00749773526195705,\n",
       "  0.007439276964235415,\n",
       "  0.007386505512141085,\n",
       "  0.007262404475145532,\n",
       "  0.007417994528096929,\n",
       "  0.0075324540996096635,\n",
       "  0.00744154830025098,\n",
       "  0.007476572309958777,\n",
       "  0.007728304914807548,\n",
       "  0.007452943705822605,\n",
       "  0.007491825517758992,\n",
       "  0.007347488465715435,\n",
       "  0.007610837153349456,\n",
       "  0.007236110392359274,\n",
       "  0.007685667631976246,\n",
       "  0.007667855887699386,\n",
       "  0.007392965797757533,\n",
       "  0.007528575593710324,\n",
       "  0.007445377985335,\n",
       "  0.007314387688740505,\n",
       "  0.007434689068777501,\n",
       "  0.007258152025590862,\n",
       "  0.007362549994564456,\n",
       "  0.007346822717411212,\n",
       "  0.007245477506089072,\n",
       "  0.007131685333002318,\n",
       "  0.0071225546100343595,\n",
       "  0.007238329889921225,\n",
       "  0.008092167821180054,\n",
       "  0.00731087553793321,\n",
       "  0.007360187282384087,\n",
       "  0.0070853193007877945,\n",
       "  0.00729028387939314,\n",
       "  0.007446058782718635,\n",
       "  0.007636467920099382,\n",
       "  0.007213175695755524,\n",
       "  0.007314601491634222,\n",
       "  0.007567924288389189,\n",
       "  0.007442615400458128,\n",
       "  0.007606123336013112,\n",
       "  0.007435611134734653,\n",
       "  0.0071588365727218726,\n",
       "  0.007361712493464053,\n",
       "  0.007274730823609162,\n",
       "  0.007227303521501383,\n",
       "  0.007297738374588541,\n",
       "  0.007349793008256464,\n",
       "  0.007358265342772454],\n",
       " 'acc': [0.23480432972522897,\n",
       "  0.23480432972522897,\n",
       "  0.23480432972522897,\n",
       "  0.23480432972522897,\n",
       "  0.23480432972522897,\n",
       "  0.23480432972522897,\n",
       "  0.23480432972522897,\n",
       "  0.23480432972522897,\n",
       "  0.23480432972522897,\n",
       "  0.23480432972522897,\n",
       "  0.23480432972522897,\n",
       "  0.23480432972522897,\n",
       "  0.23480432972522897,\n",
       "  0.23480432972522897,\n",
       "  0.23480432972522897,\n",
       "  0.23480432972522897,\n",
       "  0.23480432972522897,\n",
       "  0.23480432972522897,\n",
       "  0.23480432972522897,\n",
       "  0.23480432972522897,\n",
       "  0.23480432972522897,\n",
       "  0.23480432972522897,\n",
       "  0.23480432972522897,\n",
       "  0.23480432972522897,\n",
       "  0.23480432972522897,\n",
       "  0.23480432972522897,\n",
       "  0.23480432972522897,\n",
       "  0.23480432972522897,\n",
       "  0.23480432972522897,\n",
       "  0.23480432972522897,\n",
       "  0.23480432972522897,\n",
       "  0.23480432972522897,\n",
       "  0.23480432972522897,\n",
       "  0.23480432972522897,\n",
       "  0.23480432972522897,\n",
       "  0.23480432972522897,\n",
       "  0.23480432972522897,\n",
       "  0.23480432972522897,\n",
       "  0.23480432972522897,\n",
       "  0.23480432972522897,\n",
       "  0.23480432972522897,\n",
       "  0.23480432972522897,\n",
       "  0.23480432972522897,\n",
       "  0.23480432972522897,\n",
       "  0.23480432972522897,\n",
       "  0.23480432972522897,\n",
       "  0.23480432972522897,\n",
       "  0.23480432972522897,\n",
       "  0.23480432972522897,\n",
       "  0.23480432972522897,\n",
       "  0.23480432972522897,\n",
       "  0.23480432972522897,\n",
       "  0.23480432972522897,\n",
       "  0.23480432972522897,\n",
       "  0.23480432972522897,\n",
       "  0.23480432972522897,\n",
       "  0.23480432972522897,\n",
       "  0.23480432972522897,\n",
       "  0.23480432972522897,\n",
       "  0.23480432972522897,\n",
       "  0.23480432972522897,\n",
       "  0.23480432972522897,\n",
       "  0.23480432972522897,\n",
       "  0.23480432972522897,\n",
       "  0.23480432972522897,\n",
       "  0.23480432972522897,\n",
       "  0.23480432972522897,\n",
       "  0.23480432972522897,\n",
       "  0.23480432972522897,\n",
       "  0.23480432972522897,\n",
       "  0.23480432972522897,\n",
       "  0.23480432972522897,\n",
       "  0.23480432972522897,\n",
       "  0.23480432972522897,\n",
       "  0.23480432972522897,\n",
       "  0.23480432972522897,\n",
       "  0.23480432972522897,\n",
       "  0.23480432972522897,\n",
       "  0.23480432972522897,\n",
       "  0.23480432972522897,\n",
       "  0.23480432972522897,\n",
       "  0.23480432972522897,\n",
       "  0.23480432972522897,\n",
       "  0.23480432972522897,\n",
       "  0.23480432972522897,\n",
       "  0.23480432972522897,\n",
       "  0.23480432972522897,\n",
       "  0.23480432972522897,\n",
       "  0.23480432972522897,\n",
       "  0.23480432972522897,\n",
       "  0.23480432972522897,\n",
       "  0.23480432972522897,\n",
       "  0.23480432972522897,\n",
       "  0.23480432972522897,\n",
       "  0.23480432972522897,\n",
       "  0.23480432972522897,\n",
       "  0.23480432972522897,\n",
       "  0.23480432972522897,\n",
       "  0.23480432972522897,\n",
       "  0.23480432972522897,\n",
       "  0.23480432972522897,\n",
       "  0.23480432972522897,\n",
       "  0.23480432972522897,\n",
       "  0.23480432972522897,\n",
       "  0.23480432972522897,\n",
       "  0.2343880099916736,\n",
       "  0.23480432972522897,\n",
       "  0.23480432972522897,\n",
       "  0.23480432972522897,\n",
       "  0.23480432972522897,\n",
       "  0.23480432972522897,\n",
       "  0.23480432972522897,\n",
       "  0.23480432972522897,\n",
       "  0.23480432972522897,\n",
       "  0.23480432972522897,\n",
       "  0.23480432972522897,\n",
       "  0.23480432972522897,\n",
       "  0.23480432972522897,\n",
       "  0.23480432972522897,\n",
       "  0.23480432972522897,\n",
       "  0.23480432972522897,\n",
       "  0.23480432972522897,\n",
       "  0.23480432972522897,\n",
       "  0.23480432972522897,\n",
       "  0.23480432972522897,\n",
       "  0.23480432972522897,\n",
       "  0.23480432972522897,\n",
       "  0.2343880099916736,\n",
       "  0.23480432972522897,\n",
       "  0.23480432972522897,\n",
       "  0.23480432972522897,\n",
       "  0.23480432972522897,\n",
       "  0.23480432972522897,\n",
       "  0.23480432972522897,\n",
       "  0.23480432972522897,\n",
       "  0.23480432972522897,\n",
       "  0.23480432972522897,\n",
       "  0.23480432972522897,\n",
       "  0.23480432972522897,\n",
       "  0.23480432972522897,\n",
       "  0.23480432972522897,\n",
       "  0.23522064945878435,\n",
       "  0.23480432972522897,\n",
       "  0.23480432972522897,\n",
       "  0.23480432972522897,\n",
       "  0.23480432972522897,\n",
       "  0.23480432972522897,\n",
       "  0.23480432972522897,\n",
       "  0.23480432972522897,\n",
       "  0.23480432972522897,\n",
       "  0.23480432972522897,\n",
       "  0.23480432972522897,\n",
       "  0.23480432972522897,\n",
       "  0.23480432972522897,\n",
       "  0.23480432972522897,\n",
       "  0.23480432972522897,\n",
       "  0.23480432972522897,\n",
       "  0.23480432972522897,\n",
       "  0.23522064945878435,\n",
       "  0.23480432972522897,\n",
       "  0.23480432972522897,\n",
       "  0.23480432972522897,\n",
       "  0.23480432972522897,\n",
       "  0.23480432972522897,\n",
       "  0.23480432972522897,\n",
       "  0.23480432972522897,\n",
       "  0.23522064945878435,\n",
       "  0.23480432972522897,\n",
       "  0.23480432972522897,\n",
       "  0.23480432972522897,\n",
       "  0.23480432972522897,\n",
       "  0.23480432972522897,\n",
       "  0.23480432972522897,\n",
       "  0.23522064945878435,\n",
       "  0.23480432972522897,\n",
       "  0.23480432972522897,\n",
       "  0.23480432972522897,\n",
       "  0.23480432972522897,\n",
       "  0.23522064945878435,\n",
       "  0.23480432972522897,\n",
       "  0.23480432972522897,\n",
       "  0.23480432972522897,\n",
       "  0.23480432972522897,\n",
       "  0.23480432972522897,\n",
       "  0.23480432972522897,\n",
       "  0.23522064945878435,\n",
       "  0.23480432972522897,\n",
       "  0.23480432972522897,\n",
       "  0.23480432972522897,\n",
       "  0.23480432972522897,\n",
       "  0.23480432972522897,\n",
       "  0.23480432972522897,\n",
       "  0.23480432972522897,\n",
       "  0.23480432972522897,\n",
       "  0.23480432972522897,\n",
       "  0.23480432972522897,\n",
       "  0.23480432972522897,\n",
       "  0.23480432972522897,\n",
       "  0.23522064945878435,\n",
       "  0.23480432972522897]}"
      ]
     },
     "execution_count": 25,
     "metadata": {},
     "output_type": "execute_result"
    }
   ],
   "source": [
    "pelatihan.history"
   ]
  },
  {
   "cell_type": "code",
   "execution_count": 26,
   "metadata": {},
   "outputs": [],
   "source": [
    "def plot_history(pelatihan):\n",
    "    history_dict = pelatihan.history\n",
    "    loss_values = history_dict['loss']\n",
    "    val_loss_values = history_dict['val_loss']\n",
    "    acc_values = history_dict['acc']\n",
    "    val_acc_values = history_dict['val_acc']\n",
    "    epochs = range(1, len(acc_values) + 1)\n",
    "    \n",
    "    plt.plot(epochs, loss_values, 'b', label='Training loss')\n",
    "    plt.plot(epochs, val_loss_values, 'r', label='Validation loss')\n",
    "    plt.title('Training and Validation loss')\n",
    "    plt.xlabel('Epochs')\n",
    "    plt.ylabel('Loss')\n",
    "    plt.legend()\n",
    "    plt.show()\n",
    "    \n",
    "    plt.plot(epochs, acc_values, 'b', label='Training accuracy')\n",
    "    plt.plot(epochs, val_acc_values, 'r', label='Validation accuracy')\n",
    "    plt.title('Training and Validation accuracy')\n",
    "    plt.xlabel('Epochs')\n",
    "    plt.ylabel('Validation')\n",
    "    plt.legend()\n",
    "    plt.show()"
   ]
  },
  {
   "cell_type": "code",
   "execution_count": 27,
   "metadata": {},
   "outputs": [
    {
     "data": {
      "image/png": "[encoded data removed]",
      "text/plain": [
       "<Figure size 432x288 with 1 Axes>"
      ]
     },
     "metadata": {
      "needs_background": "light"
     },
     "output_type": "display_data"
    },
    {
     "data": {
      "image/png": "[encoded data removed]",
      "text/plain": [
       "<Figure size 432x288 with 1 Axes>"
      ]
     },
     "metadata": {
      "needs_background": "light"
     },
     "output_type": "display_data"
    }
   ],
   "source": [
    "plot_history(pelatihan)"
   ]
  },
  {
   "cell_type": "code",
   "execution_count": 28,
   "metadata": {},
   "outputs": [
    {
     "data": {
      "text/plain": [
       "dict_keys(['val_loss', 'val_acc', 'loss', 'acc'])"
      ]
     },
     "execution_count": 28,
     "metadata": {},
     "output_type": "execute_result"
    }
   ],
   "source": [
    "pelatihan.history.keys()"
   ]
  },
  {
   "cell_type": "code",
   "execution_count": 29,
   "metadata": {},
   "outputs": [],
   "source": [
    "import statistics as stats"
   ]
  },
  {
   "cell_type": "code",
   "execution_count": 30,
   "metadata": {},
   "outputs": [
    {
     "data": {
      "text/plain": [
       "0.008042788486890506"
      ]
     },
     "execution_count": 30,
     "metadata": {},
     "output_type": "execute_result"
    }
   ],
   "source": [
    "loss_mean1 = stats.mean(pelatihan.history['loss'])\n",
    "loss_mean1"
   ]
  },
  {
   "cell_type": "code",
   "execution_count": 31,
   "metadata": {},
   "outputs": [
    {
     "data": {
      "text/plain": [
       "0.23481473771856784"
      ]
     },
     "execution_count": 31,
     "metadata": {},
     "output_type": "execute_result"
    }
   ],
   "source": [
    "acc_mean1 = stats.mean(pelatihan.history['acc'])\n",
    "acc_mean1"
   ]
  },
  {
   "cell_type": "code",
   "execution_count": 32,
   "metadata": {},
   "outputs": [
    {
     "data": {
      "text/plain": [
       "0.010089186643632234"
      ]
     },
     "execution_count": 32,
     "metadata": {},
     "output_type": "execute_result"
    }
   ],
   "source": [
    "valloss_mean1 = stats.mean(pelatihan.history['val_loss'])\n",
    "valloss_mean1"
   ]
  },
  {
   "cell_type": "code",
   "execution_count": 33,
   "metadata": {},
   "outputs": [
    {
     "data": {
      "text/plain": [
       "0.2022471913460935"
      ]
     },
     "execution_count": 33,
     "metadata": {},
     "output_type": "execute_result"
    }
   ],
   "source": [
    "val_acc_mean1 = stats.mean(pelatihan.history['val_acc'])\n",
    "val_acc_mean1"
   ]
  },
  {
   "cell_type": "code",
   "execution_count": 34,
   "metadata": {},
   "outputs": [
    {
     "data": {
      "text/plain": [
       "(297, 19)"
      ]
     },
     "execution_count": 34,
     "metadata": {},
     "output_type": "execute_result"
    }
   ],
   "source": [
    "X_test.shape"
   ]
  },
  {
   "cell_type": "code",
   "execution_count": 35,
   "metadata": {},
   "outputs": [],
   "source": [
    "X_testReal = X_test"
   ]
  },
  {
   "cell_type": "code",
   "execution_count": 36,
   "metadata": {},
   "outputs": [],
   "source": [
    "X_test = np.reshape(X_test,(X_test.shape[0],1,X_test.shape[1]))"
   ]
  },
  {
   "cell_type": "code",
   "execution_count": 37,
   "metadata": {},
   "outputs": [],
   "source": [
    "predicted_RR = regressor.predict(X_test)"
   ]
  },
  {
   "cell_type": "code",
   "execution_count": 38,
   "metadata": {},
   "outputs": [
    {
     "data": {
      "text/plain": [
       "(297, 1)"
      ]
     },
     "execution_count": 38,
     "metadata": {},
     "output_type": "execute_result"
    }
   ],
   "source": [
    "predicted_RR.shape"
   ]
  },
  {
   "cell_type": "code",
   "execution_count": 39,
   "metadata": {},
   "outputs": [],
   "source": [
    "predicted_RReal = np.hstack((X_testReal,predicted_RR))"
   ]
  },
  {
   "cell_type": "code",
   "execution_count": 40,
   "metadata": {},
   "outputs": [
    {
     "data": {
      "text/plain": [
       "(297, 20)"
      ]
     },
     "execution_count": 40,
     "metadata": {},
     "output_type": "execute_result"
    }
   ],
   "source": [
    "predicted_RReal.shape"
   ]
  },
  {
   "cell_type": "code",
   "execution_count": 41,
   "metadata": {},
   "outputs": [],
   "source": [
    "predicted_RReal_a = sc.inverse_transform(predicted_RReal)"
   ]
  },
  {
   "cell_type": "code",
   "execution_count": 42,
   "metadata": {},
   "outputs": [],
   "source": [
    "percobaan1 = predicted_RReal_a[:,19]"
   ]
  },
  {
   "cell_type": "code",
   "execution_count": 43,
   "metadata": {},
   "outputs": [],
   "source": [
    "y_testReal = np.asarray(y_test)"
   ]
  },
  {
   "cell_type": "code",
   "execution_count": 44,
   "metadata": {},
   "outputs": [
    {
     "data": {
      "text/plain": [
       "297"
      ]
     },
     "execution_count": 44,
     "metadata": {},
     "output_type": "execute_result"
    }
   ],
   "source": [
    "y_testReal.shape[0]"
   ]
  },
  {
   "cell_type": "code",
   "execution_count": 45,
   "metadata": {},
   "outputs": [],
   "source": [
    "y_testReal = np.reshape(y_testReal,(y_testReal.shape[0],1))"
   ]
  },
  {
   "cell_type": "code",
   "execution_count": 46,
   "metadata": {},
   "outputs": [],
   "source": [
    "real_data = np.hstack((X_testReal,y_testReal))"
   ]
  },
  {
   "cell_type": "code",
   "execution_count": 47,
   "metadata": {},
   "outputs": [],
   "source": [
    "real_data = sc.inverse_transform(real_data)"
   ]
  },
  {
   "cell_type": "code",
   "execution_count": 48,
   "metadata": {},
   "outputs": [
    {
     "data": {
      "text/plain": [
       "(297, 20)"
      ]
     },
     "execution_count": 48,
     "metadata": {},
     "output_type": "execute_result"
    }
   ],
   "source": [
    "real_data.shape"
   ]
  },
  {
   "cell_type": "code",
   "execution_count": 49,
   "metadata": {},
   "outputs": [
    {
     "data": {
      "image/png": "[encoded data removed]",
      "text/plain": [
       "<Figure size 432x288 with 1 Axes>"
      ]
     },
     "metadata": {
      "needs_background": "light"
     },
     "output_type": "display_data"
    }
   ],
   "source": [
    "# Visualising the results\n",
    "plt.plot(real_data[:,19], color = 'red', label = 'y_test')\n",
    "plt.plot(percobaan1, color = 'blue', label = 'Predicted RR')\n",
    "plt.title('Curah hujan')\n",
    "plt.xlabel('Urutan ke-')\n",
    "plt.ylabel('Besarnya')\n",
    "plt.legend()\n",
    "plt.show()"
   ]
  },
  {
   "cell_type": "code",
   "execution_count": 50,
   "metadata": {},
   "outputs": [
    {
     "name": "stdout",
     "output_type": "stream",
     "text": [
      "297/297 [==============================] - 0s 259us/step\n"
     ]
    },
    {
     "data": {
      "text/plain": [
       "[0.005792234312454458, 0.27609427614444837]"
      ]
     },
     "execution_count": 50,
     "metadata": {},
     "output_type": "execute_result"
    }
   ],
   "source": [
    "evals = regressor.evaluate(X_test,y_test) #MSE\n",
    "evals"
   ]
  },
  {
   "cell_type": "code",
   "execution_count": 51,
   "metadata": {},
   "outputs": [
    {
     "data": {
      "text/plain": [
       "[0.005792234312454458, 0.27609427614444837]"
      ]
     },
     "execution_count": 51,
     "metadata": {},
     "output_type": "execute_result"
    }
   ],
   "source": [
    "evals"
   ]
  },
  {
   "cell_type": "code",
   "execution_count": 52,
   "metadata": {},
   "outputs": [],
   "source": [
    "from sklearn.metrics import mean_squared_error"
   ]
  },
  {
   "cell_type": "code",
   "execution_count": 53,
   "metadata": {},
   "outputs": [
    {
     "data": {
      "text/plain": [
       "230.5323708249582"
      ]
     },
     "execution_count": 53,
     "metadata": {},
     "output_type": "execute_result"
    }
   ],
   "source": [
    "mse1 = mean_squared_error(real_data[:,19],percobaan1)\n",
    "mse1"
   ]
  },
  {
   "cell_type": "markdown",
   "metadata": {},
   "source": [
    "PERCOBAAN 2"
   ]
  },
  {
   "cell_type": "code",
   "execution_count": 54,
   "metadata": {},
   "outputs": [
    {
     "name": "stdout",
     "output_type": "stream",
     "text": [
      "Train on 2402 samples, validate on 267 samples\n",
      "Epoch 1/200\n",
      "2402/2402 [==============================] - 2s 673us/step - loss: 0.0073 - acc: 0.2352 - val_loss: 0.0104 - val_acc: 0.2022\n",
      "Epoch 2/200\n",
      "2402/2402 [==============================] - 2s 657us/step - loss: 0.0072 - acc: 0.2348 - val_loss: 0.0097 - val_acc: 0.2022\n",
      "Epoch 3/200\n",
      "2402/2402 [==============================] - 2s 657us/step - loss: 0.0073 - acc: 0.2348 - val_loss: 0.0098 - val_acc: 0.2022\n",
      "Epoch 4/200\n",
      "2402/2402 [==============================] - 2s 658us/step - loss: 0.0073 - acc: 0.2352 - val_loss: 0.0098 - val_acc: 0.2022\n",
      "Epoch 5/200\n",
      "2402/2402 [==============================] - 2s 664us/step - loss: 0.0072 - acc: 0.2348 - val_loss: 0.0101 - val_acc: 0.2022\n",
      "Epoch 6/200\n",
      "2402/2402 [==============================] - 2s 657us/step - loss: 0.0076 - acc: 0.2348 - val_loss: 0.0098 - val_acc: 0.2022\n",
      "Epoch 7/200\n",
      "2402/2402 [==============================] - 2s 657us/step - loss: 0.0070 - acc: 0.2348 - val_loss: 0.0097 - val_acc: 0.2022\n",
      "Epoch 8/200\n",
      "2402/2402 [==============================] - 2s 656us/step - loss: 0.0073 - acc: 0.2348 - val_loss: 0.0098 - val_acc: 0.2022\n",
      "Epoch 9/200\n",
      "2402/2402 [==============================] - 2s 655us/step - loss: 0.0078 - acc: 0.2348 - val_loss: 0.0096 - val_acc: 0.2022\n",
      "Epoch 10/200\n",
      "2402/2402 [==============================] - 2s 649us/step - loss: 0.0074 - acc: 0.2348 - val_loss: 0.0096 - val_acc: 0.2022\n",
      "Epoch 11/200\n",
      "2402/2402 [==============================] - 2s 663us/step - loss: 0.0072 - acc: 0.2348 - val_loss: 0.0102 - val_acc: 0.2022\n",
      "Epoch 12/200\n",
      "2402/2402 [==============================] - 2s 666us/step - loss: 0.0071 - acc: 0.2348 - val_loss: 0.0095 - val_acc: 0.2022\n",
      "Epoch 13/200\n",
      "2402/2402 [==============================] - 2s 674us/step - loss: 0.0071 - acc: 0.2352 - val_loss: 0.0098 - val_acc: 0.2022\n",
      "Epoch 14/200\n",
      "2402/2402 [==============================] - 2s 661us/step - loss: 0.0073 - acc: 0.2348 - val_loss: 0.0098 - val_acc: 0.2022\n",
      "Epoch 15/200\n",
      "2402/2402 [==============================] - 2s 658us/step - loss: 0.0073 - acc: 0.2352 - val_loss: 0.0104 - val_acc: 0.2022\n",
      "Epoch 16/200\n",
      "2402/2402 [==============================] - 2s 652us/step - loss: 0.0071 - acc: 0.2348 - val_loss: 0.0104 - val_acc: 0.2022\n",
      "Epoch 17/200\n",
      "2402/2402 [==============================] - 2s 650us/step - loss: 0.0070 - acc: 0.2348 - val_loss: 0.0104 - val_acc: 0.2022\n",
      "Epoch 18/200\n",
      "2402/2402 [==============================] - 2s 653us/step - loss: 0.0073 - acc: 0.2348 - val_loss: 0.0100 - val_acc: 0.2022\n",
      "Epoch 19/200\n",
      "2402/2402 [==============================] - 2s 652us/step - loss: 0.0071 - acc: 0.2352 - val_loss: 0.0097 - val_acc: 0.2022\n",
      "Epoch 20/200\n",
      "2402/2402 [==============================] - 2s 657us/step - loss: 0.0071 - acc: 0.2352 - val_loss: 0.0099 - val_acc: 0.2022\n",
      "Epoch 21/200\n",
      "2402/2402 [==============================] - 2s 655us/step - loss: 0.0070 - acc: 0.2348 - val_loss: 0.0102 - val_acc: 0.2022\n",
      "Epoch 22/200\n",
      "2402/2402 [==============================] - 2s 657us/step - loss: 0.0071 - acc: 0.2348 - val_loss: 0.0104 - val_acc: 0.2022\n",
      "Epoch 23/200\n",
      "2402/2402 [==============================] - 2s 666us/step - loss: 0.0075 - acc: 0.2348 - val_loss: 0.0098 - val_acc: 0.2022\n",
      "Epoch 24/200\n",
      "2402/2402 [==============================] - 2s 657us/step - loss: 0.0071 - acc: 0.2348 - val_loss: 0.0098 - val_acc: 0.2022\n",
      "Epoch 25/200\n",
      "2402/2402 [==============================] - 2s 651us/step - loss: 0.0072 - acc: 0.2348 - val_loss: 0.0096 - val_acc: 0.2022\n",
      "Epoch 26/200\n",
      "2402/2402 [==============================] - 2s 667us/step - loss: 0.0073 - acc: 0.2348 - val_loss: 0.0100 - val_acc: 0.2022\n",
      "Epoch 27/200\n",
      "2402/2402 [==============================] - 2s 659us/step - loss: 0.0075 - acc: 0.2352 - val_loss: 0.0095 - val_acc: 0.2022\n",
      "Epoch 28/200\n",
      "2402/2402 [==============================] - 2s 655us/step - loss: 0.0073 - acc: 0.2348 - val_loss: 0.0102 - val_acc: 0.2022\n",
      "Epoch 29/200\n",
      "2402/2402 [==============================] - 2s 658us/step - loss: 0.0070 - acc: 0.2352 - val_loss: 0.0105 - val_acc: 0.2022\n",
      "Epoch 30/200\n",
      "2402/2402 [==============================] - 2s 664us/step - loss: 0.0072 - acc: 0.2348 - val_loss: 0.0102 - val_acc: 0.2022\n",
      "Epoch 31/200\n",
      "2402/2402 [==============================] - 2s 656us/step - loss: 0.0070 - acc: 0.2352 - val_loss: 0.0097 - val_acc: 0.2022\n",
      "Epoch 32/200\n",
      "2402/2402 [==============================] - 2s 658us/step - loss: 0.0070 - acc: 0.2352 - val_loss: 0.0098 - val_acc: 0.2022\n",
      "Epoch 33/200\n",
      "2402/2402 [==============================] - 2s 660us/step - loss: 0.0072 - acc: 0.2348 - val_loss: 0.0107 - val_acc: 0.2022\n",
      "Epoch 34/200\n",
      "2402/2402 [==============================] - 2s 653us/step - loss: 0.0080 - acc: 0.2348 - val_loss: 0.0102 - val_acc: 0.2022\n",
      "Epoch 35/200\n",
      "2402/2402 [==============================] - 2s 659us/step - loss: 0.0074 - acc: 0.2348 - val_loss: 0.0097 - val_acc: 0.2022\n",
      "Epoch 36/200\n",
      "2402/2402 [==============================] - 2s 661us/step - loss: 0.0074 - acc: 0.2348 - val_loss: 0.0102 - val_acc: 0.2022\n",
      "Epoch 37/200\n",
      "2402/2402 [==============================] - 2s 657us/step - loss: 0.0073 - acc: 0.2352 - val_loss: 0.0098 - val_acc: 0.2022\n",
      "Epoch 38/200\n",
      "2402/2402 [==============================] - 2s 660us/step - loss: 0.0072 - acc: 0.2352 - val_loss: 0.0096 - val_acc: 0.2022\n",
      "Epoch 39/200\n",
      "2402/2402 [==============================] - 2s 665us/step - loss: 0.0070 - acc: 0.2352 - val_loss: 0.0098 - val_acc: 0.2022\n",
      "Epoch 40/200\n",
      "2402/2402 [==============================] - 2s 660us/step - loss: 0.0069 - acc: 0.2352 - val_loss: 0.0100 - val_acc: 0.2022\n",
      "Epoch 41/200\n",
      "2402/2402 [==============================] - 2s 662us/step - loss: 0.0069 - acc: 0.2352 - val_loss: 0.0101 - val_acc: 0.2022\n",
      "Epoch 42/200\n",
      "2402/2402 [==============================] - 2s 661us/step - loss: 0.0072 - acc: 0.2348 - val_loss: 0.0098 - val_acc: 0.2022\n",
      "Epoch 43/200\n",
      "2402/2402 [==============================] - 2s 664us/step - loss: 0.0072 - acc: 0.2348 - val_loss: 0.0100 - val_acc: 0.2022\n",
      "Epoch 44/200\n",
      "2402/2402 [==============================] - 2s 655us/step - loss: 0.0071 - acc: 0.2348 - val_loss: 0.0105 - val_acc: 0.2022\n",
      "Epoch 45/200\n",
      "2402/2402 [==============================] - 2s 658us/step - loss: 0.0074 - acc: 0.2348 - val_loss: 0.0104 - val_acc: 0.2022\n",
      "Epoch 46/200\n",
      "2402/2402 [==============================] - 2s 662us/step - loss: 0.0075 - acc: 0.2348 - val_loss: 0.0094 - val_acc: 0.2022\n",
      "Epoch 47/200\n",
      "2402/2402 [==============================] - 2s 658us/step - loss: 0.0069 - acc: 0.2352 - val_loss: 0.0099 - val_acc: 0.2022\n",
      "Epoch 48/200\n",
      "2402/2402 [==============================] - 2s 661us/step - loss: 0.0071 - acc: 0.2348 - val_loss: 0.0096 - val_acc: 0.2022\n",
      "Epoch 49/200\n",
      "2402/2402 [==============================] - 2s 667us/step - loss: 0.0070 - acc: 0.2352 - val_loss: 0.0101 - val_acc: 0.2022\n",
      "Epoch 50/200\n",
      "2402/2402 [==============================] - 2s 667us/step - loss: 0.0071 - acc: 0.2352 - val_loss: 0.0107 - val_acc: 0.2022\n",
      "Epoch 51/200\n",
      "2402/2402 [==============================] - 2s 659us/step - loss: 0.0073 - acc: 0.2352 - val_loss: 0.0098 - val_acc: 0.2022\n",
      "Epoch 52/200\n",
      "2402/2402 [==============================] - 2s 679us/step - loss: 0.0072 - acc: 0.2352 - val_loss: 0.0098 - val_acc: 0.2022\n",
      "Epoch 53/200\n",
      "2402/2402 [==============================] - 2s 667us/step - loss: 0.0069 - acc: 0.2352 - val_loss: 0.0107 - val_acc: 0.2022\n",
      "Epoch 54/200\n",
      "2402/2402 [==============================] - 2s 666us/step - loss: 0.0071 - acc: 0.2352 - val_loss: 0.0102 - val_acc: 0.2022\n",
      "Epoch 55/200\n",
      "2402/2402 [==============================] - 2s 671us/step - loss: 0.0070 - acc: 0.2348 - val_loss: 0.0109 - val_acc: 0.2022\n",
      "Epoch 56/200\n",
      "2402/2402 [==============================] - 2s 665us/step - loss: 0.0068 - acc: 0.2352 - val_loss: 0.0104 - val_acc: 0.2022\n",
      "Epoch 57/200\n",
      "2402/2402 [==============================] - 2s 665us/step - loss: 0.0068 - acc: 0.2352 - val_loss: 0.0102 - val_acc: 0.2022\n",
      "Epoch 58/200\n",
      "2402/2402 [==============================] - 2s 659us/step - loss: 0.0070 - acc: 0.2352 - val_loss: 0.0101 - val_acc: 0.2022\n",
      "Epoch 59/200\n",
      "2402/2402 [==============================] - 2s 657us/step - loss: 0.0069 - acc: 0.2348 - val_loss: 0.0096 - val_acc: 0.2022\n",
      "Epoch 60/200\n"
     ]
    },
    {
     "name": "stdout",
     "output_type": "stream",
     "text": [
      "2402/2402 [==============================] - 2s 664us/step - loss: 0.0071 - acc: 0.2352 - val_loss: 0.0097 - val_acc: 0.2022\n",
      "Epoch 61/200\n",
      "2402/2402 [==============================] - 2s 657us/step - loss: 0.0069 - acc: 0.2352 - val_loss: 0.0098 - val_acc: 0.2022\n",
      "Epoch 62/200\n",
      "2402/2402 [==============================] - 2s 657us/step - loss: 0.0070 - acc: 0.2352 - val_loss: 0.0099 - val_acc: 0.2022\n",
      "Epoch 63/200\n",
      "2402/2402 [==============================] - 2s 655us/step - loss: 0.0068 - acc: 0.2352 - val_loss: 0.0105 - val_acc: 0.2022\n",
      "Epoch 64/200\n",
      "2402/2402 [==============================] - 2s 646us/step - loss: 0.0069 - acc: 0.2352 - val_loss: 0.0101 - val_acc: 0.2022\n",
      "Epoch 65/200\n",
      "2402/2402 [==============================] - 2s 654us/step - loss: 0.0071 - acc: 0.2352 - val_loss: 0.0108 - val_acc: 0.2022\n",
      "Epoch 66/200\n",
      "2402/2402 [==============================] - 2s 655us/step - loss: 0.0071 - acc: 0.2348 - val_loss: 0.0099 - val_acc: 0.2022\n",
      "Epoch 67/200\n",
      "2402/2402 [==============================] - 2s 655us/step - loss: 0.0070 - acc: 0.2348 - val_loss: 0.0099 - val_acc: 0.2022\n",
      "Epoch 68/200\n",
      "2402/2402 [==============================] - 2s 649us/step - loss: 0.0069 - acc: 0.2348 - val_loss: 0.0099 - val_acc: 0.2022\n",
      "Epoch 69/200\n",
      "2402/2402 [==============================] - 2s 673us/step - loss: 0.0069 - acc: 0.2352 - val_loss: 0.0100 - val_acc: 0.2022\n",
      "Epoch 70/200\n",
      "2402/2402 [==============================] - 2s 665us/step - loss: 0.0074 - acc: 0.2352 - val_loss: 0.0096 - val_acc: 0.2022\n",
      "Epoch 71/200\n",
      "2402/2402 [==============================] - 2s 657us/step - loss: 0.0072 - acc: 0.2348 - val_loss: 0.0099 - val_acc: 0.2022\n",
      "Epoch 72/200\n",
      "2402/2402 [==============================] - 2s 658us/step - loss: 0.0070 - acc: 0.2352 - val_loss: 0.0104 - val_acc: 0.2022\n",
      "Epoch 73/200\n",
      "2402/2402 [==============================] - 2s 660us/step - loss: 0.0073 - acc: 0.2352 - val_loss: 0.0103 - val_acc: 0.2022\n",
      "Epoch 74/200\n",
      "2402/2402 [==============================] - 2s 655us/step - loss: 0.0072 - acc: 0.2352 - val_loss: 0.0102 - val_acc: 0.2022\n",
      "Epoch 75/200\n",
      "2402/2402 [==============================] - 2s 658us/step - loss: 0.0075 - acc: 0.2348 - val_loss: 0.0101 - val_acc: 0.2022\n",
      "Epoch 76/200\n",
      "2402/2402 [==============================] - 2s 660us/step - loss: 0.0069 - acc: 0.2348 - val_loss: 0.0103 - val_acc: 0.2022\n",
      "Epoch 77/200\n",
      "2402/2402 [==============================] - 2s 653us/step - loss: 0.0069 - acc: 0.2348 - val_loss: 0.0104 - val_acc: 0.2022\n",
      "Epoch 78/200\n",
      "2402/2402 [==============================] - 2s 662us/step - loss: 0.0069 - acc: 0.2352 - val_loss: 0.0105 - val_acc: 0.2022\n",
      "Epoch 79/200\n",
      "2402/2402 [==============================] - 2s 661us/step - loss: 0.0069 - acc: 0.2348 - val_loss: 0.0102 - val_acc: 0.2022\n",
      "Epoch 80/200\n",
      "2402/2402 [==============================] - 2s 664us/step - loss: 0.0071 - acc: 0.2352 - val_loss: 0.0101 - val_acc: 0.2022\n",
      "Epoch 81/200\n",
      "2402/2402 [==============================] - 2s 659us/step - loss: 0.0070 - acc: 0.2348 - val_loss: 0.0101 - val_acc: 0.2022\n",
      "Epoch 82/200\n",
      "2402/2402 [==============================] - 2s 659us/step - loss: 0.0069 - acc: 0.2352 - val_loss: 0.0100 - val_acc: 0.2022\n",
      "Epoch 83/200\n",
      "2402/2402 [==============================] - 2s 665us/step - loss: 0.0069 - acc: 0.2348 - val_loss: 0.0099 - val_acc: 0.2022\n",
      "Epoch 84/200\n",
      "2402/2402 [==============================] - 2s 652us/step - loss: 0.0069 - acc: 0.2352 - val_loss: 0.0102 - val_acc: 0.2022\n",
      "Epoch 85/200\n",
      "2402/2402 [==============================] - 2s 659us/step - loss: 0.0068 - acc: 0.2352 - val_loss: 0.0099 - val_acc: 0.2022\n",
      "Epoch 86/200\n",
      "2402/2402 [==============================] - 2s 642us/step - loss: 0.0072 - acc: 0.2352 - val_loss: 0.0099 - val_acc: 0.2022\n",
      "Epoch 87/200\n",
      "2402/2402 [==============================] - 2s 665us/step - loss: 0.0067 - acc: 0.2352 - val_loss: 0.0102 - val_acc: 0.2022\n",
      "Epoch 88/200\n",
      "2402/2402 [==============================] - 2s 670us/step - loss: 0.0069 - acc: 0.2352 - val_loss: 0.0110 - val_acc: 0.2022\n",
      "Epoch 89/200\n",
      "2402/2402 [==============================] - 2s 666us/step - loss: 0.0069 - acc: 0.2348 - val_loss: 0.0107 - val_acc: 0.2022\n",
      "Epoch 90/200\n",
      "2402/2402 [==============================] - 2s 673us/step - loss: 0.0069 - acc: 0.2352 - val_loss: 0.0112 - val_acc: 0.2022\n",
      "Epoch 91/200\n",
      "2402/2402 [==============================] - 2s 669us/step - loss: 0.0070 - acc: 0.2352 - val_loss: 0.0101 - val_acc: 0.2022\n",
      "Epoch 92/200\n",
      "2402/2402 [==============================] - 2s 665us/step - loss: 0.0068 - acc: 0.2352 - val_loss: 0.0103 - val_acc: 0.2022\n",
      "Epoch 93/200\n",
      "2402/2402 [==============================] - 2s 657us/step - loss: 0.0065 - acc: 0.2352 - val_loss: 0.0103 - val_acc: 0.2022\n",
      "Epoch 94/200\n",
      "2402/2402 [==============================] - 2s 659us/step - loss: 0.0071 - acc: 0.2348 - val_loss: 0.0106 - val_acc: 0.2022\n",
      "Epoch 95/200\n",
      "2402/2402 [==============================] - 2s 664us/step - loss: 0.0068 - acc: 0.2352 - val_loss: 0.0101 - val_acc: 0.2022\n",
      "Epoch 96/200\n",
      "2402/2402 [==============================] - 2s 657us/step - loss: 0.0069 - acc: 0.2352 - val_loss: 0.0099 - val_acc: 0.2022\n",
      "Epoch 97/200\n",
      "2402/2402 [==============================] - 2s 659us/step - loss: 0.0069 - acc: 0.2352 - val_loss: 0.0100 - val_acc: 0.2022\n",
      "Epoch 98/200\n",
      "2402/2402 [==============================] - 2s 660us/step - loss: 0.0066 - acc: 0.2352 - val_loss: 0.0099 - val_acc: 0.2022\n",
      "Epoch 99/200\n",
      "2402/2402 [==============================] - 2s 672us/step - loss: 0.0066 - acc: 0.2352 - val_loss: 0.0102 - val_acc: 0.2022\n",
      "Epoch 100/200\n",
      "2402/2402 [==============================] - 2s 692us/step - loss: 0.0070 - acc: 0.2352 - val_loss: 0.0101 - val_acc: 0.2022\n",
      "Epoch 101/200\n",
      "2402/2402 [==============================] - 2s 690us/step - loss: 0.0071 - acc: 0.2348 - val_loss: 0.0103 - val_acc: 0.2022\n",
      "Epoch 102/200\n",
      "2402/2402 [==============================] - 2s 694us/step - loss: 0.0071 - acc: 0.2352 - val_loss: 0.0104 - val_acc: 0.2022\n",
      "Epoch 103/200\n",
      "2402/2402 [==============================] - 2s 656us/step - loss: 0.0068 - acc: 0.2352 - val_loss: 0.0103 - val_acc: 0.2022\n",
      "Epoch 104/200\n",
      "2402/2402 [==============================] - 2s 653us/step - loss: 0.0067 - acc: 0.2352 - val_loss: 0.0106 - val_acc: 0.2022\n",
      "Epoch 105/200\n",
      "2402/2402 [==============================] - 2s 657us/step - loss: 0.0067 - acc: 0.2352 - val_loss: 0.0104 - val_acc: 0.2022\n",
      "Epoch 106/200\n",
      "2402/2402 [==============================] - 2s 653us/step - loss: 0.0068 - acc: 0.2348 - val_loss: 0.0106 - val_acc: 0.2022\n",
      "Epoch 107/200\n",
      "2402/2402 [==============================] - 2s 655us/step - loss: 0.0073 - acc: 0.2348 - val_loss: 0.0107 - val_acc: 0.2022\n",
      "Epoch 108/200\n",
      "2402/2402 [==============================] - 2s 678us/step - loss: 0.0069 - acc: 0.2352 - val_loss: 0.0098 - val_acc: 0.2022\n",
      "Epoch 109/200\n",
      "2402/2402 [==============================] - 2s 657us/step - loss: 0.0069 - acc: 0.2352 - val_loss: 0.0105 - val_acc: 0.2022\n",
      "Epoch 110/200\n",
      "2402/2402 [==============================] - 2s 653us/step - loss: 0.0067 - acc: 0.2352 - val_loss: 0.0104 - val_acc: 0.2022\n",
      "Epoch 111/200\n",
      "2402/2402 [==============================] - 2s 659us/step - loss: 0.0065 - acc: 0.2352 - val_loss: 0.0104 - val_acc: 0.2022\n",
      "Epoch 112/200\n",
      "2402/2402 [==============================] - 2s 656us/step - loss: 0.0066 - acc: 0.2352 - val_loss: 0.0101 - val_acc: 0.2022\n",
      "Epoch 113/200\n",
      "2402/2402 [==============================] - 2s 659us/step - loss: 0.0069 - acc: 0.2348 - val_loss: 0.0102 - val_acc: 0.2022\n",
      "Epoch 114/200\n",
      "2402/2402 [==============================] - 2s 658us/step - loss: 0.0069 - acc: 0.2352 - val_loss: 0.0106 - val_acc: 0.2022\n",
      "Epoch 115/200\n",
      "2402/2402 [==============================] - 2s 656us/step - loss: 0.0070 - acc: 0.2352 - val_loss: 0.0101 - val_acc: 0.2022\n",
      "Epoch 116/200\n",
      "2402/2402 [==============================] - 2s 661us/step - loss: 0.0068 - acc: 0.2348 - val_loss: 0.0101 - val_acc: 0.2022\n",
      "Epoch 117/200\n",
      "2402/2402 [==============================] - 2s 656us/step - loss: 0.0067 - acc: 0.2352 - val_loss: 0.0104 - val_acc: 0.2022\n",
      "Epoch 118/200\n",
      "2402/2402 [==============================] - 2s 654us/step - loss: 0.0068 - acc: 0.2348 - val_loss: 0.0110 - val_acc: 0.2022\n",
      "Epoch 119/200\n"
     ]
    },
    {
     "name": "stdout",
     "output_type": "stream",
     "text": [
      "2402/2402 [==============================] - 2s 657us/step - loss: 0.0068 - acc: 0.2352 - val_loss: 0.0098 - val_acc: 0.2022\n",
      "Epoch 120/200\n",
      "2402/2402 [==============================] - 2s 658us/step - loss: 0.0066 - acc: 0.2352 - val_loss: 0.0101 - val_acc: 0.2022\n",
      "Epoch 121/200\n",
      "2402/2402 [==============================] - 2s 656us/step - loss: 0.0070 - acc: 0.2352 - val_loss: 0.0110 - val_acc: 0.2022\n",
      "Epoch 122/200\n",
      "2402/2402 [==============================] - 2s 652us/step - loss: 0.0068 - acc: 0.2352 - val_loss: 0.0101 - val_acc: 0.2022\n",
      "Epoch 123/200\n",
      "2402/2402 [==============================] - 2s 651us/step - loss: 0.0068 - acc: 0.2352 - val_loss: 0.0104 - val_acc: 0.2022\n",
      "Epoch 124/200\n",
      "2402/2402 [==============================] - 2s 647us/step - loss: 0.0069 - acc: 0.2352 - val_loss: 0.0100 - val_acc: 0.2022\n",
      "Epoch 125/200\n",
      "2402/2402 [==============================] - 2s 650us/step - loss: 0.0068 - acc: 0.2352 - val_loss: 0.0110 - val_acc: 0.2022\n",
      "Epoch 126/200\n",
      "2402/2402 [==============================] - 2s 652us/step - loss: 0.0066 - acc: 0.2352 - val_loss: 0.0102 - val_acc: 0.2022\n",
      "Epoch 127/200\n",
      "2402/2402 [==============================] - 2s 652us/step - loss: 0.0068 - acc: 0.2352 - val_loss: 0.0103 - val_acc: 0.2022\n",
      "Epoch 128/200\n",
      "2402/2402 [==============================] - 2s 652us/step - loss: 0.0067 - acc: 0.2352 - val_loss: 0.0106 - val_acc: 0.2022\n",
      "Epoch 129/200\n",
      "2402/2402 [==============================] - 2s 653us/step - loss: 0.0072 - acc: 0.2352 - val_loss: 0.0099 - val_acc: 0.2022\n",
      "Epoch 130/200\n",
      "2402/2402 [==============================] - 2s 656us/step - loss: 0.0073 - acc: 0.2348 - val_loss: 0.0103 - val_acc: 0.2022\n",
      "Epoch 131/200\n",
      "2402/2402 [==============================] - 2s 651us/step - loss: 0.0076 - acc: 0.2348 - val_loss: 0.0096 - val_acc: 0.2022\n",
      "Epoch 132/200\n",
      "2402/2402 [==============================] - 2s 654us/step - loss: 0.0067 - acc: 0.2352 - val_loss: 0.0103 - val_acc: 0.2022\n",
      "Epoch 133/200\n",
      "2402/2402 [==============================] - 2s 654us/step - loss: 0.0068 - acc: 0.2352 - val_loss: 0.0103 - val_acc: 0.2022\n",
      "Epoch 134/200\n",
      "2402/2402 [==============================] - 2s 653us/step - loss: 0.0069 - acc: 0.2352 - val_loss: 0.0108 - val_acc: 0.2022\n",
      "Epoch 135/200\n",
      "2402/2402 [==============================] - 2s 654us/step - loss: 0.0071 - acc: 0.2348 - val_loss: 0.0108 - val_acc: 0.2022\n",
      "Epoch 136/200\n",
      "2402/2402 [==============================] - 2s 651us/step - loss: 0.0066 - acc: 0.2352 - val_loss: 0.0098 - val_acc: 0.2022\n",
      "Epoch 137/200\n",
      "2402/2402 [==============================] - 2s 649us/step - loss: 0.0067 - acc: 0.2352 - val_loss: 0.0105 - val_acc: 0.2022\n",
      "Epoch 138/200\n",
      "2402/2402 [==============================] - 2s 657us/step - loss: 0.0066 - acc: 0.2352 - val_loss: 0.0102 - val_acc: 0.2022\n",
      "Epoch 139/200\n",
      "2402/2402 [==============================] - 2s 647us/step - loss: 0.0067 - acc: 0.2352 - val_loss: 0.0112 - val_acc: 0.2022\n",
      "Epoch 140/200\n",
      "2402/2402 [==============================] - 2s 650us/step - loss: 0.0066 - acc: 0.2352 - val_loss: 0.0110 - val_acc: 0.2022\n",
      "Epoch 141/200\n",
      "2402/2402 [==============================] - 2s 658us/step - loss: 0.0070 - acc: 0.2352 - val_loss: 0.0107 - val_acc: 0.2022\n",
      "Epoch 142/200\n",
      "2402/2402 [==============================] - 2s 656us/step - loss: 0.0067 - acc: 0.2352 - val_loss: 0.0100 - val_acc: 0.2022\n",
      "Epoch 143/200\n",
      "2402/2402 [==============================] - 2s 649us/step - loss: 0.0065 - acc: 0.2352 - val_loss: 0.0102 - val_acc: 0.2022\n",
      "Epoch 144/200\n",
      "2402/2402 [==============================] - 2s 656us/step - loss: 0.0067 - acc: 0.2352 - val_loss: 0.0108 - val_acc: 0.2022\n",
      "Epoch 145/200\n",
      "2402/2402 [==============================] - 2s 658us/step - loss: 0.0065 - acc: 0.2352 - val_loss: 0.0102 - val_acc: 0.2022\n",
      "Epoch 146/200\n",
      "2402/2402 [==============================] - 2s 665us/step - loss: 0.0069 - acc: 0.2352 - val_loss: 0.0102 - val_acc: 0.2022\n",
      "Epoch 147/200\n",
      "2402/2402 [==============================] - 2s 661us/step - loss: 0.0065 - acc: 0.2352 - val_loss: 0.0101 - val_acc: 0.2022ss: 0.0060 - acc: 0.2\n",
      "Epoch 148/200\n",
      "2402/2402 [==============================] - 2s 666us/step - loss: 0.0065 - acc: 0.2352 - val_loss: 0.0097 - val_acc: 0.2022\n",
      "Epoch 149/200\n",
      "2402/2402 [==============================] - 2s 661us/step - loss: 0.0067 - acc: 0.2352 - val_loss: 0.0103 - val_acc: 0.2022\n",
      "Epoch 150/200\n",
      "2402/2402 [==============================] - 2s 661us/step - loss: 0.0069 - acc: 0.2352 - val_loss: 0.0110 - val_acc: 0.2022\n",
      "Epoch 151/200\n",
      "2402/2402 [==============================] - 2s 661us/step - loss: 0.0069 - acc: 0.2348 - val_loss: 0.0104 - val_acc: 0.2022\n",
      "Epoch 152/200\n",
      "2402/2402 [==============================] - 2s 667us/step - loss: 0.0067 - acc: 0.2352 - val_loss: 0.0101 - val_acc: 0.2022\n",
      "Epoch 153/200\n",
      "2402/2402 [==============================] - 2s 665us/step - loss: 0.0065 - acc: 0.2352 - val_loss: 0.0109 - val_acc: 0.2022\n",
      "Epoch 154/200\n",
      "2402/2402 [==============================] - 2s 664us/step - loss: 0.0066 - acc: 0.2352 - val_loss: 0.0106 - val_acc: 0.2022\n",
      "Epoch 155/200\n",
      "2402/2402 [==============================] - 2s 660us/step - loss: 0.0070 - acc: 0.2352 - val_loss: 0.0103 - val_acc: 0.2022\n",
      "Epoch 156/200\n",
      "2402/2402 [==============================] - 2s 653us/step - loss: 0.0066 - acc: 0.2352 - val_loss: 0.0104 - val_acc: 0.2022- loss: 0.0067 - acc: 0.23\n",
      "Epoch 157/200\n",
      "2402/2402 [==============================] - 2s 650us/step - loss: 0.0066 - acc: 0.2352 - val_loss: 0.0106 - val_acc: 0.2022\n",
      "Epoch 158/200\n",
      "2402/2402 [==============================] - 2s 653us/step - loss: 0.0064 - acc: 0.2352 - val_loss: 0.0106 - val_acc: 0.2022\n",
      "Epoch 159/200\n",
      "2402/2402 [==============================] - 2s 654us/step - loss: 0.0067 - acc: 0.2352 - val_loss: 0.0099 - val_acc: 0.2022\n",
      "Epoch 160/200\n",
      "2402/2402 [==============================] - 2s 656us/step - loss: 0.0067 - acc: 0.2352 - val_loss: 0.0106 - val_acc: 0.2022\n",
      "Epoch 161/200\n",
      "2402/2402 [==============================] - 2s 657us/step - loss: 0.0067 - acc: 0.2352 - val_loss: 0.0104 - val_acc: 0.2022\n",
      "Epoch 162/200\n",
      "2402/2402 [==============================] - 2s 652us/step - loss: 0.0069 - acc: 0.2352 - val_loss: 0.0104 - val_acc: 0.2022\n",
      "Epoch 163/200\n",
      "2402/2402 [==============================] - 2s 660us/step - loss: 0.0065 - acc: 0.2352 - val_loss: 0.0106 - val_acc: 0.2022\n",
      "Epoch 164/200\n",
      "2402/2402 [==============================] - 2s 656us/step - loss: 0.0069 - acc: 0.2352 - val_loss: 0.0101 - val_acc: 0.2022\n",
      "Epoch 165/200\n",
      "2402/2402 [==============================] - 2s 660us/step - loss: 0.0068 - acc: 0.2352 - val_loss: 0.0104 - val_acc: 0.2022\n",
      "Epoch 166/200\n",
      "2402/2402 [==============================] - 2s 652us/step - loss: 0.0065 - acc: 0.2352 - val_loss: 0.0104 - val_acc: 0.2022\n",
      "Epoch 167/200\n",
      "2402/2402 [==============================] - 2s 651us/step - loss: 0.0069 - acc: 0.2348 - val_loss: 0.0103 - val_acc: 0.2022\n",
      "Epoch 168/200\n",
      "2402/2402 [==============================] - 2s 653us/step - loss: 0.0064 - acc: 0.2352 - val_loss: 0.0112 - val_acc: 0.2022\n",
      "Epoch 169/200\n",
      "2402/2402 [==============================] - 2s 657us/step - loss: 0.0090 - acc: 0.2348 - val_loss: 0.0109 - val_acc: 0.2022\n",
      "Epoch 170/200\n",
      "2402/2402 [==============================] - 2s 655us/step - loss: 0.0085 - acc: 0.2348 - val_loss: 0.0107 - val_acc: 0.2022\n",
      "Epoch 171/200\n",
      "2402/2402 [==============================] - 2s 657us/step - loss: 0.0082 - acc: 0.2348 - val_loss: 0.0101 - val_acc: 0.2022\n",
      "Epoch 172/200\n",
      "2402/2402 [==============================] - 2s 655us/step - loss: 0.0082 - acc: 0.2348 - val_loss: 0.0112 - val_acc: 0.2022\n",
      "Epoch 173/200\n",
      "2402/2402 [==============================] - 2s 654us/step - loss: 0.0081 - acc: 0.2348 - val_loss: 0.0100 - val_acc: 0.2022\n",
      "Epoch 174/200\n",
      "2402/2402 [==============================] - 2s 652us/step - loss: 0.0079 - acc: 0.2348 - val_loss: 0.0097 - val_acc: 0.2022\n",
      "Epoch 175/200\n",
      "2402/2402 [==============================] - 2s 666us/step - loss: 0.0078 - acc: 0.2348 - val_loss: 0.0097 - val_acc: 0.2022\n",
      "Epoch 176/200\n",
      "2402/2402 [==============================] - 2s 665us/step - loss: 0.0079 - acc: 0.2348 - val_loss: 0.0096 - val_acc: 0.2022\n",
      "Epoch 177/200\n",
      "2402/2402 [==============================] - 2s 657us/step - loss: 0.0078 - acc: 0.2348 - val_loss: 0.0093 - val_acc: 0.2022\n"
     ]
    },
    {
     "name": "stdout",
     "output_type": "stream",
     "text": [
      "Epoch 178/200\n",
      "2402/2402 [==============================] - 2s 648us/step - loss: 0.0076 - acc: 0.2348 - val_loss: 0.0092 - val_acc: 0.2022\n",
      "Epoch 179/200\n",
      "2402/2402 [==============================] - 2s 667us/step - loss: 0.0077 - acc: 0.2348 - val_loss: 0.0097 - val_acc: 0.2022\n",
      "Epoch 180/200\n",
      "2402/2402 [==============================] - 2s 659us/step - loss: 0.0074 - acc: 0.2348 - val_loss: 0.0093 - val_acc: 0.2022\n",
      "Epoch 181/200\n",
      "2402/2402 [==============================] - 2s 650us/step - loss: 0.0072 - acc: 0.2348 - val_loss: 0.0089 - val_acc: 0.2022\n",
      "Epoch 182/200\n",
      "2402/2402 [==============================] - 2s 664us/step - loss: 0.0072 - acc: 0.2348 - val_loss: 0.0091 - val_acc: 0.2022\n",
      "Epoch 183/200\n",
      "2402/2402 [==============================] - 2s 654us/step - loss: 0.0071 - acc: 0.2352 - val_loss: 0.0097 - val_acc: 0.2022\n",
      "Epoch 184/200\n",
      "2402/2402 [==============================] - 2s 653us/step - loss: 0.0069 - acc: 0.2348 - val_loss: 0.0101 - val_acc: 0.2022\n",
      "Epoch 185/200\n",
      "2402/2402 [==============================] - 2s 648us/step - loss: 0.0068 - acc: 0.2348 - val_loss: 0.0098 - val_acc: 0.2022\n",
      "Epoch 186/200\n",
      "2402/2402 [==============================] - 2s 653us/step - loss: 0.0067 - acc: 0.2352 - val_loss: 0.0100 - val_acc: 0.2022\n",
      "Epoch 187/200\n",
      "2402/2402 [==============================] - 2s 668us/step - loss: 0.0066 - acc: 0.2352 - val_loss: 0.0102 - val_acc: 0.2022\n",
      "Epoch 188/200\n",
      "2402/2402 [==============================] - 2s 659us/step - loss: 0.0065 - acc: 0.2352 - val_loss: 0.0100 - val_acc: 0.2022\n",
      "Epoch 189/200\n",
      "2402/2402 [==============================] - 2s 709us/step - loss: 0.0065 - acc: 0.2352 - val_loss: 0.0104 - val_acc: 0.2022\n",
      "Epoch 190/200\n",
      "2402/2402 [==============================] - 2s 671us/step - loss: 0.0073 - acc: 0.2352 - val_loss: 0.0109 - val_acc: 0.2022\n",
      "Epoch 191/200\n",
      "2402/2402 [==============================] - 2s 653us/step - loss: 0.0066 - acc: 0.2352 - val_loss: 0.0101 - val_acc: 0.2022\n",
      "Epoch 192/200\n",
      "2402/2402 [==============================] - 2s 654us/step - loss: 0.0069 - acc: 0.2348 - val_loss: 0.0098 - val_acc: 0.2022\n",
      "Epoch 193/200\n",
      "2402/2402 [==============================] - 2s 663us/step - loss: 0.0063 - acc: 0.2352 - val_loss: 0.0100 - val_acc: 0.2022\n",
      "Epoch 194/200\n",
      "2402/2402 [==============================] - 2s 647us/step - loss: 0.0066 - acc: 0.2352 - val_loss: 0.0100 - val_acc: 0.2022\n",
      "Epoch 195/200\n",
      "2402/2402 [==============================] - 2s 649us/step - loss: 0.0067 - acc: 0.2352 - val_loss: 0.0100 - val_acc: 0.2022\n",
      "Epoch 196/200\n",
      "2402/2402 [==============================] - 2s 649us/step - loss: 0.0066 - acc: 0.2352 - val_loss: 0.0097 - val_acc: 0.2022\n",
      "Epoch 197/200\n",
      "2402/2402 [==============================] - 2s 650us/step - loss: 0.0064 - acc: 0.2352 - val_loss: 0.0105 - val_acc: 0.2022\n",
      "Epoch 198/200\n",
      "2402/2402 [==============================] - 2s 649us/step - loss: 0.0065 - acc: 0.2352 - val_loss: 0.0101 - val_acc: 0.2022\n",
      "Epoch 199/200\n",
      "2402/2402 [==============================] - 2s 654us/step - loss: 0.0064 - acc: 0.2352 - val_loss: 0.0100 - val_acc: 0.2022\n",
      "Epoch 200/200\n",
      "2402/2402 [==============================] - 2s 648us/step - loss: 0.0066 - acc: 0.2352 - val_loss: 0.0099 - val_acc: 0.2022\n"
     ]
    }
   ],
   "source": [
    "pelatihan2 = regressor.fit(X_train, y_train, validation_split = 0.10, epochs = 200, batch_size = 32)"
   ]
  },
  {
   "cell_type": "code",
   "execution_count": 55,
   "metadata": {},
   "outputs": [
    {
     "data": {
      "image/png": "[encoded data removed]",
      "text/plain": [
       "<Figure size 432x288 with 1 Axes>"
      ]
     },
     "metadata": {
      "needs_background": "light"
     },
     "output_type": "display_data"
    },
    {
     "data": {
      "image/png": "[encoded data removed]",
      "text/plain": [
       "<Figure size 432x288 with 1 Axes>"
      ]
     },
     "metadata": {
      "needs_background": "light"
     },
     "output_type": "display_data"
    }
   ],
   "source": [
    "plot_history(pelatihan2)"
   ]
  },
  {
   "cell_type": "code",
   "execution_count": 56,
   "metadata": {},
   "outputs": [
    {
     "data": {
      "text/plain": [
       "0.007004429226005344"
      ]
     },
     "execution_count": 56,
     "metadata": {},
     "output_type": "execute_result"
    }
   ],
   "source": [
    "loss_mean2 = stats.mean(pelatihan2.history['loss'])\n",
    "loss_mean2"
   ]
  },
  {
   "cell_type": "code",
   "execution_count": 57,
   "metadata": {},
   "outputs": [
    {
     "data": {
      "text/plain": [
       "0.23506661115736885"
      ]
     },
     "execution_count": 57,
     "metadata": {},
     "output_type": "execute_result"
    }
   ],
   "source": [
    "acc_mean2 = stats.mean(pelatihan2.history['acc'])\n",
    "acc_mean2"
   ]
  },
  {
   "cell_type": "code",
   "execution_count": 58,
   "metadata": {},
   "outputs": [
    {
     "data": {
      "text/plain": [
       "0.010159964093638493"
      ]
     },
     "execution_count": 58,
     "metadata": {},
     "output_type": "execute_result"
    }
   ],
   "source": [
    "valloss_mean2 = stats.mean(pelatihan2.history['val_loss'])\n",
    "valloss_mean2"
   ]
  },
  {
   "cell_type": "code",
   "execution_count": 59,
   "metadata": {},
   "outputs": [
    {
     "data": {
      "text/plain": [
       "0.2022471913460935"
      ]
     },
     "execution_count": 59,
     "metadata": {},
     "output_type": "execute_result"
    }
   ],
   "source": [
    "val_acc_mean2 = stats.mean(pelatihan2.history['val_acc'])\n",
    "val_acc_mean2"
   ]
  },
  {
   "cell_type": "code",
   "execution_count": 60,
   "metadata": {},
   "outputs": [],
   "source": [
    "predicted_RR2 = regressor.predict(X_test)"
   ]
  },
  {
   "cell_type": "code",
   "execution_count": 61,
   "metadata": {},
   "outputs": [
    {
     "data": {
      "text/plain": [
       "(297, 1)"
      ]
     },
     "execution_count": 61,
     "metadata": {},
     "output_type": "execute_result"
    }
   ],
   "source": [
    "predicted_RR2.shape"
   ]
  },
  {
   "cell_type": "code",
   "execution_count": 62,
   "metadata": {},
   "outputs": [],
   "source": [
    "predicted_RReal2 = np.hstack((X_testReal,predicted_RR2))"
   ]
  },
  {
   "cell_type": "code",
   "execution_count": 63,
   "metadata": {},
   "outputs": [],
   "source": [
    "predicted_RReal_b = sc.inverse_transform(predicted_RReal2)"
   ]
  },
  {
   "cell_type": "code",
   "execution_count": 64,
   "metadata": {},
   "outputs": [],
   "source": [
    "percobaan2 = predicted_RReal_b[:,19] "
   ]
  },
  {
   "cell_type": "code",
   "execution_count": 65,
   "metadata": {},
   "outputs": [
    {
     "data": {
      "image/png": "[encoded data removed]",
      "text/plain": [
       "<Figure size 432x288 with 1 Axes>"
      ]
     },
     "metadata": {
      "needs_background": "light"
     },
     "output_type": "display_data"
    }
   ],
   "source": [
    "# Visualising the results\n",
    "plt.plot(real_data[:,19], color = 'red', label = 'y_test')\n",
    "plt.plot(percobaan2, color = 'blue', label = 'Predicted RR')\n",
    "plt.title('Curah hujan')\n",
    "plt.xlabel('Urutan ke-')\n",
    "plt.ylabel('Besarnya')\n",
    "plt.legend()\n",
    "plt.show()"
   ]
  },
  {
   "cell_type": "code",
   "execution_count": 66,
   "metadata": {},
   "outputs": [
    {
     "data": {
      "text/plain": [
       "224.62856645018638"
      ]
     },
     "execution_count": 66,
     "metadata": {},
     "output_type": "execute_result"
    }
   ],
   "source": [
    "mse2 = mean_squared_error(real_data[:,19],percobaan2)\n",
    "mse2"
   ]
  },
  {
   "cell_type": "markdown",
   "metadata": {},
   "source": [
    "PERCOBAAN 3"
   ]
  },
  {
   "cell_type": "code",
   "execution_count": 67,
   "metadata": {},
   "outputs": [
    {
     "name": "stdout",
     "output_type": "stream",
     "text": [
      "Train on 2402 samples, validate on 267 samples\n",
      "Epoch 1/200\n",
      "2402/2402 [==============================] - 2s 664us/step - loss: 0.0064 - acc: 0.2352 - val_loss: 0.0099 - val_acc: 0.2022\n",
      "Epoch 2/200\n",
      "2402/2402 [==============================] - 2s 651us/step - loss: 0.0065 - acc: 0.2352 - val_loss: 0.0103 - val_acc: 0.2022\n",
      "Epoch 3/200\n",
      "2402/2402 [==============================] - 2s 642us/step - loss: 0.0067 - acc: 0.2352 - val_loss: 0.0101 - val_acc: 0.2022\n",
      "Epoch 4/200\n",
      "2402/2402 [==============================] - 2s 653us/step - loss: 0.0065 - acc: 0.2352 - val_loss: 0.0097 - val_acc: 0.2022\n",
      "Epoch 5/200\n",
      "2402/2402 [==============================] - 2s 649us/step - loss: 0.0067 - acc: 0.2352 - val_loss: 0.0105 - val_acc: 0.2022\n",
      "Epoch 6/200\n",
      "2402/2402 [==============================] - 2s 656us/step - loss: 0.0063 - acc: 0.2352 - val_loss: 0.0106 - val_acc: 0.2022\n",
      "Epoch 7/200\n",
      "2402/2402 [==============================] - 2s 647us/step - loss: 0.0063 - acc: 0.2352 - val_loss: 0.0106 - val_acc: 0.2022\n",
      "Epoch 8/200\n",
      "2402/2402 [==============================] - 2s 652us/step - loss: 0.0064 - acc: 0.2352 - val_loss: 0.0106 - val_acc: 0.2022\n",
      "Epoch 9/200\n",
      "2402/2402 [==============================] - 2s 652us/step - loss: 0.0065 - acc: 0.2352 - val_loss: 0.0106 - val_acc: 0.2022\n",
      "Epoch 10/200\n",
      "2402/2402 [==============================] - 2s 650us/step - loss: 0.0068 - acc: 0.2352 - val_loss: 0.0098 - val_acc: 0.2022\n",
      "Epoch 11/200\n",
      "2402/2402 [==============================] - 2s 652us/step - loss: 0.0063 - acc: 0.2352 - val_loss: 0.0098 - val_acc: 0.2022\n",
      "Epoch 12/200\n",
      "2402/2402 [==============================] - 2s 644us/step - loss: 0.0064 - acc: 0.2352 - val_loss: 0.0108 - val_acc: 0.2022\n",
      "Epoch 13/200\n",
      "2402/2402 [==============================] - 2s 649us/step - loss: 0.0063 - acc: 0.2352 - val_loss: 0.0104 - val_acc: 0.2022\n",
      "Epoch 14/200\n",
      "2402/2402 [==============================] - 2s 647us/step - loss: 0.0072 - acc: 0.2352 - val_loss: 0.0097 - val_acc: 0.2022\n",
      "Epoch 15/200\n",
      "2402/2402 [==============================] - 2s 648us/step - loss: 0.0065 - acc: 0.2352 - val_loss: 0.0097 - val_acc: 0.2022\n",
      "Epoch 16/200\n",
      "2402/2402 [==============================] - 2s 649us/step - loss: 0.0066 - acc: 0.2352 - val_loss: 0.0104 - val_acc: 0.2022\n",
      "Epoch 17/200\n",
      "2402/2402 [==============================] - 2s 646us/step - loss: 0.0065 - acc: 0.2352 - val_loss: 0.0104 - val_acc: 0.2022\n",
      "Epoch 18/200\n",
      "2402/2402 [==============================] - 2s 652us/step - loss: 0.0063 - acc: 0.2352 - val_loss: 0.0103 - val_acc: 0.2022\n",
      "Epoch 19/200\n",
      "2402/2402 [==============================] - 2s 650us/step - loss: 0.0065 - acc: 0.2352 - val_loss: 0.0103 - val_acc: 0.2022\n",
      "Epoch 20/200\n",
      "2402/2402 [==============================] - 2s 654us/step - loss: 0.0065 - acc: 0.2352 - val_loss: 0.0108 - val_acc: 0.2022\n",
      "Epoch 21/200\n",
      "2402/2402 [==============================] - 2s 653us/step - loss: 0.0064 - acc: 0.2352 - val_loss: 0.0106 - val_acc: 0.2022\n",
      "Epoch 22/200\n",
      "2402/2402 [==============================] - 2s 668us/step - loss: 0.0064 - acc: 0.2352 - val_loss: 0.0098 - val_acc: 0.2022\n",
      "Epoch 23/200\n",
      "2402/2402 [==============================] - 2s 648us/step - loss: 0.0065 - acc: 0.2352 - val_loss: 0.0097 - val_acc: 0.2022\n",
      "Epoch 24/200\n",
      "2402/2402 [==============================] - 2s 657us/step - loss: 0.0064 - acc: 0.2352 - val_loss: 0.0106 - val_acc: 0.2022\n",
      "Epoch 25/200\n",
      "2402/2402 [==============================] - 2s 714us/step - loss: 0.0069 - acc: 0.2348 - val_loss: 0.0116 - val_acc: 0.2022\n",
      "Epoch 26/200\n",
      "2402/2402 [==============================] - 2s 793us/step - loss: 0.0063 - acc: 0.2352 - val_loss: 0.0103 - val_acc: 0.2022\n",
      "Epoch 27/200\n",
      "2402/2402 [==============================] - 2s 758us/step - loss: 0.0066 - acc: 0.2352 - val_loss: 0.0107 - val_acc: 0.2022\n",
      "Epoch 28/200\n",
      "2402/2402 [==============================] - 2s 662us/step - loss: 0.0062 - acc: 0.2352 - val_loss: 0.0106 - val_acc: 0.2022\n",
      "Epoch 29/200\n",
      "2402/2402 [==============================] - 2s 655us/step - loss: 0.0068 - acc: 0.2352 - val_loss: 0.0104 - val_acc: 0.2022\n",
      "Epoch 30/200\n",
      "2402/2402 [==============================] - 2s 655us/step - loss: 0.0065 - acc: 0.2352 - val_loss: 0.0101 - val_acc: 0.2022\n",
      "Epoch 31/200\n",
      "2402/2402 [==============================] - 2s 652us/step - loss: 0.0065 - acc: 0.2352 - val_loss: 0.0106 - val_acc: 0.2022\n",
      "Epoch 32/200\n",
      "2402/2402 [==============================] - 2s 657us/step - loss: 0.0065 - acc: 0.2352 - val_loss: 0.0102 - val_acc: 0.2022\n",
      "Epoch 33/200\n",
      "2402/2402 [==============================] - 2s 651us/step - loss: 0.0064 - acc: 0.2352 - val_loss: 0.0096 - val_acc: 0.2022\n",
      "Epoch 34/200\n",
      "2402/2402 [==============================] - 2s 649us/step - loss: 0.0065 - acc: 0.2352 - val_loss: 0.0111 - val_acc: 0.2022\n",
      "Epoch 35/200\n",
      "2402/2402 [==============================] - 2s 651us/step - loss: 0.0067 - acc: 0.2352 - val_loss: 0.0097 - val_acc: 0.2022\n",
      "Epoch 36/200\n",
      "2402/2402 [==============================] - 2s 663us/step - loss: 0.0064 - acc: 0.2352 - val_loss: 0.0100 - val_acc: 0.2022\n",
      "Epoch 37/200\n",
      "2402/2402 [==============================] - 2s 651us/step - loss: 0.0064 - acc: 0.2352 - val_loss: 0.0101 - val_acc: 0.2022\n",
      "Epoch 38/200\n",
      "2402/2402 [==============================] - 2s 649us/step - loss: 0.0063 - acc: 0.2352 - val_loss: 0.0107 - val_acc: 0.2022\n",
      "Epoch 39/200\n",
      "2402/2402 [==============================] - 2s 659us/step - loss: 0.0065 - acc: 0.2352 - val_loss: 0.0099 - val_acc: 0.2022\n",
      "Epoch 40/200\n",
      "2402/2402 [==============================] - 2s 648us/step - loss: 0.0070 - acc: 0.2348 - val_loss: 0.0112 - val_acc: 0.2022\n",
      "Epoch 41/200\n",
      "2402/2402 [==============================] - 2s 643us/step - loss: 0.0064 - acc: 0.2352 - val_loss: 0.0108 - val_acc: 0.2022\n",
      "Epoch 42/200\n",
      "2402/2402 [==============================] - ETA: 0s - loss: 0.0065 - acc: 0.235 - 2s 651us/step - loss: 0.0064 - acc: 0.2352 - val_loss: 0.0107 - val_acc: 0.2022\n",
      "Epoch 43/200\n",
      "2402/2402 [==============================] - 2s 649us/step - loss: 0.0064 - acc: 0.2352 - val_loss: 0.0102 - val_acc: 0.2022\n",
      "Epoch 44/200\n",
      "2402/2402 [==============================] - 2s 656us/step - loss: 0.0063 - acc: 0.2352 - val_loss: 0.0112 - val_acc: 0.2022\n",
      "Epoch 45/200\n",
      "2402/2402 [==============================] - 2s 650us/step - loss: 0.0064 - acc: 0.2352 - val_loss: 0.0107 - val_acc: 0.2022\n",
      "Epoch 46/200\n",
      "2402/2402 [==============================] - 2s 661us/step - loss: 0.0067 - acc: 0.2352 - val_loss: 0.0101 - val_acc: 0.2022\n",
      "Epoch 47/200\n",
      "2402/2402 [==============================] - 2s 652us/step - loss: 0.0064 - acc: 0.2352 - val_loss: 0.0110 - val_acc: 0.2022\n",
      "Epoch 48/200\n",
      "2402/2402 [==============================] - 2s 649us/step - loss: 0.0064 - acc: 0.2352 - val_loss: 0.0099 - val_acc: 0.2022\n",
      "Epoch 49/200\n",
      "2402/2402 [==============================] - 2s 654us/step - loss: 0.0067 - acc: 0.2352 - val_loss: 0.0102 - val_acc: 0.2022\n",
      "Epoch 50/200\n",
      "2402/2402 [==============================] - 2s 658us/step - loss: 0.0064 - acc: 0.2352 - val_loss: 0.0109 - val_acc: 0.2022\n",
      "Epoch 51/200\n",
      "2402/2402 [==============================] - 2s 651us/step - loss: 0.0065 - acc: 0.2352 - val_loss: 0.0108 - val_acc: 0.2022\n",
      "Epoch 52/200\n",
      "2402/2402 [==============================] - 2s 667us/step - loss: 0.0064 - acc: 0.2352 - val_loss: 0.0099 - val_acc: 0.2022\n",
      "Epoch 53/200\n",
      "2402/2402 [==============================] - 2s 662us/step - loss: 0.0062 - acc: 0.2352 - val_loss: 0.0104 - val_acc: 0.2022\n",
      "Epoch 54/200\n",
      "2402/2402 [==============================] - 2s 669us/step - loss: 0.0066 - acc: 0.2352 - val_loss: 0.0109 - val_acc: 0.2022\n",
      "Epoch 55/200\n",
      "2402/2402 [==============================] - 2s 665us/step - loss: 0.0062 - acc: 0.2352 - val_loss: 0.0108 - val_acc: 0.2022\n",
      "Epoch 56/200\n",
      "2402/2402 [==============================] - 2s 664us/step - loss: 0.0064 - acc: 0.2352 - val_loss: 0.0100 - val_acc: 0.2022\n",
      "Epoch 57/200\n",
      "2402/2402 [==============================] - 2s 658us/step - loss: 0.0063 - acc: 0.2352 - val_loss: 0.0110 - val_acc: 0.2022\n",
      "Epoch 58/200\n",
      "2402/2402 [==============================] - 2s 664us/step - loss: 0.0069 - acc: 0.2352 - val_loss: 0.0104 - val_acc: 0.2022\n",
      "Epoch 59/200\n",
      "2402/2402 [==============================] - 2s 656us/step - loss: 0.0066 - acc: 0.2352 - val_loss: 0.0109 - val_acc: 0.2022\n"
     ]
    },
    {
     "name": "stdout",
     "output_type": "stream",
     "text": [
      "Epoch 60/200\n",
      "2402/2402 [==============================] - 2s 654us/step - loss: 0.0064 - acc: 0.2352 - val_loss: 0.0110 - val_acc: 0.2022\n",
      "Epoch 61/200\n",
      "2402/2402 [==============================] - 2s 650us/step - loss: 0.0065 - acc: 0.2348 - val_loss: 0.0107 - val_acc: 0.2022\n",
      "Epoch 62/200\n",
      "2402/2402 [==============================] - 2s 650us/step - loss: 0.0067 - acc: 0.2352 - val_loss: 0.0100 - val_acc: 0.2022\n",
      "Epoch 63/200\n",
      "2402/2402 [==============================] - 2s 655us/step - loss: 0.0066 - acc: 0.2352 - val_loss: 0.0114 - val_acc: 0.2022\n",
      "Epoch 64/200\n",
      "2402/2402 [==============================] - 2s 651us/step - loss: 0.0065 - acc: 0.2352 - val_loss: 0.0106 - val_acc: 0.2022\n",
      "Epoch 65/200\n",
      "2402/2402 [==============================] - 2s 662us/step - loss: 0.0066 - acc: 0.2352 - val_loss: 0.0106 - val_acc: 0.2022\n",
      "Epoch 66/200\n",
      "2402/2402 [==============================] - 2s 667us/step - loss: 0.0062 - acc: 0.2352 - val_loss: 0.0109 - val_acc: 0.2022\n",
      "Epoch 67/200\n",
      "2402/2402 [==============================] - 2s 693us/step - loss: 0.0067 - acc: 0.2352 - val_loss: 0.0109 - val_acc: 0.2022\n",
      "Epoch 68/200\n",
      "2402/2402 [==============================] - 2s 654us/step - loss: 0.0063 - acc: 0.2352 - val_loss: 0.0113 - val_acc: 0.2022\n",
      "Epoch 69/200\n",
      "2402/2402 [==============================] - 2s 650us/step - loss: 0.0062 - acc: 0.2352 - val_loss: 0.0105 - val_acc: 0.2022\n",
      "Epoch 70/200\n",
      "2402/2402 [==============================] - 2s 651us/step - loss: 0.0062 - acc: 0.2352 - val_loss: 0.0110 - val_acc: 0.2022\n",
      "Epoch 71/200\n",
      "2402/2402 [==============================] - 2s 647us/step - loss: 0.0062 - acc: 0.2352 - val_loss: 0.0110 - val_acc: 0.2022\n",
      "Epoch 72/200\n",
      "2402/2402 [==============================] - 2s 648us/step - loss: 0.0061 - acc: 0.2352 - val_loss: 0.0099 - val_acc: 0.2022\n",
      "Epoch 73/200\n",
      "2402/2402 [==============================] - 2s 648us/step - loss: 0.0064 - acc: 0.2352 - val_loss: 0.0105 - val_acc: 0.2022\n",
      "Epoch 74/200\n",
      "2402/2402 [==============================] - 2s 647us/step - loss: 0.0063 - acc: 0.2352 - val_loss: 0.0102 - val_acc: 0.2022\n",
      "Epoch 75/200\n",
      "2402/2402 [==============================] - 2s 642us/step - loss: 0.0065 - acc: 0.2352 - val_loss: 0.0108 - val_acc: 0.2022\n",
      "Epoch 76/200\n",
      "2402/2402 [==============================] - 2s 649us/step - loss: 0.0063 - acc: 0.2352 - val_loss: 0.0109 - val_acc: 0.2022\n",
      "Epoch 77/200\n",
      "2402/2402 [==============================] - 2s 653us/step - loss: 0.0063 - acc: 0.2352 - val_loss: 0.0110 - val_acc: 0.2022\n",
      "Epoch 78/200\n",
      "2402/2402 [==============================] - 2s 657us/step - loss: 0.0062 - acc: 0.2352 - val_loss: 0.0109 - val_acc: 0.2022\n",
      "Epoch 79/200\n",
      "2402/2402 [==============================] - 2s 642us/step - loss: 0.0063 - acc: 0.2352 - val_loss: 0.0110 - val_acc: 0.2022\n",
      "Epoch 80/200\n",
      "2402/2402 [==============================] - 2s 650us/step - loss: 0.0061 - acc: 0.2352 - val_loss: 0.0111 - val_acc: 0.2022\n",
      "Epoch 81/200\n",
      "2402/2402 [==============================] - 2s 668us/step - loss: 0.0068 - acc: 0.2352 - val_loss: 0.0108 - val_acc: 0.2022\n",
      "Epoch 82/200\n",
      "2402/2402 [==============================] - 2s 652us/step - loss: 0.0081 - acc: 0.2348 - val_loss: 0.0104 - val_acc: 0.2022\n",
      "Epoch 83/200\n",
      "2402/2402 [==============================] - 2s 653us/step - loss: 0.0073 - acc: 0.2348 - val_loss: 0.0105 - val_acc: 0.2022\n",
      "Epoch 84/200\n",
      "2402/2402 [==============================] - 2s 653us/step - loss: 0.0063 - acc: 0.2352 - val_loss: 0.0110 - val_acc: 0.2022\n",
      "Epoch 85/200\n",
      "2402/2402 [==============================] - 2s 650us/step - loss: 0.0061 - acc: 0.2352 - val_loss: 0.0104 - val_acc: 0.2022\n",
      "Epoch 86/200\n",
      "2402/2402 [==============================] - 2s 649us/step - loss: 0.0065 - acc: 0.2352 - val_loss: 0.0109 - val_acc: 0.2022\n",
      "Epoch 87/200\n",
      "2402/2402 [==============================] - 2s 652us/step - loss: 0.0062 - acc: 0.2352 - val_loss: 0.0108 - val_acc: 0.2022\n",
      "Epoch 88/200\n",
      "2402/2402 [==============================] - 2s 652us/step - loss: 0.0062 - acc: 0.2352 - val_loss: 0.0110 - val_acc: 0.2022 loss: 0.0068 -\n",
      "Epoch 89/200\n",
      "2402/2402 [==============================] - 2s 648us/step - loss: 0.0062 - acc: 0.2352 - val_loss: 0.0109 - val_acc: 0.2022\n",
      "Epoch 90/200\n",
      "2402/2402 [==============================] - 2s 654us/step - loss: 0.0062 - acc: 0.2352 - val_loss: 0.0112 - val_acc: 0.2022\n",
      "Epoch 91/200\n",
      "2402/2402 [==============================] - 2s 650us/step - loss: 0.0060 - acc: 0.2352 - val_loss: 0.0115 - val_acc: 0.2022\n",
      "Epoch 92/200\n",
      "2402/2402 [==============================] - 2s 658us/step - loss: 0.0065 - acc: 0.2352 - val_loss: 0.0111 - val_acc: 0.2022\n",
      "Epoch 93/200\n",
      "2402/2402 [==============================] - 2s 654us/step - loss: 0.0069 - acc: 0.2348 - val_loss: 0.0107 - val_acc: 0.2022\n",
      "Epoch 94/200\n",
      "2402/2402 [==============================] - 2s 644us/step - loss: 0.0064 - acc: 0.2352 - val_loss: 0.0100 - val_acc: 0.2022\n",
      "Epoch 95/200\n",
      "2402/2402 [==============================] - 2s 654us/step - loss: 0.0062 - acc: 0.2352 - val_loss: 0.0099 - val_acc: 0.2022\n",
      "Epoch 96/200\n",
      "2402/2402 [==============================] - 2s 659us/step - loss: 0.0062 - acc: 0.2352 - val_loss: 0.0110 - val_acc: 0.2022\n",
      "Epoch 97/200\n",
      "2402/2402 [==============================] - 2s 653us/step - loss: 0.0062 - acc: 0.2352 - val_loss: 0.0109 - val_acc: 0.2022\n",
      "Epoch 98/200\n",
      "2402/2402 [==============================] - 2s 658us/step - loss: 0.0061 - acc: 0.2352 - val_loss: 0.0109 - val_acc: 0.2022\n",
      "Epoch 99/200\n",
      "2402/2402 [==============================] - 2s 642us/step - loss: 0.0062 - acc: 0.2352 - val_loss: 0.0112 - val_acc: 0.2022\n",
      "Epoch 100/200\n",
      "2402/2402 [==============================] - 2s 655us/step - loss: 0.0063 - acc: 0.2352 - val_loss: 0.0105 - val_acc: 0.2022\n",
      "Epoch 101/200\n",
      "2402/2402 [==============================] - 2s 658us/step - loss: 0.0063 - acc: 0.2352 - val_loss: 0.0107 - val_acc: 0.2022\n",
      "Epoch 102/200\n",
      "2402/2402 [==============================] - 2s 648us/step - loss: 0.0063 - acc: 0.2352 - val_loss: 0.0102 - val_acc: 0.2022\n",
      "Epoch 103/200\n",
      "2402/2402 [==============================] - 2s 655us/step - loss: 0.0064 - acc: 0.2352 - val_loss: 0.0106 - val_acc: 0.2022\n",
      "Epoch 104/200\n",
      "2402/2402 [==============================] - 2s 650us/step - loss: 0.0062 - acc: 0.2352 - val_loss: 0.0110 - val_acc: 0.2022\n",
      "Epoch 105/200\n",
      "2402/2402 [==============================] - 2s 707us/step - loss: 0.0067 - acc: 0.2352 - val_loss: 0.0102 - val_acc: 0.2022\n",
      "Epoch 106/200\n",
      "2402/2402 [==============================] - 2s 655us/step - loss: 0.0063 - acc: 0.2352 - val_loss: 0.0107 - val_acc: 0.2022\n",
      "Epoch 107/200\n",
      "2402/2402 [==============================] - 2s 653us/step - loss: 0.0062 - acc: 0.2352 - val_loss: 0.0105 - val_acc: 0.2022\n",
      "Epoch 108/200\n",
      "2402/2402 [==============================] - 2s 649us/step - loss: 0.0064 - acc: 0.2348 - val_loss: 0.0107 - val_acc: 0.2022\n",
      "Epoch 109/200\n",
      "2402/2402 [==============================] - 2s 653us/step - loss: 0.0062 - acc: 0.2352 - val_loss: 0.0107 - val_acc: 0.2022\n",
      "Epoch 110/200\n",
      "2402/2402 [==============================] - 2s 652us/step - loss: 0.0062 - acc: 0.2352 - val_loss: 0.0106 - val_acc: 0.2022\n",
      "Epoch 111/200\n",
      "2402/2402 [==============================] - 2s 657us/step - loss: 0.0063 - acc: 0.2352 - val_loss: 0.0106 - val_acc: 0.2022\n",
      "Epoch 112/200\n",
      "2402/2402 [==============================] - 2s 650us/step - loss: 0.0062 - acc: 0.2352 - val_loss: 0.0114 - val_acc: 0.2022\n",
      "Epoch 113/200\n",
      "2402/2402 [==============================] - 2s 643us/step - loss: 0.0067 - acc: 0.2352 - val_loss: 0.0101 - val_acc: 0.2022\n",
      "Epoch 114/200\n",
      "2402/2402 [==============================] - 2s 660us/step - loss: 0.0065 - acc: 0.2352 - val_loss: 0.0100 - val_acc: 0.2022\n",
      "Epoch 115/200\n",
      "2402/2402 [==============================] - 2s 664us/step - loss: 0.0062 - acc: 0.2352 - val_loss: 0.0104 - val_acc: 0.2022\n",
      "Epoch 116/200\n",
      "2402/2402 [==============================] - ETA: 0s - loss: 0.0061 - acc: 0.2372- ETA: 0s - loss: 0.0062 - acc: 0. - 2s 661us/step - loss: 0.0061 - acc: 0.2352 - val_loss: 0.0107 - val_acc: 0.2022\n",
      "Epoch 117/200\n",
      "2402/2402 [==============================] - 2s 659us/step - loss: 0.0061 - acc: 0.2352 - val_loss: 0.0106 - val_acc: 0.2022\n",
      "Epoch 118/200\n"
     ]
    },
    {
     "name": "stdout",
     "output_type": "stream",
     "text": [
      "2402/2402 [==============================] - 2s 654us/step - loss: 0.0060 - acc: 0.2352 - val_loss: 0.0105 - val_acc: 0.2022\n",
      "Epoch 119/200\n",
      "2402/2402 [==============================] - 2s 657us/step - loss: 0.0061 - acc: 0.2352 - val_loss: 0.0108 - val_acc: 0.2022\n",
      "Epoch 120/200\n",
      "2402/2402 [==============================] - 2s 643us/step - loss: 0.0070 - acc: 0.2352 - val_loss: 0.0107 - val_acc: 0.2022\n",
      "Epoch 121/200\n",
      "2402/2402 [==============================] - 2s 654us/step - loss: 0.0061 - acc: 0.2352 - val_loss: 0.0110 - val_acc: 0.2022\n",
      "Epoch 122/200\n",
      "2402/2402 [==============================] - 2s 656us/step - loss: 0.0062 - acc: 0.2352 - val_loss: 0.0112 - val_acc: 0.2022\n",
      "Epoch 123/200\n",
      "2402/2402 [==============================] - 2s 646us/step - loss: 0.0065 - acc: 0.2352 - val_loss: 0.0102 - val_acc: 0.2022\n",
      "Epoch 124/200\n",
      "2402/2402 [==============================] - 2s 650us/step - loss: 0.0062 - acc: 0.2352 - val_loss: 0.0106 - val_acc: 0.2022\n",
      "Epoch 125/200\n",
      "2402/2402 [==============================] - 2s 650us/step - loss: 0.0062 - acc: 0.2352 - val_loss: 0.0107 - val_acc: 0.2022\n",
      "Epoch 126/200\n",
      "2402/2402 [==============================] - 2s 652us/step - loss: 0.0061 - acc: 0.2352 - val_loss: 0.0111 - val_acc: 0.2022\n",
      "Epoch 127/200\n",
      "2402/2402 [==============================] - 2s 650us/step - loss: 0.0060 - acc: 0.2352 - val_loss: 0.0114 - val_acc: 0.2022\n",
      "Epoch 128/200\n",
      "2402/2402 [==============================] - 2s 650us/step - loss: 0.0060 - acc: 0.2352 - val_loss: 0.0114 - val_acc: 0.2022\n",
      "Epoch 129/200\n",
      "2402/2402 [==============================] - 2s 646us/step - loss: 0.0060 - acc: 0.2352 - val_loss: 0.0111 - val_acc: 0.2022\n",
      "Epoch 130/200\n",
      "2402/2402 [==============================] - 2s 651us/step - loss: 0.0063 - acc: 0.2352 - val_loss: 0.0103 - val_acc: 0.2022\n",
      "Epoch 131/200\n",
      "2402/2402 [==============================] - 2s 655us/step - loss: 0.0061 - acc: 0.2352 - val_loss: 0.0108 - val_acc: 0.2022\n",
      "Epoch 132/200\n",
      "2402/2402 [==============================] - 2s 649us/step - loss: 0.0060 - acc: 0.2352 - val_loss: 0.0110 - val_acc: 0.2022\n",
      "Epoch 133/200\n",
      "2402/2402 [==============================] - 2s 652us/step - loss: 0.0060 - acc: 0.2352 - val_loss: 0.0106 - val_acc: 0.2022\n",
      "Epoch 134/200\n",
      "2402/2402 [==============================] - 2s 651us/step - loss: 0.0061 - acc: 0.2352 - val_loss: 0.0103 - val_acc: 0.2022\n",
      "Epoch 135/200\n",
      "2402/2402 [==============================] - 2s 658us/step - loss: 0.0063 - acc: 0.2352 - val_loss: 0.0100 - val_acc: 0.2022\n",
      "Epoch 136/200\n",
      "2402/2402 [==============================] - 2s 649us/step - loss: 0.0060 - acc: 0.2352 - val_loss: 0.0107 - val_acc: 0.2022\n",
      "Epoch 137/200\n",
      "2402/2402 [==============================] - 2s 650us/step - loss: 0.0060 - acc: 0.2352 - val_loss: 0.0112 - val_acc: 0.2022\n",
      "Epoch 138/200\n",
      "2402/2402 [==============================] - 2s 656us/step - loss: 0.0059 - acc: 0.2352 - val_loss: 0.0111 - val_acc: 0.2022\n",
      "Epoch 139/200\n",
      "2402/2402 [==============================] - 2s 642us/step - loss: 0.0058 - acc: 0.2352 - val_loss: 0.0112 - val_acc: 0.2022\n",
      "Epoch 140/200\n",
      "2402/2402 [==============================] - 2s 648us/step - loss: 0.0060 - acc: 0.2352 - val_loss: 0.0111 - val_acc: 0.2022\n",
      "Epoch 141/200\n",
      "2402/2402 [==============================] - 2s 653us/step - loss: 0.0061 - acc: 0.2352 - val_loss: 0.0109 - val_acc: 0.2022\n",
      "Epoch 142/200\n",
      "2402/2402 [==============================] - 2s 655us/step - loss: 0.0059 - acc: 0.2352 - val_loss: 0.0108 - val_acc: 0.2022\n",
      "Epoch 143/200\n",
      "2402/2402 [==============================] - 2s 649us/step - loss: 0.0060 - acc: 0.2352 - val_loss: 0.0107 - val_acc: 0.2022\n",
      "Epoch 144/200\n",
      "2402/2402 [==============================] - 2s 655us/step - loss: 0.0059 - acc: 0.2352 - val_loss: 0.0103 - val_acc: 0.2022\n",
      "Epoch 145/200\n",
      "2402/2402 [==============================] - 2s 648us/step - loss: 0.0064 - acc: 0.2352 - val_loss: 0.0112 - val_acc: 0.2022\n",
      "Epoch 146/200\n",
      "2402/2402 [==============================] - 2s 651us/step - loss: 0.0059 - acc: 0.2352 - val_loss: 0.0113 - val_acc: 0.2022\n",
      "Epoch 147/200\n",
      "2402/2402 [==============================] - 2s 657us/step - loss: 0.0069 - acc: 0.2352 - val_loss: 0.0106 - val_acc: 0.2022\n",
      "Epoch 148/200\n",
      "2402/2402 [==============================] - 2s 658us/step - loss: 0.0064 - acc: 0.2352 - val_loss: 0.0109 - val_acc: 0.2022\n",
      "Epoch 149/200\n",
      "2402/2402 [==============================] - 2s 653us/step - loss: 0.0060 - acc: 0.2352 - val_loss: 0.0109 - val_acc: 0.2022\n",
      "Epoch 150/200\n",
      "2402/2402 [==============================] - 2s 650us/step - loss: 0.0064 - acc: 0.2352 - val_loss: 0.0108 - val_acc: 0.2022\n",
      "Epoch 151/200\n",
      "2402/2402 [==============================] - 2s 664us/step - loss: 0.0062 - acc: 0.2352 - val_loss: 0.0108 - val_acc: 0.2022\n",
      "Epoch 152/200\n",
      "2402/2402 [==============================] - 2s 660us/step - loss: 0.0060 - acc: 0.2352 - val_loss: 0.0106 - val_acc: 0.2022\n",
      "Epoch 153/200\n",
      "2402/2402 [==============================] - 2s 658us/step - loss: 0.0058 - acc: 0.2352 - val_loss: 0.0114 - val_acc: 0.2022\n",
      "Epoch 154/200\n",
      "2402/2402 [==============================] - 2s 659us/step - loss: 0.0060 - acc: 0.2352 - val_loss: 0.0110 - val_acc: 0.2022\n",
      "Epoch 155/200\n",
      "2402/2402 [==============================] - 2s 662us/step - loss: 0.0058 - acc: 0.2352 - val_loss: 0.0106 - val_acc: 0.2022\n",
      "Epoch 156/200\n",
      "2402/2402 [==============================] - 2s 663us/step - loss: 0.0060 - acc: 0.2352 - val_loss: 0.0103 - val_acc: 0.2022\n",
      "Epoch 157/200\n",
      "2402/2402 [==============================] - 2s 663us/step - loss: 0.0060 - acc: 0.2352 - val_loss: 0.0108 - val_acc: 0.2022\n",
      "Epoch 158/200\n",
      "2402/2402 [==============================] - 2s 665us/step - loss: 0.0068 - acc: 0.2352 - val_loss: 0.0106 - val_acc: 0.2022loss: 0.0070 - acc: 0.2\n",
      "Epoch 159/200\n",
      "2402/2402 [==============================] - 2s 656us/step - loss: 0.0065 - acc: 0.2352 - val_loss: 0.0109 - val_acc: 0.2022\n",
      "Epoch 160/200\n",
      "2402/2402 [==============================] - 2s 660us/step - loss: 0.0061 - acc: 0.2352 - val_loss: 0.0110 - val_acc: 0.2022\n",
      "Epoch 161/200\n",
      "2402/2402 [==============================] - 2s 661us/step - loss: 0.0061 - acc: 0.2352 - val_loss: 0.0107 - val_acc: 0.2022\n",
      "Epoch 162/200\n",
      "2402/2402 [==============================] - 2s 651us/step - loss: 0.0060 - acc: 0.2352 - val_loss: 0.0112 - val_acc: 0.2022\n",
      "Epoch 163/200\n",
      "2402/2402 [==============================] - 2s 651us/step - loss: 0.0088 - acc: 0.2348 - val_loss: 0.0105 - val_acc: 0.2022\n",
      "Epoch 164/200\n",
      "2402/2402 [==============================] - 2s 657us/step - loss: 0.0076 - acc: 0.2348 - val_loss: 0.0102 - val_acc: 0.2022\n",
      "Epoch 165/200\n",
      "2402/2402 [==============================] - 2s 661us/step - loss: 0.0076 - acc: 0.2348 - val_loss: 0.0102 - val_acc: 0.2022\n",
      "Epoch 166/200\n",
      "2402/2402 [==============================] - 2s 655us/step - loss: 0.0072 - acc: 0.2348 - val_loss: 0.0104 - val_acc: 0.2022\n",
      "Epoch 167/200\n",
      "2402/2402 [==============================] - 2s 654us/step - loss: 0.0070 - acc: 0.2348 - val_loss: 0.0101 - val_acc: 0.2022\n",
      "Epoch 168/200\n",
      "2402/2402 [==============================] - 2s 652us/step - loss: 0.0066 - acc: 0.2352 - val_loss: 0.0105 - val_acc: 0.2022\n",
      "Epoch 169/200\n",
      "2402/2402 [==============================] - 2s 652us/step - loss: 0.0064 - acc: 0.2352 - val_loss: 0.0108 - val_acc: 0.2022\n",
      "Epoch 170/200\n",
      "2402/2402 [==============================] - 2s 650us/step - loss: 0.0061 - acc: 0.2352 - val_loss: 0.0111 - val_acc: 0.2022\n",
      "Epoch 171/200\n",
      "2402/2402 [==============================] - 2s 649us/step - loss: 0.0059 - acc: 0.2352 - val_loss: 0.0100 - val_acc: 0.2022\n",
      "Epoch 172/200\n",
      "2402/2402 [==============================] - 2s 649us/step - loss: 0.0062 - acc: 0.2352 - val_loss: 0.0106 - val_acc: 0.2022\n",
      "Epoch 173/200\n",
      "2402/2402 [==============================] - 2s 646us/step - loss: 0.0059 - acc: 0.2352 - val_loss: 0.0110 - val_acc: 0.2022\n",
      "Epoch 174/200\n",
      "2402/2402 [==============================] - 2s 662us/step - loss: 0.0060 - acc: 0.2352 - val_loss: 0.0105 - val_acc: 0.2022\n",
      "Epoch 175/200\n",
      "2402/2402 [==============================] - 2s 652us/step - loss: 0.0060 - acc: 0.2352 - val_loss: 0.0106 - val_acc: 0.2022\n",
      "Epoch 176/200\n",
      "2402/2402 [==============================] - 2s 649us/step - loss: 0.0059 - acc: 0.2352 - val_loss: 0.0105 - val_acc: 0.2022\n"
     ]
    },
    {
     "name": "stdout",
     "output_type": "stream",
     "text": [
      "Epoch 177/200\n",
      "2402/2402 [==============================] - 2s 653us/step - loss: 0.0061 - acc: 0.2352 - val_loss: 0.0109 - val_acc: 0.2022\n",
      "Epoch 178/200\n",
      "2402/2402 [==============================] - 2s 645us/step - loss: 0.0059 - acc: 0.2352 - val_loss: 0.0108 - val_acc: 0.2022\n",
      "Epoch 179/200\n",
      "2402/2402 [==============================] - 2s 677us/step - loss: 0.0063 - acc: 0.2352 - val_loss: 0.0103 - val_acc: 0.2022\n",
      "Epoch 180/200\n",
      "2402/2402 [==============================] - 2s 651us/step - loss: 0.0060 - acc: 0.2352 - val_loss: 0.0107 - val_acc: 0.2022\n",
      "Epoch 181/200\n",
      "2402/2402 [==============================] - 2s 657us/step - loss: 0.0061 - acc: 0.2352 - val_loss: 0.0105 - val_acc: 0.2022\n",
      "Epoch 182/200\n",
      "2402/2402 [==============================] - 2s 653us/step - loss: 0.0058 - acc: 0.2352 - val_loss: 0.0102 - val_acc: 0.2022\n",
      "Epoch 183/200\n",
      "2402/2402 [==============================] - 2s 649us/step - loss: 0.0057 - acc: 0.2352 - val_loss: 0.0108 - val_acc: 0.2022\n",
      "Epoch 184/200\n",
      "2402/2402 [==============================] - 2s 660us/step - loss: 0.0059 - acc: 0.2352 - val_loss: 0.0111 - val_acc: 0.2022\n",
      "Epoch 185/200\n",
      "2402/2402 [==============================] - 2s 650us/step - loss: 0.0061 - acc: 0.2352 - val_loss: 0.0107 - val_acc: 0.2022\n",
      "Epoch 186/200\n",
      "2402/2402 [==============================] - 2s 653us/step - loss: 0.0059 - acc: 0.2352 - val_loss: 0.0106 - val_acc: 0.2022\n",
      "Epoch 187/200\n",
      "2402/2402 [==============================] - 2s 655us/step - loss: 0.0058 - acc: 0.2352 - val_loss: 0.0115 - val_acc: 0.2022\n",
      "Epoch 188/200\n",
      "2402/2402 [==============================] - 2s 652us/step - loss: 0.0060 - acc: 0.2352 - val_loss: 0.0104 - val_acc: 0.2022\n",
      "Epoch 189/200\n",
      "2402/2402 [==============================] - 2s 659us/step - loss: 0.0059 - acc: 0.2352 - val_loss: 0.0116 - val_acc: 0.2022\n",
      "Epoch 190/200\n",
      "2402/2402 [==============================] - 2s 658us/step - loss: 0.0060 - acc: 0.2352 - val_loss: 0.0111 - val_acc: 0.2022\n",
      "Epoch 191/200\n",
      "2402/2402 [==============================] - 2s 679us/step - loss: 0.0060 - acc: 0.2352 - val_loss: 0.0107 - val_acc: 0.2022\n",
      "Epoch 192/200\n",
      "2402/2402 [==============================] - 2s 657us/step - loss: 0.0060 - acc: 0.2352 - val_loss: 0.0111 - val_acc: 0.2022\n",
      "Epoch 193/200\n",
      "2402/2402 [==============================] - 2s 652us/step - loss: 0.0058 - acc: 0.2352 - val_loss: 0.0118 - val_acc: 0.2022\n",
      "Epoch 194/200\n",
      "2402/2402 [==============================] - 2s 650us/step - loss: 0.0060 - acc: 0.2352 - val_loss: 0.0116 - val_acc: 0.2022\n",
      "Epoch 195/200\n",
      "2402/2402 [==============================] - 2s 652us/step - loss: 0.0069 - acc: 0.2348 - val_loss: 0.0121 - val_acc: 0.2022\n",
      "Epoch 196/200\n",
      "2402/2402 [==============================] - 2s 647us/step - loss: 0.0065 - acc: 0.2352 - val_loss: 0.0104 - val_acc: 0.2022\n",
      "Epoch 197/200\n",
      "2402/2402 [==============================] - 2s 652us/step - loss: 0.0061 - acc: 0.2348 - val_loss: 0.0109 - val_acc: 0.2022\n",
      "Epoch 198/200\n",
      "2402/2402 [==============================] - 2s 652us/step - loss: 0.0061 - acc: 0.2352 - val_loss: 0.0106 - val_acc: 0.2022\n",
      "Epoch 199/200\n",
      "2402/2402 [==============================] - 2s 643us/step - loss: 0.0060 - acc: 0.2352 - val_loss: 0.0106 - val_acc: 0.2022\n",
      "Epoch 200/200\n",
      "2402/2402 [==============================] - 2s 650us/step - loss: 0.0060 - acc: 0.2352 - val_loss: 0.0102 - val_acc: 0.2022\n"
     ]
    }
   ],
   "source": [
    "pelatihan3 = regressor.fit(X_train, y_train, validation_split = 0.10, epochs = 200, batch_size = 32)"
   ]
  },
  {
   "cell_type": "code",
   "execution_count": 68,
   "metadata": {},
   "outputs": [
    {
     "data": {
      "image/png": "[encoded data removed]",
      "text/plain": [
       "<Figure size 432x288 with 1 Axes>"
      ]
     },
     "metadata": {
      "needs_background": "light"
     },
     "output_type": "display_data"
    },
    {
     "data": {
      "image/png": "[encoded data removed]",
      "text/plain": [
       "<Figure size 432x288 with 1 Axes>"
      ]
     },
     "metadata": {
      "needs_background": "light"
     },
     "output_type": "display_data"
    }
   ],
   "source": [
    "plot_history(pelatihan3)"
   ]
  },
  {
   "cell_type": "code",
   "execution_count": 69,
   "metadata": {},
   "outputs": [
    {
     "data": {
      "text/plain": [
       "0.0063354799972858014"
      ]
     },
     "execution_count": 69,
     "metadata": {},
     "output_type": "execute_result"
    }
   ],
   "source": [
    "loss_mean3 = stats.mean(pelatihan3.history['loss'])\n",
    "loss_mean3"
   ]
  },
  {
   "cell_type": "code",
   "execution_count": 70,
   "metadata": {},
   "outputs": [
    {
     "data": {
      "text/plain": [
       "0.23519150707743547"
      ]
     },
     "execution_count": 70,
     "metadata": {},
     "output_type": "execute_result"
    }
   ],
   "source": [
    "acc_mean3 = stats.mean(pelatihan3.history['acc'])\n",
    "acc_mean3"
   ]
  },
  {
   "cell_type": "code",
   "execution_count": 71,
   "metadata": {},
   "outputs": [
    {
     "data": {
      "text/plain": [
       "0.010652216956553953"
      ]
     },
     "execution_count": 71,
     "metadata": {},
     "output_type": "execute_result"
    }
   ],
   "source": [
    "valloss_mean3 = stats.mean(pelatihan3.history['val_loss'])\n",
    "valloss_mean3"
   ]
  },
  {
   "cell_type": "code",
   "execution_count": 72,
   "metadata": {},
   "outputs": [
    {
     "data": {
      "text/plain": [
       "0.2022471913460935"
      ]
     },
     "execution_count": 72,
     "metadata": {},
     "output_type": "execute_result"
    }
   ],
   "source": [
    "val_acc_mean3 = stats.mean(pelatihan3.history['val_acc'])\n",
    "val_acc_mean3"
   ]
  },
  {
   "cell_type": "code",
   "execution_count": 73,
   "metadata": {},
   "outputs": [],
   "source": [
    "predicted_RR3 = regressor.predict(X_test)"
   ]
  },
  {
   "cell_type": "code",
   "execution_count": 74,
   "metadata": {},
   "outputs": [
    {
     "data": {
      "text/plain": [
       "(297, 1)"
      ]
     },
     "execution_count": 74,
     "metadata": {},
     "output_type": "execute_result"
    }
   ],
   "source": [
    "predicted_RR3.shape"
   ]
  },
  {
   "cell_type": "code",
   "execution_count": 75,
   "metadata": {},
   "outputs": [],
   "source": [
    "predicted_RReal3 = np.hstack((X_testReal,predicted_RR3))"
   ]
  },
  {
   "cell_type": "code",
   "execution_count": 76,
   "metadata": {},
   "outputs": [],
   "source": [
    "predicted_RReal_c = sc.inverse_transform(predicted_RReal3)"
   ]
  },
  {
   "cell_type": "code",
   "execution_count": 77,
   "metadata": {},
   "outputs": [],
   "source": [
    "percobaan3 = predicted_RReal_c[:,19] "
   ]
  },
  {
   "cell_type": "code",
   "execution_count": 78,
   "metadata": {},
   "outputs": [
    {
     "data": {
      "image/png": "[encoded data removed]",
      "text/plain": [
       "<Figure size 432x288 with 1 Axes>"
      ]
     },
     "metadata": {
      "needs_background": "light"
     },
     "output_type": "display_data"
    }
   ],
   "source": [
    "# Visualising the results\n",
    "plt.plot(real_data[:,19], color = 'red', label = 'y_test')\n",
    "plt.plot(percobaan3, color = 'blue', label = 'Predicted RR')\n",
    "plt.title('Curah hujan')\n",
    "plt.xlabel('Urutan ke-')\n",
    "plt.ylabel('Besarnya')\n",
    "plt.legend()\n",
    "plt.show()"
   ]
  },
  {
   "cell_type": "code",
   "execution_count": 79,
   "metadata": {},
   "outputs": [
    {
     "data": {
      "text/plain": [
       "257.4070885478975"
      ]
     },
     "execution_count": 79,
     "metadata": {},
     "output_type": "execute_result"
    }
   ],
   "source": [
    "mse3 = mean_squared_error(real_data[:,19],percobaan3)\n",
    "mse3"
   ]
  },
  {
   "cell_type": "markdown",
   "metadata": {},
   "source": [
    "PERCOBAAN 4"
   ]
  },
  {
   "cell_type": "code",
   "execution_count": 80,
   "metadata": {},
   "outputs": [
    {
     "name": "stdout",
     "output_type": "stream",
     "text": [
      "Train on 2402 samples, validate on 267 samples\n",
      "Epoch 1/200\n",
      "2402/2402 [==============================] - 2s 665us/step - loss: 0.0058 - acc: 0.2352 - val_loss: 0.0106 - val_acc: 0.2022\n",
      "Epoch 2/200\n",
      "2402/2402 [==============================] - 2s 649us/step - loss: 0.0059 - acc: 0.2352 - val_loss: 0.0103 - val_acc: 0.2022\n",
      "Epoch 3/200\n",
      "2402/2402 [==============================] - 2s 651us/step - loss: 0.0059 - acc: 0.2352 - val_loss: 0.0107 - val_acc: 0.2022\n",
      "Epoch 4/200\n",
      "2402/2402 [==============================] - 2s 650us/step - loss: 0.0057 - acc: 0.2352 - val_loss: 0.0106 - val_acc: 0.2022\n",
      "Epoch 5/200\n",
      "2402/2402 [==============================] - 2s 656us/step - loss: 0.0059 - acc: 0.2352 - val_loss: 0.0104 - val_acc: 0.2022\n",
      "Epoch 6/200\n",
      "2402/2402 [==============================] - 2s 645us/step - loss: 0.0058 - acc: 0.2352 - val_loss: 0.0105 - val_acc: 0.2022\n",
      "Epoch 7/200\n",
      "2402/2402 [==============================] - 2s 652us/step - loss: 0.0056 - acc: 0.2352 - val_loss: 0.0105 - val_acc: 0.2022\n",
      "Epoch 8/200\n",
      "2402/2402 [==============================] - 2s 653us/step - loss: 0.0059 - acc: 0.2352 - val_loss: 0.0110 - val_acc: 0.2022\n",
      "Epoch 9/200\n",
      "2402/2402 [==============================] - 2s 649us/step - loss: 0.0059 - acc: 0.2352 - val_loss: 0.0101 - val_acc: 0.2022\n",
      "Epoch 10/200\n",
      "2402/2402 [==============================] - 2s 650us/step - loss: 0.0059 - acc: 0.2352 - val_loss: 0.0107 - val_acc: 0.2022\n",
      "Epoch 11/200\n",
      "2402/2402 [==============================] - 2s 647us/step - loss: 0.0058 - acc: 0.2352 - val_loss: 0.0107 - val_acc: 0.2022\n",
      "Epoch 12/200\n",
      "2402/2402 [==============================] - 2s 649us/step - loss: 0.0058 - acc: 0.2352 - val_loss: 0.0105 - val_acc: 0.2022\n",
      "Epoch 13/200\n",
      "2402/2402 [==============================] - 2s 652us/step - loss: 0.0056 - acc: 0.2352 - val_loss: 0.0108 - val_acc: 0.2022\n",
      "Epoch 14/200\n",
      "2402/2402 [==============================] - 2s 652us/step - loss: 0.0057 - acc: 0.2352 - val_loss: 0.0112 - val_acc: 0.2022\n",
      "Epoch 15/200\n",
      "2402/2402 [==============================] - 2s 647us/step - loss: 0.0057 - acc: 0.2352 - val_loss: 0.0105 - val_acc: 0.2022\n",
      "Epoch 16/200\n",
      "2402/2402 [==============================] - 2s 652us/step - loss: 0.0058 - acc: 0.2352 - val_loss: 0.0105 - val_acc: 0.2022\n",
      "Epoch 17/200\n",
      "2402/2402 [==============================] - 2s 656us/step - loss: 0.0057 - acc: 0.2352 - val_loss: 0.0112 - val_acc: 0.2022\n",
      "Epoch 18/200\n",
      "2402/2402 [==============================] - 2s 652us/step - loss: 0.0057 - acc: 0.2352 - val_loss: 0.0117 - val_acc: 0.2022\n",
      "Epoch 19/200\n",
      "2402/2402 [==============================] - 2s 664us/step - loss: 0.0061 - acc: 0.2352 - val_loss: 0.0115 - val_acc: 0.2022\n",
      "Epoch 20/200\n",
      "2402/2402 [==============================] - 2s 652us/step - loss: 0.0060 - acc: 0.2348 - val_loss: 0.0114 - val_acc: 0.2022\n",
      "Epoch 21/200\n",
      "2402/2402 [==============================] - 2s 661us/step - loss: 0.0059 - acc: 0.2352 - val_loss: 0.0111 - val_acc: 0.2022\n",
      "Epoch 22/200\n",
      "2402/2402 [==============================] - 2s 697us/step - loss: 0.0059 - acc: 0.2352 - val_loss: 0.0106 - val_acc: 0.2022\n",
      "Epoch 23/200\n",
      "2402/2402 [==============================] - 2s 680us/step - loss: 0.0061 - acc: 0.2352 - val_loss: 0.0112 - val_acc: 0.2022\n",
      "Epoch 24/200\n",
      "2402/2402 [==============================] - 2s 691us/step - loss: 0.0058 - acc: 0.2352 - val_loss: 0.0109 - val_acc: 0.2022\n",
      "Epoch 25/200\n",
      "2402/2402 [==============================] - 2s 696us/step - loss: 0.0061 - acc: 0.2352 - val_loss: 0.0106 - val_acc: 0.2022\n",
      "Epoch 26/200\n",
      "2402/2402 [==============================] - 2s 693us/step - loss: 0.0057 - acc: 0.2352 - val_loss: 0.0108 - val_acc: 0.2022\n",
      "Epoch 27/200\n",
      "2402/2402 [==============================] - 2s 701us/step - loss: 0.0060 - acc: 0.2352 - val_loss: 0.0106 - val_acc: 0.2022\n",
      "Epoch 28/200\n",
      "2402/2402 [==============================] - 2s 679us/step - loss: 0.0059 - acc: 0.2352 - val_loss: 0.0121 - val_acc: 0.2022\n",
      "Epoch 29/200\n",
      "2402/2402 [==============================] - 2s 649us/step - loss: 0.0061 - acc: 0.2348 - val_loss: 0.0100 - val_acc: 0.2022\n",
      "Epoch 30/200\n",
      "2402/2402 [==============================] - 2s 659us/step - loss: 0.0057 - acc: 0.2352 - val_loss: 0.0111 - val_acc: 0.2022\n",
      "Epoch 31/200\n",
      "2402/2402 [==============================] - 2s 653us/step - loss: 0.0059 - acc: 0.2352 - val_loss: 0.0115 - val_acc: 0.2022\n",
      "Epoch 32/200\n",
      "2402/2402 [==============================] - 2s 648us/step - loss: 0.0066 - acc: 0.2352 - val_loss: 0.0111 - val_acc: 0.2022\n",
      "Epoch 33/200\n",
      "2402/2402 [==============================] - 2s 650us/step - loss: 0.0063 - acc: 0.2352 - val_loss: 0.0104 - val_acc: 0.2022\n",
      "Epoch 34/200\n",
      "2402/2402 [==============================] - 2s 651us/step - loss: 0.0058 - acc: 0.2352 - val_loss: 0.0113 - val_acc: 0.2022\n",
      "Epoch 35/200\n",
      "2402/2402 [==============================] - 2s 651us/step - loss: 0.0062 - acc: 0.2352 - val_loss: 0.0116 - val_acc: 0.2022\n",
      "Epoch 36/200\n",
      "2402/2402 [==============================] - 2s 650us/step - loss: 0.0060 - acc: 0.2352 - val_loss: 0.0104 - val_acc: 0.2022\n",
      "Epoch 37/200\n",
      "2402/2402 [==============================] - 2s 654us/step - loss: 0.0056 - acc: 0.2352 - val_loss: 0.0106 - val_acc: 0.2022\n",
      "Epoch 38/200\n",
      "2402/2402 [==============================] - 2s 652us/step - loss: 0.0058 - acc: 0.2352 - val_loss: 0.0114 - val_acc: 0.2022\n",
      "Epoch 39/200\n",
      "2402/2402 [==============================] - 2s 652us/step - loss: 0.0056 - acc: 0.2352 - val_loss: 0.0126 - val_acc: 0.2022\n",
      "Epoch 40/200\n",
      "2402/2402 [==============================] - 2s 655us/step - loss: 0.0062 - acc: 0.2352 - val_loss: 0.0121 - val_acc: 0.2022\n",
      "Epoch 41/200\n",
      "2402/2402 [==============================] - 2s 647us/step - loss: 0.0058 - acc: 0.2352 - val_loss: 0.0110 - val_acc: 0.2022\n",
      "Epoch 42/200\n",
      "2402/2402 [==============================] - 2s 648us/step - loss: 0.0059 - acc: 0.2352 - val_loss: 0.0105 - val_acc: 0.2022\n",
      "Epoch 43/200\n",
      "2402/2402 [==============================] - 2s 647us/step - loss: 0.0059 - acc: 0.2352 - val_loss: 0.0108 - val_acc: 0.2022\n",
      "Epoch 44/200\n",
      "2402/2402 [==============================] - 2s 646us/step - loss: 0.0057 - acc: 0.2352 - val_loss: 0.0116 - val_acc: 0.2022\n",
      "Epoch 45/200\n",
      "2402/2402 [==============================] - 2s 647us/step - loss: 0.0055 - acc: 0.2352 - val_loss: 0.0107 - val_acc: 0.2022\n",
      "Epoch 46/200\n",
      "2402/2402 [==============================] - 2s 649us/step - loss: 0.0057 - acc: 0.2352 - val_loss: 0.0115 - val_acc: 0.2022\n",
      "Epoch 47/200\n",
      "2402/2402 [==============================] - 2s 649us/step - loss: 0.0058 - acc: 0.2352 - val_loss: 0.0109 - val_acc: 0.2022\n",
      "Epoch 48/200\n",
      "2402/2402 [==============================] - 2s 654us/step - loss: 0.0059 - acc: 0.2352 - val_loss: 0.0115 - val_acc: 0.2022\n",
      "Epoch 49/200\n",
      "2402/2402 [==============================] - 2s 658us/step - loss: 0.0058 - acc: 0.2352 - val_loss: 0.0107 - val_acc: 0.2022\n",
      "Epoch 50/200\n",
      "2402/2402 [==============================] - 2s 650us/step - loss: 0.0060 - acc: 0.2348 - val_loss: 0.0112 - val_acc: 0.2022\n",
      "Epoch 51/200\n",
      "2402/2402 [==============================] - 2s 662us/step - loss: 0.0056 - acc: 0.2352 - val_loss: 0.0113 - val_acc: 0.2022\n",
      "Epoch 52/200\n",
      "2402/2402 [==============================] - 2s 654us/step - loss: 0.0057 - acc: 0.2352 - val_loss: 0.0114 - val_acc: 0.2022\n",
      "Epoch 53/200\n",
      "2402/2402 [==============================] - 2s 660us/step - loss: 0.0057 - acc: 0.2352 - val_loss: 0.0123 - val_acc: 0.2022\n",
      "Epoch 54/200\n",
      "2402/2402 [==============================] - 2s 651us/step - loss: 0.0057 - acc: 0.2352 - val_loss: 0.0112 - val_acc: 0.2022\n",
      "Epoch 55/200\n",
      "2402/2402 [==============================] - 2s 652us/step - loss: 0.0059 - acc: 0.2352 - val_loss: 0.0127 - val_acc: 0.2022\n",
      "Epoch 56/200\n",
      "2402/2402 [==============================] - 2s 650us/step - loss: 0.0060 - acc: 0.2352 - val_loss: 0.0109 - val_acc: 0.2022\n",
      "Epoch 57/200\n",
      "2402/2402 [==============================] - 2s 651us/step - loss: 0.0056 - acc: 0.2352 - val_loss: 0.0119 - val_acc: 0.2022\n",
      "Epoch 58/200\n",
      "2402/2402 [==============================] - 2s 652us/step - loss: 0.0057 - acc: 0.2352 - val_loss: 0.0105 - val_acc: 0.2022\n",
      "Epoch 59/200\n",
      "2402/2402 [==============================] - 2s 655us/step - loss: 0.0057 - acc: 0.2352 - val_loss: 0.0125 - val_acc: 0.2022\n",
      "Epoch 60/200\n"
     ]
    },
    {
     "name": "stdout",
     "output_type": "stream",
     "text": [
      "2402/2402 [==============================] - 2s 648us/step - loss: 0.0058 - acc: 0.2352 - val_loss: 0.0119 - val_acc: 0.2022\n",
      "Epoch 61/200\n",
      "2402/2402 [==============================] - 2s 658us/step - loss: 0.0056 - acc: 0.2352 - val_loss: 0.0113 - val_acc: 0.2022\n",
      "Epoch 62/200\n",
      "2402/2402 [==============================] - 2s 651us/step - loss: 0.0055 - acc: 0.2352 - val_loss: 0.0110 - val_acc: 0.2022\n",
      "Epoch 63/200\n",
      "2402/2402 [==============================] - 2s 654us/step - loss: 0.0059 - acc: 0.2352 - val_loss: 0.0106 - val_acc: 0.2022\n",
      "Epoch 64/200\n",
      "2402/2402 [==============================] - 2s 646us/step - loss: 0.0055 - acc: 0.2352 - val_loss: 0.0120 - val_acc: 0.2022\n",
      "Epoch 65/200\n",
      "2402/2402 [==============================] - 2s 636us/step - loss: 0.0056 - acc: 0.2352 - val_loss: 0.0117 - val_acc: 0.2022\n",
      "Epoch 66/200\n",
      "2402/2402 [==============================] - 2s 657us/step - loss: 0.0056 - acc: 0.2352 - val_loss: 0.0122 - val_acc: 0.2022\n",
      "Epoch 67/200\n",
      "2402/2402 [==============================] - 2s 650us/step - loss: 0.0057 - acc: 0.2352 - val_loss: 0.0110 - val_acc: 0.2022\n",
      "Epoch 68/200\n",
      "2402/2402 [==============================] - 2s 658us/step - loss: 0.0059 - acc: 0.2352 - val_loss: 0.0108 - val_acc: 0.2022\n",
      "Epoch 69/200\n",
      "2402/2402 [==============================] - 2s 656us/step - loss: 0.0053 - acc: 0.2352 - val_loss: 0.0116 - val_acc: 0.2022\n",
      "Epoch 70/200\n",
      "2402/2402 [==============================] - 2s 652us/step - loss: 0.0056 - acc: 0.2352 - val_loss: 0.0118 - val_acc: 0.2022\n",
      "Epoch 71/200\n",
      "2402/2402 [==============================] - 2s 652us/step - loss: 0.0055 - acc: 0.2352 - val_loss: 0.0123 - val_acc: 0.2022\n",
      "Epoch 72/200\n",
      "2402/2402 [==============================] - 2s 653us/step - loss: 0.0054 - acc: 0.2352 - val_loss: 0.0112 - val_acc: 0.2022\n",
      "Epoch 73/200\n",
      "2402/2402 [==============================] - 2s 652us/step - loss: 0.0056 - acc: 0.2352 - val_loss: 0.0112 - val_acc: 0.2022\n",
      "Epoch 74/200\n",
      "2402/2402 [==============================] - ETA: 0s - loss: 0.0058 - acc: 0.2346- ETA: 0s - loss: 0.0062 - - 2s 655us/step - loss: 0.0058 - acc: 0.2352 - val_loss: 0.0116 - val_acc: 0.2022\n",
      "Epoch 75/200\n",
      "2402/2402 [==============================] - 2s 651us/step - loss: 0.0056 - acc: 0.2352 - val_loss: 0.0118 - val_acc: 0.2022\n",
      "Epoch 76/200\n",
      "2402/2402 [==============================] - 2s 651us/step - loss: 0.0055 - acc: 0.2352 - val_loss: 0.0111 - val_acc: 0.2022\n",
      "Epoch 77/200\n",
      "2402/2402 [==============================] - 2s 654us/step - loss: 0.0057 - acc: 0.2352 - val_loss: 0.0114 - val_acc: 0.2022\n",
      "Epoch 78/200\n",
      "2402/2402 [==============================] - 2s 654us/step - loss: 0.0057 - acc: 0.2352 - val_loss: 0.0114 - val_acc: 0.2022\n",
      "Epoch 79/200\n",
      "2402/2402 [==============================] - 2s 643us/step - loss: 0.0057 - acc: 0.2352 - val_loss: 0.0115 - val_acc: 0.2022\n",
      "Epoch 80/200\n",
      "2402/2402 [==============================] - 2s 657us/step - loss: 0.0055 - acc: 0.2352 - val_loss: 0.0112 - val_acc: 0.2022\n",
      "Epoch 81/200\n",
      "2402/2402 [==============================] - 2s 649us/step - loss: 0.0056 - acc: 0.2352 - val_loss: 0.0119 - val_acc: 0.2022\n",
      "Epoch 82/200\n",
      "2402/2402 [==============================] - 2s 650us/step - loss: 0.0056 - acc: 0.2352 - val_loss: 0.0112 - val_acc: 0.2022\n",
      "Epoch 83/200\n",
      "2402/2402 [==============================] - 2s 649us/step - loss: 0.0054 - acc: 0.2352 - val_loss: 0.0118 - val_acc: 0.2022\n",
      "Epoch 84/200\n",
      "2402/2402 [==============================] - 2s 651us/step - loss: 0.0059 - acc: 0.2352 - val_loss: 0.0123 - val_acc: 0.2022\n",
      "Epoch 85/200\n",
      "2402/2402 [==============================] - 2s 645us/step - loss: 0.0055 - acc: 0.2352 - val_loss: 0.0120 - val_acc: 0.2022\n",
      "Epoch 86/200\n",
      "2402/2402 [==============================] - ETA: 0s - loss: 0.0057 - acc: 0.233 - 2s 651us/step - loss: 0.0057 - acc: 0.2352 - val_loss: 0.0112 - val_acc: 0.2022\n",
      "Epoch 87/200\n",
      "2402/2402 [==============================] - 2s 649us/step - loss: 0.0056 - acc: 0.2352 - val_loss: 0.0120 - val_acc: 0.2022\n",
      "Epoch 88/200\n",
      "2402/2402 [==============================] - 2s 648us/step - loss: 0.0058 - acc: 0.2352 - val_loss: 0.0118 - val_acc: 0.2022\n",
      "Epoch 89/200\n",
      "2402/2402 [==============================] - 2s 657us/step - loss: 0.0059 - acc: 0.2352 - val_loss: 0.0108 - val_acc: 0.2022\n",
      "Epoch 90/200\n",
      "2402/2402 [==============================] - 2s 659us/step - loss: 0.0056 - acc: 0.2352 - val_loss: 0.0116 - val_acc: 0.2022\n",
      "Epoch 91/200\n",
      "2402/2402 [==============================] - 2s 656us/step - loss: 0.0054 - acc: 0.2352 - val_loss: 0.0121 - val_acc: 0.2022\n",
      "Epoch 92/200\n",
      "2402/2402 [==============================] - 2s 651us/step - loss: 0.0054 - acc: 0.2352 - val_loss: 0.0126 - val_acc: 0.2022\n",
      "Epoch 93/200\n",
      "2402/2402 [==============================] - 2s 654us/step - loss: 0.0055 - acc: 0.2352 - val_loss: 0.0118 - val_acc: 0.2022\n",
      "Epoch 94/200\n",
      "2402/2402 [==============================] - 2s 651us/step - loss: 0.0060 - acc: 0.2352 - val_loss: 0.0112 - val_acc: 0.2022\n",
      "Epoch 95/200\n",
      "2402/2402 [==============================] - 2s 658us/step - loss: 0.0056 - acc: 0.2352 - val_loss: 0.0123 - val_acc: 0.2022\n",
      "Epoch 96/200\n",
      "2402/2402 [==============================] - 2s 650us/step - loss: 0.0052 - acc: 0.2352 - val_loss: 0.0121 - val_acc: 0.2022\n",
      "Epoch 97/200\n",
      "2402/2402 [==============================] - 2s 655us/step - loss: 0.0053 - acc: 0.2352 - val_loss: 0.0114 - val_acc: 0.2022\n",
      "Epoch 98/200\n",
      "2402/2402 [==============================] - 2s 653us/step - loss: 0.0056 - acc: 0.2352 - val_loss: 0.0122 - val_acc: 0.2022\n",
      "Epoch 99/200\n",
      "2402/2402 [==============================] - 2s 649us/step - loss: 0.0056 - acc: 0.2352 - val_loss: 0.0123 - val_acc: 0.2022\n",
      "Epoch 100/200\n",
      "2402/2402 [==============================] - 2s 651us/step - loss: 0.0057 - acc: 0.2352 - val_loss: 0.0118 - val_acc: 0.2022\n",
      "Epoch 101/200\n",
      "2402/2402 [==============================] - 2s 657us/step - loss: 0.0057 - acc: 0.2352 - val_loss: 0.0116 - val_acc: 0.2022\n",
      "Epoch 102/200\n",
      "2402/2402 [==============================] - 2s 644us/step - loss: 0.0056 - acc: 0.2352 - val_loss: 0.0114 - val_acc: 0.2022\n",
      "Epoch 103/200\n",
      "2402/2402 [==============================] - 2s 651us/step - loss: 0.0055 - acc: 0.2352 - val_loss: 0.0111 - val_acc: 0.2022\n",
      "Epoch 104/200\n",
      "2402/2402 [==============================] - 2s 654us/step - loss: 0.0054 - acc: 0.2352 - val_loss: 0.0117 - val_acc: 0.2022\n",
      "Epoch 105/200\n",
      "2402/2402 [==============================] - 2s 650us/step - loss: 0.0055 - acc: 0.2352 - val_loss: 0.0115 - val_acc: 0.2022\n",
      "Epoch 106/200\n",
      "2402/2402 [==============================] - 2s 661us/step - loss: 0.0057 - acc: 0.2352 - val_loss: 0.0129 - val_acc: 0.2022\n",
      "Epoch 107/200\n",
      "2402/2402 [==============================] - 2s 652us/step - loss: 0.0062 - acc: 0.2352 - val_loss: 0.0121 - val_acc: 0.2022\n",
      "Epoch 108/200\n",
      "2402/2402 [==============================] - 2s 657us/step - loss: 0.0054 - acc: 0.2352 - val_loss: 0.0114 - val_acc: 0.2022\n",
      "Epoch 109/200\n",
      "2402/2402 [==============================] - 2s 656us/step - loss: 0.0059 - acc: 0.2352 - val_loss: 0.0115 - val_acc: 0.2022\n",
      "Epoch 110/200\n",
      "2402/2402 [==============================] - 2s 653us/step - loss: 0.0056 - acc: 0.2352 - val_loss: 0.0115 - val_acc: 0.2022\n",
      "Epoch 111/200\n",
      "2402/2402 [==============================] - 2s 650us/step - loss: 0.0055 - acc: 0.2352 - val_loss: 0.0119 - val_acc: 0.2022\n",
      "Epoch 112/200\n",
      "2402/2402 [==============================] - 2s 652us/step - loss: 0.0056 - acc: 0.2352 - val_loss: 0.0114 - val_acc: 0.2022\n",
      "Epoch 113/200\n",
      "2402/2402 [==============================] - 2s 654us/step - loss: 0.0053 - acc: 0.2352 - val_loss: 0.0119 - val_acc: 0.2022\n",
      "Epoch 114/200\n",
      "2402/2402 [==============================] - 2s 649us/step - loss: 0.0053 - acc: 0.2352 - val_loss: 0.0116 - val_acc: 0.2022\n",
      "Epoch 115/200\n",
      "2402/2402 [==============================] - 2s 648us/step - loss: 0.0058 - acc: 0.2352 - val_loss: 0.0127 - val_acc: 0.2022\n",
      "Epoch 116/200\n",
      "2402/2402 [==============================] - 2s 650us/step - loss: 0.0057 - acc: 0.2352 - val_loss: 0.0114 - val_acc: 0.2022\n",
      "Epoch 117/200\n",
      "2402/2402 [==============================] - 2s 648us/step - loss: 0.0056 - acc: 0.2352 - val_loss: 0.0114 - val_acc: 0.2022\n",
      "Epoch 118/200\n"
     ]
    },
    {
     "name": "stdout",
     "output_type": "stream",
     "text": [
      "2402/2402 [==============================] - 2s 664us/step - loss: 0.0056 - acc: 0.2352 - val_loss: 0.0120 - val_acc: 0.2022\n",
      "Epoch 119/200\n",
      "2402/2402 [==============================] - 2s 654us/step - loss: 0.0056 - acc: 0.2352 - val_loss: 0.0120 - val_acc: 0.2022\n",
      "Epoch 120/200\n",
      "2402/2402 [==============================] - 2s 649us/step - loss: 0.0053 - acc: 0.2352 - val_loss: 0.0125 - val_acc: 0.2022\n",
      "Epoch 121/200\n",
      "2402/2402 [==============================] - 2s 656us/step - loss: 0.0056 - acc: 0.2352 - val_loss: 0.0124 - val_acc: 0.2022\n",
      "Epoch 122/200\n",
      "2402/2402 [==============================] - 2s 654us/step - loss: 0.0057 - acc: 0.2352 - val_loss: 0.0123 - val_acc: 0.2022\n",
      "Epoch 123/200\n",
      "2402/2402 [==============================] - 2s 648us/step - loss: 0.0051 - acc: 0.2352 - val_loss: 0.0116 - val_acc: 0.2022\n",
      "Epoch 124/200\n",
      "2402/2402 [==============================] - 2s 655us/step - loss: 0.0058 - acc: 0.2352 - val_loss: 0.0120 - val_acc: 0.2022\n",
      "Epoch 125/200\n",
      "2402/2402 [==============================] - 2s 649us/step - loss: 0.0054 - acc: 0.2352 - val_loss: 0.0117 - val_acc: 0.2022\n",
      "Epoch 126/200\n",
      "2402/2402 [==============================] - 2s 654us/step - loss: 0.0056 - acc: 0.2352 - val_loss: 0.0117 - val_acc: 0.2022\n",
      "Epoch 127/200\n",
      "2402/2402 [==============================] - 2s 654us/step - loss: 0.0055 - acc: 0.2352 - val_loss: 0.0120 - val_acc: 0.2022\n",
      "Epoch 128/200\n",
      "2402/2402 [==============================] - 2s 647us/step - loss: 0.0053 - acc: 0.2352 - val_loss: 0.0118 - val_acc: 0.2022\n",
      "Epoch 129/200\n",
      "2402/2402 [==============================] - 2s 650us/step - loss: 0.0054 - acc: 0.2352 - val_loss: 0.0099 - val_acc: 0.2022\n",
      "Epoch 130/200\n",
      "2402/2402 [==============================] - 2s 645us/step - loss: 0.0060 - acc: 0.2348 - val_loss: 0.0118 - val_acc: 0.2022\n",
      "Epoch 131/200\n",
      "2402/2402 [==============================] - 2s 647us/step - loss: 0.0054 - acc: 0.2352 - val_loss: 0.0121 - val_acc: 0.2022\n",
      "Epoch 132/200\n",
      "2402/2402 [==============================] - 2s 646us/step - loss: 0.0056 - acc: 0.2352 - val_loss: 0.0110 - val_acc: 0.2022\n",
      "Epoch 133/200\n",
      "2402/2402 [==============================] - 2s 650us/step - loss: 0.0052 - acc: 0.2352 - val_loss: 0.0120 - val_acc: 0.2022\n",
      "Epoch 134/200\n",
      "2402/2402 [==============================] - 2s 653us/step - loss: 0.0055 - acc: 0.2352 - val_loss: 0.0126 - val_acc: 0.2022\n",
      "Epoch 135/200\n",
      "2402/2402 [==============================] - 2s 652us/step - loss: 0.0053 - acc: 0.2352 - val_loss: 0.0118 - val_acc: 0.2022\n",
      "Epoch 136/200\n",
      "2402/2402 [==============================] - 2s 645us/step - loss: 0.0052 - acc: 0.2352 - val_loss: 0.0113 - val_acc: 0.2022\n",
      "Epoch 137/200\n",
      "2402/2402 [==============================] - 2s 648us/step - loss: 0.0053 - acc: 0.2352 - val_loss: 0.0121 - val_acc: 0.2022\n",
      "Epoch 138/200\n",
      "2402/2402 [==============================] - 2s 657us/step - loss: 0.0054 - acc: 0.2352 - val_loss: 0.0120 - val_acc: 0.2022\n",
      "Epoch 139/200\n",
      "2402/2402 [==============================] - 2s 645us/step - loss: 0.0053 - acc: 0.2352 - val_loss: 0.0118 - val_acc: 0.2022\n",
      "Epoch 140/200\n",
      "2402/2402 [==============================] - 2s 647us/step - loss: 0.0052 - acc: 0.2352 - val_loss: 0.0115 - val_acc: 0.2022\n",
      "Epoch 141/200\n",
      "2402/2402 [==============================] - 2s 649us/step - loss: 0.0055 - acc: 0.2352 - val_loss: 0.0114 - val_acc: 0.2022\n",
      "Epoch 142/200\n",
      "2402/2402 [==============================] - 2s 639us/step - loss: 0.0053 - acc: 0.2352 - val_loss: 0.0116 - val_acc: 0.2022\n",
      "Epoch 143/200\n",
      "2402/2402 [==============================] - 2s 675us/step - loss: 0.0054 - acc: 0.2352 - val_loss: 0.0115 - val_acc: 0.2022\n",
      "Epoch 144/200\n",
      "2402/2402 [==============================] - 2s 660us/step - loss: 0.0054 - acc: 0.2352 - val_loss: 0.0113 - val_acc: 0.2022\n",
      "Epoch 145/200\n",
      "2402/2402 [==============================] - 2s 653us/step - loss: 0.0054 - acc: 0.2352 - val_loss: 0.0125 - val_acc: 0.2022\n",
      "Epoch 146/200\n",
      "2402/2402 [==============================] - 2s 655us/step - loss: 0.0052 - acc: 0.2352 - val_loss: 0.0122 - val_acc: 0.2022\n",
      "Epoch 147/200\n",
      "2402/2402 [==============================] - 2s 656us/step - loss: 0.0056 - acc: 0.2352 - val_loss: 0.0121 - val_acc: 0.2022\n",
      "Epoch 148/200\n",
      "2402/2402 [==============================] - 2s 655us/step - loss: 0.0054 - acc: 0.2352 - val_loss: 0.0121 - val_acc: 0.2022\n",
      "Epoch 149/200\n",
      "2402/2402 [==============================] - 2s 651us/step - loss: 0.0053 - acc: 0.2352 - val_loss: 0.0112 - val_acc: 0.2022\n",
      "Epoch 150/200\n",
      "2402/2402 [==============================] - ETA: 0s - loss: 0.0053 - acc: 0.234 - 2s 659us/step - loss: 0.0053 - acc: 0.2352 - val_loss: 0.0120 - val_acc: 0.2022\n",
      "Epoch 151/200\n",
      "2402/2402 [==============================] - 2s 651us/step - loss: 0.0055 - acc: 0.2352 - val_loss: 0.0111 - val_acc: 0.2022\n",
      "Epoch 152/200\n",
      "2402/2402 [==============================] - 2s 647us/step - loss: 0.0052 - acc: 0.2352 - val_loss: 0.0121 - val_acc: 0.2022\n",
      "Epoch 153/200\n",
      "2402/2402 [==============================] - 2s 647us/step - loss: 0.0055 - acc: 0.2352 - val_loss: 0.0119 - val_acc: 0.2022\n",
      "Epoch 154/200\n",
      "2402/2402 [==============================] - 2s 650us/step - loss: 0.0056 - acc: 0.2352 - val_loss: 0.0122 - val_acc: 0.2022\n",
      "Epoch 155/200\n",
      "2402/2402 [==============================] - 2s 643us/step - loss: 0.0054 - acc: 0.2352 - val_loss: 0.0127 - val_acc: 0.2022\n",
      "Epoch 156/200\n",
      "2402/2402 [==============================] - 2s 654us/step - loss: 0.0051 - acc: 0.2352 - val_loss: 0.0119 - val_acc: 0.2022\n",
      "Epoch 157/200\n",
      "2402/2402 [==============================] - 2s 647us/step - loss: 0.0052 - acc: 0.2352 - val_loss: 0.0116 - val_acc: 0.2022\n",
      "Epoch 158/200\n",
      "2402/2402 [==============================] - 2s 647us/step - loss: 0.0055 - acc: 0.2352 - val_loss: 0.0130 - val_acc: 0.2022\n",
      "Epoch 159/200\n",
      "2402/2402 [==============================] - 2s 657us/step - loss: 0.0059 - acc: 0.2352 - val_loss: 0.0114 - val_acc: 0.2022\n",
      "Epoch 160/200\n",
      "2402/2402 [==============================] - 2s 655us/step - loss: 0.0056 - acc: 0.2352 - val_loss: 0.0121 - val_acc: 0.2022\n",
      "Epoch 161/200\n",
      "2402/2402 [==============================] - 2s 653us/step - loss: 0.0053 - acc: 0.2352 - val_loss: 0.0121 - val_acc: 0.2022\n",
      "Epoch 162/200\n",
      "2402/2402 [==============================] - 2s 652us/step - loss: 0.0055 - acc: 0.2352 - val_loss: 0.0125 - val_acc: 0.2022\n",
      "Epoch 163/200\n",
      "2402/2402 [==============================] - 2s 650us/step - loss: 0.0054 - acc: 0.2352 - val_loss: 0.0122 - val_acc: 0.2022\n",
      "Epoch 164/200\n",
      "2402/2402 [==============================] - 2s 656us/step - loss: 0.0053 - acc: 0.2352 - val_loss: 0.0118 - val_acc: 0.2022\n",
      "Epoch 165/200\n",
      "2402/2402 [==============================] - 2s 652us/step - loss: 0.0053 - acc: 0.2352 - val_loss: 0.0119 - val_acc: 0.2022\n",
      "Epoch 166/200\n",
      "2402/2402 [==============================] - 2s 650us/step - loss: 0.0054 - acc: 0.2352 - val_loss: 0.0123 - val_acc: 0.2022\n",
      "Epoch 167/200\n",
      "2402/2402 [==============================] - 2s 645us/step - loss: 0.0052 - acc: 0.2352 - val_loss: 0.0115 - val_acc: 0.2022\n",
      "Epoch 168/200\n",
      "2402/2402 [==============================] - 2s 655us/step - loss: 0.0053 - acc: 0.2352 - val_loss: 0.0124 - val_acc: 0.2022\n",
      "Epoch 169/200\n",
      "2402/2402 [==============================] - 2s 682us/step - loss: 0.0051 - acc: 0.2352 - val_loss: 0.0123 - val_acc: 0.2022\n",
      "Epoch 170/200\n",
      "2402/2402 [==============================] - 2s 646us/step - loss: 0.0053 - acc: 0.2352 - val_loss: 0.0120 - val_acc: 0.2022\n",
      "Epoch 171/200\n",
      "2402/2402 [==============================] - 2s 659us/step - loss: 0.0052 - acc: 0.2352 - val_loss: 0.0109 - val_acc: 0.2022\n",
      "Epoch 172/200\n",
      "2402/2402 [==============================] - 2s 660us/step - loss: 0.0054 - acc: 0.2352 - val_loss: 0.0114 - val_acc: 0.2022\n",
      "Epoch 173/200\n",
      "2402/2402 [==============================] - 2s 653us/step - loss: 0.0054 - acc: 0.2352 - val_loss: 0.0117 - val_acc: 0.2022\n",
      "Epoch 174/200\n",
      "2402/2402 [==============================] - 2s 648us/step - loss: 0.0054 - acc: 0.2352 - val_loss: 0.0105 - val_acc: 0.2022\n",
      "Epoch 175/200\n",
      "2402/2402 [==============================] - 2s 653us/step - loss: 0.0054 - acc: 0.2352 - val_loss: 0.0124 - val_acc: 0.2022\n",
      "Epoch 176/200\n",
      "2402/2402 [==============================] - 2s 655us/step - loss: 0.0052 - acc: 0.2352 - val_loss: 0.0123 - val_acc: 0.2022\n"
     ]
    },
    {
     "name": "stdout",
     "output_type": "stream",
     "text": [
      "Epoch 177/200\n",
      "2402/2402 [==============================] - 2s 656us/step - loss: 0.0051 - acc: 0.2352 - val_loss: 0.0118 - val_acc: 0.2022\n",
      "Epoch 178/200\n",
      "2402/2402 [==============================] - 2s 644us/step - loss: 0.0059 - acc: 0.2352 - val_loss: 0.0118 - val_acc: 0.2022\n",
      "Epoch 179/200\n",
      "2402/2402 [==============================] - 2s 658us/step - loss: 0.0054 - acc: 0.2352 - val_loss: 0.0119 - val_acc: 0.2022\n",
      "Epoch 180/200\n",
      "2402/2402 [==============================] - 2s 659us/step - loss: 0.0053 - acc: 0.2352 - val_loss: 0.0119 - val_acc: 0.2022\n",
      "Epoch 181/200\n",
      "2402/2402 [==============================] - 2s 656us/step - loss: 0.0051 - acc: 0.2352 - val_loss: 0.0125 - val_acc: 0.2022\n",
      "Epoch 182/200\n",
      "2402/2402 [==============================] - 2s 648us/step - loss: 0.0052 - acc: 0.2352 - val_loss: 0.0114 - val_acc: 0.2022\n",
      "Epoch 183/200\n",
      "2402/2402 [==============================] - 2s 654us/step - loss: 0.0053 - acc: 0.2352 - val_loss: 0.0124 - val_acc: 0.2022\n",
      "Epoch 184/200\n",
      "2402/2402 [==============================] - 2s 646us/step - loss: 0.0056 - acc: 0.2352 - val_loss: 0.0117 - val_acc: 0.2022\n",
      "Epoch 185/200\n",
      "2402/2402 [==============================] - 2s 653us/step - loss: 0.0051 - acc: 0.2352 - val_loss: 0.0122 - val_acc: 0.2022\n",
      "Epoch 186/200\n",
      "2402/2402 [==============================] - 2s 647us/step - loss: 0.0053 - acc: 0.2352 - val_loss: 0.0116 - val_acc: 0.2022\n",
      "Epoch 187/200\n",
      "2402/2402 [==============================] - 2s 652us/step - loss: 0.0052 - acc: 0.2352 - val_loss: 0.0125 - val_acc: 0.2022\n",
      "Epoch 188/200\n",
      "2402/2402 [==============================] - 2s 647us/step - loss: 0.0048 - acc: 0.2352 - val_loss: 0.0114 - val_acc: 0.2022 - loss: 0.0051 - acc: 0\n",
      "Epoch 189/200\n",
      "2402/2402 [==============================] - 2s 643us/step - loss: 0.0054 - acc: 0.2352 - val_loss: 0.0111 - val_acc: 0.2022\n",
      "Epoch 190/200\n",
      "2402/2402 [==============================] - 2s 652us/step - loss: 0.0050 - acc: 0.2352 - val_loss: 0.0125 - val_acc: 0.2022\n",
      "Epoch 191/200\n",
      "2402/2402 [==============================] - 2s 651us/step - loss: 0.0053 - acc: 0.2352 - val_loss: 0.0115 - val_acc: 0.2022\n",
      "Epoch 192/200\n",
      "2402/2402 [==============================] - 2s 646us/step - loss: 0.0051 - acc: 0.2352 - val_loss: 0.0119 - val_acc: 0.2022\n",
      "Epoch 193/200\n",
      "2402/2402 [==============================] - 2s 650us/step - loss: 0.0052 - acc: 0.2352 - val_loss: 0.0117 - val_acc: 0.2022\n",
      "Epoch 194/200\n",
      "2402/2402 [==============================] - 2s 655us/step - loss: 0.0050 - acc: 0.2352 - val_loss: 0.0121 - val_acc: 0.2022\n",
      "Epoch 195/200\n",
      "2402/2402 [==============================] - 2s 651us/step - loss: 0.0052 - acc: 0.2352 - val_loss: 0.0122 - val_acc: 0.2022\n",
      "Epoch 196/200\n",
      "2402/2402 [==============================] - 2s 654us/step - loss: 0.0054 - acc: 0.2352 - val_loss: 0.0117 - val_acc: 0.2022\n",
      "Epoch 197/200\n",
      "2402/2402 [==============================] - 2s 658us/step - loss: 0.0056 - acc: 0.2352 - val_loss: 0.0119 - val_acc: 0.2022\n",
      "Epoch 198/200\n",
      "2402/2402 [==============================] - 2s 650us/step - loss: 0.0053 - acc: 0.2352 - val_loss: 0.0118 - val_acc: 0.2022\n",
      "Epoch 199/200\n",
      "2402/2402 [==============================] - 2s 650us/step - loss: 0.0049 - acc: 0.2352 - val_loss: 0.0119 - val_acc: 0.2022\n",
      "Epoch 200/200\n",
      "2402/2402 [==============================] - 2s 650us/step - loss: 0.0051 - acc: 0.2352 - val_loss: 0.0124 - val_acc: 0.2022\n"
     ]
    }
   ],
   "source": [
    "pelatihan4 = regressor.fit(X_train, y_train, validation_split = 0.10, epochs = 200, batch_size = 32)"
   ]
  },
  {
   "cell_type": "code",
   "execution_count": 81,
   "metadata": {},
   "outputs": [
    {
     "data": {
      "image/png": "[encoded data removed]",
      "text/plain": [
       "<Figure size 432x288 with 1 Axes>"
      ]
     },
     "metadata": {
      "needs_background": "light"
     },
     "output_type": "display_data"
    },
    {
     "data": {
      "image/png": "[encoded data removed]",
      "text/plain": [
       "<Figure size 432x288 with 1 Axes>"
      ]
     },
     "metadata": {
      "needs_background": "light"
     },
     "output_type": "display_data"
    }
   ],
   "source": [
    "plot_history(pelatihan4)"
   ]
  },
  {
   "cell_type": "code",
   "execution_count": 82,
   "metadata": {},
   "outputs": [
    {
     "data": {
      "text/plain": [
       "0.00557596692204352"
      ]
     },
     "execution_count": 82,
     "metadata": {},
     "output_type": "execute_result"
    }
   ],
   "source": [
    "loss_mean4 = stats.mean(pelatihan4.history['loss'])\n",
    "loss_mean4"
   ]
  },
  {
   "cell_type": "code",
   "execution_count": 83,
   "metadata": {},
   "outputs": [
    {
     "data": {
      "text/plain": [
       "0.23521232306411324"
      ]
     },
     "execution_count": 83,
     "metadata": {},
     "output_type": "execute_result"
    }
   ],
   "source": [
    "acc_mean4 = stats.mean(pelatihan4.history['acc'])\n",
    "acc_mean4"
   ]
  },
  {
   "cell_type": "code",
   "execution_count": 84,
   "metadata": {},
   "outputs": [
    {
     "data": {
      "text/plain": [
       "0.011571743754070071"
      ]
     },
     "execution_count": 84,
     "metadata": {},
     "output_type": "execute_result"
    }
   ],
   "source": [
    "valloss_mean4 = stats.mean(pelatihan4.history['val_loss'])\n",
    "valloss_mean4"
   ]
  },
  {
   "cell_type": "code",
   "execution_count": 85,
   "metadata": {},
   "outputs": [
    {
     "data": {
      "text/plain": [
       "0.2022471913460935"
      ]
     },
     "execution_count": 85,
     "metadata": {},
     "output_type": "execute_result"
    }
   ],
   "source": [
    "val_acc_mean4 = stats.mean(pelatihan4.history['val_acc'])\n",
    "val_acc_mean4"
   ]
  },
  {
   "cell_type": "code",
   "execution_count": 86,
   "metadata": {},
   "outputs": [],
   "source": [
    "predicted_RR4 = regressor.predict(X_test)"
   ]
  },
  {
   "cell_type": "code",
   "execution_count": 87,
   "metadata": {},
   "outputs": [
    {
     "data": {
      "text/plain": [
       "(297, 1)"
      ]
     },
     "execution_count": 87,
     "metadata": {},
     "output_type": "execute_result"
    }
   ],
   "source": [
    "predicted_RR4.shape"
   ]
  },
  {
   "cell_type": "code",
   "execution_count": 88,
   "metadata": {},
   "outputs": [],
   "source": [
    "predicted_RReal4 = np.hstack((X_testReal,predicted_RR4))"
   ]
  },
  {
   "cell_type": "code",
   "execution_count": 89,
   "metadata": {},
   "outputs": [],
   "source": [
    "predicted_RReal_d = sc.inverse_transform(predicted_RReal4)"
   ]
  },
  {
   "cell_type": "code",
   "execution_count": 90,
   "metadata": {},
   "outputs": [],
   "source": [
    "percobaan4 = predicted_RReal_d[:,19] "
   ]
  },
  {
   "cell_type": "code",
   "execution_count": 91,
   "metadata": {},
   "outputs": [
    {
     "data": {
      "image/png": "[encoded data removed]",
      "text/plain": [
       "<Figure size 432x288 with 1 Axes>"
      ]
     },
     "metadata": {
      "needs_background": "light"
     },
     "output_type": "display_data"
    }
   ],
   "source": [
    "# Visualising the results\n",
    "plt.plot(real_data[:,19], color = 'red', label = 'y_test')\n",
    "plt.plot(percobaan4, color = 'blue', label = 'Predicted RR')\n",
    "plt.title('Curah hujan')\n",
    "plt.xlabel('Urutan ke-')\n",
    "plt.ylabel('Besarnya')\n",
    "plt.legend()\n",
    "plt.show()"
   ]
  },
  {
   "cell_type": "code",
   "execution_count": 92,
   "metadata": {},
   "outputs": [
    {
     "data": {
      "text/plain": [
       "283.2325588151479"
      ]
     },
     "execution_count": 92,
     "metadata": {},
     "output_type": "execute_result"
    }
   ],
   "source": [
    "mse4 = mean_squared_error(real_data[:,19],percobaan4)\n",
    "mse4"
   ]
  },
  {
   "cell_type": "markdown",
   "metadata": {},
   "source": [
    "PERCOBAAN 5"
   ]
  },
  {
   "cell_type": "code",
   "execution_count": 93,
   "metadata": {},
   "outputs": [
    {
     "name": "stdout",
     "output_type": "stream",
     "text": [
      "Train on 2402 samples, validate on 267 samples\n",
      "Epoch 1/200\n",
      "2402/2402 [==============================] - 2s 665us/step - loss: 0.0051 - acc: 0.2352 - val_loss: 0.0119 - val_acc: 0.2022\n",
      "Epoch 2/200\n",
      "2402/2402 [==============================] - 2s 652us/step - loss: 0.0050 - acc: 0.2352 - val_loss: 0.0129 - val_acc: 0.2022\n",
      "Epoch 3/200\n",
      "2402/2402 [==============================] - 2s 655us/step - loss: 0.0052 - acc: 0.2352 - val_loss: 0.0128 - val_acc: 0.2022\n",
      "Epoch 4/200\n",
      "2402/2402 [==============================] - 2s 650us/step - loss: 0.0052 - acc: 0.2352 - val_loss: 0.0126 - val_acc: 0.2022\n",
      "Epoch 5/200\n",
      "2402/2402 [==============================] - 2s 650us/step - loss: 0.0058 - acc: 0.2352 - val_loss: 0.0118 - val_acc: 0.2022\n",
      "Epoch 6/200\n",
      "2402/2402 [==============================] - 2s 653us/step - loss: 0.0064 - acc: 0.2348 - val_loss: 0.0121 - val_acc: 0.2022\n",
      "Epoch 7/200\n",
      "2402/2402 [==============================] - 2s 647us/step - loss: 0.0051 - acc: 0.2352 - val_loss: 0.0126 - val_acc: 0.2022\n",
      "Epoch 8/200\n",
      "2402/2402 [==============================] - 2s 648us/step - loss: 0.0049 - acc: 0.2352 - val_loss: 0.0129 - val_acc: 0.2022\n",
      "Epoch 9/200\n",
      "2402/2402 [==============================] - 2s 651us/step - loss: 0.0065 - acc: 0.2352 - val_loss: 0.0121 - val_acc: 0.2022\n",
      "Epoch 10/200\n",
      "2402/2402 [==============================] - 2s 656us/step - loss: 0.0051 - acc: 0.2352 - val_loss: 0.0133 - val_acc: 0.2022\n",
      "Epoch 11/200\n",
      "2402/2402 [==============================] - 2s 658us/step - loss: 0.0054 - acc: 0.2352 - val_loss: 0.0124 - val_acc: 0.2022\n",
      "Epoch 12/200\n",
      "2402/2402 [==============================] - 2s 651us/step - loss: 0.0052 - acc: 0.2352 - val_loss: 0.0132 - val_acc: 0.2022\n",
      "Epoch 13/200\n",
      "2402/2402 [==============================] - 2s 652us/step - loss: 0.0053 - acc: 0.2352 - val_loss: 0.0130 - val_acc: 0.2022\n",
      "Epoch 14/200\n",
      "2402/2402 [==============================] - 2s 655us/step - loss: 0.0051 - acc: 0.2352 - val_loss: 0.0124 - val_acc: 0.2022\n",
      "Epoch 15/200\n",
      "2402/2402 [==============================] - 2s 648us/step - loss: 0.0053 - acc: 0.2352 - val_loss: 0.0126 - val_acc: 0.2022\n",
      "Epoch 16/200\n",
      "2402/2402 [==============================] - 2s 649us/step - loss: 0.0048 - acc: 0.2352 - val_loss: 0.0125 - val_acc: 0.2022\n",
      "Epoch 17/200\n",
      "2402/2402 [==============================] - 2s 653us/step - loss: 0.0049 - acc: 0.2352 - val_loss: 0.0124 - val_acc: 0.2022\n",
      "Epoch 18/200\n",
      "2402/2402 [==============================] - 2s 632us/step - loss: 0.0055 - acc: 0.2352 - val_loss: 0.0117 - val_acc: 0.2022\n",
      "Epoch 19/200\n",
      "2402/2402 [==============================] - 2s 664us/step - loss: 0.0052 - acc: 0.2352 - val_loss: 0.0125 - val_acc: 0.2022\n",
      "Epoch 20/200\n",
      "2402/2402 [==============================] - 2s 655us/step - loss: 0.0053 - acc: 0.2352 - val_loss: 0.0119 - val_acc: 0.2022\n",
      "Epoch 21/200\n",
      "2402/2402 [==============================] - 2s 655us/step - loss: 0.0054 - acc: 0.2352 - val_loss: 0.0120 - val_acc: 0.2022\n",
      "Epoch 22/200\n",
      "2402/2402 [==============================] - 2s 650us/step - loss: 0.0051 - acc: 0.2352 - val_loss: 0.0129 - val_acc: 0.2022\n",
      "Epoch 23/200\n",
      "2402/2402 [==============================] - 2s 657us/step - loss: 0.0050 - acc: 0.2352 - val_loss: 0.0114 - val_acc: 0.2022\n",
      "Epoch 24/200\n",
      "2402/2402 [==============================] - 2s 654us/step - loss: 0.0052 - acc: 0.2352 - val_loss: 0.0129 - val_acc: 0.2022\n",
      "Epoch 25/200\n",
      "2402/2402 [==============================] - 2s 652us/step - loss: 0.0049 - acc: 0.2352 - val_loss: 0.0119 - val_acc: 0.2022\n",
      "Epoch 26/200\n",
      "2402/2402 [==============================] - 2s 647us/step - loss: 0.0050 - acc: 0.2352 - val_loss: 0.0129 - val_acc: 0.2022\n",
      "Epoch 27/200\n",
      "2402/2402 [==============================] - 2s 653us/step - loss: 0.0052 - acc: 0.2352 - val_loss: 0.0112 - val_acc: 0.2022\n",
      "Epoch 28/200\n",
      "2402/2402 [==============================] - 2s 651us/step - loss: 0.0052 - acc: 0.2352 - val_loss: 0.0126 - val_acc: 0.2022\n",
      "Epoch 29/200\n",
      "2402/2402 [==============================] - 2s 647us/step - loss: 0.0048 - acc: 0.2352 - val_loss: 0.0136 - val_acc: 0.2022\n",
      "Epoch 30/200\n",
      "2402/2402 [==============================] - 2s 648us/step - loss: 0.0048 - acc: 0.2352 - val_loss: 0.0132 - val_acc: 0.2022\n",
      "Epoch 31/200\n",
      "2402/2402 [==============================] - 2s 651us/step - loss: 0.0049 - acc: 0.2352 - val_loss: 0.0127 - val_acc: 0.2022\n",
      "Epoch 32/200\n",
      "2402/2402 [==============================] - 2s 647us/step - loss: 0.0048 - acc: 0.2352 - val_loss: 0.0120 - val_acc: 0.2022\n",
      "Epoch 33/200\n",
      "2402/2402 [==============================] - 2s 647us/step - loss: 0.0051 - acc: 0.2352 - val_loss: 0.0107 - val_acc: 0.2022\n",
      "Epoch 34/200\n",
      "2402/2402 [==============================] - 2s 652us/step - loss: 0.0049 - acc: 0.2352 - val_loss: 0.0113 - val_acc: 0.2022\n",
      "Epoch 35/200\n",
      "2402/2402 [==============================] - ETA: 0s - loss: 0.0045 - acc: 0.235 - 2s 651us/step - loss: 0.0046 - acc: 0.2352 - val_loss: 0.0130 - val_acc: 0.2022\n",
      "Epoch 36/200\n",
      "2402/2402 [==============================] - 2s 656us/step - loss: 0.0051 - acc: 0.2352 - val_loss: 0.0141 - val_acc: 0.2022\n",
      "Epoch 37/200\n",
      "2402/2402 [==============================] - 2s 651us/step - loss: 0.0052 - acc: 0.2352 - val_loss: 0.0131 - val_acc: 0.2022\n",
      "Epoch 38/200\n",
      "2402/2402 [==============================] - 2s 652us/step - loss: 0.0053 - acc: 0.2352 - val_loss: 0.0128 - val_acc: 0.2022\n",
      "Epoch 39/200\n",
      "2402/2402 [==============================] - 2s 649us/step - loss: 0.0050 - acc: 0.2352 - val_loss: 0.0128 - val_acc: 0.2022\n",
      "Epoch 40/200\n",
      "2402/2402 [==============================] - 2s 651us/step - loss: 0.0051 - acc: 0.2352 - val_loss: 0.0121 - val_acc: 0.2022\n",
      "Epoch 41/200\n",
      "2402/2402 [==============================] - 2s 652us/step - loss: 0.0053 - acc: 0.2352 - val_loss: 0.0118 - val_acc: 0.2022\n",
      "Epoch 42/200\n",
      "2402/2402 [==============================] - 2s 651us/step - loss: 0.0052 - acc: 0.2352 - val_loss: 0.0120 - val_acc: 0.2022\n",
      "Epoch 43/200\n",
      "2402/2402 [==============================] - 2s 650us/step - loss: 0.0049 - acc: 0.2352 - val_loss: 0.0116 - val_acc: 0.2022\n",
      "Epoch 44/200\n",
      "2402/2402 [==============================] - 2s 654us/step - loss: 0.0049 - acc: 0.2352 - val_loss: 0.0120 - val_acc: 0.2022\n",
      "Epoch 45/200\n",
      "2402/2402 [==============================] - 2s 653us/step - loss: 0.0052 - acc: 0.2352 - val_loss: 0.0120 - val_acc: 0.2022\n",
      "Epoch 46/200\n",
      "2402/2402 [==============================] - 2s 656us/step - loss: 0.0048 - acc: 0.2352 - val_loss: 0.0119 - val_acc: 0.2022\n",
      "Epoch 47/200\n",
      "2402/2402 [==============================] - 2s 651us/step - loss: 0.0049 - acc: 0.2352 - val_loss: 0.0113 - val_acc: 0.2022\n",
      "Epoch 48/200\n",
      "2402/2402 [==============================] - 2s 660us/step - loss: 0.0049 - acc: 0.2352 - val_loss: 0.0122 - val_acc: 0.2022\n",
      "Epoch 49/200\n",
      "2402/2402 [==============================] - 2s 647us/step - loss: 0.0051 - acc: 0.2352 - val_loss: 0.0130 - val_acc: 0.2022\n",
      "Epoch 50/200\n",
      "2402/2402 [==============================] - 2s 657us/step - loss: 0.0051 - acc: 0.2352 - val_loss: 0.0119 - val_acc: 0.2022\n",
      "Epoch 51/200\n",
      "2402/2402 [==============================] - 2s 654us/step - loss: 0.0061 - acc: 0.2352 - val_loss: 0.0112 - val_acc: 0.2022\n",
      "Epoch 52/200\n",
      "2402/2402 [==============================] - 2s 648us/step - loss: 0.0051 - acc: 0.2348 - val_loss: 0.0124 - val_acc: 0.2022\n",
      "Epoch 53/200\n",
      "2402/2402 [==============================] - 2s 650us/step - loss: 0.0054 - acc: 0.2352 - val_loss: 0.0115 - val_acc: 0.2022\n",
      "Epoch 54/200\n",
      "2402/2402 [==============================] - 2s 649us/step - loss: 0.0050 - acc: 0.2352 - val_loss: 0.0128 - val_acc: 0.2022\n",
      "Epoch 55/200\n",
      "2402/2402 [==============================] - 2s 650us/step - loss: 0.0059 - acc: 0.2352 - val_loss: 0.0111 - val_acc: 0.2022\n",
      "Epoch 56/200\n",
      "2402/2402 [==============================] - 2s 652us/step - loss: 0.0048 - acc: 0.2352 - val_loss: 0.0113 - val_acc: 0.2022\n",
      "Epoch 57/200\n",
      "2402/2402 [==============================] - 2s 652us/step - loss: 0.0050 - acc: 0.2352 - val_loss: 0.0120 - val_acc: 0.2022\n",
      "Epoch 58/200\n",
      "2402/2402 [==============================] - 2s 653us/step - loss: 0.0049 - acc: 0.2352 - val_loss: 0.0128 - val_acc: 0.2022\n",
      "Epoch 59/200\n",
      "2402/2402 [==============================] - 2s 649us/step - loss: 0.0051 - acc: 0.2352 - val_loss: 0.0118 - val_acc: 0.2022\n"
     ]
    },
    {
     "name": "stdout",
     "output_type": "stream",
     "text": [
      "Epoch 60/200\n",
      "2402/2402 [==============================] - 2s 649us/step - loss: 0.0052 - acc: 0.2352 - val_loss: 0.0125 - val_acc: 0.2022\n",
      "Epoch 61/200\n",
      "2402/2402 [==============================] - 2s 653us/step - loss: 0.0052 - acc: 0.2352 - val_loss: 0.0121 - val_acc: 0.2022\n",
      "Epoch 62/200\n",
      "2402/2402 [==============================] - 2s 652us/step - loss: 0.0048 - acc: 0.2352 - val_loss: 0.0112 - val_acc: 0.2022\n",
      "Epoch 63/200\n",
      "2402/2402 [==============================] - 2s 646us/step - loss: 0.0053 - acc: 0.2352 - val_loss: 0.0118 - val_acc: 0.2022loss: 0.0050 - a\n",
      "Epoch 64/200\n",
      "2402/2402 [==============================] - 2s 647us/step - loss: 0.0052 - acc: 0.2352 - val_loss: 0.0133 - val_acc: 0.2022\n",
      "Epoch 65/200\n",
      "2402/2402 [==============================] - 2s 649us/step - loss: 0.0049 - acc: 0.2352 - val_loss: 0.0114 - val_acc: 0.2022\n",
      "Epoch 66/200\n",
      "2402/2402 [==============================] - 2s 651us/step - loss: 0.0054 - acc: 0.2352 - val_loss: 0.0122 - val_acc: 0.2022\n",
      "Epoch 67/200\n",
      "2402/2402 [==============================] - 2s 654us/step - loss: 0.0050 - acc: 0.2352 - val_loss: 0.0124 - val_acc: 0.2022\n",
      "Epoch 68/200\n",
      "2402/2402 [==============================] - 2s 651us/step - loss: 0.0054 - acc: 0.2352 - val_loss: 0.0119 - val_acc: 0.2022\n",
      "Epoch 69/200\n",
      "2402/2402 [==============================] - 2s 652us/step - loss: 0.0049 - acc: 0.2352 - val_loss: 0.0134 - val_acc: 0.2022\n",
      "Epoch 70/200\n",
      "2402/2402 [==============================] - 2s 646us/step - loss: 0.0050 - acc: 0.2352 - val_loss: 0.0139 - val_acc: 0.2022\n",
      "Epoch 71/200\n",
      "2402/2402 [==============================] - 2s 650us/step - loss: 0.0048 - acc: 0.2352 - val_loss: 0.0124 - val_acc: 0.2022\n",
      "Epoch 72/200\n",
      "2402/2402 [==============================] - 2s 656us/step - loss: 0.0051 - acc: 0.2352 - val_loss: 0.0125 - val_acc: 0.2022\n",
      "Epoch 73/200\n",
      "2402/2402 [==============================] - 2s 649us/step - loss: 0.0049 - acc: 0.2352 - val_loss: 0.0141 - val_acc: 0.2022\n",
      "Epoch 74/200\n",
      "2402/2402 [==============================] - 2s 651us/step - loss: 0.0050 - acc: 0.2352 - val_loss: 0.0117 - val_acc: 0.2022\n",
      "Epoch 75/200\n",
      "2402/2402 [==============================] - 2s 649us/step - loss: 0.0051 - acc: 0.2352 - val_loss: 0.0128 - val_acc: 0.2022\n",
      "Epoch 76/200\n",
      "2402/2402 [==============================] - 2s 653us/step - loss: 0.0050 - acc: 0.2352 - val_loss: 0.0123 - val_acc: 0.2022\n",
      "Epoch 77/200\n",
      "2402/2402 [==============================] - 2s 650us/step - loss: 0.0048 - acc: 0.2352 - val_loss: 0.0130 - val_acc: 0.2022\n",
      "Epoch 78/200\n",
      "2402/2402 [==============================] - 2s 653us/step - loss: 0.0051 - acc: 0.2352 - val_loss: 0.0120 - val_acc: 0.2022\n",
      "Epoch 79/200\n",
      "2402/2402 [==============================] - 2s 654us/step - loss: 0.0050 - acc: 0.2352 - val_loss: 0.0123 - val_acc: 0.2022\n",
      "Epoch 80/200\n",
      "2402/2402 [==============================] - 2s 642us/step - loss: 0.0047 - acc: 0.2352 - val_loss: 0.0122 - val_acc: 0.2022\n",
      "Epoch 81/200\n",
      "2402/2402 [==============================] - 2s 650us/step - loss: 0.0049 - acc: 0.2352 - val_loss: 0.0119 - val_acc: 0.2022\n",
      "Epoch 82/200\n",
      "2402/2402 [==============================] - 2s 647us/step - loss: 0.0048 - acc: 0.2352 - val_loss: 0.0124 - val_acc: 0.2022\n",
      "Epoch 83/200\n",
      "2402/2402 [==============================] - 2s 649us/step - loss: 0.0052 - acc: 0.2348 - val_loss: 0.0131 - val_acc: 0.2022\n",
      "Epoch 84/200\n",
      "2402/2402 [==============================] - 2s 651us/step - loss: 0.0049 - acc: 0.2352 - val_loss: 0.0124 - val_acc: 0.2022\n",
      "Epoch 85/200\n",
      "2402/2402 [==============================] - 2s 652us/step - loss: 0.0049 - acc: 0.2352 - val_loss: 0.0119 - val_acc: 0.2022\n",
      "Epoch 86/200\n",
      "2402/2402 [==============================] - 2s 655us/step - loss: 0.0048 - acc: 0.2352 - val_loss: 0.0133 - val_acc: 0.2022\n",
      "Epoch 87/200\n",
      "2402/2402 [==============================] - 2s 652us/step - loss: 0.0050 - acc: 0.2352 - val_loss: 0.0122 - val_acc: 0.2022\n",
      "Epoch 88/200\n",
      "2402/2402 [==============================] - 2s 653us/step - loss: 0.0048 - acc: 0.2352 - val_loss: 0.0120 - val_acc: 0.2022\n",
      "Epoch 89/200\n",
      "2402/2402 [==============================] - 2s 645us/step - loss: 0.0046 - acc: 0.2352 - val_loss: 0.0140 - val_acc: 0.2022\n",
      "Epoch 90/200\n",
      "2402/2402 [==============================] - 2s 651us/step - loss: 0.0049 - acc: 0.2352 - val_loss: 0.0122 - val_acc: 0.2022\n",
      "Epoch 91/200\n",
      "2402/2402 [==============================] - 2s 652us/step - loss: 0.0049 - acc: 0.2352 - val_loss: 0.0114 - val_acc: 0.2022\n",
      "Epoch 92/200\n",
      "2402/2402 [==============================] - 2s 655us/step - loss: 0.0051 - acc: 0.2352 - val_loss: 0.0128 - val_acc: 0.2022\n",
      "Epoch 93/200\n",
      "2402/2402 [==============================] - 2s 654us/step - loss: 0.0049 - acc: 0.2352 - val_loss: 0.0131 - val_acc: 0.2022\n",
      "Epoch 94/200\n",
      "2402/2402 [==============================] - 2s 652us/step - loss: 0.0049 - acc: 0.2352 - val_loss: 0.0126 - val_acc: 0.2022\n",
      "Epoch 95/200\n",
      "2402/2402 [==============================] - 2s 654us/step - loss: 0.0048 - acc: 0.2352 - val_loss: 0.0124 - val_acc: 0.2022\n",
      "Epoch 96/200\n",
      "2402/2402 [==============================] - 2s 652us/step - loss: 0.0049 - acc: 0.2352 - val_loss: 0.0121 - val_acc: 0.2022\n",
      "Epoch 97/200\n",
      "2402/2402 [==============================] - 2s 648us/step - loss: 0.0047 - acc: 0.2352 - val_loss: 0.0119 - val_acc: 0.2022\n",
      "Epoch 98/200\n",
      "2402/2402 [==============================] - 2s 649us/step - loss: 0.0052 - acc: 0.2352 - val_loss: 0.0119 - val_acc: 0.2022\n",
      "Epoch 99/200\n",
      "2402/2402 [==============================] - 2s 654us/step - loss: 0.0051 - acc: 0.2352 - val_loss: 0.0122 - val_acc: 0.2022\n",
      "Epoch 100/200\n",
      "2402/2402 [==============================] - 2s 649us/step - loss: 0.0051 - acc: 0.2352 - val_loss: 0.0146 - val_acc: 0.2022\n",
      "Epoch 101/200\n",
      "2402/2402 [==============================] - 2s 654us/step - loss: 0.0048 - acc: 0.2352 - val_loss: 0.0127 - val_acc: 0.2022\n",
      "Epoch 102/200\n",
      "2402/2402 [==============================] - 2s 652us/step - loss: 0.0050 - acc: 0.2352 - val_loss: 0.0134 - val_acc: 0.2022\n",
      "Epoch 103/200\n",
      "2402/2402 [==============================] - 2s 648us/step - loss: 0.0051 - acc: 0.2352 - val_loss: 0.0114 - val_acc: 0.2022\n",
      "Epoch 104/200\n",
      "2402/2402 [==============================] - 2s 651us/step - loss: 0.0050 - acc: 0.2352 - val_loss: 0.0129 - val_acc: 0.2022\n",
      "Epoch 105/200\n",
      "2402/2402 [==============================] - 2s 656us/step - loss: 0.0048 - acc: 0.2352 - val_loss: 0.0126 - val_acc: 0.2022\n",
      "Epoch 106/200\n",
      "2402/2402 [==============================] - 2s 655us/step - loss: 0.0048 - acc: 0.2352 - val_loss: 0.0129 - val_acc: 0.2022\n",
      "Epoch 107/200\n",
      "2402/2402 [==============================] - 2s 649us/step - loss: 0.0046 - acc: 0.2352 - val_loss: 0.0126 - val_acc: 0.2022\n",
      "Epoch 108/200\n",
      "2402/2402 [==============================] - 2s 659us/step - loss: 0.0049 - acc: 0.2352 - val_loss: 0.0124 - val_acc: 0.2022\n",
      "Epoch 109/200\n",
      "2402/2402 [==============================] - 2s 652us/step - loss: 0.0055 - acc: 0.2352 - val_loss: 0.0127 - val_acc: 0.2022\n",
      "Epoch 110/200\n",
      "2402/2402 [==============================] - 2s 652us/step - loss: 0.0047 - acc: 0.2352 - val_loss: 0.0130 - val_acc: 0.2022\n",
      "Epoch 111/200\n",
      "2402/2402 [==============================] - 2s 652us/step - loss: 0.0045 - acc: 0.2352 - val_loss: 0.0135 - val_acc: 0.2022\n",
      "Epoch 112/200\n",
      "2402/2402 [==============================] - 2s 642us/step - loss: 0.0050 - acc: 0.2348 - val_loss: 0.0122 - val_acc: 0.2022\n",
      "Epoch 113/200\n",
      "2402/2402 [==============================] - 2s 651us/step - loss: 0.0050 - acc: 0.2352 - val_loss: 0.0130 - val_acc: 0.2022\n",
      "Epoch 114/200\n",
      "2402/2402 [==============================] - 2s 662us/step - loss: 0.0049 - acc: 0.2352 - val_loss: 0.0128 - val_acc: 0.2022\n",
      "Epoch 115/200\n",
      "2402/2402 [==============================] - 2s 650us/step - loss: 0.0047 - acc: 0.2352 - val_loss: 0.0116 - val_acc: 0.2022\n",
      "Epoch 116/200\n",
      "2402/2402 [==============================] - 2s 655us/step - loss: 0.0051 - acc: 0.2352 - val_loss: 0.0123 - val_acc: 0.2022\n",
      "Epoch 117/200\n",
      "2402/2402 [==============================] - 2s 659us/step - loss: 0.0047 - acc: 0.2352 - val_loss: 0.0121 - val_acc: 0.2022\n",
      "Epoch 118/200\n",
      "2402/2402 [==============================] - 2s 653us/step - loss: 0.0050 - acc: 0.2352 - val_loss: 0.0130 - val_acc: 0.2022\n",
      "Epoch 119/200\n"
     ]
    },
    {
     "name": "stdout",
     "output_type": "stream",
     "text": [
      "2402/2402 [==============================] - 2s 652us/step - loss: 0.0046 - acc: 0.2352 - val_loss: 0.0139 - val_acc: 0.2022\n",
      "Epoch 120/200\n",
      "2402/2402 [==============================] - 2s 656us/step - loss: 0.0045 - acc: 0.2352 - val_loss: 0.0137 - val_acc: 0.2022\n",
      "Epoch 121/200\n",
      "2402/2402 [==============================] - 2s 653us/step - loss: 0.0047 - acc: 0.2352 - val_loss: 0.0126 - val_acc: 0.2022\n",
      "Epoch 122/200\n",
      "2402/2402 [==============================] - 2s 654us/step - loss: 0.0047 - acc: 0.2352 - val_loss: 0.0131 - val_acc: 0.2022\n",
      "Epoch 123/200\n",
      "2402/2402 [==============================] - 2s 647us/step - loss: 0.0049 - acc: 0.2352 - val_loss: 0.0122 - val_acc: 0.2022\n",
      "Epoch 124/200\n",
      "2402/2402 [==============================] - 2s 655us/step - loss: 0.0049 - acc: 0.2352 - val_loss: 0.0134 - val_acc: 0.2022\n",
      "Epoch 125/200\n",
      "2402/2402 [==============================] - 2s 653us/step - loss: 0.0048 - acc: 0.2352 - val_loss: 0.0123 - val_acc: 0.2022\n",
      "Epoch 126/200\n",
      "2402/2402 [==============================] - 2s 647us/step - loss: 0.0053 - acc: 0.2348 - val_loss: 0.0133 - val_acc: 0.2022\n",
      "Epoch 127/200\n",
      "2402/2402 [==============================] - 2s 648us/step - loss: 0.0052 - acc: 0.2352 - val_loss: 0.0119 - val_acc: 0.2022\n",
      "Epoch 128/200\n",
      "2402/2402 [==============================] - 2s 644us/step - loss: 0.0047 - acc: 0.2352 - val_loss: 0.0143 - val_acc: 0.2022\n",
      "Epoch 129/200\n",
      "2402/2402 [==============================] - 2s 650us/step - loss: 0.0051 - acc: 0.2352 - val_loss: 0.0131 - val_acc: 0.2022\n",
      "Epoch 130/200\n",
      "2402/2402 [==============================] - 2s 651us/step - loss: 0.0049 - acc: 0.2352 - val_loss: 0.0124 - val_acc: 0.2022\n",
      "Epoch 131/200\n",
      "2402/2402 [==============================] - 2s 650us/step - loss: 0.0047 - acc: 0.2352 - val_loss: 0.0114 - val_acc: 0.2022\n",
      "Epoch 132/200\n",
      "2402/2402 [==============================] - 2s 650us/step - loss: 0.0046 - acc: 0.2352 - val_loss: 0.0122 - val_acc: 0.2022\n",
      "Epoch 133/200\n",
      "2402/2402 [==============================] - 2s 657us/step - loss: 0.0045 - acc: 0.2352 - val_loss: 0.0126 - val_acc: 0.2022\n",
      "Epoch 134/200\n",
      "2402/2402 [==============================] - 2s 653us/step - loss: 0.0051 - acc: 0.2352 - val_loss: 0.0120 - val_acc: 0.2022\n",
      "Epoch 135/200\n",
      "2402/2402 [==============================] - 2s 651us/step - loss: 0.0046 - acc: 0.2352 - val_loss: 0.0129 - val_acc: 0.2022\n",
      "Epoch 136/200\n",
      "2402/2402 [==============================] - 2s 653us/step - loss: 0.0045 - acc: 0.2352 - val_loss: 0.0142 - val_acc: 0.2022\n",
      "Epoch 137/200\n",
      "2402/2402 [==============================] - 2s 657us/step - loss: 0.0047 - acc: 0.2352 - val_loss: 0.0126 - val_acc: 0.2022\n",
      "Epoch 138/200\n",
      "2402/2402 [==============================] - 2s 659us/step - loss: 0.0047 - acc: 0.2352 - val_loss: 0.0134 - val_acc: 0.2022\n",
      "Epoch 139/200\n",
      "2402/2402 [==============================] - 2s 656us/step - loss: 0.0048 - acc: 0.2352 - val_loss: 0.0128 - val_acc: 0.2022\n",
      "Epoch 140/200\n",
      "2402/2402 [==============================] - 2s 654us/step - loss: 0.0046 - acc: 0.2352 - val_loss: 0.0121 - val_acc: 0.2022\n",
      "Epoch 141/200\n",
      "2402/2402 [==============================] - 2s 653us/step - loss: 0.0052 - acc: 0.2352 - val_loss: 0.0129 - val_acc: 0.2022\n",
      "Epoch 142/200\n",
      "2402/2402 [==============================] - 2s 655us/step - loss: 0.0054 - acc: 0.2352 - val_loss: 0.0132 - val_acc: 0.2022\n",
      "Epoch 143/200\n",
      "2402/2402 [==============================] - 2s 655us/step - loss: 0.0050 - acc: 0.2352 - val_loss: 0.0126 - val_acc: 0.2022\n",
      "Epoch 144/200\n",
      "2402/2402 [==============================] - 2s 652us/step - loss: 0.0049 - acc: 0.2352 - val_loss: 0.0120 - val_acc: 0.2022\n",
      "Epoch 145/200\n",
      "2402/2402 [==============================] - 2s 654us/step - loss: 0.0050 - acc: 0.2352 - val_loss: 0.0127 - val_acc: 0.2022\n",
      "Epoch 146/200\n",
      "2402/2402 [==============================] - 2s 652us/step - loss: 0.0051 - acc: 0.2352 - val_loss: 0.0121 - val_acc: 0.2022\n",
      "Epoch 147/200\n",
      "2402/2402 [==============================] - 2s 651us/step - loss: 0.0050 - acc: 0.2352 - val_loss: 0.0132 - val_acc: 0.2022\n",
      "Epoch 148/200\n",
      "2402/2402 [==============================] - 2s 648us/step - loss: 0.0047 - acc: 0.2352 - val_loss: 0.0128 - val_acc: 0.2022\n",
      "Epoch 149/200\n",
      "2402/2402 [==============================] - 2s 658us/step - loss: 0.0048 - acc: 0.2352 - val_loss: 0.0132 - val_acc: 0.2022\n",
      "Epoch 150/200\n",
      "2402/2402 [==============================] - 2s 650us/step - loss: 0.0045 - acc: 0.2352 - val_loss: 0.0131 - val_acc: 0.2022\n",
      "Epoch 151/200\n",
      "2402/2402 [==============================] - 2s 648us/step - loss: 0.0048 - acc: 0.2352 - val_loss: 0.0132 - val_acc: 0.2022: 0s - loss: 0.0048 - acc:\n",
      "Epoch 152/200\n",
      "2402/2402 [==============================] - 2s 664us/step - loss: 0.0056 - acc: 0.2352 - val_loss: 0.0130 - val_acc: 0.2022\n",
      "Epoch 153/200\n",
      "2402/2402 [==============================] - 2s 657us/step - loss: 0.0048 - acc: 0.2352 - val_loss: 0.0119 - val_acc: 0.2022\n",
      "Epoch 154/200\n",
      "2402/2402 [==============================] - 2s 657us/step - loss: 0.0045 - acc: 0.2352 - val_loss: 0.0128 - val_acc: 0.2022\n",
      "Epoch 155/200\n",
      "2402/2402 [==============================] - 2s 660us/step - loss: 0.0049 - acc: 0.2352 - val_loss: 0.0131 - val_acc: 0.2022\n",
      "Epoch 156/200\n",
      "2402/2402 [==============================] - 2s 657us/step - loss: 0.0047 - acc: 0.2352 - val_loss: 0.0124 - val_acc: 0.2022\n",
      "Epoch 157/200\n",
      "2402/2402 [==============================] - 2s 654us/step - loss: 0.0047 - acc: 0.2352 - val_loss: 0.0132 - val_acc: 0.2022\n",
      "Epoch 158/200\n",
      "2402/2402 [==============================] - 2s 657us/step - loss: 0.0046 - acc: 0.2352 - val_loss: 0.0132 - val_acc: 0.2022\n",
      "Epoch 159/200\n",
      "2402/2402 [==============================] - 2s 649us/step - loss: 0.0047 - acc: 0.2352 - val_loss: 0.0128 - val_acc: 0.2022\n",
      "Epoch 160/200\n",
      "2402/2402 [==============================] - 2s 665us/step - loss: 0.0045 - acc: 0.2352 - val_loss: 0.0117 - val_acc: 0.2022\n",
      "Epoch 161/200\n",
      "2402/2402 [==============================] - 2s 658us/step - loss: 0.0049 - acc: 0.2352 - val_loss: 0.0137 - val_acc: 0.2022\n",
      "Epoch 162/200\n",
      "2402/2402 [==============================] - 2s 653us/step - loss: 0.0044 - acc: 0.2352 - val_loss: 0.0113 - val_acc: 0.2022\n",
      "Epoch 163/200\n",
      "2402/2402 [==============================] - 2s 657us/step - loss: 0.0048 - acc: 0.2352 - val_loss: 0.0135 - val_acc: 0.2022\n",
      "Epoch 164/200\n",
      "2402/2402 [==============================] - 2s 663us/step - loss: 0.0046 - acc: 0.2352 - val_loss: 0.0123 - val_acc: 0.2022\n",
      "Epoch 165/200\n",
      "2402/2402 [==============================] - 2s 657us/step - loss: 0.0048 - acc: 0.2352 - val_loss: 0.0132 - val_acc: 0.2022\n",
      "Epoch 166/200\n",
      "2402/2402 [==============================] - 2s 656us/step - loss: 0.0044 - acc: 0.2352 - val_loss: 0.0134 - val_acc: 0.2022\n",
      "Epoch 167/200\n",
      "2402/2402 [==============================] - 2s 659us/step - loss: 0.0047 - acc: 0.2352 - val_loss: 0.0121 - val_acc: 0.2022\n",
      "Epoch 168/200\n",
      "2402/2402 [==============================] - 2s 654us/step - loss: 0.0049 - acc: 0.2348 - val_loss: 0.0126 - val_acc: 0.2022\n",
      "Epoch 169/200\n",
      "2402/2402 [==============================] - 2s 650us/step - loss: 0.0045 - acc: 0.2352 - val_loss: 0.0131 - val_acc: 0.2022\n",
      "Epoch 170/200\n",
      "2402/2402 [==============================] - 2s 662us/step - loss: 0.0046 - acc: 0.2352 - val_loss: 0.0124 - val_acc: 0.2022\n",
      "Epoch 171/200\n",
      "2402/2402 [==============================] - 2s 635us/step - loss: 0.0045 - acc: 0.2352 - val_loss: 0.0134 - val_acc: 0.2022\n",
      "Epoch 172/200\n",
      "2402/2402 [==============================] - 2s 656us/step - loss: 0.0045 - acc: 0.2352 - val_loss: 0.0135 - val_acc: 0.2022\n",
      "Epoch 173/200\n",
      "2402/2402 [==============================] - 2s 658us/step - loss: 0.0045 - acc: 0.2352 - val_loss: 0.0133 - val_acc: 0.2022\n",
      "Epoch 174/200\n",
      "2402/2402 [==============================] - 2s 651us/step - loss: 0.0045 - acc: 0.2352 - val_loss: 0.0132 - val_acc: 0.2022\n",
      "Epoch 175/200\n",
      "2402/2402 [==============================] - 2s 652us/step - loss: 0.0049 - acc: 0.2352 - val_loss: 0.0140 - val_acc: 0.2022\n",
      "Epoch 176/200\n",
      "2402/2402 [==============================] - 2s 654us/step - loss: 0.0048 - acc: 0.2352 - val_loss: 0.0128 - val_acc: 0.2022\n",
      "Epoch 177/200\n",
      "2402/2402 [==============================] - 2s 652us/step - loss: 0.0048 - acc: 0.2352 - val_loss: 0.0145 - val_acc: 0.2022\n"
     ]
    },
    {
     "name": "stdout",
     "output_type": "stream",
     "text": [
      "Epoch 178/200\n",
      "2402/2402 [==============================] - 2s 652us/step - loss: 0.0047 - acc: 0.2352 - val_loss: 0.0135 - val_acc: 0.2022\n",
      "Epoch 179/200\n",
      "2402/2402 [==============================] - 2s 647us/step - loss: 0.0049 - acc: 0.2352 - val_loss: 0.0136 - val_acc: 0.2022\n",
      "Epoch 180/200\n",
      "2402/2402 [==============================] - 2s 652us/step - loss: 0.0047 - acc: 0.2352 - val_loss: 0.0134 - val_acc: 0.2022\n",
      "Epoch 181/200\n",
      "2402/2402 [==============================] - 2s 653us/step - loss: 0.0043 - acc: 0.2352 - val_loss: 0.0129 - val_acc: 0.2022\n",
      "Epoch 182/200\n",
      "2402/2402 [==============================] - 2s 658us/step - loss: 0.0047 - acc: 0.2352 - val_loss: 0.0135 - val_acc: 0.2022\n",
      "Epoch 183/200\n",
      "2402/2402 [==============================] - 2s 656us/step - loss: 0.0044 - acc: 0.2352 - val_loss: 0.0138 - val_acc: 0.2022\n",
      "Epoch 184/200\n",
      "2402/2402 [==============================] - 2s 644us/step - loss: 0.0045 - acc: 0.2352 - val_loss: 0.0133 - val_acc: 0.2022\n",
      "Epoch 185/200\n",
      "2402/2402 [==============================] - 2s 654us/step - loss: 0.0048 - acc: 0.2352 - val_loss: 0.0139 - val_acc: 0.2022\n",
      "Epoch 186/200\n",
      "2402/2402 [==============================] - 2s 653us/step - loss: 0.0048 - acc: 0.2352 - val_loss: 0.0140 - val_acc: 0.2022\n",
      "Epoch 187/200\n",
      "2402/2402 [==============================] - 2s 656us/step - loss: 0.0044 - acc: 0.2352 - val_loss: 0.0138 - val_acc: 0.2022\n",
      "Epoch 188/200\n",
      "2402/2402 [==============================] - 2s 650us/step - loss: 0.0053 - acc: 0.2352 - val_loss: 0.0136 - val_acc: 0.2022\n",
      "Epoch 189/200\n",
      "2402/2402 [==============================] - 2s 649us/step - loss: 0.0048 - acc: 0.2352 - val_loss: 0.0132 - val_acc: 0.2022\n",
      "Epoch 190/200\n",
      "2402/2402 [==============================] - 2s 644us/step - loss: 0.0049 - acc: 0.2348 - val_loss: 0.0136 - val_acc: 0.2022\n",
      "Epoch 191/200\n",
      "2402/2402 [==============================] - 2s 650us/step - loss: 0.0046 - acc: 0.2352 - val_loss: 0.0126 - val_acc: 0.2022\n",
      "Epoch 192/200\n",
      "2402/2402 [==============================] - 2s 645us/step - loss: 0.0047 - acc: 0.2352 - val_loss: 0.0131 - val_acc: 0.2022\n",
      "Epoch 193/200\n",
      "2402/2402 [==============================] - 2s 647us/step - loss: 0.0045 - acc: 0.2352 - val_loss: 0.0131 - val_acc: 0.2022\n",
      "Epoch 194/200\n",
      "2402/2402 [==============================] - 2s 650us/step - loss: 0.0045 - acc: 0.2352 - val_loss: 0.0126 - val_acc: 0.2022\n",
      "Epoch 195/200\n",
      "2402/2402 [==============================] - 2s 651us/step - loss: 0.0043 - acc: 0.2352 - val_loss: 0.0131 - val_acc: 0.2022\n",
      "Epoch 196/200\n",
      "2402/2402 [==============================] - 2s 652us/step - loss: 0.0048 - acc: 0.2352 - val_loss: 0.0127 - val_acc: 0.2022\n",
      "Epoch 197/200\n",
      "2402/2402 [==============================] - 2s 648us/step - loss: 0.0047 - acc: 0.2352 - val_loss: 0.0137 - val_acc: 0.2022\n",
      "Epoch 198/200\n",
      "2402/2402 [==============================] - 2s 668us/step - loss: 0.0045 - acc: 0.2352 - val_loss: 0.0133 - val_acc: 0.2022\n",
      "Epoch 199/200\n",
      "2402/2402 [==============================] - 2s 657us/step - loss: 0.0048 - acc: 0.2352 - val_loss: 0.0134 - val_acc: 0.2022\n",
      "Epoch 200/200\n",
      "2402/2402 [==============================] - 2s 656us/step - loss: 0.0046 - acc: 0.2352 - val_loss: 0.0134 - val_acc: 0.2022\n"
     ]
    }
   ],
   "source": [
    "pelatihan5 = regressor.fit(X_train, y_train, validation_split = 0.10, epochs = 200, batch_size = 32)"
   ]
  },
  {
   "cell_type": "code",
   "execution_count": 94,
   "metadata": {},
   "outputs": [
    {
     "data": {
      "image/png": "[encoded data removed]",
      "text/plain": [
       "<Figure size 432x288 with 1 Axes>"
      ]
     },
     "metadata": {
      "needs_background": "light"
     },
     "output_type": "display_data"
    },
    {
     "data": {
      "image/png": "[encoded data removed]",
      "text/plain": [
       "<Figure size 432x288 with 1 Axes>"
      ]
     },
     "metadata": {
      "needs_background": "light"
     },
     "output_type": "display_data"
    }
   ],
   "source": [
    "plot_history(pelatihan5)"
   ]
  },
  {
   "cell_type": "code",
   "execution_count": 95,
   "metadata": {},
   "outputs": [
    {
     "data": {
      "text/plain": [
       "0.004926581801567584"
      ]
     },
     "execution_count": 95,
     "metadata": {},
     "output_type": "execute_result"
    }
   ],
   "source": [
    "loss_mean5 = stats.mean(pelatihan5.history['loss'])\n",
    "loss_mean5"
   ]
  },
  {
   "cell_type": "code",
   "execution_count": 96,
   "metadata": {},
   "outputs": [
    {
     "data": {
      "text/plain": [
       "0.2352060782681099"
      ]
     },
     "execution_count": 96,
     "metadata": {},
     "output_type": "execute_result"
    }
   ],
   "source": [
    "acc_mean5 = stats.mean(pelatihan5.history['acc'])\n",
    "acc_mean5"
   ]
  },
  {
   "cell_type": "code",
   "execution_count": 97,
   "metadata": {},
   "outputs": [
    {
     "data": {
      "text/plain": [
       "0.012654274620171567"
      ]
     },
     "execution_count": 97,
     "metadata": {},
     "output_type": "execute_result"
    }
   ],
   "source": [
    "valloss_mean5 = stats.mean(pelatihan5.history['val_loss'])\n",
    "valloss_mean5"
   ]
  },
  {
   "cell_type": "code",
   "execution_count": 98,
   "metadata": {},
   "outputs": [
    {
     "data": {
      "text/plain": [
       "0.2022471913460935"
      ]
     },
     "execution_count": 98,
     "metadata": {},
     "output_type": "execute_result"
    }
   ],
   "source": [
    "val_acc_mean5 = stats.mean(pelatihan5.history['val_acc'])\n",
    "val_acc_mean5"
   ]
  },
  {
   "cell_type": "code",
   "execution_count": 99,
   "metadata": {},
   "outputs": [],
   "source": [
    "predicted_RR5 = regressor.predict(X_test)"
   ]
  },
  {
   "cell_type": "code",
   "execution_count": 100,
   "metadata": {},
   "outputs": [
    {
     "data": {
      "text/plain": [
       "(297, 1)"
      ]
     },
     "execution_count": 100,
     "metadata": {},
     "output_type": "execute_result"
    }
   ],
   "source": [
    "predicted_RR5.shape"
   ]
  },
  {
   "cell_type": "code",
   "execution_count": 101,
   "metadata": {},
   "outputs": [],
   "source": [
    "predicted_RReal5 = np.hstack((X_testReal,predicted_RR5))"
   ]
  },
  {
   "cell_type": "code",
   "execution_count": 102,
   "metadata": {},
   "outputs": [],
   "source": [
    "predicted_RReal_e = sc.inverse_transform(predicted_RReal5)"
   ]
  },
  {
   "cell_type": "code",
   "execution_count": 103,
   "metadata": {},
   "outputs": [],
   "source": [
    "percobaan5 = predicted_RReal_e[:,19] "
   ]
  },
  {
   "cell_type": "code",
   "execution_count": 104,
   "metadata": {},
   "outputs": [
    {
     "data": {
      "image/png": "[encoded data removed]",
      "text/plain": [
       "<Figure size 432x288 with 1 Axes>"
      ]
     },
     "metadata": {
      "needs_background": "light"
     },
     "output_type": "display_data"
    }
   ],
   "source": [
    "# Visualising the results\n",
    "plt.plot(real_data[:,19], color = 'red', label = 'y_test')\n",
    "plt.plot(percobaan5, color = 'blue', label = 'Predicted RR')\n",
    "plt.title('Curah hujan')\n",
    "plt.xlabel('Urutan ke-')\n",
    "plt.ylabel('Besarnya')\n",
    "plt.legend()\n",
    "plt.show()"
   ]
  },
  {
   "cell_type": "code",
   "execution_count": 105,
   "metadata": {},
   "outputs": [
    {
     "data": {
      "text/plain": [
       "262.2137060928762"
      ]
     },
     "execution_count": 105,
     "metadata": {},
     "output_type": "execute_result"
    }
   ],
   "source": [
    "mse5 = mean_squared_error(real_data[:,19],percobaan5)\n",
    "mse5"
   ]
  },
  {
   "cell_type": "code",
   "execution_count": 106,
   "metadata": {},
   "outputs": [
    {
     "data": {
      "text/plain": [
       "9.297361828951221"
      ]
     },
     "execution_count": 106,
     "metadata": {},
     "output_type": "execute_result"
    }
   ],
   "source": [
    "meanRR1 = stats.mean(percobaan1)\n",
    "meanRR1"
   ]
  },
  {
   "cell_type": "code",
   "execution_count": 107,
   "metadata": {},
   "outputs": [
    {
     "data": {
      "text/plain": [
       "11.802959979370687"
      ]
     },
     "execution_count": 107,
     "metadata": {},
     "output_type": "execute_result"
    }
   ],
   "source": [
    "meanRR2 = stats.mean(percobaan2)\n",
    "meanRR2"
   ]
  },
  {
   "cell_type": "code",
   "execution_count": 108,
   "metadata": {},
   "outputs": [
    {
     "data": {
      "text/plain": [
       "10.538847265388778"
      ]
     },
     "execution_count": 108,
     "metadata": {},
     "output_type": "execute_result"
    }
   ],
   "source": [
    "meanRR3 = stats.mean(percobaan3)\n",
    "meanRR3"
   ]
  },
  {
   "cell_type": "code",
   "execution_count": 109,
   "metadata": {},
   "outputs": [
    {
     "data": {
      "text/plain": [
       "10.151430028142652"
      ]
     },
     "execution_count": 109,
     "metadata": {},
     "output_type": "execute_result"
    }
   ],
   "source": [
    "meanRR4 = stats.mean(percobaan4)\n",
    "meanRR4"
   ]
  },
  {
   "cell_type": "code",
   "execution_count": 110,
   "metadata": {},
   "outputs": [
    {
     "data": {
      "text/plain": [
       "10.069900087353707"
      ]
     },
     "execution_count": 110,
     "metadata": {},
     "output_type": "execute_result"
    }
   ],
   "source": [
    "meanRR5 = stats.mean(percobaan5)\n",
    "meanRR5"
   ]
  },
  {
   "cell_type": "markdown",
   "metadata": {},
   "source": [
    "# PENGATURAN PARAMETER"
   ]
  },
  {
   "cell_type": "code",
   "execution_count": 111,
   "metadata": {},
   "outputs": [
    {
     "name": "stdout",
     "output_type": "stream",
     "text": [
      "Train on 2402 samples, validate on 267 samples\n",
      "Epoch 1/400\n",
      "2402/2402 [==============================] - 1s 350us/step - loss: 0.0046 - acc: 0.2352 - val_loss: 0.0132 - val_acc: 0.2022\n",
      "Epoch 2/400\n",
      "2402/2402 [==============================] - 1s 330us/step - loss: 0.0045 - acc: 0.2352 - val_loss: 0.0132 - val_acc: 0.2022\n",
      "Epoch 3/400\n",
      "2402/2402 [==============================] - 1s 327us/step - loss: 0.0043 - acc: 0.2352 - val_loss: 0.0133 - val_acc: 0.2022\n",
      "Epoch 4/400\n",
      "2402/2402 [==============================] - 1s 329us/step - loss: 0.0046 - acc: 0.2352 - val_loss: 0.0130 - val_acc: 0.2022\n",
      "Epoch 5/400\n",
      "2402/2402 [==============================] - 1s 326us/step - loss: 0.0042 - acc: 0.2352 - val_loss: 0.0133 - val_acc: 0.2022\n",
      "Epoch 6/400\n",
      "2402/2402 [==============================] - 1s 329us/step - loss: 0.0043 - acc: 0.2352 - val_loss: 0.0136 - val_acc: 0.2022\n",
      "Epoch 7/400\n",
      "2402/2402 [==============================] - 1s 324us/step - loss: 0.0043 - acc: 0.2352 - val_loss: 0.0133 - val_acc: 0.2022\n",
      "Epoch 8/400\n",
      "2402/2402 [==============================] - 1s 328us/step - loss: 0.0042 - acc: 0.2352 - val_loss: 0.0128 - val_acc: 0.2022\n",
      "Epoch 9/400\n",
      "2402/2402 [==============================] - 1s 327us/step - loss: 0.0043 - acc: 0.2352 - val_loss: 0.0125 - val_acc: 0.2022\n",
      "Epoch 10/400\n",
      "2402/2402 [==============================] - 1s 327us/step - loss: 0.0043 - acc: 0.2352 - val_loss: 0.0124 - val_acc: 0.2022\n",
      "Epoch 11/400\n",
      "2402/2402 [==============================] - 1s 324us/step - loss: 0.0043 - acc: 0.2352 - val_loss: 0.0133 - val_acc: 0.2022\n",
      "Epoch 12/400\n",
      "2402/2402 [==============================] - 1s 324us/step - loss: 0.0043 - acc: 0.2352 - val_loss: 0.0129 - val_acc: 0.2022\n",
      "Epoch 13/400\n",
      "2402/2402 [==============================] - 1s 325us/step - loss: 0.0043 - acc: 0.2352 - val_loss: 0.0127 - val_acc: 0.2022\n",
      "Epoch 14/400\n",
      "2402/2402 [==============================] - 1s 330us/step - loss: 0.0042 - acc: 0.2352 - val_loss: 0.0129 - val_acc: 0.2022\n",
      "Epoch 15/400\n",
      "2402/2402 [==============================] - 1s 330us/step - loss: 0.0043 - acc: 0.2352 - val_loss: 0.0127 - val_acc: 0.2022\n",
      "Epoch 16/400\n",
      "2402/2402 [==============================] - 1s 330us/step - loss: 0.0043 - acc: 0.2352 - val_loss: 0.0129 - val_acc: 0.2022\n",
      "Epoch 17/400\n",
      "2402/2402 [==============================] - 1s 328us/step - loss: 0.0042 - acc: 0.2352 - val_loss: 0.0136 - val_acc: 0.2022\n",
      "Epoch 18/400\n",
      "2402/2402 [==============================] - 1s 326us/step - loss: 0.0044 - acc: 0.2352 - val_loss: 0.0134 - val_acc: 0.2022\n",
      "Epoch 19/400\n",
      "2402/2402 [==============================] - 1s 325us/step - loss: 0.0044 - acc: 0.2352 - val_loss: 0.0137 - val_acc: 0.2022\n",
      "Epoch 20/400\n",
      "2402/2402 [==============================] - 1s 327us/step - loss: 0.0042 - acc: 0.2352 - val_loss: 0.0141 - val_acc: 0.2022\n",
      "Epoch 21/400\n",
      "2402/2402 [==============================] - 1s 328us/step - loss: 0.0044 - acc: 0.2352 - val_loss: 0.0129 - val_acc: 0.2022\n",
      "Epoch 22/400\n",
      "2402/2402 [==============================] - 1s 330us/step - loss: 0.0045 - acc: 0.2352 - val_loss: 0.0131 - val_acc: 0.2022\n",
      "Epoch 23/400\n",
      "2402/2402 [==============================] - 1s 327us/step - loss: 0.0044 - acc: 0.2352 - val_loss: 0.0145 - val_acc: 0.2022\n",
      "Epoch 24/400\n",
      "2402/2402 [==============================] - 1s 328us/step - loss: 0.0044 - acc: 0.2352 - val_loss: 0.0136 - val_acc: 0.2022\n",
      "Epoch 25/400\n",
      "2402/2402 [==============================] - 1s 330us/step - loss: 0.0045 - acc: 0.2352 - val_loss: 0.0137 - val_acc: 0.2022\n",
      "Epoch 26/400\n",
      "2402/2402 [==============================] - 1s 331us/step - loss: 0.0042 - acc: 0.2352 - val_loss: 0.0136 - val_acc: 0.2022\n",
      "Epoch 27/400\n",
      "2402/2402 [==============================] - 1s 330us/step - loss: 0.0042 - acc: 0.2352 - val_loss: 0.0139 - val_acc: 0.2022\n",
      "Epoch 28/400\n",
      "2402/2402 [==============================] - 1s 327us/step - loss: 0.0045 - acc: 0.2352 - val_loss: 0.0121 - val_acc: 0.2022\n",
      "Epoch 29/400\n",
      "2402/2402 [==============================] - 1s 326us/step - loss: 0.0044 - acc: 0.2352 - val_loss: 0.0138 - val_acc: 0.2022\n",
      "Epoch 30/400\n",
      "2402/2402 [==============================] - 1s 323us/step - loss: 0.0043 - acc: 0.2352 - val_loss: 0.0129 - val_acc: 0.2022\n",
      "Epoch 31/400\n",
      "2402/2402 [==============================] - 1s 327us/step - loss: 0.0041 - acc: 0.2352 - val_loss: 0.0135 - val_acc: 0.2022\n",
      "Epoch 32/400\n",
      "2402/2402 [==============================] - 1s 325us/step - loss: 0.0045 - acc: 0.2352 - val_loss: 0.0124 - val_acc: 0.2022\n",
      "Epoch 33/400\n",
      "2402/2402 [==============================] - 1s 329us/step - loss: 0.0042 - acc: 0.2352 - val_loss: 0.0131 - val_acc: 0.2022\n",
      "Epoch 34/400\n",
      "2402/2402 [==============================] - 1s 324us/step - loss: 0.0042 - acc: 0.2352 - val_loss: 0.0132 - val_acc: 0.2022\n",
      "Epoch 35/400\n",
      "2402/2402 [==============================] - 1s 326us/step - loss: 0.0042 - acc: 0.2352 - val_loss: 0.0130 - val_acc: 0.2022\n",
      "Epoch 36/400\n",
      "2402/2402 [==============================] - 1s 331us/step - loss: 0.0043 - acc: 0.2352 - val_loss: 0.0137 - val_acc: 0.2022\n",
      "Epoch 37/400\n",
      "2402/2402 [==============================] - 1s 326us/step - loss: 0.0046 - acc: 0.2352 - val_loss: 0.0132 - val_acc: 0.2022\n",
      "Epoch 38/400\n",
      "2402/2402 [==============================] - 1s 326us/step - loss: 0.0042 - acc: 0.2352 - val_loss: 0.0139 - val_acc: 0.2022\n",
      "Epoch 39/400\n",
      "2402/2402 [==============================] - 1s 331us/step - loss: 0.0041 - acc: 0.2352 - val_loss: 0.0131 - val_acc: 0.2022\n",
      "Epoch 40/400\n",
      "2402/2402 [==============================] - 1s 325us/step - loss: 0.0044 - acc: 0.2352 - val_loss: 0.0134 - val_acc: 0.2022\n",
      "Epoch 41/400\n",
      "2402/2402 [==============================] - 1s 327us/step - loss: 0.0042 - acc: 0.2352 - val_loss: 0.0132 - val_acc: 0.2022\n",
      "Epoch 42/400\n",
      "2402/2402 [==============================] - 1s 328us/step - loss: 0.0044 - acc: 0.2352 - val_loss: 0.0126 - val_acc: 0.2022\n",
      "Epoch 43/400\n",
      "2402/2402 [==============================] - 1s 328us/step - loss: 0.0047 - acc: 0.2352 - val_loss: 0.0129 - val_acc: 0.2022\n",
      "Epoch 44/400\n",
      "2402/2402 [==============================] - 1s 340us/step - loss: 0.0044 - acc: 0.2352 - val_loss: 0.0144 - val_acc: 0.2022\n",
      "Epoch 45/400\n",
      "2402/2402 [==============================] - 1s 328us/step - loss: 0.0045 - acc: 0.2352 - val_loss: 0.0130 - val_acc: 0.2022\n",
      "Epoch 46/400\n",
      "2402/2402 [==============================] - 1s 326us/step - loss: 0.0048 - acc: 0.2348 - val_loss: 0.0130 - val_acc: 0.2022\n",
      "Epoch 47/400\n",
      "2402/2402 [==============================] - 1s 332us/step - loss: 0.0045 - acc: 0.2352 - val_loss: 0.0139 - val_acc: 0.2022\n",
      "Epoch 48/400\n",
      "2402/2402 [==============================] - ETA: 0s - loss: 0.0043 - acc: 0.235 - 1s 331us/step - loss: 0.0043 - acc: 0.2352 - val_loss: 0.0138 - val_acc: 0.2022\n",
      "Epoch 49/400\n",
      "2402/2402 [==============================] - 1s 346us/step - loss: 0.0044 - acc: 0.2348 - val_loss: 0.0141 - val_acc: 0.2022\n",
      "Epoch 50/400\n",
      "2402/2402 [==============================] - 1s 343us/step - loss: 0.0042 - acc: 0.2352 - val_loss: 0.0136 - val_acc: 0.2022\n",
      "Epoch 51/400\n",
      "2402/2402 [==============================] - 1s 329us/step - loss: 0.0043 - acc: 0.2352 - val_loss: 0.0127 - val_acc: 0.2022\n",
      "Epoch 52/400\n",
      "2402/2402 [==============================] - 1s 333us/step - loss: 0.0044 - acc: 0.2352 - val_loss: 0.0129 - val_acc: 0.2022\n",
      "Epoch 53/400\n",
      "2402/2402 [==============================] - 1s 328us/step - loss: 0.0044 - acc: 0.2352 - val_loss: 0.0137 - val_acc: 0.2022\n",
      "Epoch 54/400\n",
      "2402/2402 [==============================] - 1s 331us/step - loss: 0.0045 - acc: 0.2352 - val_loss: 0.0145 - val_acc: 0.2022\n",
      "Epoch 55/400\n",
      "2402/2402 [==============================] - 1s 327us/step - loss: 0.0043 - acc: 0.2352 - val_loss: 0.0135 - val_acc: 0.2022\n",
      "Epoch 56/400\n",
      "2402/2402 [==============================] - 1s 327us/step - loss: 0.0041 - acc: 0.2352 - val_loss: 0.0143 - val_acc: 0.2022\n",
      "Epoch 57/400\n",
      "2402/2402 [==============================] - 1s 331us/step - loss: 0.0046 - acc: 0.2352 - val_loss: 0.0124 - val_acc: 0.2022\n",
      "Epoch 58/400\n",
      "2402/2402 [==============================] - 1s 331us/step - loss: 0.0045 - acc: 0.2352 - val_loss: 0.0137 - val_acc: 0.2022\n",
      "Epoch 59/400\n",
      "2402/2402 [==============================] - 1s 329us/step - loss: 0.0042 - acc: 0.2352 - val_loss: 0.0136 - val_acc: 0.2022\n"
     ]
    },
    {
     "name": "stdout",
     "output_type": "stream",
     "text": [
      "Epoch 60/400\n",
      "2402/2402 [==============================] - 1s 326us/step - loss: 0.0043 - acc: 0.2352 - val_loss: 0.0133 - val_acc: 0.2022\n",
      "Epoch 61/400\n",
      "2402/2402 [==============================] - 1s 327us/step - loss: 0.0044 - acc: 0.2352 - val_loss: 0.0132 - val_acc: 0.2022\n",
      "Epoch 62/400\n",
      "2402/2402 [==============================] - 1s 328us/step - loss: 0.0042 - acc: 0.2352 - val_loss: 0.0132 - val_acc: 0.2022\n",
      "Epoch 63/400\n",
      "2402/2402 [==============================] - 1s 328us/step - loss: 0.0042 - acc: 0.2352 - val_loss: 0.0129 - val_acc: 0.2022\n",
      "Epoch 64/400\n",
      "2402/2402 [==============================] - 1s 331us/step - loss: 0.0042 - acc: 0.2352 - val_loss: 0.0128 - val_acc: 0.2022\n",
      "Epoch 65/400\n",
      "2402/2402 [==============================] - 1s 328us/step - loss: 0.0046 - acc: 0.2352 - val_loss: 0.0128 - val_acc: 0.2022\n",
      "Epoch 66/400\n",
      "2402/2402 [==============================] - 1s 333us/step - loss: 0.0046 - acc: 0.2352 - val_loss: 0.0139 - val_acc: 0.2022\n",
      "Epoch 67/400\n",
      "2402/2402 [==============================] - 1s 326us/step - loss: 0.0041 - acc: 0.2352 - val_loss: 0.0129 - val_acc: 0.2022\n",
      "Epoch 68/400\n",
      "2402/2402 [==============================] - 1s 326us/step - loss: 0.0042 - acc: 0.2352 - val_loss: 0.0134 - val_acc: 0.2022\n",
      "Epoch 69/400\n",
      "2402/2402 [==============================] - 1s 328us/step - loss: 0.0041 - acc: 0.2352 - val_loss: 0.0135 - val_acc: 0.2022\n",
      "Epoch 70/400\n",
      "2402/2402 [==============================] - 1s 323us/step - loss: 0.0042 - acc: 0.2352 - val_loss: 0.0139 - val_acc: 0.2022\n",
      "Epoch 71/400\n",
      "2402/2402 [==============================] - 1s 330us/step - loss: 0.0043 - acc: 0.2352 - val_loss: 0.0132 - val_acc: 0.2022\n",
      "Epoch 72/400\n",
      "2402/2402 [==============================] - 1s 324us/step - loss: 0.0041 - acc: 0.2352 - val_loss: 0.0131 - val_acc: 0.2022\n",
      "Epoch 73/400\n",
      "2402/2402 [==============================] - 1s 326us/step - loss: 0.0045 - acc: 0.2352 - val_loss: 0.0140 - val_acc: 0.2022\n",
      "Epoch 74/400\n",
      "2402/2402 [==============================] - 1s 328us/step - loss: 0.0042 - acc: 0.2352 - val_loss: 0.0136 - val_acc: 0.2022\n",
      "Epoch 75/400\n",
      "2402/2402 [==============================] - 1s 323us/step - loss: 0.0045 - acc: 0.2352 - val_loss: 0.0139 - val_acc: 0.2022\n",
      "Epoch 76/400\n",
      "2402/2402 [==============================] - 1s 327us/step - loss: 0.0040 - acc: 0.2352 - val_loss: 0.0131 - val_acc: 0.2022\n",
      "Epoch 77/400\n",
      "2402/2402 [==============================] - 1s 327us/step - loss: 0.0043 - acc: 0.2352 - val_loss: 0.0133 - val_acc: 0.2022\n",
      "Epoch 78/400\n",
      "2402/2402 [==============================] - 1s 331us/step - loss: 0.0042 - acc: 0.2352 - val_loss: 0.0139 - val_acc: 0.2022\n",
      "Epoch 79/400\n",
      "2402/2402 [==============================] - 1s 328us/step - loss: 0.0045 - acc: 0.2352 - val_loss: 0.0132 - val_acc: 0.2022\n",
      "Epoch 80/400\n",
      "2402/2402 [==============================] - 1s 329us/step - loss: 0.0043 - acc: 0.2352 - val_loss: 0.0136 - val_acc: 0.2022\n",
      "Epoch 81/400\n",
      "2402/2402 [==============================] - 1s 328us/step - loss: 0.0046 - acc: 0.2352 - val_loss: 0.0137 - val_acc: 0.2022\n",
      "Epoch 82/400\n",
      "2402/2402 [==============================] - 1s 328us/step - loss: 0.0042 - acc: 0.2352 - val_loss: 0.0130 - val_acc: 0.2022\n",
      "Epoch 83/400\n",
      "2402/2402 [==============================] - 1s 332us/step - loss: 0.0042 - acc: 0.2352 - val_loss: 0.0137 - val_acc: 0.2022\n",
      "Epoch 84/400\n",
      "2402/2402 [==============================] - 1s 331us/step - loss: 0.0041 - acc: 0.2352 - val_loss: 0.0129 - val_acc: 0.2022\n",
      "Epoch 85/400\n",
      "2402/2402 [==============================] - 1s 331us/step - loss: 0.0042 - acc: 0.2352 - val_loss: 0.0130 - val_acc: 0.2022\n",
      "Epoch 86/400\n",
      "2402/2402 [==============================] - 1s 328us/step - loss: 0.0043 - acc: 0.2352 - val_loss: 0.0117 - val_acc: 0.2022\n",
      "Epoch 87/400\n",
      "2402/2402 [==============================] - 1s 328us/step - loss: 0.0043 - acc: 0.2352 - val_loss: 0.0133 - val_acc: 0.2022\n",
      "Epoch 88/400\n",
      "2402/2402 [==============================] - 1s 329us/step - loss: 0.0044 - acc: 0.2352 - val_loss: 0.0134 - val_acc: 0.2022\n",
      "Epoch 89/400\n",
      "2402/2402 [==============================] - 1s 329us/step - loss: 0.0046 - acc: 0.2352 - val_loss: 0.0113 - val_acc: 0.2022\n",
      "Epoch 90/400\n",
      "2402/2402 [==============================] - 1s 325us/step - loss: 0.0041 - acc: 0.2352 - val_loss: 0.0131 - val_acc: 0.2022\n",
      "Epoch 91/400\n",
      "2402/2402 [==============================] - 1s 331us/step - loss: 0.0042 - acc: 0.2352 - val_loss: 0.0138 - val_acc: 0.2022\n",
      "Epoch 92/400\n",
      "2402/2402 [==============================] - 1s 330us/step - loss: 0.0043 - acc: 0.2352 - val_loss: 0.0126 - val_acc: 0.2022\n",
      "Epoch 93/400\n",
      "2402/2402 [==============================] - 1s 317us/step - loss: 0.0042 - acc: 0.2352 - val_loss: 0.0118 - val_acc: 0.2022\n",
      "Epoch 94/400\n",
      "2402/2402 [==============================] - 1s 334us/step - loss: 0.0041 - acc: 0.2352 - val_loss: 0.0138 - val_acc: 0.2022\n",
      "Epoch 95/400\n",
      "2402/2402 [==============================] - 1s 333us/step - loss: 0.0044 - acc: 0.2352 - val_loss: 0.0126 - val_acc: 0.2022\n",
      "Epoch 96/400\n",
      "2402/2402 [==============================] - 1s 328us/step - loss: 0.0045 - acc: 0.2352 - val_loss: 0.0134 - val_acc: 0.2022\n",
      "Epoch 97/400\n",
      "2402/2402 [==============================] - 1s 328us/step - loss: 0.0041 - acc: 0.2352 - val_loss: 0.0136 - val_acc: 0.2022\n",
      "Epoch 98/400\n",
      "2402/2402 [==============================] - 1s 326us/step - loss: 0.0044 - acc: 0.2352 - val_loss: 0.0136 - val_acc: 0.2022\n",
      "Epoch 99/400\n",
      "2402/2402 [==============================] - 1s 329us/step - loss: 0.0044 - acc: 0.2352 - val_loss: 0.0131 - val_acc: 0.2022\n",
      "Epoch 100/400\n",
      "2402/2402 [==============================] - 1s 330us/step - loss: 0.0042 - acc: 0.2352 - val_loss: 0.0132 - val_acc: 0.2022\n",
      "Epoch 101/400\n",
      "2402/2402 [==============================] - 1s 330us/step - loss: 0.0043 - acc: 0.2352 - val_loss: 0.0132 - val_acc: 0.2022\n",
      "Epoch 102/400\n",
      "2402/2402 [==============================] - 1s 330us/step - loss: 0.0041 - acc: 0.2352 - val_loss: 0.0141 - val_acc: 0.2022\n",
      "Epoch 103/400\n",
      "2402/2402 [==============================] - 1s 328us/step - loss: 0.0042 - acc: 0.2352 - val_loss: 0.0129 - val_acc: 0.2022\n",
      "Epoch 104/400\n",
      "2402/2402 [==============================] - 1s 333us/step - loss: 0.0042 - acc: 0.2352 - val_loss: 0.0136 - val_acc: 0.2022\n",
      "Epoch 105/400\n",
      "2402/2402 [==============================] - 1s 331us/step - loss: 0.0039 - acc: 0.2352 - val_loss: 0.0139 - val_acc: 0.2022\n",
      "Epoch 106/400\n",
      "2402/2402 [==============================] - 1s 334us/step - loss: 0.0041 - acc: 0.2352 - val_loss: 0.0137 - val_acc: 0.2022\n",
      "Epoch 107/400\n",
      "2402/2402 [==============================] - 1s 328us/step - loss: 0.0040 - acc: 0.2352 - val_loss: 0.0141 - val_acc: 0.2022\n",
      "Epoch 108/400\n",
      "2402/2402 [==============================] - 1s 334us/step - loss: 0.0042 - acc: 0.2352 - val_loss: 0.0132 - val_acc: 0.2022\n",
      "Epoch 109/400\n",
      "2402/2402 [==============================] - 1s 331us/step - loss: 0.0045 - acc: 0.2352 - val_loss: 0.0130 - val_acc: 0.2022\n",
      "Epoch 110/400\n",
      "2402/2402 [==============================] - 1s 332us/step - loss: 0.0043 - acc: 0.2352 - val_loss: 0.0129 - val_acc: 0.2022\n",
      "Epoch 111/400\n",
      "2402/2402 [==============================] - 1s 331us/step - loss: 0.0043 - acc: 0.2352 - val_loss: 0.0130 - val_acc: 0.2022\n",
      "Epoch 112/400\n",
      "2402/2402 [==============================] - 1s 331us/step - loss: 0.0040 - acc: 0.2352 - val_loss: 0.0130 - val_acc: 0.2022\n",
      "Epoch 113/400\n",
      "2402/2402 [==============================] - 1s 325us/step - loss: 0.0046 - acc: 0.2352 - val_loss: 0.0130 - val_acc: 0.2022\n",
      "Epoch 114/400\n",
      "2402/2402 [==============================] - 1s 330us/step - loss: 0.0041 - acc: 0.2352 - val_loss: 0.0128 - val_acc: 0.2022\n",
      "Epoch 115/400\n",
      "2402/2402 [==============================] - 1s 330us/step - loss: 0.0042 - acc: 0.2352 - val_loss: 0.0137 - val_acc: 0.2022\n",
      "Epoch 116/400\n",
      "2402/2402 [==============================] - 1s 329us/step - loss: 0.0040 - acc: 0.2352 - val_loss: 0.0133 - val_acc: 0.2022\n",
      "Epoch 117/400\n",
      "2402/2402 [==============================] - 1s 331us/step - loss: 0.0045 - acc: 0.2352 - val_loss: 0.0127 - val_acc: 0.2022\n",
      "Epoch 118/400\n",
      "2402/2402 [==============================] - 1s 331us/step - loss: 0.0040 - acc: 0.2352 - val_loss: 0.0134 - val_acc: 0.2022\n",
      "Epoch 119/400\n"
     ]
    },
    {
     "name": "stdout",
     "output_type": "stream",
     "text": [
      "2402/2402 [==============================] - 1s 324us/step - loss: 0.0040 - acc: 0.2352 - val_loss: 0.0126 - val_acc: 0.2022\n",
      "Epoch 120/400\n",
      "2402/2402 [==============================] - 1s 327us/step - loss: 0.0046 - acc: 0.2352 - val_loss: 0.0140 - val_acc: 0.2022\n",
      "Epoch 121/400\n",
      "2402/2402 [==============================] - 1s 324us/step - loss: 0.0040 - acc: 0.2352 - val_loss: 0.0136 - val_acc: 0.2022\n",
      "Epoch 122/400\n",
      "2402/2402 [==============================] - 1s 327us/step - loss: 0.0040 - acc: 0.2352 - val_loss: 0.0136 - val_acc: 0.2022\n",
      "Epoch 123/400\n",
      "2402/2402 [==============================] - 1s 324us/step - loss: 0.0043 - acc: 0.2348 - val_loss: 0.0134 - val_acc: 0.2022\n",
      "Epoch 124/400\n",
      "2402/2402 [==============================] - 1s 327us/step - loss: 0.0043 - acc: 0.2352 - val_loss: 0.0138 - val_acc: 0.2022\n",
      "Epoch 125/400\n",
      "2402/2402 [==============================] - 1s 327us/step - loss: 0.0040 - acc: 0.2352 - val_loss: 0.0138 - val_acc: 0.2022\n",
      "Epoch 126/400\n",
      "2402/2402 [==============================] - 1s 324us/step - loss: 0.0042 - acc: 0.2352 - val_loss: 0.0135 - val_acc: 0.2022\n",
      "Epoch 127/400\n",
      "2402/2402 [==============================] - 1s 329us/step - loss: 0.0042 - acc: 0.2352 - val_loss: 0.0135 - val_acc: 0.2022\n",
      "Epoch 128/400\n",
      "2402/2402 [==============================] - 1s 329us/step - loss: 0.0041 - acc: 0.2352 - val_loss: 0.0131 - val_acc: 0.2022\n",
      "Epoch 129/400\n",
      "2402/2402 [==============================] - 1s 329us/step - loss: 0.0039 - acc: 0.2352 - val_loss: 0.0132 - val_acc: 0.2022\n",
      "Epoch 130/400\n",
      "2402/2402 [==============================] - 1s 333us/step - loss: 0.0041 - acc: 0.2352 - val_loss: 0.0139 - val_acc: 0.2022\n",
      "Epoch 131/400\n",
      "2402/2402 [==============================] - 1s 331us/step - loss: 0.0040 - acc: 0.2352 - val_loss: 0.0126 - val_acc: 0.2022\n",
      "Epoch 132/400\n",
      "2402/2402 [==============================] - 1s 332us/step - loss: 0.0040 - acc: 0.2352 - val_loss: 0.0130 - val_acc: 0.2022\n",
      "Epoch 133/400\n",
      "2402/2402 [==============================] - 1s 325us/step - loss: 0.0040 - acc: 0.2352 - val_loss: 0.0142 - val_acc: 0.2022\n",
      "Epoch 134/400\n",
      "2402/2402 [==============================] - 1s 321us/step - loss: 0.0042 - acc: 0.2352 - val_loss: 0.0136 - val_acc: 0.2022\n",
      "Epoch 135/400\n",
      "2402/2402 [==============================] - 1s 324us/step - loss: 0.0042 - acc: 0.2352 - val_loss: 0.0135 - val_acc: 0.2022\n",
      "Epoch 136/400\n",
      "2402/2402 [==============================] - 1s 324us/step - loss: 0.0039 - acc: 0.2352 - val_loss: 0.0137 - val_acc: 0.2022\n",
      "Epoch 137/400\n",
      "2402/2402 [==============================] - 1s 333us/step - loss: 0.0043 - acc: 0.2352 - val_loss: 0.0127 - val_acc: 0.2022\n",
      "Epoch 138/400\n",
      "2402/2402 [==============================] - 1s 324us/step - loss: 0.0040 - acc: 0.2352 - val_loss: 0.0129 - val_acc: 0.2022\n",
      "Epoch 139/400\n",
      "2402/2402 [==============================] - 1s 327us/step - loss: 0.0041 - acc: 0.2352 - val_loss: 0.0141 - val_acc: 0.2022\n",
      "Epoch 140/400\n",
      "2402/2402 [==============================] - 1s 329us/step - loss: 0.0042 - acc: 0.2352 - val_loss: 0.0143 - val_acc: 0.2022\n",
      "Epoch 141/400\n",
      "2402/2402 [==============================] - 1s 325us/step - loss: 0.0039 - acc: 0.2352 - val_loss: 0.0136 - val_acc: 0.2022\n",
      "Epoch 142/400\n",
      "2402/2402 [==============================] - 1s 325us/step - loss: 0.0044 - acc: 0.2352 - val_loss: 0.0132 - val_acc: 0.2022\n",
      "Epoch 143/400\n",
      "2402/2402 [==============================] - 1s 329us/step - loss: 0.0045 - acc: 0.2352 - val_loss: 0.0129 - val_acc: 0.2022\n",
      "Epoch 144/400\n",
      "2402/2402 [==============================] - 1s 329us/step - loss: 0.0042 - acc: 0.2352 - val_loss: 0.0139 - val_acc: 0.2022\n",
      "Epoch 145/400\n",
      "2402/2402 [==============================] - 1s 328us/step - loss: 0.0039 - acc: 0.2352 - val_loss: 0.0134 - val_acc: 0.2022\n",
      "Epoch 146/400\n",
      "2402/2402 [==============================] - 1s 328us/step - loss: 0.0041 - acc: 0.2352 - val_loss: 0.0128 - val_acc: 0.2022\n",
      "Epoch 147/400\n",
      "2402/2402 [==============================] - 1s 327us/step - loss: 0.0041 - acc: 0.2352 - val_loss: 0.0129 - val_acc: 0.2022\n",
      "Epoch 148/400\n",
      "2402/2402 [==============================] - 1s 327us/step - loss: 0.0044 - acc: 0.2352 - val_loss: 0.0126 - val_acc: 0.2022\n",
      "Epoch 149/400\n",
      "2402/2402 [==============================] - 1s 330us/step - loss: 0.0042 - acc: 0.2352 - val_loss: 0.0141 - val_acc: 0.2022\n",
      "Epoch 150/400\n",
      "2402/2402 [==============================] - 1s 330us/step - loss: 0.0041 - acc: 0.2352 - val_loss: 0.0134 - val_acc: 0.2022\n",
      "Epoch 151/400\n",
      "2402/2402 [==============================] - 1s 325us/step - loss: 0.0043 - acc: 0.2352 - val_loss: 0.0138 - val_acc: 0.2022\n",
      "Epoch 152/400\n",
      "2402/2402 [==============================] - 1s 325us/step - loss: 0.0042 - acc: 0.2352 - val_loss: 0.0136 - val_acc: 0.2022\n",
      "Epoch 153/400\n",
      "2402/2402 [==============================] - 1s 336us/step - loss: 0.0042 - acc: 0.2352 - val_loss: 0.0132 - val_acc: 0.2022\n",
      "Epoch 154/400\n",
      "2402/2402 [==============================] - 1s 331us/step - loss: 0.0041 - acc: 0.2352 - val_loss: 0.0140 - val_acc: 0.2022\n",
      "Epoch 155/400\n",
      "2402/2402 [==============================] - 1s 330us/step - loss: 0.0039 - acc: 0.2352 - val_loss: 0.0138 - val_acc: 0.2022\n",
      "Epoch 156/400\n",
      "2402/2402 [==============================] - 1s 328us/step - loss: 0.0040 - acc: 0.2352 - val_loss: 0.0130 - val_acc: 0.2022\n",
      "Epoch 157/400\n",
      "2402/2402 [==============================] - 1s 328us/step - loss: 0.0043 - acc: 0.2352 - val_loss: 0.0127 - val_acc: 0.2022\n",
      "Epoch 158/400\n",
      "2402/2402 [==============================] - 1s 330us/step - loss: 0.0040 - acc: 0.2352 - val_loss: 0.0133 - val_acc: 0.2022\n",
      "Epoch 159/400\n",
      "2402/2402 [==============================] - 1s 328us/step - loss: 0.0039 - acc: 0.2352 - val_loss: 0.0132 - val_acc: 0.2022\n",
      "Epoch 160/400\n",
      "2402/2402 [==============================] - 1s 330us/step - loss: 0.0038 - acc: 0.2352 - val_loss: 0.0133 - val_acc: 0.2022\n",
      "Epoch 161/400\n",
      "2402/2402 [==============================] - 1s 324us/step - loss: 0.0041 - acc: 0.2352 - val_loss: 0.0138 - val_acc: 0.2022\n",
      "Epoch 162/400\n",
      "2402/2402 [==============================] - 1s 326us/step - loss: 0.0041 - acc: 0.2352 - val_loss: 0.0131 - val_acc: 0.2022\n",
      "Epoch 163/400\n",
      "2402/2402 [==============================] - 1s 333us/step - loss: 0.0041 - acc: 0.2352 - val_loss: 0.0131 - val_acc: 0.2022\n",
      "Epoch 164/400\n",
      "2402/2402 [==============================] - 1s 329us/step - loss: 0.0041 - acc: 0.2352 - val_loss: 0.0139 - val_acc: 0.2022\n",
      "Epoch 165/400\n",
      "2402/2402 [==============================] - 1s 327us/step - loss: 0.0045 - acc: 0.2352 - val_loss: 0.0130 - val_acc: 0.2022\n",
      "Epoch 166/400\n",
      "2402/2402 [==============================] - 1s 329us/step - loss: 0.0044 - acc: 0.2352 - val_loss: 0.0122 - val_acc: 0.2022\n",
      "Epoch 167/400\n",
      "2402/2402 [==============================] - 1s 333us/step - loss: 0.0045 - acc: 0.2352 - val_loss: 0.0140 - val_acc: 0.2022\n",
      "Epoch 168/400\n",
      "2402/2402 [==============================] - 1s 331us/step - loss: 0.0041 - acc: 0.2352 - val_loss: 0.0134 - val_acc: 0.2022\n",
      "Epoch 169/400\n",
      "2402/2402 [==============================] - 1s 336us/step - loss: 0.0041 - acc: 0.2352 - val_loss: 0.0136 - val_acc: 0.2022\n",
      "Epoch 170/400\n",
      "2402/2402 [==============================] - 1s 325us/step - loss: 0.0042 - acc: 0.2348 - val_loss: 0.0136 - val_acc: 0.2022\n",
      "Epoch 171/400\n",
      "2402/2402 [==============================] - 1s 330us/step - loss: 0.0040 - acc: 0.2352 - val_loss: 0.0134 - val_acc: 0.2022\n",
      "Epoch 172/400\n",
      "2402/2402 [==============================] - 1s 335us/step - loss: 0.0040 - acc: 0.2352 - val_loss: 0.0135 - val_acc: 0.2022\n",
      "Epoch 173/400\n",
      "2402/2402 [==============================] - 1s 325us/step - loss: 0.0040 - acc: 0.2352 - val_loss: 0.0131 - val_acc: 0.2022\n",
      "Epoch 174/400\n",
      "2402/2402 [==============================] - 1s 331us/step - loss: 0.0038 - acc: 0.2352 - val_loss: 0.0137 - val_acc: 0.2022\n",
      "Epoch 175/400\n",
      "2402/2402 [==============================] - 1s 321us/step - loss: 0.0041 - acc: 0.2352 - val_loss: 0.0134 - val_acc: 0.2022\n",
      "Epoch 176/400\n",
      "2402/2402 [==============================] - 1s 327us/step - loss: 0.0042 - acc: 0.2352 - val_loss: 0.0135 - val_acc: 0.2022\n",
      "Epoch 177/400\n",
      "2402/2402 [==============================] - 1s 325us/step - loss: 0.0040 - acc: 0.2352 - val_loss: 0.0136 - val_acc: 0.2022\n",
      "Epoch 178/400\n"
     ]
    },
    {
     "name": "stdout",
     "output_type": "stream",
     "text": [
      "2402/2402 [==============================] - 1s 330us/step - loss: 0.0039 - acc: 0.2352 - val_loss: 0.0132 - val_acc: 0.2022\n",
      "Epoch 179/400\n",
      "2402/2402 [==============================] - 1s 327us/step - loss: 0.0039 - acc: 0.2352 - val_loss: 0.0133 - val_acc: 0.2022\n",
      "Epoch 180/400\n",
      "2402/2402 [==============================] - 1s 325us/step - loss: 0.0040 - acc: 0.2352 - val_loss: 0.0135 - val_acc: 0.2022\n",
      "Epoch 181/400\n",
      "2402/2402 [==============================] - 1s 325us/step - loss: 0.0045 - acc: 0.2352 - val_loss: 0.0130 - val_acc: 0.2022\n",
      "Epoch 182/400\n",
      "2402/2402 [==============================] - 1s 325us/step - loss: 0.0040 - acc: 0.2352 - val_loss: 0.0140 - val_acc: 0.2022\n",
      "Epoch 183/400\n",
      "2402/2402 [==============================] - 1s 327us/step - loss: 0.0039 - acc: 0.2352 - val_loss: 0.0142 - val_acc: 0.2022\n",
      "Epoch 184/400\n",
      "2402/2402 [==============================] - 1s 334us/step - loss: 0.0041 - acc: 0.2352 - val_loss: 0.0138 - val_acc: 0.2022\n",
      "Epoch 185/400\n",
      "2402/2402 [==============================] - 1s 331us/step - loss: 0.0041 - acc: 0.2352 - val_loss: 0.0141 - val_acc: 0.2022\n",
      "Epoch 186/400\n",
      "2402/2402 [==============================] - 1s 324us/step - loss: 0.0041 - acc: 0.2348 - val_loss: 0.0127 - val_acc: 0.2022\n",
      "Epoch 187/400\n",
      "2402/2402 [==============================] - 1s 331us/step - loss: 0.0043 - acc: 0.2352 - val_loss: 0.0141 - val_acc: 0.2022\n",
      "Epoch 188/400\n",
      "2402/2402 [==============================] - 1s 325us/step - loss: 0.0042 - acc: 0.2352 - val_loss: 0.0137 - val_acc: 0.2022\n",
      "Epoch 189/400\n",
      "2402/2402 [==============================] - 1s 329us/step - loss: 0.0039 - acc: 0.2352 - val_loss: 0.0130 - val_acc: 0.2022\n",
      "Epoch 190/400\n",
      "2402/2402 [==============================] - 1s 331us/step - loss: 0.0040 - acc: 0.2352 - val_loss: 0.0137 - val_acc: 0.2022\n",
      "Epoch 191/400\n",
      "2402/2402 [==============================] - 1s 325us/step - loss: 0.0040 - acc: 0.2352 - val_loss: 0.0131 - val_acc: 0.2022\n",
      "Epoch 192/400\n",
      "2402/2402 [==============================] - 1s 329us/step - loss: 0.0041 - acc: 0.2352 - val_loss: 0.0139 - val_acc: 0.2022\n",
      "Epoch 193/400\n",
      "2402/2402 [==============================] - 1s 326us/step - loss: 0.0043 - acc: 0.2352 - val_loss: 0.0137 - val_acc: 0.2022\n",
      "Epoch 194/400\n",
      "2402/2402 [==============================] - 1s 331us/step - loss: 0.0040 - acc: 0.2352 - val_loss: 0.0140 - val_acc: 0.2022\n",
      "Epoch 195/400\n",
      "2402/2402 [==============================] - 1s 329us/step - loss: 0.0042 - acc: 0.2352 - val_loss: 0.0134 - val_acc: 0.2022\n",
      "Epoch 196/400\n",
      "2402/2402 [==============================] - 1s 332us/step - loss: 0.0042 - acc: 0.2352 - val_loss: 0.0131 - val_acc: 0.2022\n",
      "Epoch 197/400\n",
      "2402/2402 [==============================] - 1s 329us/step - loss: 0.0041 - acc: 0.2352 - val_loss: 0.0142 - val_acc: 0.2022\n",
      "Epoch 198/400\n",
      "2402/2402 [==============================] - 1s 328us/step - loss: 0.0042 - acc: 0.2352 - val_loss: 0.0128 - val_acc: 0.2022\n",
      "Epoch 199/400\n",
      "2402/2402 [==============================] - 1s 331us/step - loss: 0.0041 - acc: 0.2352 - val_loss: 0.0135 - val_acc: 0.2022\n",
      "Epoch 200/400\n",
      "2402/2402 [==============================] - 1s 331us/step - loss: 0.0039 - acc: 0.2352 - val_loss: 0.0134 - val_acc: 0.2022\n",
      "Epoch 201/400\n",
      "2402/2402 [==============================] - 1s 329us/step - loss: 0.0042 - acc: 0.2352 - val_loss: 0.0135 - val_acc: 0.2022\n",
      "Epoch 202/400\n",
      "2402/2402 [==============================] - 1s 333us/step - loss: 0.0042 - acc: 0.2352 - val_loss: 0.0131 - val_acc: 0.2022\n",
      "Epoch 203/400\n",
      "2402/2402 [==============================] - 1s 342us/step - loss: 0.0040 - acc: 0.2352 - val_loss: 0.0139 - val_acc: 0.2022\n",
      "Epoch 204/400\n",
      "2402/2402 [==============================] - 1s 328us/step - loss: 0.0040 - acc: 0.2352 - val_loss: 0.0127 - val_acc: 0.2022\n",
      "Epoch 205/400\n",
      "2402/2402 [==============================] - 1s 328us/step - loss: 0.0040 - acc: 0.2352 - val_loss: 0.0130 - val_acc: 0.2022\n",
      "Epoch 206/400\n",
      "2402/2402 [==============================] - 1s 326us/step - loss: 0.0040 - acc: 0.2352 - val_loss: 0.0128 - val_acc: 0.2022\n",
      "Epoch 207/400\n",
      "2402/2402 [==============================] - 1s 326us/step - loss: 0.0041 - acc: 0.2352 - val_loss: 0.0133 - val_acc: 0.2022\n",
      "Epoch 208/400\n",
      "2402/2402 [==============================] - 1s 329us/step - loss: 0.0040 - acc: 0.2352 - val_loss: 0.0132 - val_acc: 0.2022\n",
      "Epoch 209/400\n",
      "2402/2402 [==============================] - 1s 329us/step - loss: 0.0038 - acc: 0.2352 - val_loss: 0.0135 - val_acc: 0.2022\n",
      "Epoch 210/400\n",
      "2402/2402 [==============================] - 1s 330us/step - loss: 0.0041 - acc: 0.2352 - val_loss: 0.0136 - val_acc: 0.2022\n",
      "Epoch 211/400\n",
      "2402/2402 [==============================] - 1s 331us/step - loss: 0.0040 - acc: 0.2352 - val_loss: 0.0134 - val_acc: 0.2022\n",
      "Epoch 212/400\n",
      "2402/2402 [==============================] - 1s 330us/step - loss: 0.0041 - acc: 0.2352 - val_loss: 0.0132 - val_acc: 0.2022\n",
      "Epoch 213/400\n",
      "2402/2402 [==============================] - 1s 322us/step - loss: 0.0038 - acc: 0.2352 - val_loss: 0.0132 - val_acc: 0.2022\n",
      "Epoch 214/400\n",
      "2402/2402 [==============================] - 1s 330us/step - loss: 0.0039 - acc: 0.2352 - val_loss: 0.0129 - val_acc: 0.2022\n",
      "Epoch 215/400\n",
      "2402/2402 [==============================] - 1s 328us/step - loss: 0.0039 - acc: 0.2352 - val_loss: 0.0130 - val_acc: 0.2022\n",
      "Epoch 216/400\n",
      "2402/2402 [==============================] - 1s 325us/step - loss: 0.0038 - acc: 0.2352 - val_loss: 0.0132 - val_acc: 0.2022\n",
      "Epoch 217/400\n",
      "2402/2402 [==============================] - 1s 327us/step - loss: 0.0036 - acc: 0.2352 - val_loss: 0.0142 - val_acc: 0.2022\n",
      "Epoch 218/400\n",
      "2402/2402 [==============================] - 1s 331us/step - loss: 0.0039 - acc: 0.2352 - val_loss: 0.0135 - val_acc: 0.2022\n",
      "Epoch 219/400\n",
      "2402/2402 [==============================] - 1s 329us/step - loss: 0.0039 - acc: 0.2352 - val_loss: 0.0130 - val_acc: 0.2022\n",
      "Epoch 220/400\n",
      "2402/2402 [==============================] - 1s 326us/step - loss: 0.0040 - acc: 0.2352 - val_loss: 0.0123 - val_acc: 0.2022\n",
      "Epoch 221/400\n",
      "2402/2402 [==============================] - 1s 327us/step - loss: 0.0040 - acc: 0.2352 - val_loss: 0.0132 - val_acc: 0.2022\n",
      "Epoch 222/400\n",
      "2402/2402 [==============================] - 1s 328us/step - loss: 0.0037 - acc: 0.2352 - val_loss: 0.0128 - val_acc: 0.2022\n",
      "Epoch 223/400\n",
      "2402/2402 [==============================] - 1s 328us/step - loss: 0.0039 - acc: 0.2352 - val_loss: 0.0129 - val_acc: 0.2022\n",
      "Epoch 224/400\n",
      "2402/2402 [==============================] - 1s 333us/step - loss: 0.0039 - acc: 0.2352 - val_loss: 0.0130 - val_acc: 0.2022\n",
      "Epoch 225/400\n",
      "2402/2402 [==============================] - 1s 325us/step - loss: 0.0045 - acc: 0.2352 - val_loss: 0.0136 - val_acc: 0.2022\n",
      "Epoch 226/400\n",
      "2402/2402 [==============================] - 1s 330us/step - loss: 0.0040 - acc: 0.2352 - val_loss: 0.0138 - val_acc: 0.2022\n",
      "Epoch 227/400\n",
      "2402/2402 [==============================] - 1s 326us/step - loss: 0.0044 - acc: 0.2352 - val_loss: 0.0130 - val_acc: 0.2022\n",
      "Epoch 228/400\n",
      "2402/2402 [==============================] - 1s 325us/step - loss: 0.0041 - acc: 0.2352 - val_loss: 0.0130 - val_acc: 0.2022\n",
      "Epoch 229/400\n",
      "2402/2402 [==============================] - 1s 328us/step - loss: 0.0039 - acc: 0.2352 - val_loss: 0.0133 - val_acc: 0.2022\n",
      "Epoch 230/400\n",
      "2402/2402 [==============================] - 1s 336us/step - loss: 0.0040 - acc: 0.2352 - val_loss: 0.0125 - val_acc: 0.2022\n",
      "Epoch 231/400\n",
      "2402/2402 [==============================] - 1s 332us/step - loss: 0.0038 - acc: 0.2352 - val_loss: 0.0138 - val_acc: 0.2022\n",
      "Epoch 232/400\n",
      "2402/2402 [==============================] - 1s 333us/step - loss: 0.0039 - acc: 0.2352 - val_loss: 0.0133 - val_acc: 0.2022\n",
      "Epoch 233/400\n",
      "2402/2402 [==============================] - 1s 330us/step - loss: 0.0037 - acc: 0.2352 - val_loss: 0.0134 - val_acc: 0.2022\n",
      "Epoch 234/400\n",
      "2402/2402 [==============================] - 1s 327us/step - loss: 0.0038 - acc: 0.2352 - val_loss: 0.0133 - val_acc: 0.2022\n",
      "Epoch 235/400\n",
      "2402/2402 [==============================] - 1s 331us/step - loss: 0.0038 - acc: 0.2352 - val_loss: 0.0134 - val_acc: 0.2022\n",
      "Epoch 236/400\n",
      "2402/2402 [==============================] - 1s 351us/step - loss: 0.0041 - acc: 0.2352 - val_loss: 0.0137 - val_acc: 0.2022\n",
      "Epoch 237/400\n"
     ]
    },
    {
     "name": "stdout",
     "output_type": "stream",
     "text": [
      "2402/2402 [==============================] - 1s 330us/step - loss: 0.0041 - acc: 0.2352 - val_loss: 0.0136 - val_acc: 0.2022\n",
      "Epoch 238/400\n",
      "2402/2402 [==============================] - 1s 324us/step - loss: 0.0038 - acc: 0.2352 - val_loss: 0.0132 - val_acc: 0.2022\n",
      "Epoch 239/400\n",
      "2402/2402 [==============================] - 1s 326us/step - loss: 0.0038 - acc: 0.2352 - val_loss: 0.0131 - val_acc: 0.2022\n",
      "Epoch 240/400\n",
      "2402/2402 [==============================] - 1s 326us/step - loss: 0.0040 - acc: 0.2352 - val_loss: 0.0126 - val_acc: 0.2022\n",
      "Epoch 241/400\n",
      "2402/2402 [==============================] - 1s 324us/step - loss: 0.0040 - acc: 0.2352 - val_loss: 0.0132 - val_acc: 0.2022\n",
      "Epoch 242/400\n",
      "2402/2402 [==============================] - 1s 327us/step - loss: 0.0040 - acc: 0.2352 - val_loss: 0.0133 - val_acc: 0.2022\n",
      "Epoch 243/400\n",
      "2402/2402 [==============================] - 1s 330us/step - loss: 0.0039 - acc: 0.2352 - val_loss: 0.0135 - val_acc: 0.2022\n",
      "Epoch 244/400\n",
      "2402/2402 [==============================] - 1s 320us/step - loss: 0.0038 - acc: 0.2352 - val_loss: 0.0142 - val_acc: 0.2022\n",
      "Epoch 245/400\n",
      "2402/2402 [==============================] - 1s 321us/step - loss: 0.0041 - acc: 0.2352 - val_loss: 0.0137 - val_acc: 0.2022\n",
      "Epoch 246/400\n",
      "2402/2402 [==============================] - 1s 336us/step - loss: 0.0040 - acc: 0.2352 - val_loss: 0.0140 - val_acc: 0.2022\n",
      "Epoch 247/400\n",
      "2402/2402 [==============================] - 1s 327us/step - loss: 0.0039 - acc: 0.2352 - val_loss: 0.0141 - val_acc: 0.2022\n",
      "Epoch 248/400\n",
      "2402/2402 [==============================] - 1s 328us/step - loss: 0.0039 - acc: 0.2352 - val_loss: 0.0140 - val_acc: 0.2022\n",
      "Epoch 249/400\n",
      "2402/2402 [==============================] - 1s 327us/step - loss: 0.0038 - acc: 0.2352 - val_loss: 0.0137 - val_acc: 0.2022\n",
      "Epoch 250/400\n",
      "2402/2402 [==============================] - 1s 328us/step - loss: 0.0039 - acc: 0.2352 - val_loss: 0.0129 - val_acc: 0.2022\n",
      "Epoch 251/400\n",
      "2402/2402 [==============================] - 1s 331us/step - loss: 0.0038 - acc: 0.2352 - val_loss: 0.0136 - val_acc: 0.2022\n",
      "Epoch 252/400\n",
      "2402/2402 [==============================] - 1s 329us/step - loss: 0.0037 - acc: 0.2352 - val_loss: 0.0134 - val_acc: 0.2022\n",
      "Epoch 253/400\n",
      "2402/2402 [==============================] - 1s 329us/step - loss: 0.0037 - acc: 0.2352 - val_loss: 0.0136 - val_acc: 0.2022\n",
      "Epoch 254/400\n",
      "2402/2402 [==============================] - 1s 327us/step - loss: 0.0042 - acc: 0.2352 - val_loss: 0.0138 - val_acc: 0.2022\n",
      "Epoch 255/400\n",
      "2402/2402 [==============================] - 1s 328us/step - loss: 0.0037 - acc: 0.2352 - val_loss: 0.0138 - val_acc: 0.2022\n",
      "Epoch 256/400\n",
      "2402/2402 [==============================] - 1s 331us/step - loss: 0.0040 - acc: 0.2352 - val_loss: 0.0131 - val_acc: 0.2022\n",
      "Epoch 257/400\n",
      "2402/2402 [==============================] - 1s 326us/step - loss: 0.0037 - acc: 0.2352 - val_loss: 0.0140 - val_acc: 0.2022\n",
      "Epoch 258/400\n",
      "2402/2402 [==============================] - 1s 325us/step - loss: 0.0036 - acc: 0.2352 - val_loss: 0.0139 - val_acc: 0.2022\n",
      "Epoch 259/400\n",
      "2402/2402 [==============================] - 1s 329us/step - loss: 0.0040 - acc: 0.2352 - val_loss: 0.0135 - val_acc: 0.2022\n",
      "Epoch 260/400\n",
      "2402/2402 [==============================] - 1s 328us/step - loss: 0.0037 - acc: 0.2352 - val_loss: 0.0134 - val_acc: 0.2022\n",
      "Epoch 261/400\n",
      "2402/2402 [==============================] - 1s 326us/step - loss: 0.0039 - acc: 0.2352 - val_loss: 0.0138 - val_acc: 0.2022\n",
      "Epoch 262/400\n",
      "2402/2402 [==============================] - 1s 325us/step - loss: 0.0040 - acc: 0.2352 - val_loss: 0.0141 - val_acc: 0.2022\n",
      "Epoch 263/400\n",
      "2402/2402 [==============================] - 1s 328us/step - loss: 0.0041 - acc: 0.2352 - val_loss: 0.0132 - val_acc: 0.2022\n",
      "Epoch 264/400\n",
      "2402/2402 [==============================] - 1s 326us/step - loss: 0.0038 - acc: 0.2352 - val_loss: 0.0133 - val_acc: 0.2022\n",
      "Epoch 265/400\n",
      "2402/2402 [==============================] - 1s 324us/step - loss: 0.0038 - acc: 0.2352 - val_loss: 0.0128 - val_acc: 0.2022\n",
      "Epoch 266/400\n",
      "2402/2402 [==============================] - 1s 326us/step - loss: 0.0039 - acc: 0.2352 - val_loss: 0.0137 - val_acc: 0.2022\n",
      "Epoch 267/400\n",
      "2402/2402 [==============================] - 1s 329us/step - loss: 0.0040 - acc: 0.2352 - val_loss: 0.0134 - val_acc: 0.2022\n",
      "Epoch 268/400\n",
      "2402/2402 [==============================] - 1s 328us/step - loss: 0.0036 - acc: 0.2352 - val_loss: 0.0133 - val_acc: 0.2022\n",
      "Epoch 269/400\n",
      "2402/2402 [==============================] - 1s 331us/step - loss: 0.0038 - acc: 0.2352 - val_loss: 0.0139 - val_acc: 0.2022\n",
      "Epoch 270/400\n",
      "2402/2402 [==============================] - 1s 329us/step - loss: 0.0041 - acc: 0.2352 - val_loss: 0.0134 - val_acc: 0.2022\n",
      "Epoch 271/400\n",
      "2402/2402 [==============================] - 1s 331us/step - loss: 0.0037 - acc: 0.2352 - val_loss: 0.0137 - val_acc: 0.2022\n",
      "Epoch 272/400\n",
      "2402/2402 [==============================] - 1s 330us/step - loss: 0.0038 - acc: 0.2352 - val_loss: 0.0137 - val_acc: 0.2022\n",
      "Epoch 273/400\n",
      "2402/2402 [==============================] - 1s 331us/step - loss: 0.0037 - acc: 0.2352 - val_loss: 0.0137 - val_acc: 0.2022\n",
      "Epoch 274/400\n",
      "2402/2402 [==============================] - 1s 333us/step - loss: 0.0037 - acc: 0.2352 - val_loss: 0.0135 - val_acc: 0.2022\n",
      "Epoch 275/400\n",
      "2402/2402 [==============================] - 1s 344us/step - loss: 0.0039 - acc: 0.2352 - val_loss: 0.0135 - val_acc: 0.2022\n",
      "Epoch 276/400\n",
      "2402/2402 [==============================] - 1s 348us/step - loss: 0.0038 - acc: 0.2352 - val_loss: 0.0132 - val_acc: 0.2022\n",
      "Epoch 277/400\n",
      "2402/2402 [==============================] - 1s 349us/step - loss: 0.0040 - acc: 0.2352 - val_loss: 0.0137 - val_acc: 0.2022\n",
      "Epoch 278/400\n",
      "2402/2402 [==============================] - 1s 352us/step - loss: 0.0036 - acc: 0.2352 - val_loss: 0.0135 - val_acc: 0.2022\n",
      "Epoch 279/400\n",
      "2402/2402 [==============================] - 1s 350us/step - loss: 0.0041 - acc: 0.2352 - val_loss: 0.0134 - val_acc: 0.2022\n",
      "Epoch 280/400\n",
      "2402/2402 [==============================] - 1s 349us/step - loss: 0.0035 - acc: 0.2352 - val_loss: 0.0136 - val_acc: 0.2022\n",
      "Epoch 281/400\n",
      "2402/2402 [==============================] - 1s 347us/step - loss: 0.0040 - acc: 0.2352 - val_loss: 0.0134 - val_acc: 0.2022\n",
      "Epoch 282/400\n",
      "2402/2402 [==============================] - 1s 348us/step - loss: 0.0040 - acc: 0.2352 - val_loss: 0.0132 - val_acc: 0.2022\n",
      "Epoch 283/400\n",
      "2402/2402 [==============================] - 1s 344us/step - loss: 0.0036 - acc: 0.2352 - val_loss: 0.0139 - val_acc: 0.2022\n",
      "Epoch 284/400\n",
      "2402/2402 [==============================] - 1s 351us/step - loss: 0.0042 - acc: 0.2352 - val_loss: 0.0135 - val_acc: 0.2022\n",
      "Epoch 285/400\n",
      "2402/2402 [==============================] - 1s 342us/step - loss: 0.0039 - acc: 0.2352 - val_loss: 0.0137 - val_acc: 0.2022\n",
      "Epoch 286/400\n",
      "2402/2402 [==============================] - 1s 340us/step - loss: 0.0039 - acc: 0.2348 - val_loss: 0.0138 - val_acc: 0.2022\n",
      "Epoch 287/400\n",
      "2402/2402 [==============================] - 1s 346us/step - loss: 0.0040 - acc: 0.2352 - val_loss: 0.0137 - val_acc: 0.2022\n",
      "Epoch 288/400\n",
      "2402/2402 [==============================] - 1s 345us/step - loss: 0.0040 - acc: 0.2352 - val_loss: 0.0129 - val_acc: 0.2022\n",
      "Epoch 289/400\n",
      "2402/2402 [==============================] - 1s 356us/step - loss: 0.0038 - acc: 0.2352 - val_loss: 0.0137 - val_acc: 0.2022\n",
      "Epoch 290/400\n",
      "2402/2402 [==============================] - 1s 351us/step - loss: 0.0039 - acc: 0.2352 - val_loss: 0.0140 - val_acc: 0.2022\n",
      "Epoch 291/400\n",
      "2402/2402 [==============================] - 1s 356us/step - loss: 0.0045 - acc: 0.2352 - val_loss: 0.0134 - val_acc: 0.2022\n",
      "Epoch 292/400\n",
      "2402/2402 [==============================] - 1s 344us/step - loss: 0.0038 - acc: 0.2352 - val_loss: 0.0134 - val_acc: 0.2022\n",
      "Epoch 293/400\n",
      "2402/2402 [==============================] - 1s 349us/step - loss: 0.0040 - acc: 0.2352 - val_loss: 0.0133 - val_acc: 0.2022\n",
      "Epoch 294/400\n",
      "2402/2402 [==============================] - 1s 357us/step - loss: 0.0038 - acc: 0.2352 - val_loss: 0.0138 - val_acc: 0.2022\n",
      "Epoch 295/400\n",
      "2402/2402 [==============================] - 1s 346us/step - loss: 0.0039 - acc: 0.2352 - val_loss: 0.0132 - val_acc: 0.2022\n",
      "Epoch 296/400\n"
     ]
    },
    {
     "name": "stdout",
     "output_type": "stream",
     "text": [
      "2402/2402 [==============================] - 1s 342us/step - loss: 0.0037 - acc: 0.2352 - val_loss: 0.0136 - val_acc: 0.2022\n",
      "Epoch 297/400\n",
      "2402/2402 [==============================] - 1s 346us/step - loss: 0.0037 - acc: 0.2352 - val_loss: 0.0133 - val_acc: 0.2022\n",
      "Epoch 298/400\n",
      "2402/2402 [==============================] - 1s 367us/step - loss: 0.0037 - acc: 0.2352 - val_loss: 0.0135 - val_acc: 0.2022\n",
      "Epoch 299/400\n",
      "2402/2402 [==============================] - 1s 355us/step - loss: 0.0040 - acc: 0.2352 - val_loss: 0.0134 - val_acc: 0.2022\n",
      "Epoch 300/400\n",
      "2402/2402 [==============================] - 1s 328us/step - loss: 0.0038 - acc: 0.2352 - val_loss: 0.0137 - val_acc: 0.2022\n",
      "Epoch 301/400\n",
      "2402/2402 [==============================] - 1s 328us/step - loss: 0.0038 - acc: 0.2352 - val_loss: 0.0136 - val_acc: 0.2022\n",
      "Epoch 302/400\n",
      "2402/2402 [==============================] - 1s 326us/step - loss: 0.0038 - acc: 0.2352 - val_loss: 0.0131 - val_acc: 0.2022\n",
      "Epoch 303/400\n",
      "2402/2402 [==============================] - 1s 333us/step - loss: 0.0041 - acc: 0.2352 - val_loss: 0.0137 - val_acc: 0.2022\n",
      "Epoch 304/400\n",
      "2402/2402 [==============================] - 1s 329us/step - loss: 0.0041 - acc: 0.2352 - val_loss: 0.0135 - val_acc: 0.2022\n",
      "Epoch 305/400\n",
      "2402/2402 [==============================] - 1s 331us/step - loss: 0.0040 - acc: 0.2352 - val_loss: 0.0133 - val_acc: 0.2022\n",
      "Epoch 306/400\n",
      "2402/2402 [==============================] - 1s 326us/step - loss: 0.0040 - acc: 0.2352 - val_loss: 0.0133 - val_acc: 0.2022\n",
      "Epoch 307/400\n",
      "2402/2402 [==============================] - 1s 328us/step - loss: 0.0038 - acc: 0.2352 - val_loss: 0.0133 - val_acc: 0.2022\n",
      "Epoch 308/400\n",
      "2402/2402 [==============================] - 1s 325us/step - loss: 0.0037 - acc: 0.2352 - val_loss: 0.0136 - val_acc: 0.2022\n",
      "Epoch 309/400\n",
      "2402/2402 [==============================] - 1s 328us/step - loss: 0.0037 - acc: 0.2352 - val_loss: 0.0141 - val_acc: 0.2022\n",
      "Epoch 310/400\n",
      "2402/2402 [==============================] - 1s 326us/step - loss: 0.0037 - acc: 0.2352 - val_loss: 0.0136 - val_acc: 0.2022\n",
      "Epoch 311/400\n",
      "2402/2402 [==============================] - 1s 324us/step - loss: 0.0039 - acc: 0.2352 - val_loss: 0.0131 - val_acc: 0.2022\n",
      "Epoch 312/400\n",
      "2402/2402 [==============================] - 1s 325us/step - loss: 0.0040 - acc: 0.2352 - val_loss: 0.0136 - val_acc: 0.2022\n",
      "Epoch 313/400\n",
      "2402/2402 [==============================] - 1s 324us/step - loss: 0.0040 - acc: 0.2352 - val_loss: 0.0143 - val_acc: 0.2022\n",
      "Epoch 314/400\n",
      "2402/2402 [==============================] - 1s 329us/step - loss: 0.0038 - acc: 0.2352 - val_loss: 0.0141 - val_acc: 0.2022\n",
      "Epoch 315/400\n",
      "2402/2402 [==============================] - 1s 330us/step - loss: 0.0038 - acc: 0.2352 - val_loss: 0.0132 - val_acc: 0.2022\n",
      "Epoch 316/400\n",
      "2402/2402 [==============================] - 1s 322us/step - loss: 0.0038 - acc: 0.2352 - val_loss: 0.0131 - val_acc: 0.2022\n",
      "Epoch 317/400\n",
      "2402/2402 [==============================] - 1s 325us/step - loss: 0.0038 - acc: 0.2352 - val_loss: 0.0136 - val_acc: 0.2022\n",
      "Epoch 318/400\n",
      "2402/2402 [==============================] - 1s 325us/step - loss: 0.0037 - acc: 0.2352 - val_loss: 0.0133 - val_acc: 0.2022\n",
      "Epoch 319/400\n",
      "2402/2402 [==============================] - 1s 327us/step - loss: 0.0037 - acc: 0.2352 - val_loss: 0.0138 - val_acc: 0.2022\n",
      "Epoch 320/400\n",
      "2402/2402 [==============================] - 1s 327us/step - loss: 0.0035 - acc: 0.2352 - val_loss: 0.0137 - val_acc: 0.2022\n",
      "Epoch 321/400\n",
      "2402/2402 [==============================] - 1s 328us/step - loss: 0.0038 - acc: 0.2352 - val_loss: 0.0138 - val_acc: 0.2022\n",
      "Epoch 322/400\n",
      "2402/2402 [==============================] - 1s 327us/step - loss: 0.0038 - acc: 0.2352 - val_loss: 0.0137 - val_acc: 0.2022 - loss: 0.0037 - acc: 0.\n",
      "Epoch 323/400\n",
      "2402/2402 [==============================] - 1s 326us/step - loss: 0.0037 - acc: 0.2352 - val_loss: 0.0137 - val_acc: 0.2022\n",
      "Epoch 324/400\n",
      "2402/2402 [==============================] - 1s 326us/step - loss: 0.0037 - acc: 0.2352 - val_loss: 0.0138 - val_acc: 0.2022\n",
      "Epoch 325/400\n",
      "2402/2402 [==============================] - 1s 328us/step - loss: 0.0037 - acc: 0.2352 - val_loss: 0.0137 - val_acc: 0.2022\n",
      "Epoch 326/400\n",
      "2402/2402 [==============================] - 1s 325us/step - loss: 0.0038 - acc: 0.2352 - val_loss: 0.0134 - val_acc: 0.2022\n",
      "Epoch 327/400\n",
      "2402/2402 [==============================] - 1s 331us/step - loss: 0.0044 - acc: 0.2352 - val_loss: 0.0135 - val_acc: 0.2022\n",
      "Epoch 328/400\n",
      "2402/2402 [==============================] - 1s 329us/step - loss: 0.0040 - acc: 0.2352 - val_loss: 0.0136 - val_acc: 0.2022\n",
      "Epoch 329/400\n",
      "2402/2402 [==============================] - 1s 331us/step - loss: 0.0040 - acc: 0.2352 - val_loss: 0.0141 - val_acc: 0.2022\n",
      "Epoch 330/400\n",
      "2402/2402 [==============================] - 1s 333us/step - loss: 0.0039 - acc: 0.2352 - val_loss: 0.0140 - val_acc: 0.2022\n",
      "Epoch 331/400\n",
      "2402/2402 [==============================] - 1s 333us/step - loss: 0.0036 - acc: 0.2352 - val_loss: 0.0141 - val_acc: 0.2022\n",
      "Epoch 332/400\n",
      "2402/2402 [==============================] - 1s 327us/step - loss: 0.0037 - acc: 0.2352 - val_loss: 0.0138 - val_acc: 0.2022\n",
      "Epoch 333/400\n",
      "2402/2402 [==============================] - 1s 326us/step - loss: 0.0038 - acc: 0.2352 - val_loss: 0.0140 - val_acc: 0.2022\n",
      "Epoch 334/400\n",
      "2402/2402 [==============================] - 1s 327us/step - loss: 0.0036 - acc: 0.2352 - val_loss: 0.0134 - val_acc: 0.2022\n",
      "Epoch 335/400\n",
      "2402/2402 [==============================] - 1s 323us/step - loss: 0.0035 - acc: 0.2352 - val_loss: 0.0135 - val_acc: 0.2022\n",
      "Epoch 336/400\n",
      "2402/2402 [==============================] - 1s 323us/step - loss: 0.0038 - acc: 0.2352 - val_loss: 0.0143 - val_acc: 0.2022\n",
      "Epoch 337/400\n",
      "2402/2402 [==============================] - 1s 330us/step - loss: 0.0044 - acc: 0.2348 - val_loss: 0.0137 - val_acc: 0.2022\n",
      "Epoch 338/400\n",
      "2402/2402 [==============================] - 1s 327us/step - loss: 0.0038 - acc: 0.2352 - val_loss: 0.0135 - val_acc: 0.2022\n",
      "Epoch 339/400\n",
      "2402/2402 [==============================] - 1s 336us/step - loss: 0.0036 - acc: 0.2352 - val_loss: 0.0135 - val_acc: 0.2022\n",
      "Epoch 340/400\n",
      "2402/2402 [==============================] - 1s 325us/step - loss: 0.0039 - acc: 0.2352 - val_loss: 0.0135 - val_acc: 0.2022\n",
      "Epoch 341/400\n",
      "2402/2402 [==============================] - 1s 328us/step - loss: 0.0038 - acc: 0.2352 - val_loss: 0.0134 - val_acc: 0.2022\n",
      "Epoch 342/400\n",
      "2402/2402 [==============================] - 1s 326us/step - loss: 0.0036 - acc: 0.2352 - val_loss: 0.0133 - val_acc: 0.2022\n",
      "Epoch 343/400\n",
      "2402/2402 [==============================] - 1s 330us/step - loss: 0.0036 - acc: 0.2352 - val_loss: 0.0134 - val_acc: 0.2022\n",
      "Epoch 344/400\n",
      "2402/2402 [==============================] - 1s 325us/step - loss: 0.0038 - acc: 0.2352 - val_loss: 0.0136 - val_acc: 0.2022\n",
      "Epoch 345/400\n",
      "2402/2402 [==============================] - 1s 331us/step - loss: 0.0036 - acc: 0.2352 - val_loss: 0.0133 - val_acc: 0.2022\n",
      "Epoch 346/400\n",
      "2402/2402 [==============================] - 1s 329us/step - loss: 0.0039 - acc: 0.2352 - val_loss: 0.0136 - val_acc: 0.2022\n",
      "Epoch 347/400\n",
      "2402/2402 [==============================] - 1s 329us/step - loss: 0.0036 - acc: 0.2352 - val_loss: 0.0133 - val_acc: 0.2022\n",
      "Epoch 348/400\n",
      "2402/2402 [==============================] - 1s 329us/step - loss: 0.0042 - acc: 0.2352 - val_loss: 0.0139 - val_acc: 0.2022\n",
      "Epoch 349/400\n",
      "2402/2402 [==============================] - 1s 327us/step - loss: 0.0037 - acc: 0.2352 - val_loss: 0.0141 - val_acc: 0.2022\n",
      "Epoch 350/400\n",
      "2402/2402 [==============================] - 1s 326us/step - loss: 0.0037 - acc: 0.2352 - val_loss: 0.0133 - val_acc: 0.2022\n",
      "Epoch 351/400\n",
      "2402/2402 [==============================] - 1s 330us/step - loss: 0.0038 - acc: 0.2352 - val_loss: 0.0138 - val_acc: 0.2022\n",
      "Epoch 352/400\n",
      "2402/2402 [==============================] - 1s 332us/step - loss: 0.0037 - acc: 0.2352 - val_loss: 0.0133 - val_acc: 0.2022\n",
      "Epoch 353/400\n",
      "2402/2402 [==============================] - 1s 329us/step - loss: 0.0036 - acc: 0.2352 - val_loss: 0.0134 - val_acc: 0.2022\n",
      "Epoch 354/400\n",
      "2402/2402 [==============================] - 1s 330us/step - loss: 0.0037 - acc: 0.2352 - val_loss: 0.0134 - val_acc: 0.2022\n"
     ]
    },
    {
     "name": "stdout",
     "output_type": "stream",
     "text": [
      "Epoch 355/400\n",
      "2402/2402 [==============================] - 1s 326us/step - loss: 0.0038 - acc: 0.2352 - val_loss: 0.0132 - val_acc: 0.2022\n",
      "Epoch 356/400\n",
      "2402/2402 [==============================] - 1s 332us/step - loss: 0.0039 - acc: 0.2352 - val_loss: 0.0133 - val_acc: 0.2022\n",
      "Epoch 357/400\n",
      "2402/2402 [==============================] - 1s 326us/step - loss: 0.0037 - acc: 0.2352 - val_loss: 0.0136 - val_acc: 0.2022\n",
      "Epoch 358/400\n",
      "2402/2402 [==============================] - 1s 326us/step - loss: 0.0035 - acc: 0.2352 - val_loss: 0.0135 - val_acc: 0.2022\n",
      "Epoch 359/400\n",
      "2402/2402 [==============================] - 1s 327us/step - loss: 0.0036 - acc: 0.2352 - val_loss: 0.0137 - val_acc: 0.2022\n",
      "Epoch 360/400\n",
      "2402/2402 [==============================] - 1s 328us/step - loss: 0.0034 - acc: 0.2352 - val_loss: 0.0138 - val_acc: 0.2022\n",
      "Epoch 361/400\n",
      "2402/2402 [==============================] - 1s 326us/step - loss: 0.0034 - acc: 0.2352 - val_loss: 0.0140 - val_acc: 0.2022\n",
      "Epoch 362/400\n",
      "2402/2402 [==============================] - 1s 325us/step - loss: 0.0036 - acc: 0.2352 - val_loss: 0.0144 - val_acc: 0.2022\n",
      "Epoch 363/400\n",
      "2402/2402 [==============================] - 1s 327us/step - loss: 0.0038 - acc: 0.2352 - val_loss: 0.0140 - val_acc: 0.2022\n",
      "Epoch 364/400\n",
      "2402/2402 [==============================] - 1s 326us/step - loss: 0.0038 - acc: 0.2352 - val_loss: 0.0137 - val_acc: 0.2022\n",
      "Epoch 365/400\n",
      "2402/2402 [==============================] - 1s 328us/step - loss: 0.0037 - acc: 0.2352 - val_loss: 0.0144 - val_acc: 0.2022\n",
      "Epoch 366/400\n",
      "2402/2402 [==============================] - 1s 329us/step - loss: 0.0037 - acc: 0.2352 - val_loss: 0.0131 - val_acc: 0.2022\n",
      "Epoch 367/400\n",
      "2402/2402 [==============================] - 1s 328us/step - loss: 0.0038 - acc: 0.2352 - val_loss: 0.0138 - val_acc: 0.2022\n",
      "Epoch 368/400\n",
      "2402/2402 [==============================] - 1s 328us/step - loss: 0.0038 - acc: 0.2352 - val_loss: 0.0134 - val_acc: 0.2022\n",
      "Epoch 369/400\n",
      "2402/2402 [==============================] - 1s 331us/step - loss: 0.0036 - acc: 0.2352 - val_loss: 0.0139 - val_acc: 0.2022\n",
      "Epoch 370/400\n",
      "2402/2402 [==============================] - 1s 333us/step - loss: 0.0039 - acc: 0.2352 - val_loss: 0.0130 - val_acc: 0.2022\n",
      "Epoch 371/400\n",
      "2402/2402 [==============================] - 1s 329us/step - loss: 0.0039 - acc: 0.2352 - val_loss: 0.0127 - val_acc: 0.2022\n",
      "Epoch 372/400\n",
      "2402/2402 [==============================] - 1s 334us/step - loss: 0.0039 - acc: 0.2352 - val_loss: 0.0139 - val_acc: 0.2022\n",
      "Epoch 373/400\n",
      "2402/2402 [==============================] - 1s 336us/step - loss: 0.0036 - acc: 0.2352 - val_loss: 0.0134 - val_acc: 0.2022\n",
      "Epoch 374/400\n",
      "2402/2402 [==============================] - 1s 327us/step - loss: 0.0038 - acc: 0.2352 - val_loss: 0.0132 - val_acc: 0.2022\n",
      "Epoch 375/400\n",
      "2402/2402 [==============================] - 1s 324us/step - loss: 0.0038 - acc: 0.2352 - val_loss: 0.0142 - val_acc: 0.2022\n",
      "Epoch 376/400\n",
      "2402/2402 [==============================] - 1s 330us/step - loss: 0.0038 - acc: 0.2352 - val_loss: 0.0135 - val_acc: 0.2022\n",
      "Epoch 377/400\n",
      "2402/2402 [==============================] - 1s 328us/step - loss: 0.0038 - acc: 0.2352 - val_loss: 0.0136 - val_acc: 0.2022\n",
      "Epoch 378/400\n",
      "2402/2402 [==============================] - 1s 329us/step - loss: 0.0037 - acc: 0.2352 - val_loss: 0.0135 - val_acc: 0.2022\n",
      "Epoch 379/400\n",
      "2402/2402 [==============================] - 1s 330us/step - loss: 0.0038 - acc: 0.2352 - val_loss: 0.0136 - val_acc: 0.2022\n",
      "Epoch 380/400\n",
      "2402/2402 [==============================] - 1s 326us/step - loss: 0.0038 - acc: 0.2352 - val_loss: 0.0138 - val_acc: 0.2022\n",
      "Epoch 381/400\n",
      "2402/2402 [==============================] - 1s 327us/step - loss: 0.0037 - acc: 0.2352 - val_loss: 0.0138 - val_acc: 0.2022\n",
      "Epoch 382/400\n",
      "2402/2402 [==============================] - 1s 328us/step - loss: 0.0036 - acc: 0.2352 - val_loss: 0.0133 - val_acc: 0.2022\n",
      "Epoch 383/400\n",
      "2402/2402 [==============================] - 1s 331us/step - loss: 0.0036 - acc: 0.2352 - val_loss: 0.0136 - val_acc: 0.2022\n",
      "Epoch 384/400\n",
      "2402/2402 [==============================] - 1s 324us/step - loss: 0.0037 - acc: 0.2352 - val_loss: 0.0134 - val_acc: 0.2022\n",
      "Epoch 385/400\n",
      "2402/2402 [==============================] - 1s 330us/step - loss: 0.0037 - acc: 0.2352 - val_loss: 0.0137 - val_acc: 0.2022\n",
      "Epoch 386/400\n",
      "2402/2402 [==============================] - 1s 322us/step - loss: 0.0036 - acc: 0.2352 - val_loss: 0.0131 - val_acc: 0.2022\n",
      "Epoch 387/400\n",
      "2402/2402 [==============================] - 1s 332us/step - loss: 0.0037 - acc: 0.2352 - val_loss: 0.0138 - val_acc: 0.2022\n",
      "Epoch 388/400\n",
      "2402/2402 [==============================] - 1s 327us/step - loss: 0.0038 - acc: 0.2352 - val_loss: 0.0134 - val_acc: 0.2022\n",
      "Epoch 389/400\n",
      "2402/2402 [==============================] - 1s 331us/step - loss: 0.0038 - acc: 0.2352 - val_loss: 0.0142 - val_acc: 0.2022\n",
      "Epoch 390/400\n",
      "2402/2402 [==============================] - 1s 327us/step - loss: 0.0038 - acc: 0.2352 - val_loss: 0.0138 - val_acc: 0.2022\n",
      "Epoch 391/400\n",
      "2402/2402 [==============================] - ETA: 0s - loss: 0.0037 - acc: 0.236 - 1s 333us/step - loss: 0.0037 - acc: 0.2352 - val_loss: 0.0133 - val_acc: 0.2022\n",
      "Epoch 392/400\n",
      "2402/2402 [==============================] - 1s 333us/step - loss: 0.0037 - acc: 0.2352 - val_loss: 0.0138 - val_acc: 0.2022\n",
      "Epoch 393/400\n",
      "2402/2402 [==============================] - 1s 334us/step - loss: 0.0037 - acc: 0.2352 - val_loss: 0.0134 - val_acc: 0.2022\n",
      "Epoch 394/400\n",
      "2402/2402 [==============================] - 1s 329us/step - loss: 0.0037 - acc: 0.2352 - val_loss: 0.0132 - val_acc: 0.2022\n",
      "Epoch 395/400\n",
      "2402/2402 [==============================] - 1s 317us/step - loss: 0.0039 - acc: 0.2352 - val_loss: 0.0134 - val_acc: 0.20220s - loss: 0.0039 - acc: 0\n",
      "Epoch 396/400\n",
      "2402/2402 [==============================] - 1s 324us/step - loss: 0.0035 - acc: 0.2352 - val_loss: 0.0136 - val_acc: 0.2022\n",
      "Epoch 397/400\n",
      "2402/2402 [==============================] - 1s 333us/step - loss: 0.0036 - acc: 0.2352 - val_loss: 0.0132 - val_acc: 0.2022\n",
      "Epoch 398/400\n",
      "2402/2402 [==============================] - 1s 329us/step - loss: 0.0037 - acc: 0.2352 - val_loss: 0.0130 - val_acc: 0.2022\n",
      "Epoch 399/400\n",
      "2402/2402 [==============================] - 1s 333us/step - loss: 0.0037 - acc: 0.2352 - val_loss: 0.0142 - val_acc: 0.2022\n",
      "Epoch 400/400\n",
      "2402/2402 [==============================] - 1s 325us/step - loss: 0.0036 - acc: 0.2352 - val_loss: 0.0140 - val_acc: 0.2022\n"
     ]
    }
   ],
   "source": [
    "pelatihan6 = regressor.fit(X_train, y_train, validation_split = 0.10, epochs = 400, batch_size = 64)"
   ]
  },
  {
   "cell_type": "code",
   "execution_count": 112,
   "metadata": {},
   "outputs": [
    {
     "data": {
      "image/png": "[encoded data removed]",
      "text/plain": [
       "<Figure size 432x288 with 1 Axes>"
      ]
     },
     "metadata": {
      "needs_background": "light"
     },
     "output_type": "display_data"
    },
    {
     "data": {
      "image/png": "[encoded data removed]",
      "text/plain": [
       "<Figure size 432x288 with 1 Axes>"
      ]
     },
     "metadata": {
      "needs_background": "light"
     },
     "output_type": "display_data"
    }
   ],
   "source": [
    "plot_history(pelatihan6)"
   ]
  },
  {
   "cell_type": "code",
   "execution_count": 113,
   "metadata": {},
   "outputs": [
    {
     "data": {
      "text/plain": [
       "0.004032845629740612"
      ]
     },
     "execution_count": 113,
     "metadata": {},
     "output_type": "execute_result"
    }
   ],
   "source": [
    "loss_mean6 = stats.mean(pelatihan6.history['loss'])\n",
    "loss_mean6"
   ]
  },
  {
   "cell_type": "code",
   "execution_count": 114,
   "metadata": {},
   "outputs": [
    {
     "data": {
      "text/plain": [
       "0.23521336395764175"
      ]
     },
     "execution_count": 114,
     "metadata": {},
     "output_type": "execute_result"
    }
   ],
   "source": [
    "acc_mean6 = stats.mean(pelatihan6.history['acc'])\n",
    "acc_mean6"
   ]
  },
  {
   "cell_type": "code",
   "execution_count": 115,
   "metadata": {},
   "outputs": [
    {
     "data": {
      "text/plain": [
       "0.013429241966310547"
      ]
     },
     "execution_count": 115,
     "metadata": {},
     "output_type": "execute_result"
    }
   ],
   "source": [
    "valloss_mean6 = stats.mean(pelatihan6.history['val_loss'])\n",
    "valloss_mean6"
   ]
  },
  {
   "cell_type": "code",
   "execution_count": 116,
   "metadata": {},
   "outputs": [
    {
     "data": {
      "text/plain": [
       "0.2022471913460935"
      ]
     },
     "execution_count": 116,
     "metadata": {},
     "output_type": "execute_result"
    }
   ],
   "source": [
    "val_acc_mean6 = stats.mean(pelatihan6.history['val_acc'])\n",
    "val_acc_mean6"
   ]
  },
  {
   "cell_type": "code",
   "execution_count": 117,
   "metadata": {},
   "outputs": [],
   "source": [
    "predicted_RR6 = regressor.predict(X_test)"
   ]
  },
  {
   "cell_type": "code",
   "execution_count": 118,
   "metadata": {},
   "outputs": [
    {
     "data": {
      "text/plain": [
       "(297, 1)"
      ]
     },
     "execution_count": 118,
     "metadata": {},
     "output_type": "execute_result"
    }
   ],
   "source": [
    "predicted_RR6.shape"
   ]
  },
  {
   "cell_type": "code",
   "execution_count": 119,
   "metadata": {},
   "outputs": [],
   "source": [
    "predicted_RReal6 = np.hstack((X_testReal,predicted_RR6))"
   ]
  },
  {
   "cell_type": "code",
   "execution_count": 120,
   "metadata": {},
   "outputs": [],
   "source": [
    "predicted_RReal_f = sc.inverse_transform(predicted_RReal6)"
   ]
  },
  {
   "cell_type": "code",
   "execution_count": 121,
   "metadata": {},
   "outputs": [],
   "source": [
    "percobaan6 = predicted_RReal_f[:,19] "
   ]
  },
  {
   "cell_type": "code",
   "execution_count": 122,
   "metadata": {},
   "outputs": [
    {
     "data": {
      "image/png": "[encoded data removed]",
      "text/plain": [
       "<Figure size 432x288 with 1 Axes>"
      ]
     },
     "metadata": {
      "needs_background": "light"
     },
     "output_type": "display_data"
    }
   ],
   "source": [
    "# Visualising the results\n",
    "plt.plot(real_data[:,19], color = 'red', label = 'y_test')\n",
    "plt.plot(percobaan6, color = 'blue', label = 'Predicted RR')\n",
    "plt.title('Curah hujan')\n",
    "plt.xlabel('Urutan ke-')\n",
    "plt.ylabel('Besarnya')\n",
    "plt.legend()\n",
    "plt.show()"
   ]
  },
  {
   "cell_type": "code",
   "execution_count": 123,
   "metadata": {},
   "outputs": [
    {
     "data": {
      "text/plain": [
       "244.05522454209486"
      ]
     },
     "execution_count": 123,
     "metadata": {},
     "output_type": "execute_result"
    }
   ],
   "source": [
    "mse6 = mean_squared_error(real_data[:,19],percobaan6)\n",
    "mse6"
   ]
  },
  {
   "cell_type": "code",
   "execution_count": 124,
   "metadata": {},
   "outputs": [],
   "source": [
    "pd.DataFrame(percobaan1).to_csv(\"percobaan1.csv\",header=None,index ='RR')\n",
    "pd.DataFrame(percobaan2).to_csv(\"percobaan2.csv\",header=None)\n",
    "pd.DataFrame(percobaan3).to_csv(\"percobaan3.csv\",header=None)\n",
    "pd.DataFrame(percobaan4).to_csv(\"percobaan4.csv\",header=None)\n",
    "pd.DataFrame(percobaan5).to_csv(\"percobaan5.csv\",header=None)\n",
    "pd.DataFrame(percobaan6).to_csv(\"percobaan6.csv\",header=None)"
   ]
  },
  {
   "cell_type": "markdown",
   "metadata": {},
   "source": [
    "# TEST PREDIKSI MODEL"
   ]
  },
  {
   "cell_type": "code",
   "execution_count": 125,
   "metadata": {},
   "outputs": [
    {
     "data": {
      "text/html": [
       "<div>\n",
       "<style scoped>\n",
       "    .dataframe tbody tr th:only-of-type {\n",
       "        vertical-align: middle;\n",
       "    }\n",
       "\n",
       "    .dataframe tbody tr th {\n",
       "        vertical-align: top;\n",
       "    }\n",
       "\n",
       "    .dataframe thead th {\n",
       "        text-align: right;\n",
       "    }\n",
       "</style>\n",
       "<table border=\"1\" class=\"dataframe\">\n",
       "  <thead>\n",
       "    <tr style=\"text-align: right;\">\n",
       "      <th></th>\n",
       "      <th>Tanggal</th>\n",
       "      <th>Tn</th>\n",
       "      <th>Tx</th>\n",
       "      <th>Tavg</th>\n",
       "      <th>RH_avg</th>\n",
       "      <th>ff_x</th>\n",
       "      <th>ddd_x</th>\n",
       "      <th>ff_avg</th>\n",
       "      <th>ddd_car</th>\n",
       "      <th>bulan</th>\n",
       "      <th>RH_avg_5day</th>\n",
       "      <th>RH1</th>\n",
       "      <th>RH2</th>\n",
       "      <th>RH3</th>\n",
       "      <th>ff_x1</th>\n",
       "      <th>ff_x2</th>\n",
       "      <th>ff_x3</th>\n",
       "      <th>RR_avg5_day</th>\n",
       "      <th>RR1</th>\n",
       "      <th>RR2</th>\n",
       "      <th>RR3</th>\n",
       "      <th>RR</th>\n",
       "    </tr>\n",
       "  </thead>\n",
       "  <tbody>\n",
       "    <tr>\n",
       "      <th>0</th>\n",
       "      <td>01-01-2019</td>\n",
       "      <td>25.000000</td>\n",
       "      <td>32.3</td>\n",
       "      <td>27.8</td>\n",
       "      <td>77.0</td>\n",
       "      <td>6.0</td>\n",
       "      <td>240.0</td>\n",
       "      <td>2.0</td>\n",
       "      <td>9</td>\n",
       "      <td>1</td>\n",
       "      <td>79.8</td>\n",
       "      <td>79.0</td>\n",
       "      <td>78.0</td>\n",
       "      <td>78.0</td>\n",
       "      <td>5.0</td>\n",
       "      <td>6.0</td>\n",
       "      <td>12.0</td>\n",
       "      <td>11.806</td>\n",
       "      <td>0.500</td>\n",
       "      <td>20.665</td>\n",
       "      <td>20.665</td>\n",
       "      <td>4.0</td>\n",
       "    </tr>\n",
       "    <tr>\n",
       "      <th>1</th>\n",
       "      <td>02-01-2019</td>\n",
       "      <td>25.036364</td>\n",
       "      <td>31.6</td>\n",
       "      <td>28.1</td>\n",
       "      <td>78.0</td>\n",
       "      <td>5.0</td>\n",
       "      <td>240.0</td>\n",
       "      <td>2.0</td>\n",
       "      <td>7</td>\n",
       "      <td>1</td>\n",
       "      <td>78.8</td>\n",
       "      <td>78.0</td>\n",
       "      <td>78.0</td>\n",
       "      <td>77.0</td>\n",
       "      <td>6.0</td>\n",
       "      <td>12.0</td>\n",
       "      <td>6.0</td>\n",
       "      <td>10.246</td>\n",
       "      <td>20.665</td>\n",
       "      <td>20.665</td>\n",
       "      <td>4.000</td>\n",
       "      <td>0.4</td>\n",
       "    </tr>\n",
       "    <tr>\n",
       "      <th>2</th>\n",
       "      <td>03-01-2019</td>\n",
       "      <td>24.600000</td>\n",
       "      <td>30.4</td>\n",
       "      <td>26.9</td>\n",
       "      <td>86.0</td>\n",
       "      <td>8.0</td>\n",
       "      <td>230.0</td>\n",
       "      <td>2.0</td>\n",
       "      <td>6</td>\n",
       "      <td>1</td>\n",
       "      <td>78.0</td>\n",
       "      <td>78.0</td>\n",
       "      <td>77.0</td>\n",
       "      <td>78.0</td>\n",
       "      <td>12.0</td>\n",
       "      <td>6.0</td>\n",
       "      <td>5.0</td>\n",
       "      <td>9.246</td>\n",
       "      <td>20.665</td>\n",
       "      <td>4.000</td>\n",
       "      <td>0.400</td>\n",
       "      <td>39.7</td>\n",
       "    </tr>\n",
       "    <tr>\n",
       "      <th>3</th>\n",
       "      <td>04-01-2019</td>\n",
       "      <td>25.036364</td>\n",
       "      <td>31.8</td>\n",
       "      <td>28.4</td>\n",
       "      <td>76.0</td>\n",
       "      <td>4.0</td>\n",
       "      <td>200.0</td>\n",
       "      <td>1.0</td>\n",
       "      <td>9</td>\n",
       "      <td>1</td>\n",
       "      <td>79.4</td>\n",
       "      <td>77.0</td>\n",
       "      <td>78.0</td>\n",
       "      <td>86.0</td>\n",
       "      <td>6.0</td>\n",
       "      <td>5.0</td>\n",
       "      <td>8.0</td>\n",
       "      <td>17.086</td>\n",
       "      <td>4.000</td>\n",
       "      <td>0.400</td>\n",
       "      <td>39.700</td>\n",
       "      <td>16.8</td>\n",
       "    </tr>\n",
       "    <tr>\n",
       "      <th>4</th>\n",
       "      <td>05-01-2019</td>\n",
       "      <td>25.000000</td>\n",
       "      <td>31.0</td>\n",
       "      <td>27.7</td>\n",
       "      <td>83.0</td>\n",
       "      <td>4.0</td>\n",
       "      <td>180.0</td>\n",
       "      <td>1.0</td>\n",
       "      <td>9</td>\n",
       "      <td>1</td>\n",
       "      <td>79.0</td>\n",
       "      <td>78.0</td>\n",
       "      <td>86.0</td>\n",
       "      <td>76.0</td>\n",
       "      <td>5.0</td>\n",
       "      <td>8.0</td>\n",
       "      <td>4.0</td>\n",
       "      <td>16.313</td>\n",
       "      <td>0.400</td>\n",
       "      <td>39.700</td>\n",
       "      <td>16.800</td>\n",
       "      <td>0.3</td>\n",
       "    </tr>\n",
       "  </tbody>\n",
       "</table>\n",
       "</div>"
      ],
      "text/plain": [
       "      Tanggal         Tn    Tx  Tavg  RH_avg  ff_x  ddd_x  ff_avg  ddd_car  \\\n",
       "0  01-01-2019  25.000000  32.3  27.8    77.0   6.0  240.0     2.0        9   \n",
       "1  02-01-2019  25.036364  31.6  28.1    78.0   5.0  240.0     2.0        7   \n",
       "2  03-01-2019  24.600000  30.4  26.9    86.0   8.0  230.0     2.0        6   \n",
       "3  04-01-2019  25.036364  31.8  28.4    76.0   4.0  200.0     1.0        9   \n",
       "4  05-01-2019  25.000000  31.0  27.7    83.0   4.0  180.0     1.0        9   \n",
       "\n",
       "   bulan  RH_avg_5day   RH1   RH2   RH3  ff_x1  ff_x2  ff_x3  RR_avg5_day  \\\n",
       "0      1         79.8  79.0  78.0  78.0    5.0    6.0   12.0       11.806   \n",
       "1      1         78.8  78.0  78.0  77.0    6.0   12.0    6.0       10.246   \n",
       "2      1         78.0  78.0  77.0  78.0   12.0    6.0    5.0        9.246   \n",
       "3      1         79.4  77.0  78.0  86.0    6.0    5.0    8.0       17.086   \n",
       "4      1         79.0  78.0  86.0  76.0    5.0    8.0    4.0       16.313   \n",
       "\n",
       "      RR1     RR2     RR3    RR  \n",
       "0   0.500  20.665  20.665   4.0  \n",
       "1  20.665  20.665   4.000   0.4  \n",
       "2  20.665   4.000   0.400  39.7  \n",
       "3   4.000   0.400  39.700  16.8  \n",
       "4   0.400  39.700  16.800   0.3  "
      ]
     },
     "execution_count": 125,
     "metadata": {},
     "output_type": "execute_result"
    }
   ],
   "source": [
    "test_prototype = pd.read_csv('CSV\\Data Test Prediksi Prototype 3a .csv')\n",
    "test_prototype.head()"
   ]
  },
  {
   "cell_type": "code",
   "execution_count": 126,
   "metadata": {},
   "outputs": [],
   "source": [
    "test_prototype = test_prototype.dropna()"
   ]
  },
  {
   "cell_type": "code",
   "execution_count": 127,
   "metadata": {},
   "outputs": [],
   "source": [
    "test_prototype = test_prototype.drop(columns = ['ff_avg','Tanggal'])"
   ]
  },
  {
   "cell_type": "code",
   "execution_count": 128,
   "metadata": {},
   "outputs": [],
   "source": [
    "prototype_scaled = sc.fit_transform(test_prototype)"
   ]
  },
  {
   "cell_type": "code",
   "execution_count": 129,
   "metadata": {},
   "outputs": [],
   "source": [
    "X2 = np.delete(prototype_scaled,19,axis=1)\n",
    "y2 = prototype_scaled[:,19]"
   ]
  },
  {
   "cell_type": "code",
   "execution_count": 130,
   "metadata": {},
   "outputs": [],
   "source": [
    "X_proTest = np.reshape(X2,(X2.shape[0],1,X2.shape[1])) "
   ]
  },
  {
   "cell_type": "code",
   "execution_count": 131,
   "metadata": {},
   "outputs": [],
   "source": [
    "predicted_RRTest = regressor.predict(X_proTest)"
   ]
  },
  {
   "cell_type": "code",
   "execution_count": 132,
   "metadata": {},
   "outputs": [
    {
     "data": {
      "text/plain": [
       "(147, 1)"
      ]
     },
     "execution_count": 132,
     "metadata": {},
     "output_type": "execute_result"
    }
   ],
   "source": [
    "predicted_RRTest.shape"
   ]
  },
  {
   "cell_type": "code",
   "execution_count": 133,
   "metadata": {},
   "outputs": [],
   "source": [
    "predicted_RRealTest = np.hstack((X2,predicted_RRTest))"
   ]
  },
  {
   "cell_type": "code",
   "execution_count": 134,
   "metadata": {},
   "outputs": [],
   "source": [
    "predicted_RReal_Pred = sc.inverse_transform(predicted_RRealTest)"
   ]
  },
  {
   "cell_type": "code",
   "execution_count": 135,
   "metadata": {},
   "outputs": [],
   "source": [
    "percobaanTest = predicted_RReal_Pred[:,19] "
   ]
  },
  {
   "cell_type": "code",
   "execution_count": 136,
   "metadata": {},
   "outputs": [],
   "source": [
    "pd.DataFrame(percobaanTest).to_csv(\"percobaanTest.csv\",header=None,index ='RR')"
   ]
  },
  {
   "cell_type": "code",
   "execution_count": 137,
   "metadata": {},
   "outputs": [
    {
     "data": {
      "text/plain": [
       "8.287805997676589"
      ]
     },
     "execution_count": 137,
     "metadata": {},
     "output_type": "execute_result"
    }
   ],
   "source": [
    "stats.mean(percobaanTest)"
   ]
  },
  {
   "cell_type": "code",
   "execution_count": 138,
   "metadata": {},
   "outputs": [
    {
     "data": {
      "text/plain": [
       "dict_keys(['val_loss', 'val_acc', 'loss', 'acc'])"
      ]
     },
     "execution_count": 138,
     "metadata": {},
     "output_type": "execute_result"
    }
   ],
   "source": [
    "pelatihan.history.keys()"
   ]
  }
 ],
 "metadata": {
  "kernelspec": {
   "display_name": "Python 3",
   "language": "python",
   "name": "python3"
  },
  "language_info": {
   "codemirror_mode": {
    "name": "ipython",
    "version": 3
   },
   "file_extension": ".py",
   "mimetype": "text/x-python",
   "name": "python",
   "nbconvert_exporter": "python",
   "pygments_lexer": "ipython3",
   "version": "3.7.3"
  },
  "toc": {
   "base_numbering": 1,
   "nav_menu": {},
   "number_sections": true,
   "sideBar": true,
   "skip_h1_title": false,
   "title_cell": "Table of Contents",
   "title_sidebar": "Contents",
   "toc_cell": false,
   "toc_position": {},
   "toc_section_display": true,
   "toc_window_display": false
  }
 },
 "nbformat": 4,
 "nbformat_minor": 2
}
