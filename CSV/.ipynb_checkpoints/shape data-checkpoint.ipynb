{
 "cells": [
  {
   "cell_type": "code",
   "execution_count": 1,
   "metadata": {},
   "outputs": [],
   "source": [
    "import seaborn as sb\n",
    "import matplotlib.pyplot as plt\n",
    "import pandas as pd\n",
    "import numpy as np\n",
    "from sklearn.model_selection import train_test_split"
   ]
  },
  {
   "cell_type": "code",
   "execution_count": 2,
   "metadata": {},
   "outputs": [
    {
     "data": {
      "text/plain": [
       "(2994, 31)"
      ]
     },
     "execution_count": 2,
     "metadata": {},
     "output_type": "execute_result"
    }
   ],
   "source": [
    "pd.set_option('display.max_columns',None)\n",
    "pd.set_option('display.max_rows',None)\n",
    "dataset = pd.read_csv('Data Murni Convert Bulan Arah Angin.csv')\n",
    "dataset.shape"
   ]
  },
  {
   "cell_type": "code",
   "execution_count": 3,
   "metadata": {},
   "outputs": [
    {
     "data": {
      "text/plain": [
       "Index(['Tanggal', 'Tn', 'Tx', 'Tavg', 'RH_avg', 'ss', 'ff_x', 'ddd_x',\n",
       "       'ff_avg', 'N', 'NE', 'E', 'SE', 'S', 'SW', 'W', 'NW', 'C', 'Jan', 'Feb',\n",
       "       'Mar', 'Apr', 'Mei', 'Jun', 'Jul', 'Ags', 'Sep', 'Okt', 'Nov', 'Des',\n",
       "       'RR'],\n",
       "      dtype='object')"
      ]
     },
     "execution_count": 3,
     "metadata": {},
     "output_type": "execute_result"
    }
   ],
   "source": [
    "dataset.columns"
   ]
  },
  {
   "cell_type": "code",
   "execution_count": 4,
   "metadata": {},
   "outputs": [
    {
     "data": {
      "text/plain": [
       "(2994, 12)"
      ]
     },
     "execution_count": 4,
     "metadata": {},
     "output_type": "execute_result"
    }
   ],
   "source": [
    "pd.set_option('display.max_columns',None)\n",
    "pd.set_option('display.max_rows',None)\n",
    "dataset1 = pd.read_csv('Data Murni.csv')\n",
    "dataset1.shape"
   ]
  },
  {
   "cell_type": "code",
   "execution_count": 5,
   "metadata": {},
   "outputs": [
    {
     "data": {
      "text/plain": [
       "Index(['Tanggal', 'Tn', 'Tx', 'Tavg', 'RH_avg', 'ss', 'ff_x', 'ddd_x',\n",
       "       'ff_avg', 'ddd_car', 'bulan', 'RR'],\n",
       "      dtype='object')"
      ]
     },
     "execution_count": 5,
     "metadata": {},
     "output_type": "execute_result"
    }
   ],
   "source": [
    "dataset1.columns"
   ]
  },
  {
   "cell_type": "code",
   "execution_count": 6,
   "metadata": {},
   "outputs": [
    {
     "data": {
      "text/plain": [
       "(2989, 42)"
      ]
     },
     "execution_count": 6,
     "metadata": {},
     "output_type": "execute_result"
    }
   ],
   "source": [
    "pd.set_option('display.max_columns',None)\n",
    "pd.set_option('display.max_rows',None)\n",
    "dataset2 = pd.read_csv('Data Prototype 1.csv')\n",
    "dataset2.shape"
   ]
  },
  {
   "cell_type": "code",
   "execution_count": 7,
   "metadata": {},
   "outputs": [
    {
     "data": {
      "text/plain": [
       "Index(['Tanggal', 'Tn', 'Tx', 'Tavg', 'ss', 'ddd_x', 'ff_avg', 'N', 'NE', 'E',\n",
       "       'SE', 'S', 'SW', 'W', 'NW', 'C', 'Jan', 'Feb', 'Mar', 'Apr', 'Mei',\n",
       "       'Jun', 'Jul', 'Ags', 'Sep', 'Okt', 'Nov', 'Des', 'RH_avg_5day', 'RH1',\n",
       "       'RH2', 'RH3', 'RH_avg', 'ff_x', 'ff_x1', 'ff_x2', 'ff_x3',\n",
       "       'RR_avg5_day', 'RR1', 'RR2', 'RR3', 'RR'],\n",
       "      dtype='object')"
      ]
     },
     "execution_count": 7,
     "metadata": {},
     "output_type": "execute_result"
    }
   ],
   "source": [
    "dataset2.columns"
   ]
  },
  {
   "cell_type": "code",
   "execution_count": 8,
   "metadata": {},
   "outputs": [
    {
     "data": {
      "text/plain": [
       "(2989, 41)"
      ]
     },
     "execution_count": 8,
     "metadata": {},
     "output_type": "execute_result"
    }
   ],
   "source": [
    "pd.set_option('display.max_columns',None)\n",
    "pd.set_option('display.max_rows',None)\n",
    "dataset3 = pd.read_csv('Data Prototype 1a.csv')\n",
    "dataset3.shape"
   ]
  },
  {
   "cell_type": "code",
   "execution_count": 9,
   "metadata": {},
   "outputs": [
    {
     "data": {
      "text/plain": [
       "Index(['Tanggal', 'Tn', 'Tx', 'Tavg', 'ddd_x', 'ff_avg', 'N', 'NE', 'E', 'SE',\n",
       "       'S', 'SW', 'W', 'NW', 'C', 'Jan', 'Feb', 'Mar', 'Apr', 'Mei', 'Jun',\n",
       "       'Jul', 'Ags', 'Sep', 'Okt', 'Nov', 'Des', 'RH_avg_5day', 'RH1', 'RH2',\n",
       "       'RH3', 'RH_avg', 'ff_x', 'ff_x1', 'ff_x2', 'ff_x3', 'RR_avg5_day',\n",
       "       'RR1', 'RR2', 'RR3', 'RR'],\n",
       "      dtype='object')"
      ]
     },
     "execution_count": 9,
     "metadata": {},
     "output_type": "execute_result"
    }
   ],
   "source": [
    "dataset3.columns"
   ]
  },
  {
   "cell_type": "code",
   "execution_count": 10,
   "metadata": {},
   "outputs": [
    {
     "data": {
      "text/plain": [
       "(2989, 23)"
      ]
     },
     "execution_count": 10,
     "metadata": {},
     "output_type": "execute_result"
    }
   ],
   "source": [
    "pd.set_option('display.max_columns',None)\n",
    "pd.set_option('display.max_rows',None)\n",
    "dataset4 = pd.read_csv('Data Prototype 3.csv')\n",
    "dataset4.shape"
   ]
  },
  {
   "cell_type": "code",
   "execution_count": 11,
   "metadata": {},
   "outputs": [
    {
     "data": {
      "text/plain": [
       "Index(['Tanggal', 'Tn', 'Tx', 'Tavg', 'RH_avg', 'ss', 'ff_x', 'ddd_x',\n",
       "       'ff_avg', 'ddd_car', 'bulan', 'RH_avg_5day', 'RH1', 'RH2', 'RH3',\n",
       "       'ff_x1', 'ff_x2', 'ff_x3', 'RR_avg5_day', 'RR1', 'RR2', 'RR3', 'RR'],\n",
       "      dtype='object')"
      ]
     },
     "execution_count": 11,
     "metadata": {},
     "output_type": "execute_result"
    }
   ],
   "source": [
    "dataset4.columns"
   ]
  },
  {
   "cell_type": "code",
   "execution_count": 12,
   "metadata": {},
   "outputs": [
    {
     "data": {
      "text/plain": [
       "(2989, 22)"
      ]
     },
     "execution_count": 12,
     "metadata": {},
     "output_type": "execute_result"
    }
   ],
   "source": [
    "pd.set_option('display.max_columns',None)\n",
    "pd.set_option('display.max_rows',None)\n",
    "dataset5 = pd.read_csv('Data Prototype 3a.csv')\n",
    "dataset5.shape"
   ]
  },
  {
   "cell_type": "code",
   "execution_count": 13,
   "metadata": {},
   "outputs": [
    {
     "data": {
      "text/plain": [
       "Index(['Tanggal', 'Tn', 'Tx', 'Tavg', 'RH_avg', 'ff_x', 'ddd_x', 'ff_avg',\n",
       "       'ddd_car', 'bulan', 'RH_avg_5day', 'RH1', 'RH2', 'RH3', 'ff_x1',\n",
       "       'ff_x2', 'ff_x3', 'RR_avg5_day', 'RR1', 'RR2', 'RR3', 'RR'],\n",
       "      dtype='object')"
      ]
     },
     "execution_count": 13,
     "metadata": {},
     "output_type": "execute_result"
    }
   ],
   "source": [
    "dataset5.columns"
   ]
  },
  {
   "cell_type": "markdown",
   "metadata": {},
   "source": [
    "data dengan tambahan a yang dihapus 2 kolom"
   ]
  }
 ],
 "metadata": {
  "kernelspec": {
   "display_name": "Python 3",
   "language": "python",
   "name": "python3"
  },
  "language_info": {
   "codemirror_mode": {
    "name": "ipython",
    "version": 3
   },
   "file_extension": ".py",
   "mimetype": "text/x-python",
   "name": "python",
   "nbconvert_exporter": "python",
   "pygments_lexer": "ipython3",
   "version": "3.7.3"
  },
  "toc": {
   "base_numbering": 1,
   "nav_menu": {},
   "number_sections": true,
   "sideBar": true,
   "skip_h1_title": false,
   "title_cell": "Table of Contents",
   "title_sidebar": "Contents",
   "toc_cell": false,
   "toc_position": {},
   "toc_section_display": true,
   "toc_window_display": false
  }
 },
 "nbformat": 4,
 "nbformat_minor": 2
}
